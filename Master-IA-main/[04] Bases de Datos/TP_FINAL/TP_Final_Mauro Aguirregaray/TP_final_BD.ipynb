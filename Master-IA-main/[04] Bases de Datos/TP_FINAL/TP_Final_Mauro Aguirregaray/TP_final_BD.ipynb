{
 "cells": [
  {
   "cell_type": "code",
   "execution_count": 1,
   "metadata": {},
   "outputs": [],
   "source": [
    "import pandas as pd"
   ]
  },
  {
   "cell_type": "code",
   "execution_count": 3,
   "metadata": {},
   "outputs": [],
   "source": [
    "colors = pd.read_csv('./colors.csv')\n"
   ]
  },
  {
   "cell_type": "code",
   "execution_count": 12,
   "metadata": {},
   "outputs": [
    {
     "name": "stdout",
     "output_type": "stream",
     "text": [
      "Cleaned file saved to ./clean_parts.csv\n"
     ]
    }
   ],
   "source": [
    "import csv\n",
    "\n",
    "file_path = './parts.csv'\n",
    "clean_file_path = './clean_parts.csv'\n",
    "\n",
    "# Function to clean up quotes issues\n",
    "def clean_quotes(row):\n",
    "    return [col.replace('\"\"', '\"').strip() for col in row]\n",
    "\n",
    "# Read and clean the CSV file\n",
    "with open(file_path, 'r', encoding='utf-8') as infile, open(clean_file_path, 'w', encoding='utf-8', newline='') as outfile:\n",
    "    reader = csv.reader(infile)\n",
    "    writer = csv.writer(outfile)\n",
    "    \n",
    "    for row in reader:\n",
    "        clean_row = clean_quotes(row)\n",
    "        writer.writerow(clean_row)\n",
    "\n",
    "print(f\"Cleaned file saved to {clean_file_path}\")"
   ]
  },
  {
   "cell_type": "code",
   "execution_count": null,
   "metadata": {},
   "outputs": [],
   "source": []
  }
 ],
 "metadata": {
  "kernelspec": {
   "display_name": "Inteligencia_Artificial",
   "language": "python",
   "name": "python3"
  },
  "language_info": {
   "codemirror_mode": {
    "name": "ipython",
    "version": 3
   },
   "file_extension": ".py",
   "mimetype": "text/x-python",
   "name": "python",
   "nbconvert_exporter": "python",
   "pygments_lexer": "ipython3",
   "version": "3.11.8"
  }
 },
 "nbformat": 4,
 "nbformat_minor": 2
}
