{
 "cells": [
  {
   "cell_type": "markdown",
   "id": "abfa0260-90f7-4dba-93f0-94d725fdc745",
   "metadata": {},
   "source": [
    "# Trabajo Práctico 1 Inteligencia Artificial CEIA\n",
    "\n",
    "Apellido, Nombre. CI:\n",
    "\n",
    "Apellido, Nombre. CI:\n",
    "\n",
    "Apellido, Nombre. CI:\n",
    "\n",
    "Apellido, Nombre. CI:\n",
    "   \n",
    "\n",
    "## Pregunta 1: ¿Cuáles son los PEAS de este problema?(Performance, Environment, Actuators, Sensors).\n",
    "**Performance**:\n",
    "\n",
    "* Primario:\n",
    "  * asfasfasf\n",
    "\n",
    "* Secundario:\n",
    "  * asdasdad\n",
    "  * asdadasd\n",
    "  * asdsadasd\n",
    "  * asdad\n",
    "\n",
    "\n",
    " \n",
    "nto 2.2.22\n",
    "\n",
    "Este es un texto sin formato que forma un párrafo. Agregue énfasis mediante **negrita** y __negrita__, o *cursiva* y _cursiva_.\n",
    "\n",
    "Los párrafos deben estar separados por una línea vacía.\n",
    "\n",
    "* En ocasiones queremos incluir listas.\n",
    "* Que se puede viñetar con asteriscos. \n",
    "\n",
    "1. Las listas también pueden estar numeradas.\n",
    "2. Si queremos una lista ordenada.\n",
    "\n",
    "[Es posible agregar links](https://www.example.com)\n",
    "\n",
    "El código en línea usa comillas invertidas simples, y los bloques de código usan comillas invertidas triples o puede tener una sangría de 4 espacios.\n",
    "\n",
    "Y finalmente, agregar imágenes es fácil: ![Alt text](https://www.iana.org/_img/2022/iana-logo-header.svg)\n"
   ]
  },
  {
   "cell_type": "code",
   "execution_count": 2,
   "id": "c112265a-48ab-4f45-8d78-443812a49b25",
   "metadata": {},
   "outputs": [],
   "source": [
    "def busqueda (problem):\n",
    "\n",
    "    node_root = NodeHanoi(problem.initial)\n",
    "    fifo = [node_root]\n",
    "    explored = []\n",
    "    \n",
    "    while len(fifo) > 0:\n",
    "        node = fifo.pop\n",
    "        explored.append(node.state)\n",
    "        print(node)\n",
    "        \n",
    "        if problem.goal_test(node.state):\n",
    "            return node\n",
    "\n",
    "        for child in node.expand(problem):\n",
    "            if child.state not in explored:\n",
    "                fifo.insert(0, child)\n",
    "    return None\n",
    "\n",
    "        "
   ]
  },
  {
   "cell_type": "code",
   "execution_count": null,
   "id": "1696504c-bc4f-4844-aedb-23f97a9d13b9",
   "metadata": {},
   "outputs": [],
   "source": [
    "solution = busqueda (problem_hanoi)"
   ]
  },
  {
   "cell_type": "code",
   "execution_count": 1,
   "id": "34532e85-5794-4337-a67d-5c12b4550c72",
   "metadata": {},
   "outputs": [
    {
     "name": "stdout",
     "output_type": "stream",
     "text": [
      "HOLA\n"
     ]
    }
   ],
   "source": [
    "## TP\n",
    "\n",
    "import tree_hanoi as tree_hanoi\n",
    "import hanoi_states as hanoi_states\n",
    "\n",
    "def best_first_search(problem: hanoi_states.ProblemHanoi, display: bool = False):\n",
    "    \"\"\"\n",
    "    Realiza una búsqueda primero en profundidad para encontrar una solución a un problema de Hanoi y recuerda si ya\n",
    "    paso por un estado e ignora seguir buscando en ese nodo para evitar recursividad.\n",
    "\n",
    "    Parameters:\n",
    "        problem (hanoi_states.ProblemHanoi): El problema de la Torre de Hanoi a resolver.\n",
    "        display (bool, optional): Muestra un mensaje de cuantos caminos se expandieron y cuantos quedaron sin expandir.\n",
    "                                  Por defecto es False.\n",
    "\n",
    "    Returns:\n",
    "        tree_hanoi.NodeHanoi: El nodo que contiene la solución encontrada.\n",
    "    \"\"\"\n",
    "\n",
    "    frontier = ([tree_hanoi.NodeHanoi(problem.initial)])  # Creamos una cola LIFO con el nodo inicial\n",
    "\n",
    "    explored = set()  # Este set nos permite ver si ya exploramos un estado para evitar repetir indefinidamente\n",
    "    while len(frontier) > 0:\n",
    "        node = frontier.pop()  # Extraemos el último nodo de la cola\n",
    "\n",
    "        # Agregamos nodo al set. Esto evita guardar duplicados, porque set nunca tiene elementos repetidos, esto sirve\n",
    "        # porque heredamos el método __eq__ en tree_hanoi.NodeHanoi de aima.Node\n",
    "        explored.add(node.state)\n",
    "\n",
    "        if problem.goal_test(node.state):  # Comprobamos si hemos alcanzado el estado objetivo\n",
    "            if display:\n",
    "                print(len(explored), \"caminos se expandieron y\", len(frontier), \"caminos quedaron en la frontera\")\n",
    "            return node\n",
    "        # Agregamos a la cola todos los nodos sucesores del nodo actual que no haya visitados\n",
    "        frontier.extend(child for child in node.expand(problem)\n",
    "                        if child.state not in explored and child not in frontier)\n",
    "\n",
    "    return None\n",
    "\n",
    "print(\"HOLA\")\n"
   ]
  },
  {
   "cell_type": "code",
   "execution_count": 6,
   "id": "e2bbc40b-dd0d-4fd9-9997-76944ef5916b",
   "metadata": {},
   "outputs": [
    {
     "name": "stdout",
     "output_type": "stream",
     "text": [
      "HOLA\n"
     ]
    }
   ],
   "source": [
    "print(\"HOLA\")"
   ]
  },
  {
   "cell_type": "code",
   "execution_count": 1,
   "id": "1660cc6d-aa21-4132-b3d7-7925d1bcb332",
   "metadata": {},
   "outputs": [
    {
     "name": "stdout",
     "output_type": "stream",
     "text": [
      "C:\\Users\\magui\\Master IA\\[01] Inteligencia Artificial\\[02] Clase 02\\hanoi_tower\n"
     ]
    }
   ],
   "source": [
    "import os\n",
    "print(os.getcwd())\n"
   ]
  },
  {
   "cell_type": "code",
   "execution_count": null,
   "id": "16180521-644a-4cab-a6d3-a58d6f722ac6",
   "metadata": {},
   "outputs": [],
   "source": []
  }
 ],
 "metadata": {
  "kernelspec": {
   "display_name": "Python 3 (ipykernel)",
   "language": "python",
   "name": "python3"
  },
  "language_info": {
   "codemirror_mode": {
    "name": "ipython",
    "version": 3
   },
   "file_extension": ".py",
   "mimetype": "text/x-python",
   "name": "python",
   "nbconvert_exporter": "python",
   "pygments_lexer": "ipython3",
   "version": "3.11.5"
  }
 },
 "nbformat": 4,
 "nbformat_minor": 5
}
