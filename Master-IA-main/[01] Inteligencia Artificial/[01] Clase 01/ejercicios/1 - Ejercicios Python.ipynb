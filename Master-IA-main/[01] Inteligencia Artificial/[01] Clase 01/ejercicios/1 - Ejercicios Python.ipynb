{
 "cells": [
  {
   "cell_type": "markdown",
   "metadata": {},
   "source": [
    "# Ejercicios de Python\n",
    "Inteligencia Artificial - Facundo A. Lucianna - CEIA - FIUBA\n",
    "\n",
    "A continuación veamos ejercicios de Python que deben resolver.\n",
    "\n",
    "**Ejercicio 1**: Imprima el texto `”Hola, estoy aprendiendo Python”`. Agregue un comentario de una sola línea antes de la impresión de texto que explique qué hace la función `print()`."
   ]
  },
  {
   "cell_type": "code",
   "execution_count": 1,
   "metadata": {},
   "outputs": [
    {
     "name": "stdout",
     "output_type": "stream",
     "text": [
      "Hola, estoy aprendiendo Python\n"
     ]
    }
   ],
   "source": [
    "print (\"Hola, estoy aprendiendo Python\")"
   ]
  },
  {
   "cell_type": "markdown",
   "metadata": {},
   "source": [
    "**Ejercicio 2**: Imprima el siguiente texto respetando el formato (use triple \"\"\"):\n",
    "\n",
    "```\n",
    "Sobre el puente de Avignon\n",
    "      Todos bailan, todos bailan\n",
    "Sobre el puente de Avignon\n",
    "      Todos bailan y yo también\n",
    "```"
   ]
  },
  {
   "cell_type": "code",
   "execution_count": 7,
   "metadata": {},
   "outputs": [
    {
     "name": "stdout",
     "output_type": "stream",
     "text": [
      "Sobre el puente de Avignon\n",
      "      Todos bailan, todos bailan\n",
      "Sobre el puente de Avignon\n",
      "             Todos bailan y yo también\n"
     ]
    }
   ],
   "source": [
    "avignon_song = \"\"\"Sobre el puente de Avignon\n",
    "      Todos bailan, todos bailan\n",
    "Sobre el puente de Avignon\n",
    "             Todos bailan y yo también\"\"\"\n",
    "\n",
    "\n",
    "print(avignon_song)"
   ]
  },
  {
   "cell_type": "markdown",
   "metadata": {},
   "source": [
    "**Ejercicio 3**: Crea las siguiente variables:\n",
    "\n",
    "```\n",
    "var1 = 1\n",
    "var2 = 3.14\n",
    "var3 = −8\n",
    "var4 = \"CEIoT\"\n",
    "```\n",
    "\n",
    "1. Realice las siguientes operaciones e imprímalas. Comente en la notebook qué operaciones se hace en cada caso:\n",
    "    1. `var1 + var2`\n",
    "    2. `var1 − var2`\n",
    "    3. `var3 / 3`\n",
    "    4. `var3 // 3`\n",
    "    5. `var3 % 3`\n",
    "    6. `var2 ** 2`\n",
    "    7. `var3 ∗ var2`\n",
    "    8. `var4 + var4`\n",
    "    9. `var4 * ((-1) * var3)`\n",
    "    10. `var4 / var2`\n",
    "2. ¿Todas las operaciones aquí listadas pueden realizar? Si la respuesta es no, cual no se puede realizar? ¿Qué error da Python? ¿Qué significa ese error?"
   ]
  },
  {
   "cell_type": "code",
   "execution_count": 17,
   "metadata": {},
   "outputs": [
    {
     "name": "stdout",
     "output_type": "stream",
     "text": [
      "4.140000000000001\n",
      "-2.14\n",
      "-2.6666666666666665\n",
      "-3\n",
      "1\n",
      "9.8596\n",
      "CEIoTCEIoT\n"
     ]
    },
    {
     "ename": "TypeError",
     "evalue": "unsupported operand type(s) for /: 'str' and 'float'",
     "output_type": "error",
     "traceback": [
      "\u001b[1;31m---------------------------------------------------------------------------\u001b[0m",
      "\u001b[1;31mTypeError\u001b[0m                                 Traceback (most recent call last)",
      "Cell \u001b[1;32mIn[17], line 13\u001b[0m\n\u001b[0;32m     11\u001b[0m \u001b[38;5;28mprint\u001b[39m (var2 \u001b[38;5;241m*\u001b[39m\u001b[38;5;241m*\u001b[39m \u001b[38;5;241m2\u001b[39m)\n\u001b[0;32m     12\u001b[0m \u001b[38;5;28mprint\u001b[39m (var4 \u001b[38;5;241m+\u001b[39m var4)\n\u001b[1;32m---> 13\u001b[0m \u001b[38;5;28mprint\u001b[39m (var4 \u001b[38;5;241m/\u001b[39m var2)\n",
      "\u001b[1;31mTypeError\u001b[0m: unsupported operand type(s) for /: 'str' and 'float'"
     ]
    }
   ],
   "source": [
    "var1 = 1\n",
    "var2 = 3.14\n",
    "var3 = -8\n",
    "var4 = \"CEIoT\"\n",
    "\n",
    "print (var1 + var2)\n",
    "print (var1 - var2)\n",
    "print (var3 / 3)\n",
    "print (var3 // 3)\n",
    "print (var3 % 3)\n",
    "print (var2 ** 2)\n",
    "print (var4 + var4)\n",
    "print (var4 / var2)"
   ]
  },
  {
   "cell_type": "markdown",
   "metadata": {},
   "source": [
    "**Ejercicio 4**: Cree la variable `pi_string = \"3.1415926\"`\n",
    "1.  Conviertala en `float` (use la función `float()`) y guarda el resultado en la variable `pi_float`.\n",
    "2.  Imprima la variable `pi_float` con solo 3 decimales"
   ]
  },
  {
   "cell_type": "code",
   "execution_count": 21,
   "metadata": {},
   "outputs": [
    {
     "name": "stdout",
     "output_type": "stream",
     "text": [
      "3.142\n"
     ]
    }
   ],
   "source": [
    "pi_string = \"3.1415926\"\n",
    "\n",
    "pi_float = float(pi_string)\n",
    "\n",
    "print(round(pi_float,3))"
   ]
  },
  {
   "cell_type": "markdown",
   "metadata": {},
   "source": [
    "**Ejercicio 5**: Crea una variable con el string: `\"Me gusta la comida mexicana\"`.\n",
    "1. Crea una variable que se llame `mexican_food` que sea booleana.\n",
    "2. Mediante control de flujo, imprima condicionalmente la variable string si la variable del apartado 1 es verdadera."
   ]
  },
  {
   "cell_type": "code",
   "execution_count": null,
   "metadata": {},
   "outputs": [],
   "source": []
  },
  {
   "cell_type": "markdown",
   "metadata": {},
   "source": [
    "**Ejercicio 6**: Imprima la fecha y hora actual (utilice la librería [datetime](https://www.w3schools.com/python/python_datetime.asp))"
   ]
  },
  {
   "cell_type": "code",
   "execution_count": 27,
   "metadata": {},
   "outputs": [
    {
     "name": "stdout",
     "output_type": "stream",
     "text": [
      "Sat Mar  2 12:44:41 2024\n"
     ]
    }
   ],
   "source": [
    "import datetime\n",
    "\n",
    "x = datetime.datetime.now()\n",
    "print (x.strftime(\"%c\"))\n"
   ]
  },
  {
   "cell_type": "markdown",
   "metadata": {},
   "source": [
    "**Ejercicio 7**: Imprima el calendario del mes de Marzo de 2023 (utilice la librería [calendar](https://www.geeksforgeeks.org/python-calendar-module/))"
   ]
  },
  {
   "cell_type": "code",
   "execution_count": 28,
   "metadata": {},
   "outputs": [
    {
     "name": "stdout",
     "output_type": "stream",
     "text": [
      "     March 2024\n",
      "Mo Tu We Th Fr Sa Su\n",
      "             1  2  3\n",
      " 4  5  6  7  8  9 10\n",
      "11 12 13 14 15 16 17\n",
      "18 19 20 21 22 23 24\n",
      "25 26 27 28 29 30 31\n",
      "\n"
     ]
    }
   ],
   "source": [
    " \n",
    "import calendar \n",
    "   \n",
    "yy = 2024\n",
    "mm = 3\n",
    "print(calendar.month(yy, mm)) "
   ]
  },
  {
   "cell_type": "markdown",
   "metadata": {},
   "source": [
    "**Ejercicio 8**: Usando Python resuelva este ejercicio:\n",
    "```\n",
    "Supongamos que tenemos U$D 100, el cual se puede invertir y retornar el 10% extra cada año. Es decir, después del primer año tendríamos 100 * 1.1 = 110, luego de dos años 100 * 1.1 * 1.1 = 121.\n",
    "\n",
    "Calcule la cantidad de plata que uno tendría luego de 7 años, y después de 23 años.\n",
    "```"
   ]
  },
  {
   "cell_type": "code",
   "execution_count": 36,
   "metadata": {},
   "outputs": [
    {
     "name": "stdout",
     "output_type": "stream",
     "text": [
      "8.95430243255239\n",
      "194.87171000000015\n",
      "194.87171000000015\n",
      "895.430243255239\n"
     ]
    }
   ],
   "source": [
    "def inflacion (veces):\n",
    "    USD = 100\n",
    "    for i in range(1, veces+1): # Tengo que poner el +1 porque si no lo hace hasta el anterior al que quiero\n",
    "        USD = USD*1.1\n",
    "        \n",
    "    return USD\n",
    "\n",
    "print(inflacion(7))\n",
    "print(inflacion(7))\n",
    "print(inflacion(23))"
   ]
  },
  {
   "cell_type": "markdown",
   "metadata": {},
   "source": [
    "**Ejercicio 9**: Introduzca el código del punto anterior en una función. Que los argumentos sean la inversión inicial, el interés y la cantidad de años. Obtenga diferentes salidas combinando estas variables."
   ]
  },
  {
   "cell_type": "code",
   "execution_count": 37,
   "metadata": {},
   "outputs": [
    {
     "name": "stdout",
     "output_type": "stream",
     "text": [
      "194.87171000000015\n"
     ]
    }
   ],
   "source": [
    "def inflacion (inversion, interes, años):\n",
    "    USD = inversion\n",
    "    for i in range(1, años+1): # Tengo que poner el +1 porque si no lo hace hasta el anterior al que quiero\n",
    "        USD = USD*(1+interes)\n",
    "        \n",
    "    return USD\n",
    "\n",
    "print (inflacion(100, 0.1, 7))"
   ]
  },
  {
   "cell_type": "markdown",
   "metadata": {},
   "source": [
    "**Ejercicio 10**: Escriba una función que teste si un número está entre 100 y 2000."
   ]
  },
  {
   "cell_type": "code",
   "execution_count": 42,
   "metadata": {},
   "outputs": [
    {
     "name": "stdout",
     "output_type": "stream",
     "text": [
      "El número esta entre 100 y 2000\n"
     ]
    }
   ],
   "source": [
    "def num_si(numero):\n",
    "    if 100<numero<2000:\n",
    "        return print(\"El número esta entre 100 y 2000\")\n",
    "\n",
    "    else:\n",
    "        return print(\"El número no esta entre 100 y 2000\")\n",
    "\n",
    "num_si(1500)\n",
    "    "
   ]
  },
  {
   "cell_type": "markdown",
   "metadata": {},
   "source": [
    "**Ejercicio 11**: Escriba una función que verifique si dado un número natural, si es capicúa (por ejemplo 12321 o 90809)."
   ]
  },
  {
   "cell_type": "code",
   "execution_count": 33,
   "metadata": {},
   "outputs": [
    {
     "name": "stdout",
     "output_type": "stream",
     "text": [
      "El número 2442 es capicúa\n"
     ]
    }
   ],
   "source": [
    "def num_capicua (numero):\n",
    "    str_num = str(numero)\n",
    "    largo_num = len(str_num)\n",
    "    i=0\n",
    "    for caracter in range (0, largo_num//2):\n",
    "        if str_num[caracter] == str_num[largo_num-1-caracter]:\n",
    "            i += 1\n",
    "        \n",
    "\n",
    "    if i == largo_num//2:\n",
    "        return print (f\"El número {numero} es capicúa\")\n",
    "    else:\n",
    "        return print (f\"El número {numero} no es capicúa\")\n",
    "\n",
    "num_capicua(2442)"
   ]
  },
  {
   "cell_type": "markdown",
   "metadata": {},
   "source": [
    "**Ejercicio 12**: \n",
    "1. Escriba una función que dado un string reemplaza todos los caracteres con `\"*\"` menos los últimos 5 caracteres.\n",
    "2. Modifique la función para que un argumento opcional se pueda cambiar cuantos caracteres se quieren dejar sin `\"*\"`."
   ]
  },
  {
   "cell_type": "code",
   "execution_count": 42,
   "metadata": {},
   "outputs": [
    {
     "name": "stdout",
     "output_type": "stream",
     "text": [
      "************s una porquería\n"
     ]
    }
   ],
   "source": [
    "#1\n",
    "\n",
    "def remp_palabra_ast (palabra, num_ast):\n",
    "    if num_ast >= len(palabra):\n",
    "            nueva_palabra = \"*\"*len(palabra)\n",
    "    else:\n",
    "            nueva_palabra = \"*\"*num_ast+palabra[num_ast:]\n",
    "    return print(nueva_palabra)\n",
    "remp_palabra_ast (\"La Palabra es una porquería\", 12)\n",
    "\n",
    "\n"
   ]
  },
  {
   "cell_type": "markdown",
   "metadata": {},
   "source": [
    "**Ejercicio 13**: \n",
    "1. Escriba una función que dado el radio (número flotante) como entrada devuelva el diámetro, circunferencia y área de un círculo.\n",
    "2. Agregue un argumento opcional dimensión que por defecto es 2, si es 3 retorna el diámetro y el volumen de una esfera. Cualquier otro valor, retorne\n",
    "-1."
   ]
  },
  {
   "cell_type": "code",
   "execution_count": 47,
   "metadata": {},
   "outputs": [
    {
     "name": "stdout",
     "output_type": "stream",
     "text": [
      "6 18.84955592153876 28.274333882308138\n",
      "Resultado para dimensión 2:\n",
      "Diámetro: 6\n",
      "Circunferencia: 18.84955592153876\n",
      "Área: 28.274333882308138\n",
      "\n",
      "Resultado para dimensión 3:\n",
      "Diámetro: 6\n",
      "Volumen: 113.09733552923254\n",
      "\n",
      "Ejemplo con dimensión no válida:\n",
      "Resultado: -1\n"
     ]
    }
   ],
   "source": [
    "# 1\n",
    "import math\n",
    "def circulo(radio):\n",
    "    D = radio * 2\n",
    "    C = math.pi * D\n",
    "    A = math.pi * (radio**2)\n",
    "\n",
    "    return print(D, C, A)\n",
    "\n",
    "circulo(3)\n",
    "\n",
    "# 2\n",
    "\n",
    "\n",
    "def circulo(radio, dimension=2):\n",
    "    if dimension == 2:\n",
    "        D = radio * 2\n",
    "        C = math.pi * D\n",
    "        A = math.pi * (radio**2)\n",
    "        return D, C, A\n",
    "    elif dimension == 3:\n",
    "        D = radio * 2\n",
    "        V = (4/3) * math.pi * (radio**3)\n",
    "        return D, V\n",
    "    else:\n",
    "        return -1\n",
    "\n",
    "# Ejemplos de uso:\n",
    "resultado_2d = circulo(3)  # Por defecto, calcula para una circunferencia en 2D\n",
    "resultado_3d = circulo(3, dimension=3)  # Calcula para una esfera en 3D\n",
    "\n",
    "print(\"Resultado para dimensión 2:\")\n",
    "print(\"Diámetro:\", resultado_2d[0])\n",
    "print(\"Circunferencia:\", resultado_2d[1])\n",
    "print(\"Área:\", resultado_2d[2])\n",
    "\n",
    "print(\"\\nResultado para dimensión 3:\")\n",
    "print(\"Diámetro:\", resultado_3d[0])\n",
    "print(\"Volumen:\", resultado_3d[1])\n",
    "\n",
    "print(\"\\nEjemplo con dimensión no válida:\")\n",
    "print(\"Resultado:\", circulo(3, dimension=4))\n"
   ]
  },
  {
   "cell_type": "markdown",
   "metadata": {},
   "source": [
    "**Ejercicio 14**: Genere una lista formada por los números naturales desde el 1 hasta el 9 incluidos llamada `mi_lista` usado list comprehension.\n",
    "1. Imprima el primer, el quinto y último elemento, y además la cantidad de elementos que tiene la lista.\n",
    "2. Cree una lista nueva que incluya solamente desde el segundo al sexto elemento.\n",
    "3. Quite el último elemento de la lista `mi_lista` y guárdelo en una variable llamada `ultimo_elemento`.\n",
    "4. Quite el tercer elemento de la lista `mi_lista`.\n",
    "5. Agregue el número 4 al final de `mi_lista`.\n",
    "6. Agregue el string `\"Soy un string\"` en la tercera posición de `mi_lista`."
   ]
  },
  {
   "cell_type": "code",
   "execution_count": 58,
   "metadata": {},
   "outputs": [
    {
     "name": "stdout",
     "output_type": "stream",
     "text": [
      "1\n",
      "5\n",
      "9\n",
      "9\n",
      "[2, 3, 4, 5]\n",
      "9\n",
      "[1, 2, 3, 4, 5, 6, 7, 8]\n",
      "[1, 2, 4, 5, 6, 7, 8]\n",
      "[1, 2, 4, 5, 6, 7, 8, 4]\n",
      "[1, 2, 'Soy una string', 4, 5, 6, 7, 8, 4]\n"
     ]
    }
   ],
   "source": [
    "mi_lista = [1,2,3,4,5,6,7,8,9]\n",
    "\n",
    "#1\n",
    "print(mi_lista[0])\n",
    "print(mi_lista[4])\n",
    "print(mi_lista[(len(mi_lista)-1)])\n",
    "print(len(mi_lista))\n",
    "\n",
    "#2\n",
    "\n",
    "nueva_lista = mi_lista[1:5]\n",
    "print(nueva_lista)\n",
    "\n",
    "#3\n",
    "\n",
    "ultimo_elemento = mi_lista.pop()\n",
    "print (ultimo_elemento)\n",
    "print(mi_lista)\n",
    "\n",
    "#4\n",
    "\n",
    "mi_lista.pop(2)\n",
    "print(mi_lista)\n",
    "\n",
    "#5\n",
    "\n",
    "mi_lista = mi_lista + [4]\n",
    "print(mi_lista)\n",
    "\n",
    "#6\n",
    "\n",
    "mi_lista = mi_lista[:2] + [\"Soy una string\"] + mi_lista[2:]\n",
    "print(mi_lista)\n"
   ]
  },
  {
   "cell_type": "markdown",
   "metadata": {},
   "source": [
    "**Ejercicio 15**: Escriba una función que devuelva una tupla de todos los números impares dado un valor de inicio y final. Siendo el de inicio opcional, con valor por defecto igual a 1."
   ]
  },
  {
   "cell_type": "code",
   "execution_count": 17,
   "metadata": {},
   "outputs": [
    {
     "name": "stdout",
     "output_type": "stream",
     "text": [
      "(1, 3, 5, 7, 9, 11)\n"
     ]
    }
   ],
   "source": [
    "def tupla(num_fin, num_in=1): #si no defino un numero tiene que ser siempre al final\n",
    "    mi_lista = []\n",
    "    for num in range (num_in,num_fin+1):\n",
    "        if num%2 != 0:\n",
    "            mi_lista = mi_lista + [num]\n",
    "    mi_tupla = tuple(mi_lista)\n",
    "    return mi_tupla\n",
    "\n",
    "\n",
    "print(tupla(11))\n",
    "    "
   ]
  },
  {
   "cell_type": "markdown",
   "metadata": {},
   "source": [
    "**Ejercicio 16**: Escriba una función que realice la suma de dos vectores. Para \"armar\" a los vectores vamos a usar listas de igual tamaño. La función debe devolver el vector suma en forma de lista."
   ]
  },
  {
   "cell_type": "code",
   "execution_count": 25,
   "metadata": {},
   "outputs": [
    {
     "name": "stdout",
     "output_type": "stream",
     "text": [
      "[5, 10, 10, 2493]\n"
     ]
    }
   ],
   "source": [
    "def suma_vectores(x, y):\n",
    "    if len(x) == len(y):\n",
    "        suma = []\n",
    "        for num in range (0, len (x)):\n",
    "            suma = suma + [x[num]+ y[num]]\n",
    "    else:\n",
    "        \n",
    "        return \"Los vectores son de diferente tamaño\"\n",
    "    return suma\n",
    "              \n",
    "x = [1, 2, 3, 4]\n",
    "y = [4, 8, 7, 2489]\n",
    "              \n",
    "print(suma_vectores(x,y))"
   ]
  },
  {
   "cell_type": "markdown",
   "metadata": {},
   "source": [
    "**Ejercicio 17**: Cree un diccionario llamado datos_personales con los siguientes datos:\n",
    "```\n",
    "nombre: Pedro\n",
    "apellido: Perez\n",
    "edad: 43\n",
    "```\n",
    "\n",
    "1. Imprima el apellido.\n",
    "2. Cambie el valor de la edad a 24.\n",
    "3. Agregue dos elementos:\n",
    "```\n",
    "    tipo de sangre: A\n",
    "    dirección: Av. Colón 1132.\n",
    "```\n",
    "4. Elimine el elemento tipo de sangre.\n",
    "5. Imprima todo el diccionario."
   ]
  },
  {
   "cell_type": "code",
   "execution_count": null,
   "metadata": {},
   "outputs": [],
   "source": []
  },
  {
   "cell_type": "markdown",
   "metadata": {},
   "source": [
    "**Ejercicio 18**: Cree un programa que usando while sume los números del 1 a 1000. Al final imprima la suma."
   ]
  },
  {
   "cell_type": "code",
   "execution_count": null,
   "metadata": {},
   "outputs": [],
   "source": []
  },
  {
   "cell_type": "markdown",
   "metadata": {},
   "source": [
    "**Ejercicio 19**: Usando for:\n",
    "1. Imprima todos los elementos de la lista `mi_lista` del ejercicio 14.\n",
    "2. Genere una nueva lista que sea los valores al cuadrado de todos los elementos de `mi_lista` que sean numéricos."
   ]
  },
  {
   "cell_type": "code",
   "execution_count": null,
   "metadata": {},
   "outputs": [],
   "source": []
  },
  {
   "cell_type": "markdown",
   "metadata": {},
   "source": [
    "**Ejercicio 20**: Calcule los primeros 30 números primos"
   ]
  },
  {
   "cell_type": "code",
   "execution_count": null,
   "metadata": {},
   "outputs": [],
   "source": []
  },
  {
   "cell_type": "markdown",
   "metadata": {},
   "source": [
    "**Ejercicio 21**: Escriba una función que construya el patrón que tenga como argumento de entrada el maximo numero de asterisco de la punta (valor minimo igual a 2):\n",
    "\n",
    "```\n",
    "*\n",
    "**\n",
    "***\n",
    "****\n",
    "*****\n",
    "****\n",
    "***\n",
    "**\n",
    "*\n",
    "```"
   ]
  },
  {
   "cell_type": "code",
   "execution_count": null,
   "metadata": {},
   "outputs": [],
   "source": []
  },
  {
   "cell_type": "markdown",
   "metadata": {},
   "source": [
    "**Ejercicio 22**: El matemático aleman Gottfried Leibniz desarrolló un método para aproximar el valor de π:\n",
    "\n",
    "$$ \\pi = 4 \\sum_{n=0}^{\\infty} \\frac{(-1)^n}{2n + 1} $$\n",
    "\n",
    "Escriba una función que mediante un argumento especifique el número de iteraciones usadas para aproximarse usando esta serie e imprima en pantalla el valor resultante."
   ]
  },
  {
   "cell_type": "code",
   "execution_count": null,
   "metadata": {},
   "outputs": [],
   "source": []
  },
  {
   "cell_type": "markdown",
   "metadata": {},
   "source": [
    "**Ejercicio 25**: Escriba un script para crear una función **lambda** que sume 15 a un número dado pasado como argumento, también cree una función **lambda** que multiplique el argumento x con el argumento y e imprima el resultado."
   ]
  },
  {
   "cell_type": "code",
   "execution_count": null,
   "metadata": {},
   "outputs": [],
   "source": []
  },
  {
   "cell_type": "markdown",
   "metadata": {},
   "source": [
    "**Ejercicio 26**: Un sistema de administración de perros de una veterinaria permite cargar datos del perro:\n",
    "```\n",
    "Nombre del perro\n",
    "Nombre completo del dueño\n",
    "Peso\n",
    "Raza\n",
    "```\n",
    "\n",
    "Defina una clase llamada `Dog` que se inicie con todos los atributos vacíos y que con diferentes métodos se puedan completar la información y mostrar la información."
   ]
  },
  {
   "cell_type": "code",
   "execution_count": null,
   "metadata": {},
   "outputs": [],
   "source": []
  }
 ],
 "metadata": {
  "kernelspec": {
   "display_name": "Python 3 (ipykernel)",
   "language": "python",
   "name": "python3"
  },
  "language_info": {
   "codemirror_mode": {
    "name": "ipython",
    "version": 3
   },
   "file_extension": ".py",
   "mimetype": "text/x-python",
   "name": "python",
   "nbconvert_exporter": "python",
   "pygments_lexer": "ipython3",
   "version": "3.11.8"
  }
 },
 "nbformat": 4,
 "nbformat_minor": 4
}
