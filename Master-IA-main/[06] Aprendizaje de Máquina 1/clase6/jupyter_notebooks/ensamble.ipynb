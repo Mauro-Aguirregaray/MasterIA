{
 "cells": [
  {
   "cell_type": "code",
   "execution_count": 1,
   "id": "initial_id",
   "metadata": {
    "ExecuteTime": {
     "end_time": "2024-06-09T00:03:41.426772Z",
     "start_time": "2024-06-09T00:03:41.205488Z"
    }
   },
   "outputs": [],
   "source": [
    "import pandas as pd\n",
    "import matplotlib.pyplot as plt\n",
    "import seaborn as sns\n",
    "\n",
    "from sklearn.linear_model import LogisticRegression\n",
    "from sklearn.neighbors import KNeighborsClassifier\n",
    "from sklearn.svm import SVC\n",
    "from sklearn.tree import DecisionTreeClassifier\n",
    "\n",
    "sns.set()"
   ]
  },
  {
   "cell_type": "markdown",
   "id": "e6a28097b4ce8a21",
   "metadata": {},
   "source": [
    "# Métodos de ensamble\n",
    "\n",
    "Los métodos de ensamble utilizan múltiples algoritmos de aprendizaje para obtener un mejor rendimiento predictivo que el que se podría obtener con cualquiera de los algoritmos de aprendizaje constituyentes por sí solo. \n",
    "\n",
    "Esta técnica aprovecha las fortalezas y compensa las debilidades de cada modelo individual al tomar decisiones conjuntas. Al integrar diversos modelos, se atenúan los errores específicos de cada uno, ya que es improbable que todos fallen de la misma manera en el mismo punto. Además, esta estrategia aumenta la robustez del sistema predictivo al proporcionar una especie de chequeo cruzado entre los distintos enfoques de aprendizaje, haciendo al conjunto menos susceptible al sobreajuste y mejorando la generalización a datos no vistos. Es una táctica especialmente útil cuando los datos presentan una gran complejidad y los patrones no son claramente discernibles por un solo modelo. \n",
    "\n",
    "## Modelos que votan\n",
    "\n",
    "Para realizar esta práctica vamos a usar el dataset [**Heart**](https://archive.ics.uci.edu/dataset/45/heart+disease). Recordemos que son mediciones de 302 pacientes, con 13 atributos de variables fisiológicas. Además, contamos con una columna de valores binarios llamada **target** que nos indica si el paciente tiene una enfermedad coronaria o no.\n",
    "\n",
    "Para la votación vamos a usar todos los modelos que vinimos trabajando:\n",
    "- Regresión Logística\n",
    "- k-NN\n",
    "- Support Vector Machine\n",
    "- Árbol de clasificación\n",
    "\n",
    "Para dejar limpios el notebook, vamos a llamar a funciones que traigan los datos ya limpios y se encarguen de entrenar cada modelo (que usaremos para comparar)."
   ]
  },
  {
   "cell_type": "code",
   "execution_count": 2,
   "id": "5bbb49b86893f101",
   "metadata": {
    "ExecuteTime": {
     "end_time": "2024-06-09T00:03:41.439763Z",
     "start_time": "2024-06-09T00:03:41.427847Z"
    }
   },
   "outputs": [],
   "source": [
    "import heart \n",
    "\n",
    "dataset_heart = heart.HeartDataset()"
   ]
  },
  {
   "cell_type": "code",
   "execution_count": 3,
   "id": "ea9ba7b0b6550180",
   "metadata": {
    "ExecuteTime": {
     "end_time": "2024-06-09T00:03:41.603186Z",
     "start_time": "2024-06-09T00:03:41.440471Z"
    }
   },
   "outputs": [],
   "source": [
    "logistic_trained, metrics_logistic = heart.create_train_logistic_regression(dataset_heart)\n",
    "svc_trained, metrics_svc = heart.create_train_svc(dataset_heart)\n",
    "tree_trained, metrics_tree = heart.create_train_tree(dataset_heart)\n",
    "knn_trained, metrics_knn = heart.create_train_knn(dataset_heart)"
   ]
  },
  {
   "cell_type": "markdown",
   "id": "a2722c850e7ef84c",
   "metadata": {},
   "source": [
    "Podemos crear un modelo de ensamble de clasificadores que votan usando la clase de Scikit-Learn [VotingClassifier](https://scikit-learn.org/stable/modules/generated/sklearn.ensemble.VotingClassifier.html). Empezamos con un modelo de `hard voting classifier`:"
   ]
  },
  {
   "cell_type": "code",
   "execution_count": 4,
   "id": "9a9792cf12666419",
   "metadata": {
    "ExecuteTime": {
     "end_time": "2024-06-09T00:03:41.651184Z",
     "start_time": "2024-06-09T00:03:41.608186Z"
    }
   },
   "outputs": [],
   "source": [
    "from sklearn.ensemble import VotingClassifier\n",
    "\n",
    "lr1 = LogisticRegression(random_state=42, class_weight=\"balanced\")\n",
    "tree1 = DecisionTreeClassifier(max_depth=16, criterion='entropy', min_samples_split=17, min_samples_leaf=3, random_state=42)\n",
    "svc_1 = SVC(C=5, kernel='linear', probability=True, random_state=42)\n",
    "knn_1 = KNeighborsClassifier(n_neighbors=35, p=3, weights='distance')\n",
    "\n",
    "estimators=[('Linear Regression', lr1), \n",
    "            ('Tree', tree1), \n",
    "            ('Support Vector Classifier', svc_1), \n",
    "            ('kNN', knn_1)] \n",
    "\n",
    "hard_vot_clas = VotingClassifier(estimators=estimators, voting='hard', n_jobs=-1)"
   ]
  },
  {
   "cell_type": "markdown",
   "id": "71e2d76c34c54c3e",
   "metadata": {},
   "source": [
    "Entrenamos y evaluamos el modelo..."
   ]
  },
  {
   "cell_type": "code",
   "execution_count": 5,
   "id": "40b3ad5c439fcb6d",
   "metadata": {
    "ExecuteTime": {
     "end_time": "2024-06-09T00:03:42.962145Z",
     "start_time": "2024-06-09T00:03:41.652884Z"
    }
   },
   "outputs": [],
   "source": [
    "hard_vot_clas.fit(dataset_heart.data_tuple[0], dataset_heart.data_tuple[2])\n",
    "\n",
    "#OBS: Hard voting classifier no tienen predict_proba() porque es un voto duro\n",
    "y_pred = hard_vot_clas.predict(dataset_heart.data_tuple[1])\n",
    "\n",
    "metrics_hard_vot_clas = heart.evaluate_classifier(\"Hard voting classifier\", dataset_heart.data_tuple[-1], y_pred, y_pred)"
   ]
  },
  {
   "cell_type": "markdown",
   "id": "199bfa6a243f2c48",
   "metadata": {},
   "source": [
    "Usando la misma clase podemos usar un `soft voting classifier`:"
   ]
  },
  {
   "cell_type": "code",
   "execution_count": 6,
   "id": "a681ec3d4dd2fbfd",
   "metadata": {
    "ExecuteTime": {
     "end_time": "2024-06-09T00:03:42.971670Z",
     "start_time": "2024-06-09T00:03:42.964863Z"
    }
   },
   "outputs": [],
   "source": [
    "lr2 = LogisticRegression(random_state=42, class_weight=\"balanced\")\n",
    "tree2 = DecisionTreeClassifier(max_depth=16, criterion='entropy', min_samples_split=17, min_samples_leaf=3, random_state=42)\n",
    "svc_2 = SVC(C=5, kernel='linear', probability=True, random_state=42)\n",
    "knn_2 = KNeighborsClassifier(n_neighbors=35, p=3, weights='distance')\n",
    "\n",
    "estimators=[('Linear Regression', lr2), \n",
    "            ('Tree', tree2), \n",
    "            ('Support Vector Classifier', svc_2), \n",
    "            ('kNN', knn_2)] \n",
    "\n",
    "soft_vot_clas = VotingClassifier(estimators=estimators, voting='soft', n_jobs=-1)"
   ]
  },
  {
   "cell_type": "code",
   "execution_count": 7,
   "id": "761eecb63dd237ed",
   "metadata": {
    "ExecuteTime": {
     "end_time": "2024-06-09T00:03:43.534267Z",
     "start_time": "2024-06-09T00:03:42.974474Z"
    }
   },
   "outputs": [],
   "source": [
    "soft_vot_clas.fit(dataset_heart.data_tuple[0], dataset_heart.data_tuple[2])\n",
    "\n",
    "y_pred = soft_vot_clas.predict(dataset_heart.data_tuple[1])\n",
    "y_pred_proba = soft_vot_clas.predict_proba(dataset_heart.data_tuple[1])\n",
    "\n",
    "metrics_soft_vot_clas = heart.evaluate_classifier(\"Soft voting classifier\", dataset_heart.data_tuple[-1], y_pred, y_pred)"
   ]
  },
  {
   "cell_type": "markdown",
   "id": "572c53b0542c15e3",
   "metadata": {},
   "source": [
    "Por otro lado si queremos reemplazar el voto por otro modelo, en Scikit-Learn debemos usar [StackingClassifier](https://scikit-learn.org/stable/modules/generated/sklearn.ensemble.StackingClassifier.html). Para este caso vamos a usar una regresión logística:"
   ]
  },
  {
   "cell_type": "code",
   "execution_count": 8,
   "id": "938f3e4fea4fc3fd",
   "metadata": {
    "ExecuteTime": {
     "end_time": "2024-06-09T00:35:22.045758Z",
     "start_time": "2024-06-09T00:35:22.037261Z"
    }
   },
   "outputs": [],
   "source": [
    "from sklearn.ensemble import StackingClassifier\n",
    "\n",
    "lr3 = LogisticRegression(random_state=42, class_weight=\"balanced\")\n",
    "tree3 = DecisionTreeClassifier(max_depth=16, criterion='entropy', min_samples_split=17, min_samples_leaf=3, random_state=42)\n",
    "svc_3 = SVC(C=5, kernel='linear', probability=True, random_state=42)\n",
    "knn_3 = KNeighborsClassifier(n_neighbors=35, p=3, weights='distance')\n",
    "\n",
    "estimators=[('Linear Regression', lr3), \n",
    "            ('Tree', tree3), \n",
    "            ('Support Vector Classifier', svc_3), \n",
    "            ('kNN', knn_3)] \n",
    "\n",
    "stacking_clas = StackingClassifier(estimators=estimators, final_estimator=LogisticRegression(), n_jobs=-1)"
   ]
  },
  {
   "cell_type": "code",
   "execution_count": 9,
   "id": "d9c2c2599362e238",
   "metadata": {
    "ExecuteTime": {
     "end_time": "2024-06-09T00:35:56.439805Z",
     "start_time": "2024-06-09T00:35:55.110581Z"
    }
   },
   "outputs": [],
   "source": [
    "stacking_clas.fit(dataset_heart.data_tuple[0], dataset_heart.data_tuple[2])\n",
    "\n",
    "y_pred = soft_vot_clas.predict(dataset_heart.data_tuple[1])\n",
    "y_pred_proba = soft_vot_clas.predict_proba(dataset_heart.data_tuple[1])\n",
    "\n",
    "metrics_stacking_clas = heart.evaluate_classifier(\"Stacking classifier\", dataset_heart.data_tuple[-1], y_pred, y_pred)"
   ]
  },
  {
   "cell_type": "code",
   "execution_count": 10,
   "id": "8fc76e681ddcb93e",
   "metadata": {
    "ExecuteTime": {
     "end_time": "2024-06-09T00:36:00.573098Z",
     "start_time": "2024-06-09T00:36:00.569725Z"
    }
   },
   "outputs": [],
   "source": [
    "metrics = pd.DataFrame([\n",
    "    metrics_logistic,\n",
    "    metrics_svc,\n",
    "    metrics_tree,\n",
    "    metrics_knn,\n",
    "    metrics_hard_vot_clas,\n",
    "    metrics_soft_vot_clas,\n",
    "    metrics_stacking_clas\n",
    "])"
   ]
  },
  {
   "cell_type": "markdown",
   "id": "e6f3cdb214d884c",
   "metadata": {},
   "source": [
    "Finalmente podemos ver si mejoramos los resultados combinando los modelos:"
   ]
  },
  {
   "cell_type": "code",
   "execution_count": 11,
   "id": "7c50591f45cda15",
   "metadata": {
    "ExecuteTime": {
     "end_time": "2024-06-09T00:36:02.133531Z",
     "start_time": "2024-06-09T00:36:02.124703Z"
    }
   },
   "outputs": [
    {
     "data": {
      "text/html": [
       "<div>\n",
       "<style scoped>\n",
       "    .dataframe tbody tr th:only-of-type {\n",
       "        vertical-align: middle;\n",
       "    }\n",
       "\n",
       "    .dataframe tbody tr th {\n",
       "        vertical-align: top;\n",
       "    }\n",
       "\n",
       "    .dataframe thead th {\n",
       "        text-align: right;\n",
       "    }\n",
       "</style>\n",
       "<table border=\"1\" class=\"dataframe\">\n",
       "  <thead>\n",
       "    <tr style=\"text-align: right;\">\n",
       "      <th></th>\n",
       "      <th>model</th>\n",
       "      <th>accuracy</th>\n",
       "      <th>auc_score</th>\n",
       "      <th>precision</th>\n",
       "      <th>recall</th>\n",
       "      <th>f1</th>\n",
       "    </tr>\n",
       "  </thead>\n",
       "  <tbody>\n",
       "    <tr>\n",
       "      <th>1</th>\n",
       "      <td>SVC</td>\n",
       "      <td>0.857143</td>\n",
       "      <td>0.896318</td>\n",
       "      <td>0.800000</td>\n",
       "      <td>0.930233</td>\n",
       "      <td>0.860215</td>\n",
       "    </tr>\n",
       "    <tr>\n",
       "      <th>4</th>\n",
       "      <td>Hard voting classifier</td>\n",
       "      <td>0.857143</td>\n",
       "      <td>0.858527</td>\n",
       "      <td>0.826087</td>\n",
       "      <td>0.883721</td>\n",
       "      <td>0.853933</td>\n",
       "    </tr>\n",
       "    <tr>\n",
       "      <th>0</th>\n",
       "      <td>Regresión Logística</td>\n",
       "      <td>0.846154</td>\n",
       "      <td>0.915213</td>\n",
       "      <td>0.822222</td>\n",
       "      <td>0.860465</td>\n",
       "      <td>0.840909</td>\n",
       "    </tr>\n",
       "    <tr>\n",
       "      <th>5</th>\n",
       "      <td>Soft voting classifier</td>\n",
       "      <td>0.824176</td>\n",
       "      <td>0.828488</td>\n",
       "      <td>0.764706</td>\n",
       "      <td>0.906977</td>\n",
       "      <td>0.829787</td>\n",
       "    </tr>\n",
       "    <tr>\n",
       "      <th>6</th>\n",
       "      <td>Stacking classifier</td>\n",
       "      <td>0.824176</td>\n",
       "      <td>0.828488</td>\n",
       "      <td>0.764706</td>\n",
       "      <td>0.906977</td>\n",
       "      <td>0.829787</td>\n",
       "    </tr>\n",
       "    <tr>\n",
       "      <th>3</th>\n",
       "      <td>kNN</td>\n",
       "      <td>0.813187</td>\n",
       "      <td>0.923450</td>\n",
       "      <td>0.740741</td>\n",
       "      <td>0.930233</td>\n",
       "      <td>0.824742</td>\n",
       "    </tr>\n",
       "    <tr>\n",
       "      <th>2</th>\n",
       "      <td>Tree</td>\n",
       "      <td>0.780220</td>\n",
       "      <td>0.800630</td>\n",
       "      <td>0.755556</td>\n",
       "      <td>0.790698</td>\n",
       "      <td>0.772727</td>\n",
       "    </tr>\n",
       "  </tbody>\n",
       "</table>\n",
       "</div>"
      ],
      "text/plain": [
       "                    model  accuracy  auc_score  precision    recall        f1\n",
       "1                     SVC  0.857143   0.896318   0.800000  0.930233  0.860215\n",
       "4  Hard voting classifier  0.857143   0.858527   0.826087  0.883721  0.853933\n",
       "0     Regresión Logística  0.846154   0.915213   0.822222  0.860465  0.840909\n",
       "5  Soft voting classifier  0.824176   0.828488   0.764706  0.906977  0.829787\n",
       "6     Stacking classifier  0.824176   0.828488   0.764706  0.906977  0.829787\n",
       "3                     kNN  0.813187   0.923450   0.740741  0.930233  0.824742\n",
       "2                    Tree  0.780220   0.800630   0.755556  0.790698  0.772727"
      ]
     },
     "execution_count": 11,
     "metadata": {},
     "output_type": "execute_result"
    }
   ],
   "source": [
    "metrics.sort_values(by=['accuracy'], ascending=False)"
   ]
  },
  {
   "cell_type": "markdown",
   "id": "3ce3e6513d2a93ca",
   "metadata": {},
   "source": [
    "Vemos que no mejoramos mucho con respecto a SVC. Esto se debe a que el dataset es pequeño, SVC ya está sacando el mayor jugo posible y los modelos están siendo bastantes parecidos entre si. Nos queda ver si elegimos un umbral diferente para los modelos con salida probabilística podemos mejorar los resultados."
   ]
  },
  {
   "cell_type": "code",
   "execution_count": 12,
   "id": "f6eae8c0ef25b352",
   "metadata": {
    "ExecuteTime": {
     "end_time": "2024-06-09T00:37:36.422246Z",
     "start_time": "2024-06-09T00:37:36.403117Z"
    }
   },
   "outputs": [],
   "source": [
    "y_prob_lr = logistic_trained.predict_proba(dataset_heart.data_tuple[1])\n",
    "y_prob_svc =  svc_trained.predict_proba(dataset_heart.data_tuple[1])\n",
    "y_prob_soft_vot = soft_vot_clas.predict_proba(dataset_heart.data_tuple[1])\n",
    "y_prob_stacking_clas = stacking_clas.predict_proba(dataset_heart.data_tuple[1])"
   ]
  },
  {
   "cell_type": "code",
   "execution_count": 13,
   "id": "5e912fa583221d2f",
   "metadata": {
    "ExecuteTime": {
     "end_time": "2024-06-09T00:37:38.809427Z",
     "start_time": "2024-06-09T00:37:38.802528Z"
    }
   },
   "outputs": [],
   "source": [
    "best_thr_lr = heart.obtain_best_threshold(dataset_heart, y_prob_lr)\n",
    "best_thr_svc = heart.obtain_best_threshold(dataset_heart, y_prob_svc)\n",
    "best_thr_soft_vot = heart.obtain_best_threshold(dataset_heart, y_prob_soft_vot)\n",
    "best_thr_stacking_clas = heart.obtain_best_threshold(dataset_heart, y_prob_stacking_clas)"
   ]
  },
  {
   "cell_type": "code",
   "execution_count": 14,
   "id": "52f153df0d82527e",
   "metadata": {
    "ExecuteTime": {
     "end_time": "2024-06-09T00:38:09.532170Z",
     "start_time": "2024-06-09T00:38:09.527814Z"
    }
   },
   "outputs": [],
   "source": [
    "y_lr = y_prob_lr[:,1].copy()\n",
    "y_svc = y_prob_svc[:,1].copy()\n",
    "y_soft_vot = y_prob_soft_vot[:,1].copy()\n",
    "y_stacking_clas = y_prob_stacking_clas[:,1].copy()\n",
    "\n",
    "y_lr[y_lr >= best_thr_lr] = 1\n",
    "y_lr[y_lr < best_thr_lr] = 0\n",
    "y_svc[y_svc >= best_thr_svc] = 1\n",
    "y_svc[y_svc < best_thr_svc] = 0\n",
    "y_soft_vot[y_soft_vot >= best_thr_soft_vot] = 1\n",
    "y_soft_vot[y_soft_vot < best_thr_soft_vot] = 0\n",
    "y_stacking_clas[y_stacking_clas >= best_thr_stacking_clas] = 1\n",
    "y_stacking_clas[y_stacking_clas < best_thr_stacking_clas] = 0"
   ]
  },
  {
   "cell_type": "code",
   "execution_count": 15,
   "id": "af04852ec82c9ebe",
   "metadata": {
    "ExecuteTime": {
     "end_time": "2024-06-09T00:39:17.153759Z",
     "start_time": "2024-06-09T00:39:17.131767Z"
    }
   },
   "outputs": [],
   "source": [
    "metrics_lr_2 = heart.evaluate_classifier(\"Regresión Logística\", dataset_heart.data_tuple[-1], y_lr, y_prob_lr[:,1])\n",
    "metrics_svc_2 = heart.evaluate_classifier(\"SVC\", dataset_heart.data_tuple[-1], y_svc, y_prob_svc[:,1])\n",
    "metrics_soft_vot_clas_2 = heart.evaluate_classifier(\"Soft voting classifier\", dataset_heart.data_tuple[-1], y_soft_vot, y_prob_soft_vot[:,1])\n",
    "metrics_stacking_clas_2 = heart.evaluate_classifier(\"Stacking classifier\", dataset_heart.data_tuple[-1], y_stacking_clas, y_prob_stacking_clas[:,1])\n",
    "\n",
    "metrics = pd.DataFrame([\n",
    "    metrics_lr_2,\n",
    "    metrics_svc_2,\n",
    "    metrics_tree,\n",
    "    metrics_knn,\n",
    "    metrics_hard_vot_clas,\n",
    "    metrics_soft_vot_clas_2,\n",
    "    metrics_stacking_clas_2\n",
    "])"
   ]
  },
  {
   "cell_type": "code",
   "execution_count": 16,
   "id": "44a430b63dcec3da",
   "metadata": {
    "ExecuteTime": {
     "end_time": "2024-06-09T00:39:17.890443Z",
     "start_time": "2024-06-09T00:39:17.882277Z"
    }
   },
   "outputs": [
    {
     "data": {
      "text/html": [
       "<div>\n",
       "<style scoped>\n",
       "    .dataframe tbody tr th:only-of-type {\n",
       "        vertical-align: middle;\n",
       "    }\n",
       "\n",
       "    .dataframe tbody tr th {\n",
       "        vertical-align: top;\n",
       "    }\n",
       "\n",
       "    .dataframe thead th {\n",
       "        text-align: right;\n",
       "    }\n",
       "</style>\n",
       "<table border=\"1\" class=\"dataframe\">\n",
       "  <thead>\n",
       "    <tr style=\"text-align: right;\">\n",
       "      <th></th>\n",
       "      <th>model</th>\n",
       "      <th>accuracy</th>\n",
       "      <th>auc_score</th>\n",
       "      <th>precision</th>\n",
       "      <th>recall</th>\n",
       "      <th>f1</th>\n",
       "    </tr>\n",
       "  </thead>\n",
       "  <tbody>\n",
       "    <tr>\n",
       "      <th>0</th>\n",
       "      <td>Regresión Logística</td>\n",
       "      <td>0.868132</td>\n",
       "      <td>0.915213</td>\n",
       "      <td>0.829787</td>\n",
       "      <td>0.906977</td>\n",
       "      <td>0.866667</td>\n",
       "    </tr>\n",
       "    <tr>\n",
       "      <th>1</th>\n",
       "      <td>SVC</td>\n",
       "      <td>0.857143</td>\n",
       "      <td>0.896318</td>\n",
       "      <td>0.800000</td>\n",
       "      <td>0.930233</td>\n",
       "      <td>0.860215</td>\n",
       "    </tr>\n",
       "    <tr>\n",
       "      <th>4</th>\n",
       "      <td>Hard voting classifier</td>\n",
       "      <td>0.857143</td>\n",
       "      <td>0.858527</td>\n",
       "      <td>0.826087</td>\n",
       "      <td>0.883721</td>\n",
       "      <td>0.853933</td>\n",
       "    </tr>\n",
       "    <tr>\n",
       "      <th>5</th>\n",
       "      <td>Soft voting classifier</td>\n",
       "      <td>0.857143</td>\n",
       "      <td>0.898740</td>\n",
       "      <td>0.812500</td>\n",
       "      <td>0.906977</td>\n",
       "      <td>0.857143</td>\n",
       "    </tr>\n",
       "    <tr>\n",
       "      <th>6</th>\n",
       "      <td>Stacking classifier</td>\n",
       "      <td>0.857143</td>\n",
       "      <td>0.908915</td>\n",
       "      <td>0.840909</td>\n",
       "      <td>0.860465</td>\n",
       "      <td>0.850575</td>\n",
       "    </tr>\n",
       "    <tr>\n",
       "      <th>3</th>\n",
       "      <td>kNN</td>\n",
       "      <td>0.813187</td>\n",
       "      <td>0.923450</td>\n",
       "      <td>0.740741</td>\n",
       "      <td>0.930233</td>\n",
       "      <td>0.824742</td>\n",
       "    </tr>\n",
       "    <tr>\n",
       "      <th>2</th>\n",
       "      <td>Tree</td>\n",
       "      <td>0.780220</td>\n",
       "      <td>0.800630</td>\n",
       "      <td>0.755556</td>\n",
       "      <td>0.790698</td>\n",
       "      <td>0.772727</td>\n",
       "    </tr>\n",
       "  </tbody>\n",
       "</table>\n",
       "</div>"
      ],
      "text/plain": [
       "                    model  accuracy  auc_score  precision    recall        f1\n",
       "0     Regresión Logística  0.868132   0.915213   0.829787  0.906977  0.866667\n",
       "1                     SVC  0.857143   0.896318   0.800000  0.930233  0.860215\n",
       "4  Hard voting classifier  0.857143   0.858527   0.826087  0.883721  0.853933\n",
       "5  Soft voting classifier  0.857143   0.898740   0.812500  0.906977  0.857143\n",
       "6     Stacking classifier  0.857143   0.908915   0.840909  0.860465  0.850575\n",
       "3                     kNN  0.813187   0.923450   0.740741  0.930233  0.824742\n",
       "2                    Tree  0.780220   0.800630   0.755556  0.790698  0.772727"
      ]
     },
     "execution_count": 16,
     "metadata": {},
     "output_type": "execute_result"
    }
   ],
   "source": [
    "metrics.sort_values(by=['accuracy'], ascending=False)"
   ]
  },
  {
   "cell_type": "markdown",
   "id": "dd36f19629ed85af",
   "metadata": {},
   "source": [
    "Finalmente, vemos que el mejor modelo ajustando el umbral es la regresión logística, y luego empatan los ensambles con SVC en exactitud pero varían en otros parámetros. Como se mencionó este dataset no tiene suficiente datos como para aprovechar los efectos del ensamble. \n",
    "\n",
    "Veamos las curvas ROC todas juntas:"
   ]
  },
  {
   "cell_type": "code",
   "execution_count": 17,
   "id": "326508beb3d47721",
   "metadata": {
    "ExecuteTime": {
     "end_time": "2024-06-09T00:40:30.048238Z",
     "start_time": "2024-06-09T00:40:29.917548Z"
    }
   },
   "outputs": [
    {
     "data": {
      "image/png": "[encoded data removed]",
      "text/plain": [
       "<Figure size 640x480 with 1 Axes>"
      ]
     },
     "metadata": {},
     "output_type": "display_data"
    }
   ],
   "source": [
    "from sklearn.metrics import roc_curve\n",
    "\n",
    "curves = [\n",
    "    {\"name\": \"Logistica\", \"y_prob\": logistic_trained.predict_proba(dataset_heart.data_tuple[1])[:,1]},\n",
    "    {\"name\": \"SVC\", \"y_prob\": svc_trained.predict_proba(dataset_heart.data_tuple[1])[:,1]},\n",
    "    {\"name\": \"Soft Voting\", \"y_prob\": soft_vot_clas.predict_proba(dataset_heart.data_tuple[1])[:,1]},\n",
    "    {\"name\": \"Tree\", \"y_prob\": tree_trained.predict(dataset_heart.data_tuple[1])},\n",
    "    {\"name\": \"kNN\", \"y_prob\": knn_trained.predict(dataset_heart.data_tuple[1])},\n",
    "    {\"name\": \"Hard Voting\", \"y_prob\": hard_vot_clas.predict(dataset_heart.data_tuple[1])},\n",
    "    {\"name\": \"Stacking Class\", \"y_prob\": stacking_clas.predict_proba(dataset_heart.data_tuple[1])[:,1]},\n",
    "]\n",
    "\n",
    "for dictionary in curves:\n",
    "    fpr, tpr, _ = roc_curve(dataset_heart.data_tuple[-1], dictionary[\"y_prob\"])\n",
    "    plt.plot(fpr, tpr, lw=2, label=dictionary[\"name\"])\n",
    "\n",
    "plt.plot([0, 1], [0, 1], color='navy', lw=2, linestyle='--')\n",
    "plt.xlim([0.0, 1.0])\n",
    "plt.ylim([0.0, 1.05])\n",
    "plt.xlabel('FPR')\n",
    "plt.ylabel('TPR')\n",
    "plt.title('Curva ROC')\n",
    "plt.legend(loc=\"lower right\")\n",
    "plt.show()"
   ]
  }
 ],
 "metadata": {
  "kernelspec": {
   "display_name": "Python 3 (ipykernel)",
   "language": "python",
   "name": "python3"
  },
  "language_info": {
   "codemirror_mode": {
    "name": "ipython",
    "version": 3
   },
   "file_extension": ".py",
   "mimetype": "text/x-python",
   "name": "python",
   "nbconvert_exporter": "python",
   "pygments_lexer": "ipython3",
   "version": "3.10.14"
  }
 },
 "nbformat": 4,
 "nbformat_minor": 5
}
