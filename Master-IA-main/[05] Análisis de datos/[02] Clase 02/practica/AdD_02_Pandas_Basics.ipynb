{
 "cells": [
  {
   "cell_type": "markdown",
   "metadata": {
    "id": "6AwUmMspLWQs"
   },
   "source": [
    "# Analisis de datos\n",
    "## Introducción a Pandas\n",
    "## Índice:\n",
    "1. [Extracción de datos](#Extraer-datos:-Restaurant)\n",
    "2. [Filtrar datos](#Filtrar-datos)\n",
    "3. [GroupBy](#GroupBy)\n",
    "4. [Apply](#Apply:-Student-Alcohol-Consumption)\n",
    "5. [Merge](#Merge:-Housing-Market)\n",
    "6. [Stats](#Stats:-US---Baby-Names)\n",
    "7. [Deleting](#Deleting:-Iris)\n",
    "8. [Bonus](#lab#Bonus:)\n",
    "\n",
    "<b>Nota:</b>\n",
    "Esta practica esta basada en los ejercicios de varios recursos online como:\n",
    "\n",
    "* https://github.com/ajcr/100-pandas-puzzles/blob/master/100-pandas-puzzles.ipynb\n",
    "* https://www.machinelearningplus.com/python/101-pandas-exercises-python/\n",
    "* https://www.kaggle.com/learn/pandas\n",
    "* https://github.com/facuzeta/pandas_exercises\n",
    "* https://github.com/guipsamora/pandas_exercises"
   ]
  },
  {
   "cell_type": "markdown",
   "metadata": {
    "id": "4X3UIedwLWQx"
   },
   "source": [
    "# Extraer datos: Restaurant\n",
    "Referencias:\n",
    "* [Read_csv](https://pandas.pydata.org/pandas-docs/stable/reference/api/pandas.read_csv.html)\n",
    "* [Group by](https://pandas.pydata.org/pandas-docs/stable/reference/api/pandas.DataFrame.groupby.html)\n",
    "* [dtype](https://pandas.pydata.org/pandas-docs/stable/reference/api/pandas.DataFrame.dtypes.html)\n"
   ]
  },
  {
   "cell_type": "markdown",
   "metadata": {
    "id": "okRDg6tNLWQy"
   },
   "source": [
    "1. Import the necessary libraries"
   ]
  },
  {
   "cell_type": "code",
   "execution_count": null,
   "metadata": {
    "collapsed": false,
    "id": "2iK3vIQ3LWQy",
    "jupyter": {
     "outputs_hidden": false
    }
   },
   "outputs": [],
   "source": []
  },
  {
   "cell_type": "markdown",
   "metadata": {
    "id": "xSewdfUzLWQz"
   },
   "source": [
    "2. Import the dataset from this [address](https://raw.githubusercontent.com/justmarkham/DAT8/master/data/chipotle.tsv). "
   ]
  },
  {
   "cell_type": "code",
   "execution_count": null,
   "metadata": {
    "colab": {
     "base_uri": "https://localhost:8080/",
     "height": 363
    },
    "executionInfo": {
     "elapsed": 777,
     "status": "ok",
     "timestamp": 1646423338979,
     "user": {
      "displayName": "Nahuel Pelli",
      "photoUrl": "https://lh3.googleusercontent.com/a-/AOh14GgU7PtRzC6NJV6RaE6PvcR4u74SbOBZ3uKzPpmoEQ=s64",
      "userId": "14684882614154306819"
     },
     "user_tz": 180
    },
    "id": "_VLIMxRrLWQz",
    "outputId": "6d8e0255-cfff-4178-a2a0-9d95d4167f68"
   },
   "outputs": [],
   "source": []
  },
  {
   "cell_type": "markdown",
   "metadata": {
    "id": "dYY_u41uLWQz"
   },
   "source": [
    "3. Assign it to a variable called chipo."
   ]
  },
  {
   "cell_type": "code",
   "execution_count": null,
   "metadata": {
    "collapsed": false,
    "id": "ig-N5jkeLWQ0",
    "jupyter": {
     "outputs_hidden": false
    }
   },
   "outputs": [],
   "source": []
  },
  {
   "cell_type": "markdown",
   "metadata": {
    "id": "VKyZq0DyLWQ0"
   },
   "source": [
    "4. See the first 10 entries"
   ]
  },
  {
   "cell_type": "code",
   "execution_count": null,
   "metadata": {
    "colab": {
     "base_uri": "https://localhost:8080/",
     "height": 359
    },
    "collapsed": false,
    "id": "sFeQgelFLWQ0",
    "jupyter": {
     "outputs_hidden": false
    },
    "outputId": "a9195582-d0db-446e-89a7-cc1c9180d516"
   },
   "outputs": [],
   "source": []
  },
  {
   "cell_type": "markdown",
   "metadata": {
    "id": "XOpgSzGTLWQ0"
   },
   "source": [
    "5. What is the number of observations in the dataset?"
   ]
  },
  {
   "cell_type": "code",
   "execution_count": null,
   "metadata": {
    "colab": {
     "base_uri": "https://localhost:8080/"
    },
    "collapsed": false,
    "id": "ZlIsthm9LWQ0",
    "jupyter": {
     "outputs_hidden": false
    },
    "outputId": "11535247-fbc3-486a-dd82-373118715313"
   },
   "outputs": [],
   "source": []
  },
  {
   "cell_type": "markdown",
   "metadata": {
    "id": "A_zyqaW2LWQ1"
   },
   "source": [
    "6. What is the number of columns in the dataset?"
   ]
  },
  {
   "cell_type": "code",
   "execution_count": null,
   "metadata": {
    "colab": {
     "base_uri": "https://localhost:8080/"
    },
    "collapsed": false,
    "id": "FY5NeTYtLWQ1",
    "jupyter": {
     "outputs_hidden": false
    },
    "outputId": "495f2694-f424-480f-8dc7-8d2d40f122db"
   },
   "outputs": [],
   "source": []
  },
  {
   "cell_type": "markdown",
   "metadata": {
    "id": "kRwZ7UorLWQ1"
   },
   "source": [
    "7. Print the name of all the columns."
   ]
  },
  {
   "cell_type": "code",
   "execution_count": null,
   "metadata": {
    "colab": {
     "base_uri": "https://localhost:8080/"
    },
    "collapsed": false,
    "id": "ASWOa3-ZLWQ1",
    "jupyter": {
     "outputs_hidden": false
    },
    "outputId": "62365e67-c1b4-4320-aa3b-f4d827691c29"
   },
   "outputs": [],
   "source": []
  },
  {
   "cell_type": "markdown",
   "metadata": {
    "id": "h0VGApWHLWQ1"
   },
   "source": [
    "9. Which was the most-ordered item? "
   ]
  },
  {
   "cell_type": "code",
   "execution_count": null,
   "metadata": {},
   "outputs": [],
   "source": []
  },
  {
   "cell_type": "markdown",
   "metadata": {
    "id": "N4deH-NVLWQ2"
   },
   "source": [
    "10. For the most-ordered item, how many items were ordered?"
   ]
  },
  {
   "cell_type": "code",
   "execution_count": null,
   "metadata": {},
   "outputs": [],
   "source": []
  },
  {
   "cell_type": "markdown",
   "metadata": {
    "id": "ntBJqX4SLWQ2"
   },
   "source": [
    "11. What was the most ordered item in the choice_description column?"
   ]
  },
  {
   "cell_type": "code",
   "execution_count": null,
   "metadata": {
    "colab": {
     "base_uri": "https://localhost:8080/"
    },
    "collapsed": false,
    "id": "4jzikxFFLWQ2",
    "jupyter": {
     "outputs_hidden": false
    },
    "outputId": "863a5f40-958f-461a-ee0a-329707db2e5b"
   },
   "outputs": [],
   "source": []
  },
  {
   "cell_type": "markdown",
   "metadata": {
    "id": "_Aq5-jgiLWQ2"
   },
   "source": [
    "12. How many items were orderd in total?"
   ]
  },
  {
   "cell_type": "code",
   "execution_count": null,
   "metadata": {
    "colab": {
     "base_uri": "https://localhost:8080/"
    },
    "collapsed": false,
    "id": "eVTihynzLWQ2",
    "jupyter": {
     "outputs_hidden": false
    },
    "outputId": "dc0402d2-578f-4289-c4f0-d1b8af68d8e1"
   },
   "outputs": [],
   "source": []
  },
  {
   "cell_type": "markdown",
   "metadata": {
    "id": "X0Q950_0LWQ3"
   },
   "source": [
    "13. Turn the item price into a float"
   ]
  },
  {
   "cell_type": "code",
   "execution_count": null,
   "metadata": {
    "colab": {
     "base_uri": "https://localhost:8080/",
     "height": 359
    },
    "id": "mUnaM3oYNAvH",
    "outputId": "b61bf51f-2aa2-4a53-b863-50f51e6bb45d"
   },
   "outputs": [],
   "source": []
  },
  {
   "cell_type": "markdown",
   "metadata": {
    "id": "rn-xjtF3LWQ3"
   },
   "source": [
    "13.a. Check the item price type"
   ]
  },
  {
   "cell_type": "code",
   "execution_count": null,
   "metadata": {
    "colab": {
     "base_uri": "https://localhost:8080/"
    },
    "collapsed": false,
    "id": "FxQw2E8_LWQ3",
    "jupyter": {
     "outputs_hidden": false
    },
    "outputId": "58929d0b-5609-46eb-df71-98890f998130"
   },
   "outputs": [],
   "source": []
  },
  {
   "cell_type": "markdown",
   "metadata": {
    "id": "52HluI67LWQ3"
   },
   "source": [
    "13.b. Change the type of the column into a float"
   ]
  },
  {
   "cell_type": "code",
   "execution_count": null,
   "metadata": {
    "id": "OM3AYtp9LWQ3"
   },
   "outputs": [],
   "source": []
  },
  {
   "cell_type": "markdown",
   "metadata": {
    "id": "qR_-i3KJLWQ3"
   },
   "source": [
    "13.c. Check the item price type"
   ]
  },
  {
   "cell_type": "code",
   "execution_count": null,
   "metadata": {
    "colab": {
     "base_uri": "https://localhost:8080/"
    },
    "collapsed": false,
    "id": "3S7hCVbOLWQ3",
    "jupyter": {
     "outputs_hidden": false
    },
    "outputId": "84ae8ea5-0e0d-4143-d820-f50067542182"
   },
   "outputs": [],
   "source": []
  },
  {
   "cell_type": "markdown",
   "metadata": {
    "id": "ZzMn0KJOLWQ3"
   },
   "source": [
    "14. How much was the revenue for the period in the dataset?"
   ]
  },
  {
   "cell_type": "code",
   "execution_count": null,
   "metadata": {
    "colab": {
     "base_uri": "https://localhost:8080/"
    },
    "collapsed": false,
    "id": "PBOKPQB-LWQ4",
    "jupyter": {
     "outputs_hidden": false
    },
    "outputId": "253bedc8-71e8-4ecc-9553-e2986aa65126"
   },
   "outputs": [],
   "source": []
  },
  {
   "cell_type": "markdown",
   "metadata": {
    "id": "ysnSRPRfLWQ4"
   },
   "source": [
    "15. How many orders were made in the period?"
   ]
  },
  {
   "cell_type": "code",
   "execution_count": null,
   "metadata": {
    "colab": {
     "base_uri": "https://localhost:8080/"
    },
    "collapsed": false,
    "id": "nhOFFT2_LWQ4",
    "jupyter": {
     "outputs_hidden": false
    },
    "outputId": "4a7a9570-0b81-4191-ead2-3738fb6e484e"
   },
   "outputs": [],
   "source": []
  },
  {
   "cell_type": "markdown",
   "metadata": {
    "id": "BjZjbxbTLWQ4"
   },
   "source": [
    "16. What is the average revenue amount per order?"
   ]
  },
  {
   "cell_type": "code",
   "execution_count": null,
   "metadata": {
    "colab": {
     "base_uri": "https://localhost:8080/",
     "height": 450
    },
    "collapsed": false,
    "id": "t9u8Q064LWQ4",
    "jupyter": {
     "outputs_hidden": false
    },
    "outputId": "ce1ac59e-c31a-48f7-bd46-0980940aa54a"
   },
   "outputs": [],
   "source": []
  },
  {
   "cell_type": "markdown",
   "metadata": {
    "id": "6YOOtqiULWQ4"
   },
   "source": [
    "17. How many different items are sold?"
   ]
  },
  {
   "cell_type": "code",
   "execution_count": null,
   "metadata": {
    "colab": {
     "base_uri": "https://localhost:8080/"
    },
    "id": "RW29DemIVPrw",
    "outputId": "5cc35e06-efcb-4073-d940-231145e5e37e"
   },
   "outputs": [],
   "source": []
  },
  {
   "cell_type": "markdown",
   "metadata": {
    "id": "VllGvAA5LWQ4"
   },
   "source": [
    "18. How many products cost more than $10.00?"
   ]
  },
  {
   "cell_type": "code",
   "execution_count": null,
   "metadata": {
    "colab": {
     "base_uri": "https://localhost:8080/"
    },
    "collapsed": false,
    "id": "a4XchAt7LWQ4",
    "jupyter": {
     "outputs_hidden": false
    },
    "outputId": "8c15a6a5-3263-402c-a126-a6f001170b30"
   },
   "outputs": [],
   "source": []
  },
  {
   "cell_type": "markdown",
   "metadata": {
    "id": "gOsrQvZ-LWQ5"
   },
   "source": [
    "# Filtrar datos\n",
    "Referencias:\n",
    "* [Reset Index](https://pandas.pydata.org/pandas-docs/stable/reference/api/pandas.DataFrame.reset_index.html)\n",
    "* [Sort values](https://pandas.pydata.org/pandas-docs/stable/reference/api/pandas.DataFrame.sort_values.html?highlight=sort_values#pandas.DataFrame.sort_values)"
   ]
  },
  {
   "cell_type": "markdown",
   "metadata": {
    "id": "6QGRjEOKLWQ5"
   },
   "source": [
    "19. What is the price of each item? \n",
    "> print a data frame with only two columns item_name and item_price"
   ]
  },
  {
   "cell_type": "code",
   "execution_count": null,
   "metadata": {
    "collapsed": false,
    "id": "MY8EYx4VLWQ5",
    "jupyter": {
     "outputs_hidden": false
    }
   },
   "outputs": [],
   "source": []
  },
  {
   "cell_type": "markdown",
   "metadata": {
    "id": "XPtZ28GmLWQ5"
   },
   "source": [
    "20. Sort by the name of the item"
   ]
  },
  {
   "cell_type": "code",
   "execution_count": null,
   "metadata": {
    "collapsed": false,
    "id": "9n9Y_FwQLWQ5",
    "jupyter": {
     "outputs_hidden": false
    }
   },
   "outputs": [],
   "source": []
  },
  {
   "cell_type": "markdown",
   "metadata": {
    "id": "awtsgNgCLWQ5"
   },
   "source": [
    "21. What was the quantity of the most expensive item ordered?"
   ]
  },
  {
   "cell_type": "code",
   "execution_count": null,
   "metadata": {
    "collapsed": false,
    "id": "OeknCsF4LWQ5",
    "jupyter": {
     "outputs_hidden": false
    }
   },
   "outputs": [],
   "source": []
  },
  {
   "cell_type": "markdown",
   "metadata": {
    "id": "HVopqMw6LWQ6"
   },
   "source": [
    "22. How many times was a Veggie Salad Bowl ordered?"
   ]
  },
  {
   "cell_type": "code",
   "execution_count": null,
   "metadata": {
    "collapsed": false,
    "id": "G5Bc15RpLWQ6",
    "jupyter": {
     "outputs_hidden": false
    }
   },
   "outputs": [],
   "source": []
  },
  {
   "cell_type": "markdown",
   "metadata": {
    "id": "W3nYokIkLWQ6"
   },
   "source": [
    "23. How many times did someone order more than one Canned Soda?"
   ]
  },
  {
   "cell_type": "code",
   "execution_count": null,
   "metadata": {
    "collapsed": false,
    "id": "fRafdebdLWQ6",
    "jupyter": {
     "outputs_hidden": false
    }
   },
   "outputs": [],
   "source": []
  },
  {
   "cell_type": "markdown",
   "metadata": {
    "id": "89vyTtw1LWQ6"
   },
   "source": [
    "# GroupBy"
   ]
  },
  {
   "cell_type": "markdown",
   "metadata": {
    "id": "CbMBY0MaLWQ6"
   },
   "source": [
    "Referencias:\n",
    "* [Describe](https://pandas.pydata.org/pandas-docs/stable/reference/api/pandas.DataFrame.describe.html)\n",
    "\n",
    "GroupBy can be summarized as Split-Apply-Combine. Check out this [Diagram](http://i.imgur.com/yjNkiwL.png)  "
   ]
  },
  {
   "cell_type": "markdown",
   "metadata": {
    "id": "S8fUmNReLWQ6"
   },
   "source": [
    "24. Import the dataset from this [address](https://raw.githubusercontent.com/justmarkham/DAT8/master/data/drinks.csv). "
   ]
  },
  {
   "cell_type": "code",
   "execution_count": null,
   "metadata": {
    "id": "JWuQF3ooLWQ6"
   },
   "outputs": [],
   "source": []
  },
  {
   "cell_type": "markdown",
   "metadata": {
    "id": "vlWc3HFoLWQ6"
   },
   "source": [
    "25. Assign it to a variable called drinks."
   ]
  },
  {
   "cell_type": "code",
   "execution_count": null,
   "metadata": {
    "id": "Q_X659CnLWQ7"
   },
   "outputs": [],
   "source": []
  },
  {
   "cell_type": "markdown",
   "metadata": {
    "id": "tXGKzVXdLWQ7"
   },
   "source": [
    "26. Which continent drinks more beer on average?"
   ]
  },
  {
   "cell_type": "code",
   "execution_count": null,
   "metadata": {
    "id": "HR4J7RyPLWQ7"
   },
   "outputs": [],
   "source": []
  },
  {
   "cell_type": "markdown",
   "metadata": {
    "id": "p6VJItrpLWQ7"
   },
   "source": [
    "27. Print the mean alcohol consumption per continent for every column"
   ]
  },
  {
   "cell_type": "code",
   "execution_count": null,
   "metadata": {
    "id": "ppKNwWy8LWQ7"
   },
   "outputs": [],
   "source": []
  },
  {
   "cell_type": "markdown",
   "metadata": {
    "id": "N74QD1cxLWQ7"
   },
   "source": [
    "28. Print the median alcohol consumption per continent for every column"
   ]
  },
  {
   "cell_type": "code",
   "execution_count": null,
   "metadata": {
    "id": "6pE75UkmLWQ7"
   },
   "outputs": [],
   "source": []
  },
  {
   "cell_type": "markdown",
   "metadata": {
    "id": "-BSFnE3hLWQ7"
   },
   "source": [
    "29. Print the mean, min and max values for spirit consumption."
   ]
  },
  {
   "cell_type": "code",
   "execution_count": null,
   "metadata": {
    "id": "uBp31uKnLWQ8"
   },
   "outputs": [],
   "source": []
  },
  {
   "cell_type": "markdown",
   "metadata": {
    "id": "BZMjBh-7LWQ8"
   },
   "source": [
    "# Apply: Student Alcohol Consumption\n",
    "Referencias:\n",
    "* [apply](https://pandas.pydata.org/pandas-docs/stable/reference/api/pandas.core.groupby.GroupBy.apply.html?highlight=apply#pandas.core.groupby.GroupBy.apply)"
   ]
  },
  {
   "cell_type": "markdown",
   "metadata": {
    "id": "umxEWeSzLWQ8"
   },
   "source": [
    "30. Import the dataset from this [address](https://raw.githubusercontent.com/guipsamora/pandas_exercises/master/04_Apply/Students_Alcohol_Consumption/student-mat.csv)."
   ]
  },
  {
   "cell_type": "code",
   "execution_count": null,
   "metadata": {
    "id": "M6MrL8HcLWQ8"
   },
   "outputs": [],
   "source": []
  },
  {
   "cell_type": "markdown",
   "metadata": {
    "id": "dyXM1qPdLWQ8"
   },
   "source": [
    "31. Assign it to a variable called df."
   ]
  },
  {
   "cell_type": "code",
   "execution_count": null,
   "metadata": {
    "collapsed": false,
    "id": "fFZ29DniLWQ8",
    "jupyter": {
     "outputs_hidden": false
    }
   },
   "outputs": [],
   "source": []
  },
  {
   "cell_type": "markdown",
   "metadata": {
    "id": "p6CvdotcLWQ8"
   },
   "source": [
    "32. For the purpose of this exercise slice the dataframe from 'school' until the 'guardian' column"
   ]
  },
  {
   "cell_type": "code",
   "execution_count": null,
   "metadata": {
    "collapsed": false,
    "id": "xl_mBkCvLWQ9",
    "jupyter": {
     "outputs_hidden": false
    }
   },
   "outputs": [],
   "source": []
  },
  {
   "cell_type": "markdown",
   "metadata": {
    "id": "YUlGLBRXLWQ9"
   },
   "source": [
    "33. Create a function that will capitalize strings."
   ]
  },
  {
   "cell_type": "code",
   "execution_count": null,
   "metadata": {
    "collapsed": false,
    "id": "DBzZrB2tLWQ9",
    "jupyter": {
     "outputs_hidden": false
    }
   },
   "outputs": [],
   "source": []
  },
  {
   "cell_type": "markdown",
   "metadata": {
    "id": "7QNrNaHiLWQ9"
   },
   "source": [
    "34. Capitalize both Mjob and Fjob"
   ]
  },
  {
   "cell_type": "code",
   "execution_count": null,
   "metadata": {
    "collapsed": false,
    "id": "F0GWhAy8LWQ9",
    "jupyter": {
     "outputs_hidden": false
    }
   },
   "outputs": [],
   "source": []
  },
  {
   "cell_type": "markdown",
   "metadata": {
    "id": "kLgQiyatLWQ9"
   },
   "source": [
    "35. Print the last elements of the data set."
   ]
  },
  {
   "cell_type": "code",
   "execution_count": null,
   "metadata": {
    "collapsed": false,
    "id": "CNiJBMoWLWQ9",
    "jupyter": {
     "outputs_hidden": false
    }
   },
   "outputs": [],
   "source": []
  },
  {
   "cell_type": "markdown",
   "metadata": {
    "id": "S0qa_r_PLWQ9"
   },
   "source": [
    "36. Create a function called majority that returns a boolean value to a new column called legal_drinker (Consider majority as older than 17 years old)"
   ]
  },
  {
   "cell_type": "code",
   "execution_count": null,
   "metadata": {
    "collapsed": false,
    "id": "3iD4FfR5LWQ-",
    "jupyter": {
     "outputs_hidden": false
    }
   },
   "outputs": [],
   "source": []
  },
  {
   "cell_type": "markdown",
   "metadata": {
    "id": "bSH0EsZsLWQ-"
   },
   "source": [
    "# Merge: Housing Market\n",
    "Referencias:\n",
    "* [randint](https://docs.scipy.org/doc/numpy-1.15.1/reference/generated/numpy.random.randint.html)"
   ]
  },
  {
   "cell_type": "markdown",
   "metadata": {
    "id": "L0ktOtYkLWQ-"
   },
   "source": [
    "This time we will create our own dataset with fictional numbers to describe a house market. As we are going to create random data don't try to reason of the numbers.\n",
    "\n",
    "37. Import the necessary libraries"
   ]
  },
  {
   "cell_type": "code",
   "execution_count": null,
   "metadata": {
    "collapsed": false,
    "id": "aS4rAwj7LWQ-",
    "jupyter": {
     "outputs_hidden": false
    }
   },
   "outputs": [],
   "source": []
  },
  {
   "cell_type": "markdown",
   "metadata": {
    "id": "qdAM7l1NLWQ-"
   },
   "source": [
    "38. Create 3 differents Series, each of length 100, as follows: \n",
    "<br>\n",
    "    The first a random number from 1 to 4 \n",
    "    <br>\n",
    "    The second a random number from 1 to 3\n",
    "    <br>\n",
    "    The third a random number from 10,000 to 30,000"
   ]
  },
  {
   "cell_type": "code",
   "execution_count": null,
   "metadata": {
    "collapsed": false,
    "id": "ls04bf44LWQ-",
    "jupyter": {
     "outputs_hidden": false
    }
   },
   "outputs": [],
   "source": []
  },
  {
   "cell_type": "markdown",
   "metadata": {
    "id": "ZZHgEOspLWQ-"
   },
   "source": [
    "39. Let's create a DataFrame by joinning the Series by column"
   ]
  },
  {
   "cell_type": "code",
   "execution_count": null,
   "metadata": {
    "collapsed": false,
    "id": "clunjO6KLWQ-",
    "jupyter": {
     "outputs_hidden": false
    }
   },
   "outputs": [],
   "source": []
  },
  {
   "cell_type": "markdown",
   "metadata": {
    "id": "oPQkTdB4LWQ-"
   },
   "source": [
    "40. Change the name of the columns to bedrs, bathrs, price_sqr_meter"
   ]
  },
  {
   "cell_type": "code",
   "execution_count": null,
   "metadata": {
    "collapsed": false,
    "id": "kkN464JtLWQ_",
    "jupyter": {
     "outputs_hidden": false
    }
   },
   "outputs": [],
   "source": []
  },
  {
   "cell_type": "markdown",
   "metadata": {
    "id": "OLnEWBTYLWQ_"
   },
   "source": [
    "41. Create a one column DataFrame with the values of the 3 Series and assign it to 'bigcolumn'"
   ]
  },
  {
   "cell_type": "code",
   "execution_count": null,
   "metadata": {
    "collapsed": false,
    "id": "w_1rlgDtLWQ_",
    "jupyter": {
     "outputs_hidden": false
    }
   },
   "outputs": [],
   "source": []
  },
  {
   "cell_type": "markdown",
   "metadata": {
    "id": "iiDdr4U1LWQ_"
   },
   "source": [
    "42. Oops, it seems it is going only until index 99. Is it true?"
   ]
  },
  {
   "cell_type": "code",
   "execution_count": null,
   "metadata": {
    "collapsed": false,
    "id": "hUYiF25yLWQ_",
    "jupyter": {
     "outputs_hidden": false
    }
   },
   "outputs": [],
   "source": []
  },
  {
   "cell_type": "markdown",
   "metadata": {
    "id": "zAN0F0WALWQ_"
   },
   "source": [
    "43. Reindex the DataFrame so it goes from 0 to 299"
   ]
  },
  {
   "cell_type": "code",
   "execution_count": null,
   "metadata": {
    "collapsed": false,
    "id": "ZsgD_8YOLWQ_",
    "jupyter": {
     "outputs_hidden": false
    }
   },
   "outputs": [],
   "source": []
  },
  {
   "cell_type": "markdown",
   "metadata": {
    "id": "QtdFrByQLWQ_"
   },
   "source": [
    "# Stats: US - Baby Names"
   ]
  },
  {
   "cell_type": "markdown",
   "metadata": {
    "id": "sK9aVQuDLWQ_"
   },
   "source": [
    "We are going to use a subset of [US Baby Names](https://www.kaggle.com/kaggle/us-baby-names) from Kaggle.  \n",
    "In the file it will be names from 2004 until 2014"
   ]
  },
  {
   "cell_type": "markdown",
   "metadata": {
    "id": "pE35PJdYLWRA"
   },
   "source": [
    "44. Import the dataset from this [address](https://facuzeta.github.io/udesa/01_programacion/guias/datasets/US_Baby_Names_right.csv.zip). "
   ]
  },
  {
   "cell_type": "code",
   "execution_count": null,
   "metadata": {
    "id": "E2tYe3A0LWRA"
   },
   "outputs": [],
   "source": []
  },
  {
   "cell_type": "markdown",
   "metadata": {
    "id": "rJ03xv9jLWRA"
   },
   "source": [
    "45. Assign it to a variable called baby_names."
   ]
  },
  {
   "cell_type": "code",
   "execution_count": null,
   "metadata": {
    "collapsed": false,
    "id": "CNJ6l2DHLWRA",
    "jupyter": {
     "outputs_hidden": false
    }
   },
   "outputs": [],
   "source": []
  },
  {
   "cell_type": "markdown",
   "metadata": {
    "id": "qsSNGjuYLWRA"
   },
   "source": [
    "46. See the first 10 entries"
   ]
  },
  {
   "cell_type": "code",
   "execution_count": null,
   "metadata": {
    "collapsed": false,
    "id": "1VtGeipNLWRA",
    "jupyter": {
     "outputs_hidden": false
    }
   },
   "outputs": [],
   "source": []
  },
  {
   "cell_type": "markdown",
   "metadata": {
    "id": "mcaUutMRLWRB"
   },
   "source": [
    "47. Delete the column 'Unnamed: 0' and 'Id'"
   ]
  },
  {
   "cell_type": "code",
   "execution_count": null,
   "metadata": {
    "collapsed": false,
    "id": "aJl2yJrHLWRB",
    "jupyter": {
     "outputs_hidden": false
    }
   },
   "outputs": [],
   "source": []
  },
  {
   "cell_type": "markdown",
   "metadata": {
    "id": "vzCo33DqLWRB"
   },
   "source": [
    "48. Is there more male or female names in the dataset?"
   ]
  },
  {
   "cell_type": "code",
   "execution_count": null,
   "metadata": {
    "collapsed": false,
    "id": "vak_88VELWRB",
    "jupyter": {
     "outputs_hidden": false
    }
   },
   "outputs": [],
   "source": []
  },
  {
   "cell_type": "markdown",
   "metadata": {
    "id": "1Ngp4l0qLWRB"
   },
   "source": [
    "49. Group the dataset by name and assign to names"
   ]
  },
  {
   "cell_type": "code",
   "execution_count": null,
   "metadata": {
    "collapsed": false,
    "id": "93D46L-KLWRB",
    "jupyter": {
     "outputs_hidden": false
    }
   },
   "outputs": [],
   "source": []
  },
  {
   "cell_type": "markdown",
   "metadata": {
    "id": "cORWN_KRLWRB"
   },
   "source": [
    "50. How many different names exist in the dataset?"
   ]
  },
  {
   "cell_type": "code",
   "execution_count": null,
   "metadata": {
    "collapsed": false,
    "id": "Ymi5Ka0XLWRC",
    "jupyter": {
     "outputs_hidden": false
    }
   },
   "outputs": [],
   "source": []
  },
  {
   "cell_type": "markdown",
   "metadata": {
    "id": "rFdsXAZNLWRC"
   },
   "source": [
    "51. What is the name with most occurrences?"
   ]
  },
  {
   "cell_type": "code",
   "execution_count": null,
   "metadata": {
    "collapsed": false,
    "id": "1p3J6D1kLWRC",
    "jupyter": {
     "outputs_hidden": false
    }
   },
   "outputs": [],
   "source": []
  },
  {
   "cell_type": "markdown",
   "metadata": {
    "id": "Qp6DtXmsLWRC"
   },
   "source": [
    "52. How many different names have the least occurrences?"
   ]
  },
  {
   "cell_type": "code",
   "execution_count": null,
   "metadata": {
    "collapsed": false,
    "id": "2XjnaGcCLWRC",
    "jupyter": {
     "outputs_hidden": false
    }
   },
   "outputs": [],
   "source": []
  },
  {
   "cell_type": "markdown",
   "metadata": {
    "id": "l-oJH2LJLWRC"
   },
   "source": [
    "53. What is the median name occurrence?"
   ]
  },
  {
   "cell_type": "code",
   "execution_count": null,
   "metadata": {
    "collapsed": false,
    "id": "Z_juq4aoLWRD",
    "jupyter": {
     "outputs_hidden": false
    }
   },
   "outputs": [],
   "source": []
  },
  {
   "cell_type": "markdown",
   "metadata": {
    "id": "9AmT30wKLWRD"
   },
   "source": [
    "54. What is the standard deviation of names?"
   ]
  },
  {
   "cell_type": "code",
   "execution_count": null,
   "metadata": {
    "collapsed": false,
    "id": "R8IEyVJHLWRD",
    "jupyter": {
     "outputs_hidden": false
    }
   },
   "outputs": [],
   "source": []
  },
  {
   "cell_type": "markdown",
   "metadata": {
    "id": "my1YgsznLWRD"
   },
   "source": [
    "55. Get a summary with the mean, min, max, std and quartiles."
   ]
  },
  {
   "cell_type": "code",
   "execution_count": null,
   "metadata": {
    "collapsed": false,
    "id": "rJCvu3QJLWRD",
    "jupyter": {
     "outputs_hidden": false
    }
   },
   "outputs": [],
   "source": []
  },
  {
   "cell_type": "markdown",
   "metadata": {
    "id": "tKL4ibUALWRD"
   },
   "source": [
    "# Deleting: Iris\n",
    "Referencias:\n",
    "* [fillna](https://pandas.pydata.org/pandas-docs/stable/reference/api/pandas.DataFrame.fillna.html)"
   ]
  },
  {
   "cell_type": "markdown",
   "metadata": {
    "id": "TodOhpWCLWRE"
   },
   "source": [
    "56. Import the dataset from this [address](https://archive.ics.uci.edu/ml/machine-learning-databases/iris/iris.data). "
   ]
  },
  {
   "cell_type": "code",
   "execution_count": null,
   "metadata": {
    "id": "IFUctl0HLWRE"
   },
   "outputs": [],
   "source": []
  },
  {
   "cell_type": "markdown",
   "metadata": {
    "id": "_BdIlmNQLWRE"
   },
   "source": [
    "57. Assign it to a variable called iris"
   ]
  },
  {
   "cell_type": "code",
   "execution_count": null,
   "metadata": {
    "collapsed": false,
    "id": "nUxhiOlkLWRE",
    "jupyter": {
     "outputs_hidden": false
    }
   },
   "outputs": [],
   "source": []
  },
  {
   "cell_type": "markdown",
   "metadata": {
    "id": "pjdMlOFpLWRE"
   },
   "source": [
    "58. Create columns for the dataset"
   ]
  },
  {
   "cell_type": "code",
   "execution_count": null,
   "metadata": {
    "collapsed": false,
    "id": "8oOSAZ-3LWRE",
    "jupyter": {
     "outputs_hidden": false
    }
   },
   "outputs": [],
   "source": [
    "# 1. sepal_length (in cm)\n",
    "# 2. sepal_width (in cm)\n",
    "# 3. petal_length (in cm)\n",
    "# 4. petal_width (in cm)\n",
    "# 5. class"
   ]
  },
  {
   "cell_type": "markdown",
   "metadata": {
    "id": "u7xuSc4JLWRE"
   },
   "source": [
    "59.  Is there any missing value in the dataframe?"
   ]
  },
  {
   "cell_type": "code",
   "execution_count": null,
   "metadata": {
    "collapsed": false,
    "id": "RGi0PsW7LWRE",
    "jupyter": {
     "outputs_hidden": false
    }
   },
   "outputs": [],
   "source": []
  },
  {
   "cell_type": "markdown",
   "metadata": {
    "id": "miMk4ugFLWRE"
   },
   "source": [
    "60.  Lets set the values of the rows 10 to 29 of the column 'petal_length' to NaN"
   ]
  },
  {
   "cell_type": "code",
   "execution_count": null,
   "metadata": {
    "collapsed": false,
    "id": "JWxjRXy1LWRF",
    "jupyter": {
     "outputs_hidden": false
    }
   },
   "outputs": [],
   "source": []
  },
  {
   "cell_type": "markdown",
   "metadata": {
    "id": "CtNc6WWFLWRF"
   },
   "source": [
    "61. Good, now lets substitute the NaN values to 1.0"
   ]
  },
  {
   "cell_type": "code",
   "execution_count": null,
   "metadata": {
    "collapsed": false,
    "id": "AL5BOQdoLWRF",
    "jupyter": {
     "outputs_hidden": false
    }
   },
   "outputs": [],
   "source": []
  },
  {
   "cell_type": "markdown",
   "metadata": {
    "id": "RWsRRCAzLWRF"
   },
   "source": [
    "62. Now let's delete the column class"
   ]
  },
  {
   "cell_type": "code",
   "execution_count": null,
   "metadata": {
    "collapsed": false,
    "id": "OMklvz1JLWRF",
    "jupyter": {
     "outputs_hidden": false
    }
   },
   "outputs": [],
   "source": []
  },
  {
   "cell_type": "markdown",
   "metadata": {
    "id": "FwLeZYcCLWRF"
   },
   "source": [
    "63.  Set the first 3 rows as NaN"
   ]
  },
  {
   "cell_type": "code",
   "execution_count": null,
   "metadata": {
    "collapsed": false,
    "id": "4d0HI_4WLWRF",
    "jupyter": {
     "outputs_hidden": false
    }
   },
   "outputs": [],
   "source": []
  },
  {
   "cell_type": "markdown",
   "metadata": {
    "id": "h3sgAW03LWRF"
   },
   "source": [
    "64.  Delete the rows that have NaN"
   ]
  },
  {
   "cell_type": "code",
   "execution_count": null,
   "metadata": {
    "collapsed": false,
    "id": "FLyyQoa0LWRG",
    "jupyter": {
     "outputs_hidden": false
    }
   },
   "outputs": [],
   "source": []
  },
  {
   "cell_type": "markdown",
   "metadata": {
    "id": "5sGGCSHpLWRG"
   },
   "source": [
    "65. Reset the index so it begins with 0 again"
   ]
  },
  {
   "cell_type": "code",
   "execution_count": null,
   "metadata": {
    "collapsed": false,
    "id": "pQC3eUQ4LWRG",
    "jupyter": {
     "outputs_hidden": false
    }
   },
   "outputs": [],
   "source": []
  },
  {
   "cell_type": "markdown",
   "metadata": {
    "id": "ZsNVuCJLLWRG"
   },
   "source": [
    "# Bonus:\n",
    "Si quiere mas ejercicios visitar:\n",
    "* https://github.com/ajcr/100-pandas-puzzles/blob/master/100-pandas-puzzles.ipynb\n",
    "* https://www.machinelearningplus.com/python/101-pandas-exercises-python/"
   ]
  },
  {
   "cell_type": "code",
   "execution_count": null,
   "metadata": {
    "id": "PbtF3fLXLWRG"
   },
   "outputs": [],
   "source": []
  }
 ],
 "metadata": {
  "colab": {
   "collapsed_sections": [],
   "name": "AdA_02_Pandas_Basics.ipynb",
   "provenance": [],
   "toc_visible": true
  },
  "kernelspec": {
   "display_name": "Python 3 (ipykernel)",
   "language": "python",
   "name": "python3"
  },
  "language_info": {
   "codemirror_mode": {
    "name": "ipython",
    "version": 3
   },
   "file_extension": ".py",
   "mimetype": "text/x-python",
   "name": "python",
   "nbconvert_exporter": "python",
   "pygments_lexer": "ipython3",
   "version": "3.12.2"
  }
 },
 "nbformat": 4,
 "nbformat_minor": 4
}
