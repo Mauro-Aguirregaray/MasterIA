{
 "cells": [
  {
   "cell_type": "markdown",
   "metadata": {
    "id": "la4FG1m9dFWv"
   },
   "source": [
    "# Analisis de datos\n",
    "## Introducción a visualización\n",
    "\n",
    "\n",
    "<b>Nota:</b>\n",
    "Esta practica esta basada en los ejercicios de varios recursos online como:\n",
    "- [Matplotlib tutorial](https://github.com/iitmcvg/Python-Exercises/blob/master/Exercise%203%20-%20Matplotlib.ipynb)\n",
    "- [Seaborn tutorial](https://github.com/clair513/Seaborn-Tutorial)\n",
    "- [Data viz guide](https://github.com/pmaji/practical-python-data-viz-guide)\n",
    "\n"
   ]
  },
  {
   "cell_type": "markdown",
   "metadata": {
    "id": "5XzUPxDHdFWy"
   },
   "source": [
    "#1 Importe matplotlib y lo necesario para poder ver los plots en el notebook    "
   ]
  },
  {
   "cell_type": "code",
   "execution_count": null,
   "metadata": {
    "id": "SINzzWTmdFWz"
   },
   "outputs": [],
   "source": []
  },
  {
   "cell_type": "markdown",
   "metadata": {
    "id": "lWQh-Em8dFW4"
   },
   "source": [
    "## 2 Repoduzca los siguientes graficos"
   ]
  },
  {
   "cell_type": "markdown",
   "metadata": {
    "id": "2ei3sHNMdFW8"
   },
   "source": [
    "### 2.1  Repoduzca los siguientes plots (plt.plot)\n",
    "    <br> ref: https://matplotlib.org/api/_as_gen/matplotlib.pyplot.plot.html\n",
    "<!-- <br><img src='https://drive.google.com/uc?id=1ChwiU0JzKiICDRa-lZZBzPPS52hjXEME'> -->\n",
    "![](./data/2_1.png)"
   ]
  },
  {
   "cell_type": "code",
   "execution_count": null,
   "metadata": {
    "id": "Uv3HPdxdXIDM"
   },
   "outputs": [],
   "source": []
  },
  {
   "cell_type": "markdown",
   "metadata": {
    "id": "krhzua1AdFW9"
   },
   "source": [
    "### 2.2  Repoduzca los siguientes plots (plt.plot)<br>\n",
    "ref: https://matplotlib.org/3.2.0/api/markers_api.html\n",
    "<!-- <br><img src='https://drive.google.com/uc?id=1HiH4vlNdRZr2kGPCHKn8Pf04sZsxuQSZ'> -->\n",
    "![](./data/2_2.png)"
   ]
  },
  {
   "cell_type": "code",
   "execution_count": null,
   "metadata": {
    "id": "0hvnuulZZAf0"
   },
   "outputs": [],
   "source": []
  },
  {
   "cell_type": "markdown",
   "metadata": {
    "id": "v6i7QuQxdFW_"
   },
   "source": [
    "### 2.3  Repoduzca los siguientes plots (plt.plot)<br>\n",
    "ref: https://matplotlib.org/3.2.0/api/markers_api.html <br>\n",
    "hint: color, lw\n",
    "<!-- <br><img src='https://drive.google.com/uc?id=1fS6kHDh2AfO2B_L0taYR84MhpNX6XsG2'> -->\n",
    "![](./data/2_3.png)"
   ]
  },
  {
   "cell_type": "code",
   "execution_count": null,
   "metadata": {
    "id": "EHuP7y9aZJto"
   },
   "outputs": [],
   "source": []
  },
  {
   "cell_type": "markdown",
   "metadata": {
    "id": "h0ob8WAkdFXA"
   },
   "source": [
    "### 2.4  Repoduzca los siguientes plots (plt.plot)\n",
    "<!-- <br><img src='https://drive.google.com/uc?id=1RhEjSQ3d3E5Hlg8mixWJErXevXJiqHwO'> -->\n",
    "![](./data/2_4.png)"
   ]
  },
  {
   "cell_type": "code",
   "execution_count": null,
   "metadata": {
    "id": "welArYXdaPXs"
   },
   "outputs": [],
   "source": []
  },
  {
   "cell_type": "markdown",
   "metadata": {
    "id": "-2Wd6d18dFXB"
   },
   "source": [
    "### 2.5  Repoduzca los siguientes plots (plt.plot)<br>\n",
    "hint: xlabel, ylabel, plt.legend <br>\n",
    "<!-- <img src='https://drive.google.com/uc?id=1mbkFW7ZTDAm0E8gH_68OMDcgAIyNzdPj'> -->\n",
    "![](./data/2_5.png)"
   ]
  },
  {
   "cell_type": "code",
   "execution_count": null,
   "metadata": {
    "id": "hgCO2g5cblLm"
   },
   "outputs": [],
   "source": []
  },
  {
   "cell_type": "markdown",
   "metadata": {
    "id": "KuIlsMiJhrDv"
   },
   "source": [
    "## 3 Scatter Plot\n",
    "\n",
    "> ref: https://matplotlib.org/3.2.0/api/_as_gen/matplotlib.pyplot.scatter.html"
   ]
  },
  {
   "cell_type": "markdown",
   "metadata": {
    "id": "0_znncT3dFXD"
   },
   "source": [
    "### 3.1  Repoduzca los siguientes scatter (plt.scatter)\n",
    "\n",
    "hint: use los campos \"s\" y \"c\", respectivos a size y a color <br>\n",
    "<!-- <img src='https://drive.google.com/uc?id=17Wpd_IjN_u9i1qFoyR-Ur8lubBClP3ss'> -->\n",
    "\n",
    "![](./data/3_1.png)"
   ]
  },
  {
   "cell_type": "code",
   "execution_count": null,
   "metadata": {
    "id": "CMmqtZvFhQ1S"
   },
   "outputs": [],
   "source": []
  },
  {
   "cell_type": "markdown",
   "metadata": {
    "id": "eIFuQF1YdFXE"
   },
   "source": [
    "### 3.2  Repoduzca los siguientes scatter (plt.scatter)\n",
    "\n",
    "hint: tenga en cuenta que el campo \"c\" puede tomar una lista que refiere al tamaño de cada elemento en particular y no solo una constante \n",
    "<!-- <br><img src='https://drive.google.com/uc?id=1zUUaraf2vneU4gpHeFGaoHMjsqTXBMeb'> -->\n",
    "\n",
    "![](./data/3_2.png)"
   ]
  },
  {
   "cell_type": "code",
   "execution_count": null,
   "metadata": {
    "id": "KhfYxh3mhQR5"
   },
   "outputs": [],
   "source": []
  },
  {
   "cell_type": "markdown",
   "metadata": {
    "id": "yhXqHzT6dFXF"
   },
   "source": [
    "### 3.3  Repoduzca los siguientes scatter (plt.scatter)\n",
    "\n",
    "hint: Use np.random.normal para crear dos distribuciones normales, con difernte media y varianza para ser usadas como coordenadas del gráfico<br>\n",
    "<!-- <img src='https://drive.google.com/uc?id=12pMDUlFCEaCHK8pDAnV6itfqppH9H9fP'> -->\n",
    "\n",
    "![](./data/3_3.png)"
   ]
  },
  {
   "cell_type": "code",
   "execution_count": null,
   "metadata": {
    "id": "v2NXGf5dhPjB"
   },
   "outputs": [],
   "source": []
  },
  {
   "cell_type": "markdown",
   "metadata": {
    "id": "F_PXSAKjdFXG"
   },
   "source": [
    "### 3.4  Repoduzca los siguientes scatter (plt.scatter)\n",
    "\n",
    "hint: Use el parametro alpha que modela cuan transparante es cada punto.<br>\n",
    "<!-- <img src='https://drive.google.com/uc?id=1jX1ic1AfrRaHJllz-7CwKsoV_9Geri5N'> -->\n",
    "\n",
    "![](./data/3_4.png)"
   ]
  },
  {
   "cell_type": "code",
   "execution_count": null,
   "metadata": {
    "id": "TzOah1G3hPAh"
   },
   "outputs": [],
   "source": []
  },
  {
   "cell_type": "markdown",
   "metadata": {
    "id": "UM1m0FNTdFXH"
   },
   "source": [
    "### 3.5  Repoduzca los siguientes scatter (plt.scatter)\n",
    "\n",
    "hint: Use el campo cmap para cambiar la escala de colores. En el siguiente link puede encontrar diversos motivos https://matplotlib.org/users/colormaps.html <br>\n",
    "<!-- <img src='https://drive.google.com/uc?id=1zJQSvQlCD0lCTn_oyg4mJygOx8qDT78b'> -->\n",
    "\n",
    "![](./data/3_5.png)"
   ]
  },
  {
   "cell_type": "code",
   "execution_count": null,
   "metadata": {
    "id": "Dw_E7RpwhOQ1"
   },
   "outputs": [],
   "source": []
  },
  {
   "cell_type": "markdown",
   "metadata": {
    "id": "0mnj9hv4dFXI"
   },
   "source": [
    "### 3.6  Repoduzca los siguientes scatter (plt.scatter)\n",
    "\n",
    "hint: El parametro \"s\" puede tomar una constante y tambien una lista/array<br>\n",
    "<!-- <img src='https://drive.google.com/uc?id=1MhI4DjR3-6JagJ91Gdxu0wORCtgGmWON'> -->\n",
    "\n",
    "![](./data/3_6.png)"
   ]
  },
  {
   "cell_type": "markdown",
   "metadata": {
    "id": "3BD6mNRWdFXJ"
   },
   "source": [
    "## 4. using Pcolor \n",
    "\n",
    "ref: https://matplotlib.org/3.2.0/api/_as_gen/matplotlib.pyplot.pcolor.html"
   ]
  },
  {
   "cell_type": "markdown",
   "metadata": {
    "id": "6ObM7p2NdFXO"
   },
   "source": [
    "### 4.1  Repoduzca los siguientes pcolor (plt.pcolor)\n",
    "\n",
    "hint: Puede usar nuevamente np.random.normal para crear distribuciones en tantas dimensiones como quiera. Visualice la escala de colores con \"colorbar\" <br>\n",
    "<!-- <img src='https://drive.google.com/uc?id=1fujmORhGJstsjBwGwUbUrZ-QLE5fGVTF'> -->\n",
    "\n",
    "![](./data/4_1.png)"
   ]
  },
  {
   "cell_type": "code",
   "execution_count": null,
   "metadata": {
    "id": "8w5MjZrLhMqD"
   },
   "outputs": [],
   "source": []
  },
  {
   "cell_type": "markdown",
   "metadata": {
    "id": "R9xc5U-XdFXQ"
   },
   "source": [
    "### 4.2  Repoduzca los siguientes pcolor (plt.pcolor)\n",
    "\n",
    "<!-- <img src='https://drive.google.com/uc?id=1PAy7UyCbV6w4BElaE47A2Ckca__KEvL4'> -->\n",
    "\n",
    "![](./data/4_2.png)"
   ]
  },
  {
   "cell_type": "code",
   "execution_count": null,
   "metadata": {
    "id": "8r-twp_ghL9K"
   },
   "outputs": [],
   "source": []
  },
  {
   "cell_type": "markdown",
   "metadata": {
    "id": "5AJt6SX-dFXR"
   },
   "source": [
    "### 4.3  Repoduzca los siguientes pcolor (plt.pcolor)\n",
    "\n",
    "<!-- <img src='https://drive.google.com/uc?id=1OrAU70BAeLqZY6Cla5cINQyascqF2Z19'> -->\n",
    "\n",
    "![](./data/4_3.png)"
   ]
  },
  {
   "cell_type": "code",
   "execution_count": null,
   "metadata": {
    "id": "MPiDdzQ-hLA0"
   },
   "outputs": [],
   "source": []
  },
  {
   "cell_type": "markdown",
   "metadata": {
    "id": "qb4cZRqDdFXS"
   },
   "source": [
    "### 4.4  Repoduzca los siguientes pcolor (plt.pcolor)\n",
    "\n",
    "hint: Cree una matriz como la del ejercicio anterior y luego sumele \"ruido\" es decir numeros random con menor magnitud <br>\n",
    "<!-- <img src='https://drive.google.com/uc?id=1fkk9hryYtHCIX5YSQlkytHxhUZkxeE3Y'> -->\n",
    "\n",
    "![](./data/4_4.png)"
   ]
  },
  {
   "cell_type": "code",
   "execution_count": null,
   "metadata": {
    "id": "uVTHpxsqhJpo"
   },
   "outputs": [],
   "source": []
  },
  {
   "cell_type": "markdown",
   "metadata": {
    "id": "DFwgk9G6dFXT"
   },
   "source": [
    "#### 4.5  Repoduzca los siguientes pcolor (plt.pcolor)\n",
    "\n",
    "hint: use subplots (https://matplotlib.org/api/_as_gen/matplotlib.pyplot.subplots.html) y visualice en una sola figura todas las figuras anteriores<br>\n",
    "\n",
    "<!-- <img src='https://drive.google.com/uc?id=1w9mvTIL0HjHlRVgAVTYh5RkZS7_RlstK'> -->\n",
    "\n",
    "![](./data/4_5.png)"
   ]
  },
  {
   "cell_type": "code",
   "execution_count": null,
   "metadata": {
    "id": "4PO4wDSkhKTH"
   },
   "outputs": [],
   "source": []
  },
  {
   "cell_type": "markdown",
   "metadata": {
    "id": "UIA8RjhEdFXU"
   },
   "source": [
    "## 5 Gráficas utilizando datos de un dataframe\n",
    "\n",
    "Para esta parte vamos a utilizar el dataset que está en `./data/drinks.csv`.\n",
    "También lo puede encontrar en este [link de kaggle](https://www.kaggle.com/datasets/mysarahmadbhat/alcohol-consumption)."
   ]
  },
  {
   "cell_type": "code",
   "execution_count": null,
   "metadata": {
    "id": "PMiXTheBhIyV"
   },
   "outputs": [],
   "source": []
  },
  {
   "cell_type": "markdown",
   "metadata": {
    "id": "Y8V0tKKUdFXV"
   },
   "source": [
    "### 5.1 Visualice las diferntes distribuciones utilizando plt.hist\n",
    "\n",
    "Visualice las diferntes distribuciones de cada tipo de bebida usando histogramas (plt.hist), experimentando con diferentes valores de bins. Piense como el cambio de bins puede afectar las conclusiones que transmiten las figuras (pruebe valores de bins fijos, rangos, etc)\n",
    "\n",
    "ref: https://matplotlib.org/3.2.0/api/_as_gen/matplotlib.pyplot.hist.html"
   ]
  },
  {
   "cell_type": "code",
   "execution_count": null,
   "metadata": {
    "id": "bRTeUsd7hIZd"
   },
   "outputs": [],
   "source": []
  },
  {
   "cell_type": "markdown",
   "metadata": {
    "id": "_Vtku_CWdFXW"
   },
   "source": [
    "### 5.2 Agrupe por continente y visualice con barras las medias de cada bebida (plt.bar).\n",
    "\n",
    "Tambien sumele el desvio standard como medida de dispersion/error. Por ejemplo, para cerveza, deberia verse asi:\n",
    "\n",
    "<!-- <img src='https://drive.google.com/uc?id=1dDGS9L3IgK-rnLK7L91PDiEpK9ujQB6p'> -->\n",
    "\n",
    "![](./data/5_2.png)\n",
    "\n",
    "Pruebe armar subplots para mostrar todas las bebidas en una misma figura. Tambien experimento con la version horizonal de bar (plt.barh)\n",
    "\n",
    "ref: https://matplotlib.org/3.2.0/api/_as_gen/matplotlib.pyplot.bar.html?highlight=bar#matplotlib.pyplot.bar"
   ]
  },
  {
   "cell_type": "code",
   "execution_count": null,
   "metadata": {
    "id": "SgarXC-EhHQe"
   },
   "outputs": [],
   "source": []
  },
  {
   "cell_type": "markdown",
   "metadata": {
    "id": "69qN8IxsdFXX"
   },
   "source": [
    "### 5.3 Reporte las distribuciones anteriores, pero en lugar de mostrar solo la media y el desvio standard use boxplots (plt.boxplot). ¿Qué vengajas y desventajas tiene?"
   ]
  },
  {
   "cell_type": "code",
   "execution_count": null,
   "metadata": {
    "id": "ZWWH3m43hHkZ"
   },
   "outputs": [],
   "source": []
  },
  {
   "cell_type": "markdown",
   "metadata": {
    "id": "a7IFTouqdFXY"
   },
   "source": [
    "## 6. Seaborn\n"
   ]
  },
  {
   "cell_type": "markdown",
   "metadata": {
    "id": "CnMraa8vhFXM"
   },
   "source": [
    "### 6.0 Importar la librería seaborn y cargar el set de datos de `penguins`\n",
    "\n",
    "Para cargar el data set utilizar `sns.load_dataset('penguins')`."
   ]
  },
  {
   "cell_type": "code",
   "execution_count": 9,
   "metadata": {
    "id": "CnMraa8vhFXM"
   },
   "outputs": [],
   "source": []
  },
  {
   "cell_type": "markdown",
   "metadata": {
    "id": "CnMraa8vhFXM"
   },
   "source": [
    "### 6.1 Use jointplot para visualizar la distribución conjunta de las variables `bill_length_mm` y `bill_depth_mm`.\n",
    "\n",
    "Utilice este comando `sns.jointplot(data=penguins, x=\"bill_length_mm\", y=\"bill_depth_mm\")`.\n",
    "\n",
    "Ver documentación [aquí](https://seaborn.pydata.org/generated/seaborn.jointplot.html)."
   ]
  },
  {
   "cell_type": "code",
   "execution_count": null,
   "metadata": {},
   "outputs": [],
   "source": []
  },
  {
   "cell_type": "markdown",
   "metadata": {
    "id": "CnMraa8vhFXM"
   },
   "source": [
    "### 6.2 Separe las distribuciones de acuerdo a las especies utilizando el parámetro `hue=...`\n",
    "\n",
    "Utilizar `sns.jointplot(..., hue='species')`."
   ]
  },
  {
   "cell_type": "code",
   "execution_count": null,
   "metadata": {},
   "outputs": [],
   "source": []
  },
  {
   "cell_type": "markdown",
   "metadata": {
    "id": "CnMraa8vhFXM"
   },
   "source": [
    "### 6.3 Cambie el parámetro `kind=...`\n",
    "\n",
    "Ver documentación para conocer los posibles valores que puede tomar, por ejemplo `\"hex\"`."
   ]
  },
  {
   "cell_type": "code",
   "execution_count": null,
   "metadata": {},
   "outputs": [],
   "source": []
  },
  {
   "cell_type": "markdown",
   "metadata": {
    "id": "CnMraa8vhFXM"
   },
   "source": [
    "### 6.4 Utilice la función `pairplot` para graficar las ditribuciones conjuntas de todas las variables.\n",
    "\n",
    "Alcanza con pasarle únicamente el parámetro `data=penguins`.\n",
    "\n",
    "Ver documentación [aquí](https://seaborn.pydata.org/generated/seaborn.pairplot.html)."
   ]
  },
  {
   "cell_type": "code",
   "execution_count": null,
   "metadata": {},
   "outputs": [],
   "source": []
  },
  {
   "cell_type": "markdown",
   "metadata": {
    "id": "CnMraa8vhFXM"
   },
   "source": [
    "### 6.5 Explorar la función `pairplot`\n",
    "\n",
    "Modificar al menos los parámetros `hue=...`, `kind=...` y `diag_kind`."
   ]
  },
  {
   "cell_type": "code",
   "execution_count": null,
   "metadata": {
    "id": "YGCdQtHBhFK_"
   },
   "outputs": [],
   "source": []
  }
 ],
 "metadata": {
  "colab": {
   "collapsed_sections": [],
   "name": "AdA_03_Plots_Basics.ipynb",
   "provenance": [],
   "toc_visible": true
  },
  "kernelspec": {
   "display_name": "Python 3 (ipykernel)",
   "language": "python",
   "name": "python3"
  },
  "language_info": {
   "codemirror_mode": {
    "name": "ipython",
    "version": 3
   },
   "file_extension": ".py",
   "mimetype": "text/x-python",
   "name": "python",
   "nbconvert_exporter": "python",
   "pygments_lexer": "ipython3",
   "version": "3.12.2"
  }
 },
 "nbformat": 4,
 "nbformat_minor": 4
}
