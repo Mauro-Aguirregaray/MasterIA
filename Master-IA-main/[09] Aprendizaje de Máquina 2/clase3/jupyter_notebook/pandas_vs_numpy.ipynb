{
 "cells": [
  {
   "cell_type": "code",
   "execution_count": 1,
   "id": "initial_id",
   "metadata": {
    "collapsed": true,
    "ExecuteTime": {
     "end_time": "2024-03-16T04:25:25.705563Z",
     "start_time": "2024-03-16T04:25:25.322601Z"
    }
   },
   "outputs": [],
   "source": [
    "import pandas as pd"
   ]
  },
  {
   "cell_type": "markdown",
   "source": [
    "# Numpy vs Pandas\n",
    "\n",
    "Un punto al que mucha gente no presta atención, lo que lleva a un mal uso de pandas, es que esta biblioteca está construida en torno al formato de columnas.\n",
    "\n",
    "**Pandas** se basa en `DataFrame`, un concepto inspirado en el Data Frame de **R**, que es una columna principal. Un `DataFrame` es una tabla bidimensional con filas y columnas.\n",
    "\n",
    "En **NumPy**, se puede especificar el orden principal. Cuando se crea un `ndarray`, es de fila principal de forma predeterminada si no especifica el orden. Dado que Pandas usa por detras a NumPy, a veces se comete el error de tratar `DataFrame` de la misma manera que lo harían con `ndarray`, por ejemplo, intentando acceder a los datos por filas, generando que el procesamiento es lento."
   ],
   "metadata": {
    "collapsed": false
   },
   "id": "e6ec31fa06a88f0"
  },
  {
   "cell_type": "code",
   "outputs": [],
   "source": [
    "df_wine = pd.read_csv(\"./winequality-red.csv\")"
   ],
   "metadata": {
    "collapsed": false,
    "ExecuteTime": {
     "end_time": "2024-03-16T04:25:25.822653Z",
     "start_time": "2024-03-16T04:25:25.817960Z"
    }
   },
   "id": "fbd58eff6a1d974b",
   "execution_count": 2
  },
  {
   "cell_type": "markdown",
   "source": [
    "En la siguientes celdas, se puede ver que acceder a un `DataFrame` por fila es mucho más lento que acceder al mismo `DataFrame` por columna.\n"
   ],
   "metadata": {
    "collapsed": false
   },
   "id": "192bc8ce35e99c60"
  },
  {
   "cell_type": "code",
   "outputs": [
    {
     "name": "stdout",
     "output_type": "stream",
     "text": [
      "685 µs ± 26.1 µs per loop (mean ± std. dev. of 7 runs, 1,000 loops each)\n"
     ]
    }
   ],
   "source": [
    "%%timeit\n",
    "# Iterando un DataFrame por columna\n",
    "for col in df_wine.columns:\n",
    "    for item in df_wine[col]:\n",
    "        pass"
   ],
   "metadata": {
    "collapsed": false,
    "ExecuteTime": {
     "end_time": "2024-03-16T04:25:32.014790Z",
     "start_time": "2024-03-16T04:25:26.465526Z"
    }
   },
   "id": "fa3672f933fd0604",
   "execution_count": 3
  },
  {
   "cell_type": "code",
   "outputs": [
    {
     "name": "stdout",
     "output_type": "stream",
     "text": [
      "24.7 ms ± 985 µs per loop (mean ± std. dev. of 7 runs, 10 loops each)\n"
     ]
    }
   ],
   "source": [
    "%%timeit\n",
    "# Iterando un DataFrame por fila\n",
    "n_rows = len(df_wine)\n",
    "for i in range(n_rows):\n",
    "    for item in df_wine.iloc[i]:\n",
    "        pass"
   ],
   "metadata": {
    "collapsed": false,
    "ExecuteTime": {
     "end_time": "2024-03-16T04:25:34.018909Z",
     "start_time": "2024-03-16T04:25:32.015938Z"
    }
   },
   "id": "e8a1f802b1072e04",
   "execution_count": 4
  },
  {
   "cell_type": "code",
   "outputs": [
    {
     "name": "stdout",
     "output_type": "stream",
     "text": [
      "Hacer una iteración por fila lleva un 3631.3432835820895 % mas lento que por columna\n"
     ]
    }
   ],
   "source": [
    "time_col = 670 / 1000\n",
    "time_row = 25\n",
    "print(\"Hacer una iteración por fila lleva un\", (time_row-time_col) * 100 / time_col, \"% mas lento que por columna\")"
   ],
   "metadata": {
    "collapsed": false,
    "ExecuteTime": {
     "end_time": "2024-03-16T04:25:34.021782Z",
     "start_time": "2024-03-16T04:25:34.019706Z"
    }
   },
   "id": "1836266213d96668",
   "execution_count": 5
  },
  {
   "cell_type": "markdown",
   "source": [
    " Si se convierte este mismo `DataFrame` a un NumPy `ndarray`, acceder a una fila se vuelve mucho más rápido, como vemos en las siguientes celdas:"
   ],
   "metadata": {
    "collapsed": false
   },
   "id": "452bb6fe51c9fa94"
  },
  {
   "cell_type": "code",
   "outputs": [],
   "source": [
    "array_wine = df_wine.to_numpy()\n",
    "n_rows, n_cols = array_wine.shape"
   ],
   "metadata": {
    "collapsed": false,
    "ExecuteTime": {
     "end_time": "2024-03-16T04:25:34.025806Z",
     "start_time": "2024-03-16T04:25:34.023336Z"
    }
   },
   "id": "5f648ebf3fefea83",
   "execution_count": 6
  },
  {
   "cell_type": "code",
   "outputs": [
    {
     "name": "stdout",
     "output_type": "stream",
     "text": [
      "407 µs ± 5.73 µs per loop (mean ± std. dev. of 7 runs, 1,000 loops each)\n"
     ]
    }
   ],
   "source": [
    "%%timeit\n",
    "# Iterando un DataFrame por columna\n",
    "for j in range(n_cols):\n",
    "    for item in array_wine[:, j]:\n",
    "        pass"
   ],
   "metadata": {
    "collapsed": false,
    "ExecuteTime": {
     "end_time": "2024-03-16T04:25:37.318933Z",
     "start_time": "2024-03-16T04:25:34.026697Z"
    }
   },
   "id": "9ba093a5ce5ac659",
   "execution_count": 7
  },
  {
   "cell_type": "code",
   "outputs": [
    {
     "name": "stdout",
     "output_type": "stream",
     "text": [
      "903 µs ± 39.3 µs per loop (mean ± std. dev. of 7 runs, 1,000 loops each)\n"
     ]
    }
   ],
   "source": [
    "%%timeit\n",
    "# Iterando un DataFrame por fila\n",
    "for i in range(n_rows):\n",
    "    for item in array_wine[i]:\n",
    "        pass"
   ],
   "metadata": {
    "collapsed": false,
    "ExecuteTime": {
     "end_time": "2024-03-16T04:25:44.640174Z",
     "start_time": "2024-03-16T04:25:37.321140Z"
    }
   },
   "id": "381cae4596911edd",
   "execution_count": 8
  },
  {
   "cell_type": "code",
   "outputs": [
    {
     "name": "stdout",
     "output_type": "stream",
     "text": [
      "Hacer una iteración por fila lleva un 121.32352941176471 % mas lento que por columna\n"
     ]
    }
   ],
   "source": [
    "time_col = 408\n",
    "time_row = 903\n",
    "print(\"Hacer una iteración por fila lleva un\", (time_row-time_col) * 100 / time_col, \"% mas lento que por columna\")"
   ],
   "metadata": {
    "collapsed": false,
    "ExecuteTime": {
     "end_time": "2024-03-16T04:25:44.642970Z",
     "start_time": "2024-03-16T04:25:44.640957Z"
    }
   },
   "id": "60ed5b59ba4cc47e",
   "execution_count": 9
  },
  {
   "cell_type": "markdown",
   "source": [
    "----\n",
    "\n",
    "## CSV vs Parquet\n",
    "\n",
    "Cuando se almacena en formato CSV, el archivo de wine ocupa 101 KB. Pero cuando se almacena en Parquet, el mismo archivo ocupa 34 KB."
   ],
   "metadata": {
    "collapsed": false
   },
   "id": "fb69c01da2bbdbd2"
  },
  {
   "cell_type": "code",
   "outputs": [],
   "source": [
    "import os\n",
    "csv_size = os.path.getsize(\"./winequality-red.csv\")\n",
    "parquet_size = os.path.getsize(\"./winequality-red.parquet\")"
   ],
   "metadata": {
    "collapsed": false,
    "ExecuteTime": {
     "end_time": "2024-03-16T04:25:44.647135Z",
     "start_time": "2024-03-16T04:25:44.644207Z"
    }
   },
   "id": "7ba50eff0245b395",
   "execution_count": 10
  },
  {
   "cell_type": "code",
   "outputs": [
    {
     "name": "stdout",
     "output_type": "stream",
     "text": [
      "El tamaño del CSV es 100951 Bytes\n",
      "El tamaño del parquet es 34359 Bytes\n",
      "El tamaño del parquet es un 65.96467593188775 % mas chico que el csv\n"
     ]
    }
   ],
   "source": [
    "print(\"El tamaño del CSV es\", csv_size, \"Bytes\")\n",
    "print(\"El tamaño del parquet es\", parquet_size, \"Bytes\")\n",
    "print(\"El tamaño del parquet es un\", (csv_size-parquet_size) * 100 / csv_size, \"% mas chico que el csv\")"
   ],
   "metadata": {
    "collapsed": false,
    "ExecuteTime": {
     "end_time": "2024-03-16T04:25:44.649979Z",
     "start_time": "2024-03-16T04:25:44.647832Z"
    }
   },
   "id": "c845660a82cccc95",
   "execution_count": 11
  }
 ],
 "metadata": {
  "kernelspec": {
   "display_name": "Python 3",
   "language": "python",
   "name": "python3"
  },
  "language_info": {
   "codemirror_mode": {
    "name": "ipython",
    "version": 2
   },
   "file_extension": ".py",
   "mimetype": "text/x-python",
   "name": "python",
   "nbconvert_exporter": "python",
   "pygments_lexer": "ipython2",
   "version": "2.7.6"
  }
 },
 "nbformat": 4,
 "nbformat_minor": 5
}
