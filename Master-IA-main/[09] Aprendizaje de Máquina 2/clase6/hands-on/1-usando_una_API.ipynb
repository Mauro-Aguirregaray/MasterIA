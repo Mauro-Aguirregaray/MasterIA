{
 "cells": [
  {
   "cell_type": "code",
   "execution_count": 1,
   "id": "initial_id",
   "metadata": {
    "ExecuteTime": {
     "end_time": "2024-04-06T14:47:28.191749Z",
     "start_time": "2024-04-06T14:47:28.151392Z"
    }
   },
   "outputs": [],
   "source": [
    "import requests\n",
    "from IPython.display import display"
   ]
  },
  {
   "cell_type": "markdown",
   "id": "fa2f52ed1070295b",
   "metadata": {
    "collapsed": false,
    "jupyter": {
     "outputs_hidden": false
    }
   },
   "source": [
    "# Llamando a APIs usando Python\n",
    "### Aprendizaje Automático II - CEIA - FIUBA \n",
    "\n",
    "Para este hand-on, nos basaremos en este [articulo de Real Python ](https://realpython.com/python-api/)\n",
    "\n",
    "Al consumir una API con Python, básicamente se necesita de una biblioteca: `requests`. Con ella se puede realizar la mayoría de las acciones necesarias para consumir cualquier API pública.\n",
    "\n",
    "Esta librería no viene por defecto en Python, por lo que debemos instalarla:\n",
    "\n",
    "```Bash\n",
    "python -m pip install requests\n",
    "```\n",
    "\n",
    "## Llamando a la primera API usando Python\n",
    "\n",
    "Llamemos a la primer API pública, para este caso usaremos a [Random User Generator](https://randomuser.me/):\n",
    "\n",
    "> API de Random User Generator: Esta es una  herramienta para generar datos de usuarios aleatorios. Se puede usar para generar cualquier cantidad de usuarios aleatorios y datos asociados, y también puede especificar género, nacionalidad y muchos otros filtros que pueden ser realmente útiles al probar aplicaciones o, en este caso, APIs.\n",
    "\n",
    "Todo lo que se necesita para comenzar con la API del Random User Generator es saber con qué URL llamarla. \n",
    "\n",
    "Comencemos utilizando a [https://randomuser.me/api/](https://randomuser.me/api/):"
   ]
  },
  {
   "cell_type": "code",
   "execution_count": 2,
   "id": "46c2106e5022514e",
   "metadata": {
    "ExecuteTime": {
     "end_time": "2024-04-06T00:22:19.333317Z",
     "start_time": "2024-04-06T00:22:18.922686Z"
    },
    "collapsed": false,
    "jupyter": {
     "outputs_hidden": false
    }
   },
   "outputs": [
    {
     "data": {
      "text/plain": [
       "<Response [200]>"
      ]
     },
     "execution_count": 2,
     "metadata": {},
     "output_type": "execute_result"
    }
   ],
   "source": [
    "requests.get(\"https://randomuser.me/api/\")"
   ]
  },
  {
   "cell_type": "markdown",
   "id": "6a828e20-91e3-4bad-ba7b-121fb92a2bc2",
   "metadata": {},
   "source": [
    "En este ejemplo, hacemos un GET para obtener datos de la URL para la API. Pero no estamos viendo ninguno de los datos devueltos. Lo que se obtiene es un código del estado de respuesta **200**, que en términos de API significa que todo salió bien.\n",
    "\n",
    "Si se quiere ver el contenido, podemos verlo usando el atributo `.text` del objeto devuelto:"
   ]
  },
  {
   "cell_type": "code",
   "execution_count": 3,
   "id": "7777f270159817cb",
   "metadata": {
    "ExecuteTime": {
     "end_time": "2024-04-06T00:22:35.783652Z",
     "start_time": "2024-04-06T00:22:35.414340Z"
    },
    "collapsed": false,
    "jupyter": {
     "outputs_hidden": false
    }
   },
   "outputs": [
    {
     "data": {
      "text/plain": [
       "'{\"results\":[{\"gender\":\"female\",\"name\":{\"title\":\"Miss\",\"first\":\"Jasperina\",\"last\":\"Sponselee\"},\"location\":{\"street\":{\"number\":6671,\"name\":\"Buntweg\"},\"city\":\"Hollum\",\"state\":\"Friesland\",\"country\":\"Netherlands\",\"postcode\":\"9381 UQ\",\"coordinates\":{\"latitude\":\"36.0652\",\"longitude\":\"101.4321\"},\"timezone\":{\"offset\":\"+5:00\",\"description\":\"Ekaterinburg, Islamabad, Karachi, Tashkent\"}},\"email\":\"jasperina.sponselee@example.com\",\"login\":{\"uuid\":\"6a4aa353-e196-4f5f-ba9c-dc6b3b62530e\",\"username\":\"smallswan820\",\"password\":\"marian\",\"salt\":\"eJz9w70N\",\"md5\":\"005dadbbd39fb1f97af7bd1e0b43804e\",\"sha1\":\"004ebaf8bedcab5bd6270adaa0dfdfcb3d7122ee\",\"sha256\":\"3aff7c97bcca3f57fd5ea5499b77990759b37650e242771007d6cf4bfe45107b\"},\"dob\":{\"date\":\"1967-03-30T03:43:17.467Z\",\"age\":57},\"registered\":{\"date\":\"2016-05-06T12:22:40.405Z\",\"age\":8},\"phone\":\"(074) 1320955\",\"cell\":\"(06) 15692202\",\"id\":{\"name\":\"BSN\",\"value\":\"10713992\"},\"picture\":{\"large\":\"https://randomuser.me/api/portraits/women/19.jpg\",\"medium\":\"https://randomuser.me/api/portraits/med/women/19.jpg\",\"thumbnail\":\"https://randomuser.me/api/portraits/thumb/women/19.jpg\"},\"nat\":\"NL\"}],\"info\":{\"seed\":\"74ef26ea47e07c6a\",\"results\":1,\"page\":1,\"version\":\"1.4\"}}'"
      ]
     },
     "execution_count": 3,
     "metadata": {},
     "output_type": "execute_result"
    }
   ],
   "source": [
    "response = requests.get(\"https://randomuser.me/api/\")\n",
    "\n",
    "response.text"
   ]
  },
  {
   "cell_type": "markdown",
   "id": "07da6190-17da-49fe-b6d5-aa7d65fb4478",
   "metadata": {},
   "source": [
    "### Endpoints\n",
    "\n",
    "La primera información necesaria para consumir una API es la URL de la API, generalmente denominada URL base. La estructura de la URL base no es diferente de las URL que utiliza para navegar en Google, YouTube o Facebook, aunque normalmente contiene la palabra api. Esto no es obligatorio, sólo una regla general.\n",
    "\n",
    "Si se intenta ingresar a alguna de las APIs como la de [Twitter](https://api.twitter.com), podemos ver que nos devuelve un error de autenticación. Esto se debe a que las API a veces requieren pasos de autenticación antes de poder usarlas.\n",
    "\n",
    "Para avanzar, usemos otra API fácilmente accesible [The Cat API](https://thecatapi.com/):\n",
    "\n",
    "> The Cat API: esta API es un  buen ejemplo de una API bien hecha con excelente documentación. Con esta, se puede buscar las diferentes razas de gatos y algunas imágenes.\n",
    "\n",
    "A continuación, utilizando The Cat API, realizemos una solicitud básica para ver en qué se diferencia de la API de Random User Generator:"
   ]
  },
  {
   "cell_type": "code",
   "execution_count": 4,
   "id": "67f8f5ebcf55f212",
   "metadata": {
    "collapsed": false,
    "jupyter": {
     "outputs_hidden": false
    }
   },
   "outputs": [
    {
     "data": {
      "text/plain": [
       "'{\"message\":\"The Cat API\",\"version\":\"1.3.9\"}'"
      ]
     },
     "execution_count": 4,
     "metadata": {},
     "output_type": "execute_result"
    }
   ],
   "source": [
    "response = requests.get(\"https://api.thecatapi.com/\")\n",
    "response.text"
   ]
  },
  {
   "cell_type": "markdown",
   "id": "e4804d9b-7d72-43d2-bb24-543e7d636343",
   "metadata": {},
   "source": [
    "En este caso, al llamar a la URL base, aparece un mensaje genérico que dice `\"The Cat API\"`. Esto se debe a que se está llamando a la URL base, que normalmente se usa para información muy básica sobre una API, no para datos reales.\n",
    "\n",
    "Llamar a la URL base por sí solo no es muy útil, pero ahí es donde los **endpoints** resultan útiles. Un **endpoint** es una parte de la URL que especifica qué recurso se desea obtener. Las API bien documentadas suelen contener una referencia de API, lo cual es prácticamente necesario para saber exactamente qué endpoints y recursos tiene una API y cómo usarlos. **Documenten sus APIs**\n",
    "\n",
    "The API Cat nos presenta su [documentación](https://developers.thecatapi.com/). Ahí se encuentra el endpoint `/breeds` que se puede utilizar para recuperar todos los recursos de raza disponibles."
   ]
  },
  {
   "cell_type": "code",
   "execution_count": 7,
   "id": "ddf28ff4-1483-46fa-9230-f8962c8d9f9d",
   "metadata": {},
   "outputs": [
    {
     "data": {
      "text/plain": [
       "'[{\"weight\":{\"imperial\":\"7  -  10\",\"metric\":\"3 - 5\"},\"id\":\"abys\",\"name\":\"Abyssinian\",\"cfa_url\":\"http://cfa.org/Breeds/BreedsAB/Abyssinian.aspx\",\"vetstreet_url\":\"http://www.vetstreet.com/cats/abyssinian\",\"vcahospitals_url\":\"https://vcahospitals.com/know-your-pet/cat-breeds/abyssinian\",\"temperament\":\"Active, Energetic, Independent, Intelligent, Gentle\",\"origin\":\"Egypt\",\"country_codes\":\"EG\",\"country_code\":\"EG\",\"description\":\"The Abyssinian is easy to care for, and a joy to have in your home. They’re affectionate cats and love both people and other animals.\",\"life_span\":\"14 - 15\",\"indoor\":0,\"lap\":1,\"alt_names\":\"\",\"adaptability\":5,\"affection_level\":5,\"child_friendly\":3,\"dog_friendly\":4,\"energy_level\":5,\"grooming\":1,\"health_issues\":2,\"intelligence\":5,\"shedding_level\":2,\"social_needs\":5,\"stranger_friendly\":5,\"vocalisation\":1,\"experimental\":0,\"hairless\":0,\"natural\":1,\"rare\":0,\"rex\":0,\"suppressed_tail\":0,\"short_legs\":0,\"wikipedia_url\":\"https://en.wikipedia.org/wiki/Abyssinian_(cat)\",\"hypoallergenic\":0,\"reference_image_id\":\"0XYvRd7oD\"},{\"weight\":{\"imperial\":\"7 - 10\",\"metric\":\"3 - 5\"},\"id\":\"aege\",\"name\":\"Aegean\",\"vetstreet_url\":\"http://www.vetstreet.com/cats/aegean-cat\",\"temperament\":\"Affectionate, Social, Intelligent, Playful, Active\",\"origin\":\"Greece\",\"country_codes\":\"GR\",\"country_code\":\"GR\",\"description\":\"Native to the Greek islands known as the Cyclades in the Aegean Sea, these are natural cats, meaning they developed without humans getting involved in their breeding. As a breed, Aegean Cats are rare, although they are numerous on their home islands. They are generally friendly toward people and can be excellent cats for families with children.\",\"life_span\":\"9 - 12\",\"indoor\":0,\"alt_names\":\"\",\"adaptability\":5,\"affection_level\":4,\"child_friendly\":4,\"dog_friendly\":4,\"energy_level\":3,\"grooming\":3,\"health_issues\":1,\"intelligence\":3,\"shedding_level\":3,\"social_needs\":4,\"stranger_friendly\":4,\"vocalisation\":3,\"experimental\":0,\"hairless\":0,\"natural\":0,\"rare\":0,\"rex\":0,\"suppressed_tail\":0,\"short_legs\":0,\"wikipedia_url\":\"https://en.wikipedia.org/wiki/Aegean_cat\",\"hypoallergenic\":0,\"reference_image_id\":\"ozEvzdVM-\"},{\"weight\":{\"imperial\":\"7 - 16\",\"metric\":\"3 - 7\"},\"id\":\"abob\",\"name\":\"American Bobtail\",\"cfa_url\":\"http://cfa.org/Breeds/BreedsAB/AmericanBobtail.aspx\",\"vetstreet_url\":\"http://www.vetstreet.com/cats/american-bobtail\",\"vcahospitals_url\":\"https://vcahospitals.com/know-your-pet/cat-breeds/american-bobtail\",\"temperament\":\"Intelligent, Interactive, Lively, Playful, Sensitive\",\"origin\":\"United States\",\"country_codes\":\"US\",\"country_code\":\"US\",\"description\":\"American Bobtails are loving and incredibly intelligent cats possessing a distinctive wild appearance. They are extremely interactive cats that bond with their human family with great devotion.\",\"life_span\":\"11 - 15\",\"indoor\":0,\"lap\":1,\"alt_names\":\"\",\"adaptability\":5,\"affection_level\":5,\"child_friendly\":4,\"dog_friendly\":5,\"energy_level\":3,\"grooming\":1,\"health_issues\":1,\"intelligence\":5,\"shedding_level\":3,\"social_needs\":3,\"stranger_friendly\":3,\"vocalisation\":3,\"experimental\":0,\"hairless\":0,\"natural\":0,\"rare\":0,\"rex\":0,\"suppressed_tail\":1,\"short_legs\":0,\"wikipedia_url\":\"https://en.wikipedia.org/wiki/American_Bobtail\",\"hypoallergenic\":0,\"reference_image_id\":\"hBXicehMA\"},{\"weight\":{\"imperial\":\"5 - 10\",\"metric\":\"2 - 5\"},\"id\":\"acur\",\"name\":\"American Curl\",\"cfa_url\":\"http://cfa.org/Breeds/BreedsAB/AmericanCurl.aspx\",\"vetstreet_url\":\"http://www.vetstreet.com/cats/american-curl\",\"vcahospitals_url\":\"https://vcahospitals.com/know-your-pet/cat-breeds/american-curl\",\"temperament\":\"Affectionate, Curious, Intelligent, Interactive, Lively, Playful, Social\",\"origin\":\"United States\",\"country_codes\":\"US\",\"country_code\":\"US\",\"description\":\"Distinguished by truly unique ears that curl back in a graceful arc, offering an alert, perky, happily surprised expression, they cause people to break out into a big smile when viewing their first Curl. Curls are very people-oriented, faithful, affectionate soulmates, adjusting remarkably fast to other pets, children, and new situations.\",\"life_span\":\"12 - 16\",\"indoor\":0,\"lap\":1,\"alt_names\":\"\",\"adaptability\":5,\"affection_level\":5,\"child_friendly\":4,\"dog_friendly\":5,\"energy_level\":3,\"grooming\":2,\"health_issues\":1,\"intelligence\":3,\"shedding_level\":3,\"social_needs\":3,\"stranger_friendly\":3,\"vocalisation\":3,\"experimental\":0,\"hairless\":0,\"natural\":0,\"rare\":0,\"rex\":0,\"suppressed_tail\":0,\"short_legs\":0,\"wikipedia_url\":\"https://en.wikipedia.org/wiki/American_Curl\",\"hypoallergenic\":0,\"reference_image_id\":\"xnsqonbjW\"},{\"weight\":{\"imperial\":\"8 - 15\",\"metric\":\"4 - 7\"},\"id\":\"asho\",\"name\":\"American Shorthair\",\"cfa_url\":\"http://cfa.org/Breeds/BreedsAB/AmericanShorthair.aspx\",\"vetstreet_url\":\"http://www.vetstreet.com/cats/american-shorthair\",\"vcahospitals_url\":\"https://vcahospitals.com/know-your-pet/cat-breeds/american-shorthair\",\"temperament\":\"Active, Curious, Easy Going, Playful, Calm\",\"origin\":\"United States\",\"country_codes\":\"US\",\"country_code\":\"US\",\"description\":\"The American Shorthair is known for its longevity, robust health, good looks, sweet personality, and amiability with children, dogs, and other pets.\",\"life_span\":\"15 - 17\",\"indoor\":0,\"lap\":1,\"alt_names\":\"Domestic Shorthair\",\"adaptability\":5,\"affection_level\":5,\"child_friendly\":4,\"dog_friendly\":5,\"energy_level\":3,\"grooming\":1,\"health_issues\":3,\"intelligence\":3,\"shedding_level\":3,\"social_needs\":4,\"stranger_friendly\":3,\"vocalisation\":3,\"experimental\":0,\"hairless\":0,\"natural\":1,\"rare\":0,\"rex\":0,\"suppressed_tail\":0,\"short_legs\":0,\"wikipedia_url\":\"https://en.wikipedia.org/wiki/American_Shorthair\",\"hypoallergenic\":0,\"reference_image_id\":\"JFPROfGtQ\"},{\"weight\":{\"imperial\":\"8 - 15\",\"metric\":\"4 - 7\"},\"id\":\"awir\",\"name\":\"American Wirehair\",\"cfa_url\":\"http://cfa.org/Breeds/BreedsAB/AmericanWirehair.aspx\",\"vetstreet_url\":\"http://www.vetstreet.com/cats/american-wirehair\",\"temperament\":\"Affectionate, Curious, Gentle, Intelligent, Interactive, Lively, Loyal, Playful, Sensible, Social\",\"origin\":\"United States\",\"country_codes\":\"US\",\"country_code\":\"US\",\"description\":\"The American Wirehair tends to be a calm and tolerant cat who takes life as it comes. His favorite hobby is bird-watching from a sunny windowsill, and his hunting ability will stand you in good stead if insects enter the house.\",\"life_span\":\"14 - 18\",\"indoor\":0,\"lap\":1,\"alt_names\":\"\",\"adaptability\":5,\"affection_level\":5,\"child_friendly\":4,\"dog_friendly\":5,\"energy_level\":3,\"grooming\":1,\"health_issues\":3,\"intelligence\":3,\"shedding_level\":1,\"social_needs\":3,\"stranger_friendly\":3,\"vocalisation\":3,\"experimental\":0,\"hairless\":0,\"natural\":0,\"rare\":0,\"rex\":0,\"suppressed_tail\":0,\"short_legs\":0,\"wikipedia_url\":\"https://en.wikipedia.org/wiki/American_Wirehair\",\"hypoallergenic\":0,\"reference_image_id\":\"8D--jCd21\"},{\"weight\":{\"imperial\":\"8 - 16\",\"metric\":\"4 - 7\"},\"id\":\"amau\",\"name\":\"Arabian Mau\",\"vcahospitals_url\":\"\",\"temperament\":\"Affectionate, Agile, Curious, Independent, Playful, Loyal\",\"origin\":\"United Arab Emirates\",\"country_codes\":\"AE\",\"country_code\":\"AE\",\"description\":\"Arabian Mau cats are social and energetic. Due to their energy levels, these cats do best in homes where their owners will be able to provide them with plenty of playtime, attention and interaction from their owners. These kitties are friendly, intelligent, and adaptable, and will even get along well with other pets and children.\",\"life_span\":\"12 - 14\",\"indoor\":0,\"alt_names\":\"Alley cat\",\"adaptability\":5,\"affection_level\":5,\"child_friendly\":4,\"dog_friendly\":5,\"energy_level\":4,\"grooming\":1,\"health_issues\":1,\"intelligence\":3,\"shedding_level\":1,\"social_needs\":3,\"stranger_friendly\":3,\"vocalisation\":1,\"experimental\":0,\"hairless\":0,\"natural\":1,\"rare\":0,\"rex\":0,\"suppressed_tail\":0,\"short_legs\":0,\"wikipedia_url\":\"https://en.wikipedia.org/wiki/Arabian_Mau\",\"hypoallergenic\":0,\"reference_image_id\":\"k71ULYfRr\"},{\"weight\":{\"imperial\":\"7 - 15\",\"metric\":\"3 - 7\"},\"id\":\"amis\",\"name\":\"Australian Mist\",\"temperament\":\"Lively, Social, Fun-loving, Relaxed, Affectionate\",\"origin\":\"Australia\",\"country_codes\":\"AU\",\"country_code\":\"AU\",\"description\":\"The Australian Mist thrives on human companionship. Tolerant of even the youngest of children, these friendly felines enjoy playing games and being part of the hustle and bustle of a busy household. They make entertaining companions for people of all ages, and are happy to remain indoors between dusk and dawn or to be wholly indoor pets.\",\"life_span\":\"12 - 16\",\"indoor\":0,\"lap\":1,\"alt_names\":\"Spotted Mist\",\"adaptability\":5,\"affection_level\":5,\"child_friendly\":4,\"dog_friendly\":5,\"energy_level\":4,\"grooming\":3,\"health_issues\":1,\"intelligence\":4,\"shedding_level\":3,\"social_needs\":4,\"stranger_friendly\":4,\"vocalisation\":3,\"experimental\":0,\"hairless\":0,\"natural\":0,\"rare\":0,\"rex\":0,\"suppressed_tail\":0,\"short_legs\":0,\"wikipedia_url\":\"https://en.wikipedia.org/wiki/Australian_Mist\",\"hypoallergenic\":0,\"reference_image_id\":\"_6x-3TiCA\"},{\"weight\":{\"imperial\":\"4 - 10\",\"metric\":\"2 - 5\"},\"id\":\"bali\",\"name\":\"Balinese\",\"cfa_url\":\"http://cfa.org/Breeds/BreedsAB/Balinese.aspx\",\"vetstreet_url\":\"http://www.vetstreet.com/cats/balinese\",\"vcahospitals_url\":\"https://vcahospitals.com/know-your-pet/cat-breeds/balinese\",\"temperament\":\"Affectionate, Intelligent, Playful\",\"origin\":\"United States\",\"country_codes\":\"US\",\"country_code\":\"US\",\"description\":\"Balinese are curious, outgoing, intelligent cats with excellent communication skills. They are known for their chatty personalities and are always eager to tell you their views on life, love, and what you’ve served them for dinner. \",\"life_span\":\"10 - 15\",\"indoor\":0,\"alt_names\":\"Long-haired Siamese\",\"adaptability\":5,\"affection_level\":5,\"child_friendly\":4,\"dog_friendly\":5,\"energy_level\":5,\"grooming\":3,\"health_issues\":3,\"intelligence\":5,\"shedding_level\":3,\"social_needs\":5,\"stranger_friendly\":5,\"vocalisation\":5,\"experimental\":0,\"hairless\":0,\"natural\":0,\"rare\":0,\"rex\":0,\"suppressed_tail\":0,\"short_legs\":0,\"wikipedia_url\":\"https://en.wikipedia.org/wiki/Balinese_(cat)\",\"hypoallergenic\":1,\"reference_image_id\":\"13MkvUreZ\"},{\"weight\":{\"imperial\":\"4 - 9\",\"metric\":\"2 - 4\"},\"id\":\"bamb\",\"name\":\"Bambino\",\"temperament\":\"Affectionate, Lively, Friendly, Intelligent\",\"origin\":\"United States\",\"country_codes\":\"US\",\"country_code\":\"US\",\"description\":\"The Bambino is a breed of cat that was created as a cross between the Sphynx and the Munchkin breeds. The Bambino cat has short legs, large upright ears, and is usually hairless. They love to be handled and cuddled up on the laps of their family members.\",\"life_span\":\"12 - 14\",\"indoor\":0,\"lap\":1,\"alt_names\":\"\",\"adaptability\":5,\"affection_level\":5,\"child_friendly\":4,\"dog_friendly\":5,\"energy_level\":5,\"grooming\":1,\"health_issues\":1,\"intelligence\":5,\"shedding_level\":1,\"social_needs\":3,\"stranger_friendly\":3,\"vocalisation\":3,\"experimental\":1,\"hairless\":1,\"natural\":0,\"rare\":0,\"rex\":0,\"suppressed_tail\":0,\"short_legs\":1,\"wikipedia_url\":\"https://en.wikipedia.org/wiki/Bambino_cat\",\"hypoallergenic\":0,\"reference_image_id\":\"5AdhMjeEu\"},{\"weight\":{\"imperial\":\"6 - 12\",\"metric\":\"3 - 7\"},\"id\":\"beng\",\"name\":\"Bengal\",\"cfa_url\":\"http://cfa.org/Breeds/BreedsAB/Bengal.aspx\",\"vetstreet_url\":\"http://www.vetstreet.com/cats/bengal\",\"vcahospitals_url\":\"https://vcahospitals.com/know-your-pet/cat-breeds/bengal\",\"temperament\":\"Alert, Agile, Energetic, Demanding, Intelligent\",\"origin\":\"United States\",\"country_codes\":\"US\",\"country_code\":\"US\",\"description\":\"Bengals are a lot of fun to live with, but they\\'re definitely not the cat for everyone, or for first-time cat owners. Extremely intelligent, curious and active, they demand a lot of interaction and woe betide the owner who doesn\\'t provide it.\",\"life_span\":\"12 - 15\",\"indoor\":0,\"lap\":0,\"adaptability\":5,\"affection_level\":5,\"child_friendly\":4,\"cat_friendly\":4,\"dog_friendly\":5,\"energy_level\":5,\"grooming\":1,\"health_issues\":3,\"intelligence\":5,\"shedding_level\":3,\"social_needs\":5,\"stranger_friendly\":3,\"vocalisation\":5,\"bidability\":3,\"experimental\":0,\"hairless\":0,\"natural\":0,\"rare\":0,\"rex\":0,\"suppressed_tail\":0,\"short_legs\":0,\"wikipedia_url\":\"https://en.wikipedia.org/wiki/Bengal_(cat)\",\"hypoallergenic\":1,\"reference_image_id\":\"O3btzLlsO\"},{\"weight\":{\"imperial\":\"6 - 15\",\"metric\":\"3 - 7\"},\"id\":\"birm\",\"name\":\"Birman\",\"cfa_url\":\"http://cfa.org/Breeds/BreedsAB/Birman.aspx\",\"vetstreet_url\":\"http://www.vetstreet.com/cats/birman\",\"vcahospitals_url\":\"https://vcahospitals.com/know-your-pet/cat-breeds/birman\",\"temperament\":\"Affectionate, Active, Gentle, Social\",\"origin\":\"France\",\"country_codes\":\"FR\",\"country_code\":\"FR\",\"description\":\"The Birman is a docile, quiet cat who loves people and will follow them from room to room. Expect the Birman to want to be involved in what you’re doing. He communicates in a soft voice, mainly to remind you that perhaps it’s time for dinner or maybe for a nice cuddle on the sofa. He enjoys being held and will relax in your arms like a furry baby.\",\"life_span\":\"14 - 15\",\"indoor\":0,\"lap\":1,\"alt_names\":\"Sacred Birman, Sacred Cat Of Burma\",\"adaptability\":5,\"affection_level\":5,\"child_friendly\":4,\"dog_friendly\":5,\"energy_level\":3,\"grooming\":2,\"health_issues\":1,\"intelligence\":3,\"shedding_level\":3,\"social_needs\":4,\"stranger_friendly\":3,\"vocalisation\":1,\"experimental\":0,\"hairless\":0,\"natural\":0,\"rare\":0,\"rex\":0,\"suppressed_tail\":0,\"short_legs\":0,\"wikipedia_url\":\"https://en.wikipedia.org/wiki/Birman\",\"hypoallergenic\":0,\"reference_image_id\":\"HOrX5gwLS\"},{\"weight\":{\"imperial\":\"6 - 11\",\"metric\":\"3 - 5\"},\"id\":\"bomb\",\"name\":\"Bombay\",\"cfa_url\":\"http://cfa.org/Breeds/BreedsAB/Bombay.aspx\",\"vetstreet_url\":\"http://www.vetstreet.com/cats/bombay\",\"vcahospitals_url\":\"https://vcahospitals.com/know-your-pet/cat-breeds/bombay\",\"temperament\":\"Affectionate, Dependent, Gentle, Intelligent, Playful\",\"origin\":\"United States\",\"country_codes\":\"US\",\"country_code\":\"US\",\"description\":\"The the golden eyes and the shiny black coa of the Bopmbay is absolutely striking. Likely to bond most with one family member, the Bombay will follow you from room to room and will almost always have something to say about what you are doing, loving attention and to be carried around, often on his caregiver\\'s shoulder.\",\"life_span\":\"12 - 16\",\"indoor\":0,\"lap\":1,\"alt_names\":\"Small black Panther\",\"adaptability\":5,\"affection_level\":5,\"child_friendly\":4,\"dog_friendly\":5,\"energy_level\":3,\"grooming\":1,\"health_issues\":3,\"intelligence\":5,\"shedding_level\":3,\"social_needs\":4,\"stranger_friendly\":4,\"vocalisation\":5,\"experimental\":0,\"hairless\":0,\"natural\":0,\"rare\":0,\"rex\":0,\"suppressed_tail\":0,\"short_legs\":0,\"wikipedia_url\":\"https://en.wikipedia.org/wiki/Bombay_(cat)\",\"hypoallergenic\":0,\"reference_image_id\":\"5iYq9NmT1\"},{\"weight\":{\"imperial\":\"8 - 18\",\"metric\":\"4 - 8\"},\"id\":\"bslo\",\"name\":\"British Longhair\",\"temperament\":\"Affectionate, Easy Going, Independent, Intelligent, Loyal, Social\",\"origin\":\"United Kingdom\",\"country_codes\":\"GB\",\"country_code\":\"GB\",\"description\":\"The British Longhair is a very laid-back relaxed cat, often perceived to be very independent although they will enjoy the company of an equally relaxed and likeminded cat. They are an affectionate breed, but very much on their own terms and tend to prefer to choose to come and sit with their owners rather than being picked up.\",\"life_span\":\"12 - 14\",\"indoor\":0,\"alt_names\":\"\",\"adaptability\":5,\"affection_level\":5,\"child_friendly\":4,\"dog_friendly\":5,\"energy_level\":4,\"grooming\":5,\"health_issues\":1,\"intelligence\":5,\"shedding_level\":1,\"social_needs\":3,\"stranger_friendly\":4,\"vocalisation\":1,\"experimental\":0,\"hairless\":0,\"natural\":0,\"rare\":0,\"rex\":0,\"suppressed_tail\":0,\"short_legs\":0,\"wikipedia_url\":\"https://en.wikipedia.org/wiki/British_Longhair\",\"hypoallergenic\":0,\"reference_image_id\":\"7isAO4Cav\"},{\"weight\":{\"imperial\":\"12 - 20\",\"metric\":\"5 - 9\"},\"id\":\"bsho\",\"name\":\"British Shorthair\",\"cfa_url\":\"http://cfa.org/Breeds/BreedsAB/BritishShorthair.aspx\",\"vetstreet_url\":\"http://www.vetstreet.com/cats/british-shorthair\",\"vcahospitals_url\":\"https://vcahospitals.com/know-your-pet/cat-breeds/british-shorthair\",\"temperament\":\"Affectionate, Easy Going, Gentle, Loyal, Patient, calm\",\"origin\":\"United Kingdom\",\"country_codes\":\"GB\",\"country_code\":\"GB\",\"description\":\"The British Shorthair is a very pleasant cat to have as a companion, ans is easy going and placid. The British is a fiercely loyal, loving cat and will attach herself to every one of her family members. While loving to play, she doesn\\'t need hourly attention. If she is in the mood to play, she will find someone and bring a toy to that person. The British also plays well by herself, and thus is a good companion for single people.\",\"life_span\":\"12 - 17\",\"indoor\":0,\"lap\":1,\"alt_names\":\"Highlander, Highland Straight, Britannica\",\"adaptability\":5,\"affection_level\":4,\"child_friendly\":4,\"dog_friendly\":5,\"energy_level\":2,\"grooming\":2,\"health_issues\":2,\"intelligence\":3,\"shedding_level\":4,\"social_needs\":3,\"stranger_friendly\":2,\"vocalisation\":1,\"experimental\":0,\"hairless\":0,\"natural\":1,\"rare\":0,\"rex\":0,\"suppressed_tail\":0,\"short_legs\":0,\"wikipedia_url\":\"https://en.wikipedia.org/wiki/British_Shorthair\",\"hypoallergenic\":0,\"reference_image_id\":\"s4wQfYoEk\"},{\"weight\":{\"imperial\":\"6 - 12\",\"metric\":\"3 - 5\"},\"id\":\"bure\",\"name\":\"Burmese\",\"cfa_url\":\"http://cfa.org/Breeds/BreedsAB/Burmese.aspx\",\"vetstreet_url\":\"http://www.vetstreet.com/cats/burmese\",\"vcahospitals_url\":\"https://vcahospitals.com/know-your-pet/cat-breeds/burmese\",\"temperament\":\"Curious, Intelligent, Gentle, Social, Interactive, Playful, Lively\",\"origin\":\"Burma\",\"country_codes\":\"MM\",\"country_code\":\"MM\",\"description\":\"Burmese love being with people, playing with them, and keeping them entertained. They crave close physical contact and abhor an empty lap. They will follow their humans from room to room, and sleep in bed with them, preferably under the covers, cuddled as close as possible. At play, they will turn around to see if their human is watching and being entertained by their crazy antics.\",\"life_span\":\"15 - 16\",\"indoor\":0,\"lap\":1,\"alt_names\":\"\",\"adaptability\":5,\"affection_level\":5,\"child_friendly\":4,\"dog_friendly\":5,\"energy_level\":4,\"grooming\":1,\"health_issues\":3,\"intelligence\":5,\"shedding_level\":3,\"social_needs\":5,\"stranger_friendly\":5,\"vocalisation\":5,\"experimental\":0,\"hairless\":0,\"natural\":0,\"rare\":0,\"rex\":0,\"suppressed_tail\":0,\"short_legs\":0,\"wikipedia_url\":\"https://en.wikipedia.org/wiki/Burmese_(cat)\",\"hypoallergenic\":1,\"reference_image_id\":\"4lXnnfxac\"},{\"weight\":{\"imperial\":\"6 - 13\",\"metric\":\"3 - 6\"},\"id\":\"buri\",\"name\":\"Burmilla\",\"cfa_url\":\"http://cfa.org/Breeds/BreedsAB/Burmilla.aspx\",\"vetstreet_url\":\"http://www.vetstreet.com/cats/burmilla\",\"temperament\":\"Easy Going, Friendly, Intelligent, Lively, Playful, Social\",\"origin\":\"United Kingdom\",\"country_codes\":\"GB\",\"country_code\":\"GB\",\"description\":\"The Burmilla is a fairly placid cat. She tends to be an easy cat to get along with, requiring minimal care. The Burmilla is affectionate and sweet and makes a good companion, the Burmilla is an ideal companion to while away a lonely evening. Loyal, devoted, and affectionate, this cat will stay by its owner, always keeping them company.\",\"life_span\":\"10 - 15\",\"indoor\":0,\"lap\":1,\"alt_names\":\"\",\"adaptability\":5,\"affection_level\":5,\"child_friendly\":4,\"dog_friendly\":4,\"energy_level\":3,\"grooming\":3,\"health_issues\":3,\"intelligence\":3,\"shedding_level\":3,\"social_needs\":4,\"stranger_friendly\":3,\"vocalisation\":5,\"experimental\":0,\"hairless\":0,\"natural\":0,\"rare\":0,\"rex\":0,\"suppressed_tail\":0,\"short_legs\":0,\"wikipedia_url\":\"https://en.wikipedia.org/wiki/Burmilla\",\"hypoallergenic\":0,\"reference_image_id\":\"jvg3XfEdC\"},{\"weight\":{\"imperial\":\"10 - 15\",\"metric\":\"5 - 7\"},\"id\":\"cspa\",\"name\":\"California Spangled\",\"temperament\":\"Affectionate, Curious, Intelligent, Loyal, Social\",\"origin\":\"United States\",\"country_codes\":\"US\",\"country_code\":\"US\",\"description\":\"Perhaps the only thing about the California spangled cat that isn’t wild-like is its personality. Known to be affectionate, gentle and sociable, this breed enjoys spending a great deal of time with its owners. They are very playful, often choosing to perch in high locations and show off their acrobatic skills.\",\"life_span\":\"10 - 14\",\"indoor\":0,\"alt_names\":\"Spangle\",\"adaptability\":5,\"affection_level\":5,\"child_friendly\":4,\"dog_friendly\":5,\"energy_level\":5,\"grooming\":1,\"health_issues\":1,\"intelligence\":5,\"shedding_level\":1,\"social_needs\":3,\"stranger_friendly\":4,\"vocalisation\":1,\"experimental\":0,\"hairless\":0,\"natural\":0,\"rare\":0,\"rex\":0,\"suppressed_tail\":0,\"short_legs\":0,\"wikipedia_url\":\"https://en.wikipedia.org/wiki/California_Spangled\",\"hypoallergenic\":0,\"reference_image_id\":\"B1ERTmgph\"},{\"weight\":{\"imperial\":\"7 - 12\",\"metric\":\"3 - 5\"},\"id\":\"ctif\",\"name\":\"Chantilly-Tiffany\",\"temperament\":\"Affectionate, Demanding, Interactive, Loyal\",\"origin\":\"United States\",\"country_codes\":\"US\",\"country_code\":\"US\",\"description\":\"The Chantilly is a devoted companion and prefers company to being left alone. While the Chantilly is not demanding, she will \\\\\"chirp\\\\\" and \\\\\"talk\\\\\" as if having a conversation. This breed is affectionate, with a sweet temperament. It can stay still for extended periods, happily lounging in the lap of its loved one. This quality makes the Tiffany an ideal traveling companion, and an ideal house companion for senior citizens and the physically handicapped.\",\"life_span\":\"14 - 16\",\"indoor\":0,\"lap\":1,\"alt_names\":\"Chantilly, Foreign Longhair\",\"adaptability\":5,\"affection_level\":5,\"child_friendly\":4,\"dog_friendly\":5,\"energy_level\":4,\"grooming\":5,\"health_issues\":1,\"intelligence\":5,\"shedding_level\":5,\"social_needs\":3,\"stranger_friendly\":4,\"vocalisation\":5,\"experimental\":0,\"hairless\":0,\"natural\":0,\"rare\":0,\"rex\":0,\"suppressed_tail\":0,\"short_legs\":0,\"wikipedia_url\":\"https://en.wikipedia.org/wiki/Chantilly-Tiffany\",\"hypoallergenic\":0,\"reference_image_id\":\"TR-5nAd_S\"},{\"weight\":{\"imperial\":\"6 - 15\",\"metric\":\"3 - 7\"},\"id\":\"char\",\"name\":\"Chartreux\",\"cfa_url\":\"http://cfa.org/Breeds/BreedsCJ/Chartreux.aspx\",\"vetstreet_url\":\"http://www.vetstreet.com/cats/chartreux\",\"vcahospitals_url\":\"https://vcahospitals.com/know-your-pet/cat-breeds/chartreux\",\"temperament\":\"Affectionate, Loyal, Intelligent, Social, Lively, Playful\",\"origin\":\"France\",\"country_codes\":\"FR\",\"country_code\":\"FR\",\"description\":\"The Chartreux is generally silent but communicative. Short play sessions, mixed with naps and meals are their perfect day. Whilst appreciating any attention you give them, they are not demanding, content instead to follow you around devotedly, sleep on your bed and snuggle with you if you’re not feeling well.\",\"life_span\":\"12 - 15\",\"indoor\":0,\"lap\":1,\"alt_names\":\"\",\"adaptability\":5,\"affection_level\":5,\"child_friendly\":4,\"dog_friendly\":5,\"energy_level\":2,\"grooming\":1,\"health_issues\":2,\"intelligence\":4,\"shedding_level\":3,\"social_needs\":5,\"stranger_friendly\":5,\"vocalisation\":1,\"experimental\":0,\"hairless\":0,\"natural\":0,\"rare\":0,\"rex\":1,\"suppressed_tail\":0,\"short_legs\":0,\"wikipedia_url\":\"https://en.wikipedia.org/wiki/Chartreux\",\"hypoallergenic\":1,\"reference_image_id\":\"j6oFGLpRG\"},{\"weight\":{\"imperial\":\"7 - 15\",\"metric\":\"3 - 7\"},\"id\":\"chau\",\"name\":\"Chausie\",\"temperament\":\"Affectionate, Intelligent, Playful, Social\",\"origin\":\"Egypt\",\"country_codes\":\"EG\",\"country_code\":\"EG\",\"description\":\"For those owners who desire a feline capable of evoking the great outdoors, the strikingly beautiful Chausie retains a bit of the wild in its appearance but has the house manners of our friendly, familiar moggies. Very playful, this cat needs a large amount of space to be able to fully embrace its hunting instincts.\",\"life_span\":\"12 - 14\",\"indoor\":0,\"alt_names\":\"Nile Cat\",\"adaptability\":5,\"affection_level\":5,\"child_friendly\":4,\"dog_friendly\":5,\"energy_level\":4,\"grooming\":3,\"health_issues\":1,\"intelligence\":5,\"shedding_level\":3,\"social_needs\":3,\"stranger_friendly\":4,\"vocalisation\":1,\"experimental\":1,\"hairless\":0,\"natural\":0,\"rare\":0,\"rex\":0,\"suppressed_tail\":0,\"short_legs\":0,\"wikipedia_url\":\"https://en.wikipedia.org/wiki/Chausie\",\"hypoallergenic\":0,\"reference_image_id\":\"vJ3lEYgXr\"},{\"weight\":{\"imperial\":\"8 - 15\",\"metric\":\"4 - 7\"},\"id\":\"chee\",\"name\":\"Cheetoh\",\"temperament\":\"Affectionate, Gentle, Intelligent, Social\",\"origin\":\"United States\",\"country_codes\":\"US\",\"country_code\":\"US\",\"description\":\"The Cheetoh has a super affectionate nature and real love for their human companions; they are intelligent with the ability to learn quickly. You can expect that a Cheetoh will be a fun-loving kitty who enjoys playing, running, and jumping through every room in your house.\",\"life_span\":\"12 - 14\",\"indoor\":0,\"alt_names\":\"\\xa0\",\"adaptability\":5,\"affection_level\":5,\"child_friendly\":4,\"dog_friendly\":5,\"energy_level\":4,\"grooming\":1,\"health_issues\":1,\"intelligence\":5,\"shedding_level\":1,\"social_needs\":3,\"stranger_friendly\":4,\"vocalisation\":5,\"experimental\":0,\"hairless\":0,\"natural\":0,\"rare\":0,\"rex\":0,\"suppressed_tail\":0,\"short_legs\":0,\"wikipedia_url\":\"https://en.wikipedia.org/wiki/Bengal_cat#Cheetoh\",\"hypoallergenic\":0,\"reference_image_id\":\"IFXsxmXLm\"},{\"weight\":{\"imperial\":\"4 - 10\",\"metric\":\"2 - 5\"},\"id\":\"csho\",\"name\":\"Colorpoint Shorthair\",\"cfa_url\":\"http://cfa.org/Breeds/BreedsCJ/ColorpointShorthair.aspx\",\"vcahospitals_url\":\"https://vcahospitals.com/know-your-pet/cat-breeds/colorpoint-shorthair\",\"temperament\":\"Affectionate, Intelligent, Playful, Social\",\"origin\":\"United States\",\"country_codes\":\"US\",\"country_code\":\"US\",\"description\":\"Colorpoint Shorthairs are an affectionate breed, devoted and loyal to their people. Sensitive to their owner’s moods, Colorpoints are more than happy to sit at your side or on your lap and purr words of encouragement on a bad day. They will constantly seek out your lap whenever it is open and in the moments when your lap is preoccupied they will stretch out in sunny spots on the ground.\",\"life_span\":\"12 - 16\",\"indoor\":0,\"lap\":1,\"alt_names\":\"\",\"adaptability\":3,\"affection_level\":4,\"child_friendly\":4,\"cat_friendly\":3,\"dog_friendly\":4,\"energy_level\":4,\"grooming\":2,\"health_issues\":2,\"intelligence\":5,\"shedding_level\":3,\"social_needs\":4,\"stranger_friendly\":2,\"vocalisation\":5,\"bidability\":4,\"experimental\":0,\"hairless\":0,\"natural\":0,\"rare\":0,\"rex\":0,\"suppressed_tail\":0,\"short_legs\":0,\"wikipedia_url\":\"https://en.wikipedia.org/wiki/Colorpoint_Shorthair\",\"hypoallergenic\":0,\"reference_image_id\":\"oSpqGyUDS\"},{\"weight\":{\"imperial\":\"5 - 9\",\"metric\":\"2 - 4\"},\"id\":\"crex\",\"name\":\"Cornish Rex\",\"cfa_url\":\"http://cfa.org/Breeds/BreedsCJ/CornishRex.aspx\",\"vetstreet_url\":\"http://www.vetstreet.com/cats/cornish-rex\",\"vcahospitals_url\":\"https://vcahospitals.com/know-your-pet/cat-breeds/cornish-rex\",\"temperament\":\"Affectionate, Intelligent, Active, Curious, Playful\",\"origin\":\"United Kingdom\",\"country_codes\":\"GB\",\"country_code\":\"GB\",\"description\":\"This is a confident cat who loves people and will follow them around, waiting for any opportunity to sit in a lap or give a kiss. He enjoys being handled, making it easy to take him to the veterinarian or train him for therapy work. The Cornish Rex stay in kitten mode most of their lives and well into their senior years. \",\"life_span\":\"11 - 14\",\"indoor\":0,\"lap\":1,\"alt_names\":\"\",\"adaptability\":5,\"affection_level\":5,\"child_friendly\":4,\"cat_friendly\":2,\"dog_friendly\":5,\"energy_level\":5,\"grooming\":1,\"health_issues\":2,\"intelligence\":5,\"shedding_level\":1,\"social_needs\":5,\"stranger_friendly\":3,\"vocalisation\":1,\"experimental\":0,\"hairless\":0,\"natural\":0,\"rare\":0,\"rex\":1,\"suppressed_tail\":0,\"short_legs\":0,\"wikipedia_url\":\"https://en.wikipedia.org/wiki/Cornish_Rex\",\"hypoallergenic\":1,\"reference_image_id\":\"unX21IBVB\"},{\"weight\":{\"imperial\":\"8 - 13\",\"metric\":\"4 - 6\"},\"id\":\"cymr\",\"name\":\"Cymric\",\"vetstreet_url\":\"http://www.vetstreet.com/cats/cymric\",\"temperament\":\"Gentle, Loyal, Intelligent, Playful\",\"origin\":\"Canada\",\"country_codes\":\"CA\",\"country_code\":\"CA\",\"description\":\"The Cymric is a placid, sweet cat. They do not get too upset about anything that happens in their world. They are loving companions and adore people. They are smart and dexterous, capable of using his paws to get into cabinets or to open doors.\",\"life_span\":\"8 - 14\",\"indoor\":0,\"lap\":1,\"alt_names\":\"Spangle\",\"adaptability\":5,\"affection_level\":5,\"child_friendly\":4,\"dog_friendly\":5,\"energy_level\":5,\"grooming\":3,\"health_issues\":3,\"intelligence\":5,\"shedding_level\":5,\"social_needs\":5,\"stranger_friendly\":3,\"vocalisation\":3,\"experimental\":0,\"hairless\":0,\"natural\":0,\"rare\":0,\"rex\":0,\"suppressed_tail\":1,\"short_legs\":0,\"wikipedia_url\":\"https://en.wikipedia.org/wiki/Cymric_(cat)\",\"hypoallergenic\":0,\"reference_image_id\":\"3dbtapCWM\"},{\"weight\":{\"imperial\":\"8 - 16\",\"metric\":\"4 - 7\"},\"id\":\"cypr\",\"name\":\"Cyprus\",\"temperament\":\"Affectionate, Social\",\"origin\":\"Cyprus\",\"country_codes\":\"CY\",\"country_code\":\"CY\",\"description\":\"Loving, loyal, social and inquisitive, the Cyprus cat forms strong ties with their families and love nothing more than to be involved in everything that goes on in their surroundings. They are not overly active by nature which makes them the perfect companion for people who would like to share their homes with a laid-back relaxed feline companion. \",\"life_span\":\"12 - 15\",\"indoor\":0,\"lap\":1,\"alt_names\":\"Cypriot cat\",\"adaptability\":5,\"affection_level\":5,\"child_friendly\":4,\"dog_friendly\":5,\"energy_level\":4,\"grooming\":3,\"health_issues\":1,\"intelligence\":3,\"shedding_level\":3,\"social_needs\":3,\"stranger_friendly\":4,\"vocalisation\":3,\"experimental\":0,\"hairless\":0,\"natural\":1,\"rare\":0,\"rex\":0,\"suppressed_tail\":0,\"short_legs\":0,\"wikipedia_url\":\"https://en.wikipedia.org/wiki/Cyprus_cat\",\"hypoallergenic\":0,\"reference_image_id\":\"tJbzb7FKo\"},{\"weight\":{\"imperial\":\"5 - 10\",\"metric\":\"2 - 5\"},\"id\":\"drex\",\"name\":\"Devon Rex\",\"cfa_url\":\"http://cfa.org/Breeds/BreedsCJ/DevonRex.aspx\",\"vetstreet_url\":\"http://www.vetstreet.com/cats/devon-rex\",\"vcahospitals_url\":\"https://vcahospitals.com/know-your-pet/cat-breeds/devon-rex\",\"temperament\":\"Highly interactive, Mischievous, Loyal, Social, Playful\",\"origin\":\"United Kingdom\",\"country_codes\":\"GB\",\"country_code\":\"GB\",\"description\":\"The favourite perch of the Devon Rex is right at head level, on the shoulder of her favorite person. She takes a lively interest in everything that is going on and refuses to be left out of any activity. Count on her to stay as close to you as possible, occasionally communicating his opinions in a quiet voice. She loves people and welcomes the attentions of friends and family alike.\",\"life_span\":\"10 - 15\",\"indoor\":0,\"lap\":1,\"alt_names\":\"Pixie cat, Alien cat, Poodle cat\",\"adaptability\":5,\"affection_level\":5,\"child_friendly\":4,\"dog_friendly\":5,\"energy_level\":5,\"grooming\":1,\"health_issues\":3,\"intelligence\":5,\"shedding_level\":1,\"social_needs\":5,\"stranger_friendly\":5,\"vocalisation\":1,\"experimental\":0,\"hairless\":0,\"natural\":0,\"rare\":0,\"rex\":1,\"suppressed_tail\":0,\"short_legs\":0,\"wikipedia_url\":\"https://en.wikipedia.org/wiki/Devon_Rex\",\"hypoallergenic\":1,\"reference_image_id\":\"4RzEwvyzz\"},{\"weight\":{\"imperial\":\"10 - 12\",\"metric\":\"5 - 6\"},\"id\":\"dons\",\"name\":\"Donskoy\",\"temperament\":\"Playful, affectionate, loyal, social\",\"origin\":\"Russia\",\"country_codes\":\"RU\",\"country_code\":\"RU\",\"description\":\"Donskoy are affectionate, intelligent, and easy-going. They demand lots of attention and interaction. The Donskoy also gets along well with other pets. It is now thought the same gene that causes degrees of hairlessness in the Donskoy also causes alterations in cat personality, making them calmer the less hair they have.\",\"life_span\":\"12 - 15\",\"indoor\":0,\"adaptability\":4,\"affection_level\":4,\"child_friendly\":3,\"cat_friendly\":3,\"dog_friendly\":3,\"energy_level\":4,\"grooming\":2,\"health_issues\":3,\"intelligence\":3,\"shedding_level\":1,\"social_needs\":5,\"stranger_friendly\":5,\"vocalisation\":2,\"experimental\":0,\"hairless\":1,\"natural\":0,\"rare\":1,\"rex\":0,\"suppressed_tail\":0,\"short_legs\":0,\"wikipedia_url\":\"https://en.wikipedia.org/wiki/Donskoy_(cat)\",\"hypoallergenic\":0,\"reference_image_id\":\"3KG57GfMW\"},{\"weight\":{\"imperial\":\"9 - 12\",\"metric\":\"4 - 6\"},\"id\":\"lihu\",\"name\":\"Dragon Li\",\"vetstreet_url\":\"http://www.vetstreet.com/cats/li-hua\",\"temperament\":\"Intelligent, Friendly, Gentle, Loving, Loyal\",\"origin\":\"China\",\"country_codes\":\"CN\",\"country_code\":\"CN\",\"description\":\"The Dragon Li is loyal, but not particularly affectionate. They are known to be very intelligent, and their natural breed status means that they\\'re very active. She is is gentle with people, and has a reputation as a talented hunter of rats and other vermin.\",\"life_span\":\"12 - 15\",\"indoor\":1,\"alt_names\":\"Chinese Lia Hua, Lí hua māo (貍花貓), Li Hua\",\"adaptability\":3,\"affection_level\":3,\"child_friendly\":3,\"cat_friendly\":3,\"dog_friendly\":3,\"energy_level\":3,\"grooming\":1,\"health_issues\":1,\"intelligence\":3,\"shedding_level\":3,\"social_needs\":4,\"stranger_friendly\":3,\"vocalisation\":3,\"experimental\":0,\"hairless\":0,\"natural\":1,\"rare\":0,\"rex\":0,\"suppressed_tail\":0,\"short_legs\":0,\"wikipedia_url\":\"https://en.wikipedia.org/wiki/Dragon_Li\",\"hypoallergenic\":0,\"reference_image_id\":\"BQMSld0A0\"},{\"weight\":{\"imperial\":\"6 - 14\",\"metric\":\"3 - 6\"},\"id\":\"emau\",\"name\":\"Egyptian Mau\",\"cfa_url\":\"http://cfa.org/Breeds/BreedsCJ/EgyptianMau.aspx\",\"vetstreet_url\":\"http://www.vetstreet.com/cats/egyptian-mau\",\"vcahospitals_url\":\"https://vcahospitals.com/know-your-pet/cat-breeds/egyptian-mau\",\"temperament\":\"Agile, Dependent, Gentle, Intelligent, Lively, Loyal, Playful\",\"origin\":\"Egypt\",\"country_codes\":\"EG\",\"country_code\":\"EG\",\"description\":\"The Egyptian Mau is gentle and reserved. She loves her people and desires attention and affection from them but is wary of others. Early, continuing socialization is essential with this sensitive and sometimes shy cat, especially if you plan to show or travel with her. Otherwise, she can be easily startled by unexpected noises or events.\",\"life_span\":\"18 - 20\",\"indoor\":0,\"lap\":1,\"alt_names\":\"Pharaoh Cat\",\"adaptability\":2,\"affection_level\":5,\"child_friendly\":3,\"dog_friendly\":3,\"energy_level\":5,\"grooming\":1,\"health_issues\":3,\"intelligence\":4,\"shedding_level\":3,\"social_needs\":4,\"stranger_friendly\":2,\"vocalisation\":3,\"experimental\":0,\"hairless\":0,\"natural\":1,\"rare\":0,\"rex\":0,\"suppressed_tail\":0,\"short_legs\":0,\"wikipedia_url\":\"https://en.wikipedia.org/wiki/Egyptian_Mau\",\"hypoallergenic\":0,\"reference_image_id\":\"TuSyTkt2n\"},{\"weight\":{\"imperial\":\"7 - 14\",\"metric\":\"3 - 6\"},\"id\":\"ebur\",\"name\":\"European Burmese\",\"cfa_url\":\"http://cfa.org/Breeds/BreedsCJ/EuropeanBurmese.aspx\",\"temperament\":\"Sweet, Affectionate, Loyal\",\"origin\":\"Burma\",\"country_codes\":\"MM\",\"country_code\":\"MM\",\"description\":\"The European Burmese is a very affectionate, intelligent, and loyal cat. They thrive on companionship and will want to be with you, participating in everything you do. While they might pick a favorite family member, chances are that they will interact with everyone in the home, as well as any visitors that come to call. They are inquisitive and playful, even as adults. \",\"life_span\":\"10 - 15\",\"indoor\":0,\"lap\":1,\"alt_names\":\"\",\"adaptability\":5,\"affection_level\":5,\"child_friendly\":4,\"cat_friendly\":4,\"dog_friendly\":4,\"energy_level\":4,\"grooming\":1,\"health_issues\":4,\"intelligence\":5,\"shedding_level\":3,\"social_needs\":5,\"stranger_friendly\":5,\"vocalisation\":4,\"experimental\":0,\"hairless\":0,\"natural\":0,\"rare\":0,\"rex\":0,\"suppressed_tail\":0,\"short_legs\":0,\"hypoallergenic\":0},{\"weight\":{\"imperial\":\"7 - 14\",\"metric\":\"3 - 6\"},\"id\":\"esho\",\"name\":\"Exotic Shorthair\",\"cfa_url\":\"http://cfa.org/Breeds/BreedsCJ/Exotic.aspx\",\"vetstreet_url\":\"http://www.vetstreet.com/cats/exotic-shorthair\",\"vcahospitals_url\":\"https://vcahospitals.com/know-your-pet/cat-breeds/exotic-shorthair\",\"temperament\":\"Affectionate, Sweet, Loyal, Quiet, Peaceful\",\"origin\":\"United States\",\"country_codes\":\"US\",\"country_code\":\"US\",\"description\":\"The Exotic Shorthair is a gentle friendly cat that has the same personality as the Persian. They love having fun, don’t mind the company of other cats and dogs, also love to curl up for a sleep in a safe place. Exotics love their own people, but around strangers they are cautious at first. Given time, they usually warm up to visitors.\",\"life_span\":\"12 - 15\",\"indoor\":0,\"lap\":1,\"alt_names\":\"Exotic\",\"adaptability\":5,\"affection_level\":5,\"child_friendly\":3,\"dog_friendly\":3,\"energy_level\":3,\"grooming\":2,\"health_issues\":3,\"intelligence\":3,\"shedding_level\":2,\"social_needs\":4,\"stranger_friendly\":2,\"vocalisation\":1,\"experimental\":0,\"hairless\":0,\"natural\":0,\"rare\":0,\"rex\":0,\"suppressed_tail\":0,\"short_legs\":0,\"wikipedia_url\":\"https://en.wikipedia.org/wiki/Exotic_Shorthair\",\"hypoallergenic\":0,\"reference_image_id\":\"YnPrYEmfe\"},{\"weight\":{\"imperial\":\"6 - 10\",\"metric\":\"3 - 5\"},\"id\":\"hbro\",\"name\":\"Havana Brown\",\"cfa_url\":\"http://cfa.org/Breeds/BreedsCJ/HavanaBrown.aspx\",\"vetstreet_url\":\"http://www.vetstreet.com/cats/havana-brown\",\"vcahospitals_url\":\"https://vcahospitals.com/know-your-pet/cat-breeds/havana-brown\",\"temperament\":\"Affectionate, Curious, Demanding, Friendly, Intelligent, Playful\",\"origin\":\"United Kingdom\",\"country_codes\":\"GB\",\"country_code\":\"GB\",\"description\":\"The Havana Brown is human oriented, playful, and curious. She has a strong desire to spend time with her people and involve herself in everything they do. Being naturally inquisitive, the Havana Brown reaches out with a paw to touch and feel when investigating curiosities in its environment. They are truly sensitive by nature and frequently gently touch their human companions as if they are extending a paw of friendship.\",\"life_span\":\"10 - 15\",\"indoor\":0,\"lap\":1,\"alt_names\":\"Havana, HB\",\"adaptability\":5,\"affection_level\":5,\"child_friendly\":4,\"dog_friendly\":5,\"energy_level\":3,\"grooming\":1,\"health_issues\":1,\"intelligence\":5,\"shedding_level\":3,\"social_needs\":5,\"stranger_friendly\":3,\"vocalisation\":1,\"experimental\":0,\"hairless\":0,\"natural\":0,\"rare\":0,\"rex\":0,\"suppressed_tail\":0,\"short_legs\":0,\"wikipedia_url\":\"https://en.wikipedia.org/wiki/Havana_Brown\",\"hypoallergenic\":0,\"reference_image_id\":\"njK25knLH\"},{\"weight\":{\"imperial\":\"7 - 14\",\"metric\":\"3 - 6\"},\"id\":\"hima\",\"name\":\"Himalayan\",\"vetstreet_url\":\"http://www.vetstreet.com/cats/himalayan\",\"vcahospitals_url\":\"https://vcahospitals.com/know-your-pet/cat-breeds/himalayan\",\"temperament\":\"Dependent, Gentle, Intelligent, Quiet, Social\",\"origin\":\"United States\",\"country_codes\":\"US\",\"country_code\":\"US\",\"description\":\"Calm and devoted, Himalayans make excellent companions, though they prefer a quieter home. They are playful in a sedate kind of way and enjoy having an assortment of toys. The Himalayan will stretch out next to you, sleep in your bed and even sit on your lap when she is in the mood.\",\"life_span\":\"9 - 15\",\"indoor\":0,\"lap\":1,\"alt_names\":\"Himalayan Persian, Colourpoint Persian, Longhaired Colourpoint, Himmy\",\"adaptability\":5,\"affection_level\":5,\"child_friendly\":2,\"dog_friendly\":2,\"energy_level\":1,\"grooming\":5,\"health_issues\":3,\"intelligence\":3,\"shedding_level\":4,\"social_needs\":4,\"stranger_friendly\":2,\"vocalisation\":1,\"experimental\":0,\"hairless\":0,\"natural\":0,\"rare\":0,\"rex\":0,\"suppressed_tail\":0,\"short_legs\":0,\"wikipedia_url\":\"https://en.wikipedia.org/wiki/Himalayan_(cat)\",\"hypoallergenic\":0,\"reference_image_id\":\"CDhOtM-Ig\"},{\"weight\":{\"imperial\":\"5 - 10\",\"metric\":\"2 - 5\"},\"id\":\"jbob\",\"name\":\"Japanese Bobtail\",\"cfa_url\":\"http://cfa.org/Breeds/BreedsCJ/JapaneseBobtail.aspx\",\"vetstreet_url\":\"http://www.vetstreet.com/cats/japanese-bobtail\",\"vcahospitals_url\":\"https://vcahospitals.com/know-your-pet/cat-breeds/japanese-bobtail\",\"temperament\":\"Active, Agile, Clever, Easy Going, Intelligent, Lively, Loyal, Playful, Social\",\"origin\":\"Japan\",\"country_codes\":\"JP\",\"country_code\":\"JP\",\"description\":\"The Japanese Bobtail is an active, sweet, loving and highly intelligent breed. They love to be with people and play seemingly endlessly. They learn their name and respond to it. They bring toys to people and play fetch with a favorite toy for hours. Bobtails are social and are at their best when in the company of people. They take over the house and are not intimidated. If a dog is in the house, Bobtails assume Bobtails are in charge.\",\"life_span\":\"14 - 16\",\"indoor\":0,\"lap\":1,\"alt_names\":\"Japanese Truncated Cat\",\"adaptability\":5,\"affection_level\":5,\"child_friendly\":4,\"dog_friendly\":5,\"energy_level\":5,\"grooming\":1,\"health_issues\":1,\"intelligence\":5,\"shedding_level\":3,\"social_needs\":5,\"stranger_friendly\":5,\"vocalisation\":5,\"experimental\":0,\"hairless\":0,\"natural\":1,\"rare\":0,\"rex\":0,\"suppressed_tail\":1,\"short_legs\":0,\"wikipedia_url\":\"https://en.wikipedia.org/wiki/Japanese_Bobtail\",\"hypoallergenic\":0,\"reference_image_id\":\"-tm9-znzl\"},{\"weight\":{\"imperial\":\"5 - 10\",\"metric\":\"2 - 5\"},\"id\":\"java\",\"name\":\"Javanese\",\"vetstreet_url\":\"http://www.vetstreet.com/cats/javanese\",\"vcahospitals_url\":\"https://vcahospitals.com/know-your-pet/cat-breeds/javanese\",\"temperament\":\"Active, Devoted, Intelligent, Playful\",\"origin\":\"United States\",\"country_codes\":\"US\",\"country_code\":\"US\",\"description\":\"Javanese are endlessly interested, intelligent and active. They tend to enjoy jumping to great heights, playing with fishing pole-type or other interactive toys and just generally investigating their surroundings. He will attempt to copy things you do, such as opening doors or drawers.\",\"life_span\":\"10 - 12\",\"indoor\":0,\"alt_names\":\"\\xa0\",\"adaptability\":4,\"affection_level\":5,\"child_friendly\":4,\"dog_friendly\":4,\"energy_level\":5,\"grooming\":1,\"health_issues\":3,\"intelligence\":5,\"shedding_level\":2,\"social_needs\":5,\"stranger_friendly\":3,\"vocalisation\":5,\"experimental\":0,\"hairless\":0,\"natural\":0,\"rare\":0,\"rex\":0,\"suppressed_tail\":0,\"short_legs\":0,\"wikipedia_url\":\"https://en.wikipedia.org/wiki/Javanese_cat\",\"hypoallergenic\":1,\"reference_image_id\":\"xoI_EpOKe\"},{\"weight\":{\"imperial\":\"8 - 12\",\"metric\":\"4 - 6\"},\"id\":\"khao\",\"name\":\"Khao Manee\",\"cfa_url\":\"http://cfa.org/Breeds/BreedsKthruR/KhaoManee.aspx\",\"temperament\":\"Calm, Relaxed, Talkative, Playful, Warm\",\"origin\":\"Thailand\",\"country_codes\":\"TH\",\"country_code\":\"TH\",\"description\":\"The Khao Manee is highly intelligent, with an extrovert and inquisitive nature, however they are also very calm and relaxed, making them an idea lap cat.\",\"life_span\":\"10 - 12\",\"indoor\":0,\"lap\":1,\"alt_names\":\"Diamond Eye cat\",\"adaptability\":4,\"affection_level\":4,\"child_friendly\":3,\"cat_friendly\":3,\"dog_friendly\":3,\"energy_level\":3,\"grooming\":3,\"health_issues\":1,\"intelligence\":4,\"shedding_level\":3,\"social_needs\":3,\"stranger_friendly\":3,\"vocalisation\":5,\"experimental\":0,\"hairless\":0,\"natural\":0,\"rare\":0,\"rex\":0,\"suppressed_tail\":0,\"short_legs\":0,\"wikipedia_url\":\"https://en.wikipedia.org/wiki/Khao_Manee\",\"hypoallergenic\":0,\"reference_image_id\":\"165ok6ESN\"},{\"weight\":{\"imperial\":\"7 - 11\",\"metric\":\"3 - 5\"},\"id\":\"kora\",\"name\":\"Korat\",\"cfa_url\":\"http://cfa.org/Breeds/BreedsKthruR/Korat.aspx\",\"vetstreet_url\":\"http://www.vetstreet.com/cats/korat\",\"vcahospitals_url\":\"https://vcahospitals.com/know-your-pet/cat-breeds/korat\",\"temperament\":\"Active, Loyal, highly intelligent, Expressive, Trainable\",\"origin\":\"Thailand\",\"country_codes\":\"TH\",\"country_code\":\"TH\",\"description\":\"The Korat is a natural breed, and one of the oldest stable cat breeds. They are highly intelligent and confident cats that can be fearless, although they are startled by loud sounds and sudden movements. Korats form strong bonds with their people and like to cuddle and stay nearby.\",\"life_span\":\"10 - 15\",\"indoor\":0,\"adaptability\":5,\"affection_level\":5,\"child_friendly\":4,\"dog_friendly\":5,\"energy_level\":3,\"grooming\":1,\"health_issues\":1,\"intelligence\":5,\"shedding_level\":3,\"social_needs\":5,\"stranger_friendly\":2,\"vocalisation\":3,\"experimental\":0,\"hairless\":0,\"natural\":0,\"rare\":1,\"rex\":0,\"suppressed_tail\":0,\"short_legs\":0,\"wikipedia_url\":\"https://en.wikipedia.org/wiki/Korat\",\"hypoallergenic\":0,\"reference_image_id\":\"DbwiefiaY\"},{\"weight\":{\"imperial\":\"8 - 15\",\"metric\":\"4 - 7\"},\"id\":\"kuri\",\"name\":\"Kurilian\",\"vetstreet_url\":\"http://www.vetstreet.com/cats/kurilian-bobtail\",\"temperament\":\"Independent, highly intelligent, clever, inquisitive, sociable, playful, trainable\",\"origin\":\"Russia\",\"country_codes\":\"RU\",\"country_code\":\"RU\",\"description\":\"The character of the Kurilian Bobtail is independent, highly intelligent, clever, inquisitive, sociable, playful, trainable, absent of aggression and very gentle. They are devoted to their humans and when allowed are either on the lap of or sleeping in bed with their owners.\",\"life_span\":\"15 - 20\",\"indoor\":0,\"adaptability\":5,\"affection_level\":5,\"child_friendly\":5,\"dog_friendly\":5,\"energy_level\":5,\"grooming\":1,\"health_issues\":1,\"intelligence\":5,\"shedding_level\":2,\"social_needs\":5,\"stranger_friendly\":5,\"vocalisation\":3,\"experimental\":0,\"hairless\":0,\"natural\":1,\"rare\":0,\"rex\":0,\"suppressed_tail\":1,\"short_legs\":0,\"wikipedia_url\":\"https://en.wikipedia.org/wiki/Kurilian_Bobtail\",\"hypoallergenic\":0,\"reference_image_id\":\"NZpO4pU56M\"},{\"weight\":{\"imperial\":\"6 - 10\",\"metric\":\"3 - 5\"},\"id\":\"lape\",\"name\":\"LaPerm\",\"cfa_url\":\"http://cfa.org/Breeds/BreedsKthruR/LaPerm.aspx\",\"vetstreet_url\":\"http://www.vetstreet.com/cats/laperm\",\"vcahospitals_url\":\"https://vcahospitals.com/know-your-pet/cat-breeds/laperm\",\"temperament\":\"Affectionate, Friendly, Gentle, Intelligent, Playful, Quiet\",\"origin\":\"Thailand\",\"country_codes\":\"TH\",\"country_code\":\"TH\",\"description\":\"LaPerms are gentle and affectionate but also very active. Unlike many active breeds, the LaPerm is also quite content to be a lap cat. The LaPerm will often follow your lead; that is, if they are busy playing and you decide to sit and relax, simply pick up your LaPerm and sit down with it, and it will stay in your lap, devouring the attention you give it.\",\"life_span\":\"10 - 15\",\"indoor\":0,\"lap\":1,\"alt_names\":\"Si-Sawat\",\"adaptability\":5,\"affection_level\":5,\"child_friendly\":4,\"dog_friendly\":5,\"energy_level\":4,\"grooming\":1,\"health_issues\":1,\"intelligence\":5,\"shedding_level\":3,\"social_needs\":4,\"stranger_friendly\":4,\"vocalisation\":3,\"experimental\":0,\"hairless\":0,\"natural\":0,\"rare\":0,\"rex\":1,\"suppressed_tail\":0,\"short_legs\":0,\"wikipedia_url\":\"https://en.wikipedia.org/wiki/LaPerm\",\"hypoallergenic\":1,\"reference_image_id\":\"aKbsEYjSl\"},{\"weight\":{\"imperial\":\"12 - 18\",\"metric\":\"5 - 8\"},\"id\":\"mcoo\",\"name\":\"Maine Coon\",\"cfa_url\":\"http://cfa.org/Breeds/BreedsKthruR/MaineCoon.aspx\",\"vetstreet_url\":\"http://www.vetstreet.com/cats/maine-coon\",\"vcahospitals_url\":\"https://vcahospitals.com/know-your-pet/cat-breeds/maine-coon\",\"temperament\":\"Adaptable, Intelligent, Loving, Gentle, Independent\",\"origin\":\"United States\",\"country_codes\":\"US\",\"country_code\":\"US\",\"description\":\"They are known for their size and luxurious long coat Maine Coons are considered a gentle giant. The good-natured and affable Maine Coon adapts well to many lifestyles and personalities. She likes being with people and has the habit of following them around, but isn’t needy. Most Maine Coons love water and they can be quite good swimmers.\",\"life_span\":\"12 - 15\",\"indoor\":0,\"lap\":1,\"alt_names\":\"Coon Cat, Maine Cat, Maine Shag, Snowshoe Cat, American Longhair, The Gentle Giants\",\"adaptability\":5,\"affection_level\":5,\"child_friendly\":4,\"dog_friendly\":5,\"energy_level\":3,\"grooming\":3,\"health_issues\":3,\"intelligence\":5,\"shedding_level\":3,\"social_needs\":3,\"stranger_friendly\":5,\"vocalisation\":1,\"experimental\":0,\"hairless\":0,\"natural\":1,\"rare\":0,\"rex\":0,\"suppressed_tail\":0,\"short_legs\":0,\"wikipedia_url\":\"https://en.wikipedia.org/wiki/Maine_Coon\",\"hypoallergenic\":0,\"reference_image_id\":\"OOD3VXAQn\"},{\"weight\":{\"imperial\":\"6 - 13\",\"metric\":\"3 - 6\"},\"id\":\"mala\",\"name\":\"Malayan\",\"temperament\":\"Affectionate, Interactive, Playful, Social\",\"origin\":\"United Kingdom\",\"country_codes\":\"GB\",\"country_code\":\"GB\",\"description\":\"Malayans love to explore and even enjoy traveling by way of a cat carrier. They are quite a talkative and rather loud cat with an apparent strong will. These cats will make sure that you give it the attention it seeks and always seem to want to be held and hugged. They will constantly interact with people, even strangers. They love to play and cuddle.\",\"life_span\":\"12 - 18\",\"indoor\":0,\"alt_names\":\"Asian\",\"adaptability\":5,\"affection_level\":5,\"child_friendly\":4,\"dog_friendly\":5,\"energy_level\":5,\"grooming\":1,\"health_issues\":1,\"intelligence\":3,\"shedding_level\":1,\"social_needs\":3,\"stranger_friendly\":3,\"vocalisation\":5,\"experimental\":0,\"hairless\":0,\"natural\":0,\"rare\":0,\"rex\":0,\"suppressed_tail\":0,\"short_legs\":0,\"wikipedia_url\":\"https://en.wikipedia.org/wiki/Asian_cat\",\"hypoallergenic\":0},{\"weight\":{\"imperial\":\"7 - 13\",\"metric\":\"3 - 6\"},\"id\":\"manx\",\"name\":\"Manx\",\"cfa_url\":\"http://cfa.org/Breeds/BreedsKthruR/Manx.aspx\",\"vetstreet_url\":\"http://www.vetstreet.com/cats/manx\",\"vcahospitals_url\":\"https://vcahospitals.com/know-your-pet/cat-breeds/manx\",\"temperament\":\"Easy Going, Intelligent, Loyal, Playful, Social\",\"origin\":\"Isle of Man\",\"country_codes\":\"IM\",\"country_code\":\"IM\",\"description\":\"The Manx is a placid, sweet cat that is gentle and playful. She never seems to get too upset about anything. She is a loving companion and adores being with people.\",\"life_span\":\"12 - 14\",\"indoor\":0,\"lap\":1,\"alt_names\":\"Manks, Stubbin, Rumpy\",\"adaptability\":5,\"affection_level\":5,\"child_friendly\":4,\"dog_friendly\":5,\"energy_level\":5,\"grooming\":1,\"health_issues\":3,\"intelligence\":5,\"shedding_level\":5,\"social_needs\":5,\"stranger_friendly\":3,\"vocalisation\":3,\"experimental\":0,\"hairless\":0,\"natural\":1,\"rare\":0,\"rex\":0,\"suppressed_tail\":1,\"short_legs\":0,\"wikipedia_url\":\"https://en.wikipedia.org/wiki/Manx_(cat)\",\"hypoallergenic\":0,\"reference_image_id\":\"fhYh2PDcC\"},{\"weight\":{\"imperial\":\"5 - 9\",\"metric\":\"2 - 4\"},\"id\":\"munc\",\"name\":\"Munchkin\",\"vetstreet_url\":\"http://www.vetstreet.com/cats/munchkin\",\"temperament\":\"Agile, Easy Going, Intelligent, Playful\",\"origin\":\"United States\",\"country_codes\":\"US\",\"country_code\":\"US\",\"description\":\"The Munchkin is an outgoing cat who enjoys being handled. She has lots of energy and is faster and more agile than she looks. The shortness of their legs does not seem to interfere with their running and leaping abilities.\",\"life_span\":\"10 - 15\",\"indoor\":0,\"lap\":1,\"alt_names\":\"\",\"adaptability\":5,\"affection_level\":5,\"child_friendly\":4,\"dog_friendly\":5,\"energy_level\":4,\"grooming\":2,\"health_issues\":3,\"intelligence\":5,\"shedding_level\":3,\"social_needs\":5,\"stranger_friendly\":5,\"vocalisation\":3,\"experimental\":0,\"hairless\":0,\"natural\":0,\"rare\":0,\"rex\":0,\"suppressed_tail\":0,\"short_legs\":1,\"wikipedia_url\":\"https://en.wikipedia.org/wiki/Munchkin_(cat)\",\"hypoallergenic\":0,\"reference_image_id\":\"j5cVSqLer\"},{\"weight\":{\"imperial\":\"7 - 11\",\"metric\":\"3 - 5\"},\"id\":\"nebe\",\"name\":\"Nebelung\",\"temperament\":\"Gentle, Quiet, Shy, Playful\",\"origin\":\"United States\",\"country_codes\":\"US\",\"country_code\":\"US\",\"description\":\"The Nebelung may have a reserved nature, but she loves to play (being especially fond of retrieving) and enjoys jumping or climbing to high places where she can study people and situations at her leisure before making up her mind about whether she wants to get involved.\",\"life_span\":\"11 - 16\",\"indoor\":0,\"lap\":1,\"alt_names\":\"Longhaired Russian Blue\",\"adaptability\":5,\"affection_level\":5,\"child_friendly\":4,\"dog_friendly\":4,\"energy_level\":3,\"grooming\":3,\"health_issues\":2,\"intelligence\":5,\"shedding_level\":3,\"social_needs\":3,\"stranger_friendly\":3,\"vocalisation\":1,\"experimental\":0,\"hairless\":0,\"natural\":0,\"rare\":1,\"rex\":0,\"suppressed_tail\":0,\"short_legs\":0,\"wikipedia_url\":\"https://en.wikipedia.org/wiki/Nebelung\",\"hypoallergenic\":0,\"reference_image_id\":\"OGTWqNNOt\"},{\"weight\":{\"imperial\":\"8 - 16\",\"metric\":\"4 - 7\"},\"id\":\"norw\",\"name\":\"Norwegian Forest Cat\",\"cfa_url\":\"http://cfa.org/Breeds/BreedsKthruR/NorwegianForestCat.aspx\",\"vetstreet_url\":\"http://www.vetstreet.com/cats/norwegian-forest-cat\",\"vcahospitals_url\":\"https://vcahospitals.com/know-your-pet/cat-breeds/norwegian-forest-cat\",\"temperament\":\"Sweet, Active, Intelligent, Social, Playful, Lively, Curious\",\"origin\":\"Norway\",\"country_codes\":\"NO\",\"country_code\":\"NO\",\"description\":\"The Norwegian Forest Cat is a sweet, loving cat. She appreciates praise and loves to interact with her parent. She makes a loving companion and bonds with her parents once she accepts them for her own. She is still a hunter at heart. She loves to chase toys as if they are real. She is territorial and patrols several times each day to make certain that all is fine.\",\"life_span\":\"12 - 16\",\"indoor\":0,\"alt_names\":\"Skogkatt / Skaukatt, Norsk Skogkatt / Norsk Skaukatt, Weegie\",\"adaptability\":5,\"affection_level\":5,\"child_friendly\":4,\"dog_friendly\":5,\"energy_level\":3,\"grooming\":2,\"health_issues\":3,\"intelligence\":4,\"shedding_level\":3,\"social_needs\":5,\"stranger_friendly\":5,\"vocalisation\":1,\"experimental\":0,\"hairless\":0,\"natural\":1,\"rare\":0,\"rex\":0,\"suppressed_tail\":0,\"short_legs\":0,\"wikipedia_url\":\"https://en.wikipedia.org/wiki/Norwegian_Forest_Cat\",\"hypoallergenic\":0,\"reference_image_id\":\"06dgGmEOV\"},{\"weight\":{\"imperial\":\"7 - 15\",\"metric\":\"3 - 7\"},\"id\":\"ocic\",\"name\":\"Ocicat\",\"cfa_url\":\"http://cfa.org/Breeds/BreedsKthruR/Ocicat.aspx\",\"vetstreet_url\":\"http://www.vetstreet.com/cats/ocicat\",\"vcahospitals_url\":\"https://vcahospitals.com/know-your-pet/cat-breeds/ocicat\",\"temperament\":\"Active, Agile, Curious, Demanding, Friendly, Gentle, Lively, Playful, Social\",\"origin\":\"United States\",\"country_codes\":\"US\",\"country_code\":\"US\",\"description\":\"Loyal and devoted to their owners, the Ocicat is intelligent, confident, outgoing, and seems to have many dog traits. They can be trained to fetch toys, walk on a lead, taught to \\'speak\\', come when called, and follow other commands. \",\"life_span\":\"12 - 14\",\"indoor\":0,\"alt_names\":\"\",\"adaptability\":5,\"affection_level\":5,\"child_friendly\":4,\"dog_friendly\":5,\"energy_level\":5,\"grooming\":1,\"health_issues\":3,\"intelligence\":5,\"shedding_level\":3,\"social_needs\":5,\"stranger_friendly\":5,\"vocalisation\":3,\"experimental\":0,\"hairless\":0,\"natural\":0,\"rare\":0,\"rex\":0,\"suppressed_tail\":0,\"short_legs\":0,\"wikipedia_url\":\"https://en.wikipedia.org/wiki/Ocicat\",\"hypoallergenic\":1,\"reference_image_id\":\"JAx-08Y0n\"},{\"weight\":{\"imperial\":\"5 - 10\",\"metric\":\"2 - 5\"},\"id\":\"orie\",\"name\":\"Oriental\",\"cfa_url\":\"http://cfa.org/Breeds/BreedsKthruR/Oriental.aspx\",\"vetstreet_url\":\"http://www.vetstreet.com/cats/oriental\",\"vcahospitals_url\":\"https://vcahospitals.com/know-your-pet/cat-breeds/oriental\",\"temperament\":\"Energetic, Affectionate, Intelligent, Social, Playful, Curious\",\"origin\":\"United States\",\"country_codes\":\"US\",\"country_code\":\"US\",\"description\":\"Orientals are passionate about the people in their lives. They become extremely attached to their humans, so be prepared for a lifetime commitment. When you are not available to entertain her, an Oriental will divert herself by jumping on top of the refrigerator, opening drawers, seeking out new hideaways.\",\"life_span\":\"12 - 14\",\"indoor\":0,\"lap\":1,\"alt_names\":\"Foreign Type\",\"adaptability\":5,\"affection_level\":5,\"child_friendly\":4,\"dog_friendly\":5,\"energy_level\":5,\"grooming\":1,\"health_issues\":3,\"intelligence\":5,\"shedding_level\":3,\"social_needs\":5,\"stranger_friendly\":3,\"vocalisation\":5,\"experimental\":0,\"hairless\":0,\"natural\":0,\"rare\":0,\"rex\":0,\"suppressed_tail\":0,\"short_legs\":0,\"wikipedia_url\":\"https://en.wikipedia.org/wiki/Oriental_Shorthair\",\"hypoallergenic\":1,\"reference_image_id\":\"LutjkZJpH\"},{\"weight\":{\"imperial\":\"9 - 14\",\"metric\":\"4 - 6\"},\"id\":\"pers\",\"name\":\"Persian\",\"cfa_url\":\"http://cfa.org/Breeds/BreedsKthruR/Persian.aspx\",\"vetstreet_url\":\"http://www.vetstreet.com/cats/persian\",\"vcahospitals_url\":\"https://vcahospitals.com/know-your-pet/cat-breeds/persian\",\"temperament\":\"Affectionate, loyal, Sedate, Quiet\",\"origin\":\"Iran (Persia)\",\"country_codes\":\"IR\",\"country_code\":\"IR\",\"description\":\"Persians are sweet, gentle cats that can be playful or quiet and laid-back. Great with families and children, they absolutely love to lounge around the house. While they don’t mind a full house or active kids, they’ll usually hide when they need some alone time.\",\"life_span\":\"14 - 15\",\"indoor\":0,\"lap\":1,\"alt_names\":\"Longhair, Persian Longhair, Shiraz, Shirazi\",\"adaptability\":5,\"affection_level\":5,\"child_friendly\":2,\"dog_friendly\":2,\"energy_level\":1,\"grooming\":5,\"health_issues\":3,\"intelligence\":3,\"shedding_level\":4,\"social_needs\":4,\"stranger_friendly\":2,\"vocalisation\":1,\"experimental\":0,\"hairless\":0,\"natural\":1,\"rare\":0,\"rex\":0,\"suppressed_tail\":0,\"short_legs\":0,\"wikipedia_url\":\"https://en.wikipedia.org/wiki/Persian_(cat)\",\"hypoallergenic\":0,\"reference_image_id\":\"-Zfz5z2jK\"},{\"weight\":{\"imperial\":\"8 - 17\",\"metric\":\"4 - 8\"},\"id\":\"pixi\",\"name\":\"Pixie-bob\",\"vetstreet_url\":\"http://www.vetstreet.com/cats/pixiebob\",\"temperament\":\"Affectionate, Social, Intelligent, Loyal\",\"origin\":\"United States\",\"country_codes\":\"US\",\"country_code\":\"US\",\"description\":\"Companionable and affectionate, the Pixie-bob wants to be an integral part of the family. The Pixie-Bob’s ability to bond with their humans along with their patient personas make them excellent companions for children.\",\"life_span\":\"13 - 16\",\"indoor\":0,\"lap\":1,\"alt_names\":\"\",\"adaptability\":5,\"affection_level\":5,\"child_friendly\":4,\"dog_friendly\":5,\"energy_level\":4,\"grooming\":1,\"health_issues\":2,\"intelligence\":5,\"shedding_level\":3,\"social_needs\":4,\"stranger_friendly\":4,\"vocalisation\":1,\"experimental\":0,\"hairless\":0,\"natural\":0,\"rare\":0,\"rex\":0,\"suppressed_tail\":1,\"short_legs\":0,\"wikipedia_url\":\"https://en.wikipedia.org/wiki/Pixiebob\",\"hypoallergenic\":0,\"reference_image_id\":\"z7fJRNeN6\"},{\"weight\":{\"imperial\":\"8 - 20\",\"metric\":\"4 - 9\"},\"id\":\"raga\",\"name\":\"Ragamuffin\",\"cfa_url\":\"http://cfa.org/Breeds/BreedsKthruR/Ragamuffin.aspx\",\"vetstreet_url\":\"http://www.vetstreet.com/cats/ragamuffin\",\"vcahospitals_url\":\"https://vcahospitals.com/know-your-pet/cat-breeds/ragamuffin\",\"temperament\":\"Affectionate, Friendly, Gentle, Calm\",\"origin\":\"United States\",\"country_codes\":\"US\",\"country_code\":\"US\",\"description\":\"The Ragamuffin is calm, even tempered and gets along well with all family members. Changes in routine generally do not upset her. She is an ideal companion for those in apartments, and with children due to her patient nature.\",\"life_span\":\"12 - 16\",\"indoor\":0,\"lap\":1,\"alt_names\":\"\",\"adaptability\":5,\"affection_level\":5,\"child_friendly\":4,\"dog_friendly\":5,\"energy_level\":3,\"grooming\":3,\"health_issues\":3,\"intelligence\":5,\"shedding_level\":3,\"social_needs\":3,\"stranger_friendly\":5,\"vocalisation\":1,\"experimental\":0,\"hairless\":0,\"natural\":0,\"rare\":0,\"rex\":0,\"suppressed_tail\":0,\"short_legs\":0,\"wikipedia_url\":\"https://en.wikipedia.org/wiki/Ragamuffin_cat\",\"hypoallergenic\":0,\"reference_image_id\":\"SMuZx-bFM\"},{\"weight\":{\"imperial\":\"12 - 20\",\"metric\":\"5 - 9\"},\"id\":\"ragd\",\"name\":\"Ragdoll\",\"cfa_url\":\"http://cfa.org/Breeds/BreedsKthruR/Ragdoll.aspx\",\"vetstreet_url\":\"http://www.vetstreet.com/cats/ragdoll\",\"vcahospitals_url\":\"https://vcahospitals.com/know-your-pet/cat-breeds/ragdoll\",\"temperament\":\"Affectionate, Friendly, Gentle, Quiet, Easygoing\",\"origin\":\"United States\",\"country_codes\":\"US\",\"country_code\":\"US\",\"description\":\"Ragdolls love their people, greeting them at the door, following them around the house, and leaping into a lap or snuggling in bed whenever given the chance. They are the epitome of a lap cat, enjoy being carried and collapsing into the arms of anyone who holds them.\",\"life_span\":\"12 - 17\",\"indoor\":0,\"lap\":1,\"alt_names\":\"Rag doll\",\"adaptability\":5,\"affection_level\":5,\"child_friendly\":4,\"dog_friendly\":5,\"energy_level\":3,\"grooming\":2,\"health_issues\":3,\"intelligence\":3,\"shedding_level\":3,\"social_needs\":5,\"stranger_friendly\":3,\"vocalisation\":1,\"experimental\":0,\"hairless\":0,\"natural\":0,\"rare\":0,\"rex\":0,\"suppressed_tail\":0,\"short_legs\":0,\"wikipedia_url\":\"https://en.wikipedia.org/wiki/Ragdoll\",\"hypoallergenic\":0,\"reference_image_id\":\"oGefY4YoG\"},{\"weight\":{\"imperial\":\"5 - 11\",\"metric\":\"2 - 5\"},\"id\":\"rblu\",\"name\":\"Russian Blue\",\"cfa_url\":\"http://cfa.org/Breeds/BreedsKthruR/RussianBlue.aspx\",\"vetstreet_url\":\"http://www.vetstreet.com/cats/russian-blue-nebelung\",\"vcahospitals_url\":\"https://vcahospitals.com/know-your-pet/cat-breeds/russian-blue\",\"temperament\":\"Active, Dependent, Easy Going, Gentle, Intelligent, Loyal, Playful, Quiet\",\"origin\":\"Russia\",\"country_codes\":\"RU\",\"country_code\":\"RU\",\"description\":\"Russian Blues are very loving and reserved. They do not like noisy households but they do like to play and can be quite active when outdoors. They bond very closely with their owner and are known to be compatible with other pets.\",\"life_span\":\"10 - 16\",\"indoor\":0,\"lap\":1,\"alt_names\":\"Archangel Blue, Archangel Cat\",\"adaptability\":3,\"affection_level\":3,\"child_friendly\":3,\"dog_friendly\":3,\"energy_level\":3,\"grooming\":3,\"health_issues\":1,\"intelligence\":3,\"shedding_level\":3,\"social_needs\":3,\"stranger_friendly\":1,\"vocalisation\":1,\"experimental\":0,\"hairless\":0,\"natural\":1,\"rare\":0,\"rex\":0,\"suppressed_tail\":0,\"short_legs\":0,\"wikipedia_url\":\"https://en.wikipedia.org/wiki/Russian_Blue\",\"hypoallergenic\":1,\"reference_image_id\":\"Rhj-JsTLP\"},{\"weight\":{\"imperial\":\"8 - 25\",\"metric\":\"4 - 11\"},\"id\":\"sava\",\"name\":\"Savannah\",\"vetstreet_url\":\"http://www.vetstreet.com/cats/savannah\",\"temperament\":\"Curious, Social, Intelligent, Loyal, Outgoing, Adventurous, Affectionate\",\"origin\":\"United States\",\"country_codes\":\"US\",\"country_code\":\"US\",\"description\":\"Savannah is the feline version of a dog. Actively seeking social interaction, they are given to pouting if left out. Remaining kitten-like through life. Profoundly loyal to immediate family members whilst questioning the presence of strangers. Making excellent companions that are loyal, intelligent and eager to be involved.\",\"life_span\":\"17 - 20\",\"indoor\":0,\"alt_names\":\"\",\"adaptability\":5,\"affection_level\":5,\"child_friendly\":4,\"dog_friendly\":5,\"energy_level\":5,\"grooming\":1,\"health_issues\":1,\"intelligence\":5,\"shedding_level\":3,\"social_needs\":5,\"stranger_friendly\":5,\"vocalisation\":1,\"experimental\":1,\"hairless\":0,\"natural\":0,\"rare\":0,\"rex\":0,\"suppressed_tail\":0,\"short_legs\":0,\"wikipedia_url\":\"https://en.wikipedia.org/wiki/Savannah_cat\",\"hypoallergenic\":0,\"reference_image_id\":\"a8nIYvs6S\"},{\"weight\":{\"imperial\":\"5 - 11\",\"metric\":\"2 - 5\"},\"id\":\"sfol\",\"name\":\"Scottish Fold\",\"cfa_url\":\"http://cfa.org/Breeds/BreedsSthruT/ScottishFold.aspx\",\"vetstreet_url\":\"http://www.vetstreet.com/cats/scottish-fold-highland-fold\",\"vcahospitals_url\":\"https://vcahospitals.com/know-your-pet/cat-breeds/scottish-fold\",\"temperament\":\"Affectionate, Intelligent, Loyal, Playful, Social, Sweet, Loving\",\"origin\":\"United Kingdom\",\"country_codes\":\"GB\",\"country_code\":\"GB\",\"description\":\"The Scottish Fold is a sweet, charming breed. She is an easy cat to live with and to care for. She is affectionate and is comfortable with all members of her family. Her tail should be handled gently. Folds are known for sleeping on their backs, and for sitting with their legs stretched out and their paws on their belly. This is called the \\\\\"Buddha Position\\\\\".\",\"life_span\":\"11 - 14\",\"indoor\":0,\"alt_names\":\"Scot Fold\",\"adaptability\":5,\"affection_level\":5,\"child_friendly\":4,\"dog_friendly\":5,\"energy_level\":3,\"grooming\":1,\"health_issues\":4,\"intelligence\":3,\"shedding_level\":3,\"social_needs\":3,\"stranger_friendly\":3,\"vocalisation\":1,\"experimental\":0,\"hairless\":0,\"natural\":0,\"rare\":0,\"rex\":0,\"suppressed_tail\":0,\"short_legs\":0,\"wikipedia_url\":\"https://en.wikipedia.org/wiki/Scottish_Fold\",\"hypoallergenic\":0,\"reference_image_id\":\"o9t0LDcsa\"},{\"weight\":{\"imperial\":\"6 - 16\",\"metric\":\"3 - 7\"},\"id\":\"srex\",\"name\":\"Selkirk Rex\",\"cfa_url\":\"http://cfa.org/Breeds/BreedsSthruT/SelkirkRex.aspx\",\"vetstreet_url\":\"http://www.vetstreet.com/cats/selkirk-rex\",\"vcahospitals_url\":\"https://vcahospitals.com/know-your-pet/cat-breeds/selkirk-rex\",\"temperament\":\"Active, Affectionate, Dependent, Gentle, Patient, Playful, Quiet, Social\",\"origin\":\"United States\",\"country_codes\":\"US\",\"country_code\":\"US\",\"description\":\"The Selkirk Rex is an incredibly patient, loving, and tolerant breed. The Selkirk also has a silly side and is sometimes described as clownish. She loves being a lap cat and will be happy to chat with you in a quiet voice if you talk to her. \",\"life_span\":\"14 - 15\",\"indoor\":0,\"lap\":1,\"alt_names\":\"Shepherd Cat\",\"adaptability\":5,\"affection_level\":5,\"child_friendly\":4,\"dog_friendly\":5,\"energy_level\":3,\"grooming\":2,\"health_issues\":4,\"intelligence\":3,\"shedding_level\":1,\"social_needs\":3,\"stranger_friendly\":3,\"vocalisation\":3,\"experimental\":0,\"hairless\":0,\"natural\":0,\"rare\":0,\"rex\":1,\"suppressed_tail\":0,\"short_legs\":0,\"wikipedia_url\":\"https://en.wikipedia.org/wiki/Selkirk_Rex\",\"hypoallergenic\":1,\"reference_image_id\":\"II9dOZmrw\"},{\"weight\":{\"imperial\":\"8 - 15\",\"metric\":\"4 - 7\"},\"id\":\"siam\",\"name\":\"Siamese\",\"cfa_url\":\"http://cfa.org/Breeds/BreedsSthruT/Siamese.aspx\",\"vetstreet_url\":\"http://www.vetstreet.com/cats/siamese\",\"vcahospitals_url\":\"https://vcahospitals.com/know-your-pet/cat-breeds/siamese\",\"temperament\":\"Active, Agile, Clever, Sociable, Loving, Energetic\",\"origin\":\"Thailand\",\"country_codes\":\"TH\",\"country_code\":\"TH\",\"description\":\"While Siamese cats are extremely fond of their people, they will follow you around and supervise your every move, being talkative and opinionated. They are a demanding and social cat, that do not like being left alone for long periods.\",\"life_span\":\"12 - 15\",\"indoor\":0,\"lap\":1,\"alt_names\":\"Siam, Thai Cat\",\"adaptability\":5,\"affection_level\":5,\"child_friendly\":4,\"dog_friendly\":5,\"energy_level\":5,\"grooming\":1,\"health_issues\":1,\"intelligence\":5,\"shedding_level\":2,\"social_needs\":5,\"stranger_friendly\":5,\"vocalisation\":5,\"experimental\":0,\"hairless\":0,\"natural\":0,\"rare\":0,\"rex\":0,\"suppressed_tail\":0,\"short_legs\":0,\"wikipedia_url\":\"https://en.wikipedia.org/wiki/Siamese_(cat)\",\"hypoallergenic\":1,\"reference_image_id\":\"ai6Jps4sx\"},{\"weight\":{\"imperial\":\"8 - 16\",\"metric\":\"4 - 7\"},\"id\":\"sibe\",\"name\":\"Siberian\",\"cfa_url\":\"http://cfa.org/Breeds/BreedsSthruT/Siberian.aspx\",\"vetstreet_url\":\"http://www.vetstreet.com/cats/siberian\",\"vcahospitals_url\":\"https://vcahospitals.com/know-your-pet/cat-breeds/siberian\",\"temperament\":\"Curious, Intelligent, Loyal, Sweet, Agile, Playful, Affectionate\",\"origin\":\"Russia\",\"country_codes\":\"RU\",\"country_code\":\"RU\",\"description\":\"The Siberians dog like temperament and affection makes the ideal lap cat and will live quite happily indoors. Very agile and powerful, the Siberian cat can easily leap and reach high places, including the tops of refrigerators and even doors. \",\"life_span\":\"12 - 15\",\"indoor\":0,\"lap\":1,\"alt_names\":\"Moscow Semi-longhair, HairSiberian Forest Cat\",\"adaptability\":5,\"affection_level\":5,\"child_friendly\":4,\"dog_friendly\":5,\"energy_level\":5,\"grooming\":2,\"health_issues\":2,\"intelligence\":5,\"shedding_level\":3,\"social_needs\":4,\"stranger_friendly\":3,\"vocalisation\":1,\"experimental\":0,\"hairless\":0,\"natural\":1,\"rare\":0,\"rex\":0,\"suppressed_tail\":0,\"short_legs\":0,\"wikipedia_url\":\"https://en.wikipedia.org/wiki/Siberian_(cat)\",\"hypoallergenic\":1,\"reference_image_id\":\"3bkZAjRh1\"},{\"weight\":{\"imperial\":\"5 - 8\",\"metric\":\"2 - 4\"},\"id\":\"sing\",\"name\":\"Singapura\",\"cfa_url\":\"http://cfa.org/Breeds/BreedsSthruT/Singapura.aspx\",\"vetstreet_url\":\"http://www.vetstreet.com/cats/singapura\",\"vcahospitals_url\":\"https://vcahospitals.com/know-your-pet/cat-breeds/singapura\",\"temperament\":\"Affectionate, Curious, Easy Going, Intelligent, Interactive, Lively, Loyal\",\"origin\":\"Singapore\",\"country_codes\":\"SP\",\"country_code\":\"SP\",\"description\":\"The Singapura is usually cautious when it comes to meeting new people, but loves attention from his family so much that she sometimes has the reputation of being a pest. This is a highly active, curious and affectionate cat. She may be small, but she knows she’s in charge\",\"life_span\":\"12 - 15\",\"indoor\":0,\"lap\":1,\"alt_names\":\"Drain Cat, Kucinta, Pura\",\"adaptability\":5,\"affection_level\":5,\"child_friendly\":4,\"dog_friendly\":5,\"energy_level\":5,\"grooming\":1,\"health_issues\":1,\"intelligence\":5,\"shedding_level\":3,\"social_needs\":5,\"stranger_friendly\":5,\"vocalisation\":1,\"experimental\":0,\"hairless\":0,\"natural\":0,\"rare\":0,\"rex\":0,\"suppressed_tail\":0,\"short_legs\":0,\"wikipedia_url\":\"https://en.wikipedia.org/wiki/Singapura_(cat)\",\"hypoallergenic\":0,\"reference_image_id\":\"Qtncp2nRe\"},{\"weight\":{\"imperial\":\"7 - 12\",\"metric\":\"3 - 5\"},\"id\":\"snow\",\"name\":\"Snowshoe\",\"temperament\":\"Affectionate, Social, Intelligent, Sweet-tempered\",\"origin\":\"United States\",\"country_codes\":\"US\",\"country_code\":\"US\",\"description\":\"The Snowshoe is a vibrant, energetic, affectionate and intelligent cat. They love being around people which makes them ideal for families, and becomes unhappy when left alone for long periods of time. Usually attaching themselves to one person, they do whatever they can to get your attention.\",\"life_span\":\"14 - 19\",\"indoor\":0,\"lap\":1,\"alt_names\":\"\",\"adaptability\":5,\"affection_level\":5,\"child_friendly\":4,\"dog_friendly\":5,\"energy_level\":4,\"grooming\":3,\"health_issues\":1,\"intelligence\":5,\"shedding_level\":3,\"social_needs\":4,\"stranger_friendly\":4,\"vocalisation\":5,\"experimental\":0,\"hairless\":0,\"natural\":0,\"rare\":0,\"rex\":0,\"suppressed_tail\":0,\"short_legs\":0,\"wikipedia_url\":\"https://en.wikipedia.org/wiki/Snowshoe_(cat)\",\"hypoallergenic\":0,\"reference_image_id\":\"MK-sYESvO\"},{\"weight\":{\"imperial\":\"6 - 12\",\"metric\":\"3 - 5\"},\"id\":\"soma\",\"name\":\"Somali\",\"cfa_url\":\"http://cfa.org/Breeds/BreedsSthruT/Somali.aspx\",\"vetstreet_url\":\"http://www.vetstreet.com/cats/somali\",\"vcahospitals_url\":\"https://vcahospitals.com/know-your-pet/cat-breeds/somali\",\"temperament\":\"Mischievous, Tenacious, Intelligent, Affectionate, Gentle, Interactive, Loyal\",\"origin\":\"Somalia\",\"country_codes\":\"SO\",\"country_code\":\"SO\",\"description\":\"The Somali lives life to the fullest. He climbs higher, jumps farther, plays harder. Nothing escapes the notice of this highly intelligent and inquisitive cat. Somalis love the company of humans and other animals.\",\"life_span\":\"12 - 16\",\"indoor\":0,\"alt_names\":\"Fox Cat, Long-Haired Abyssinian\",\"adaptability\":5,\"affection_level\":5,\"child_friendly\":3,\"dog_friendly\":4,\"energy_level\":5,\"grooming\":3,\"health_issues\":2,\"intelligence\":5,\"shedding_level\":4,\"social_needs\":5,\"stranger_friendly\":5,\"vocalisation\":1,\"experimental\":0,\"hairless\":0,\"natural\":0,\"rare\":0,\"rex\":0,\"suppressed_tail\":0,\"short_legs\":0,\"wikipedia_url\":\"https://en.wikipedia.org/wiki/Somali_(cat)\",\"hypoallergenic\":0,\"reference_image_id\":\"EPF2ejNS0\"},{\"weight\":{\"imperial\":\"6 - 12\",\"metric\":\"3 - 5\"},\"id\":\"sphy\",\"name\":\"Sphynx\",\"cfa_url\":\"http://cfa.org/Breeds/BreedsSthruT/Sphynx.aspx\",\"vetstreet_url\":\"http://www.vetstreet.com/cats/sphynx\",\"vcahospitals_url\":\"https://vcahospitals.com/know-your-pet/cat-breeds/sphynx\",\"temperament\":\"Loyal, Inquisitive, Friendly, Quiet, Gentle\",\"origin\":\"Canada\",\"country_codes\":\"CA\",\"country_code\":\"CA\",\"description\":\"The Sphynx is an intelligent, inquisitive, extremely friendly people-oriented breed. Sphynx commonly greet their owners  at the front door, with obvious excitement and happiness. She has an unexpected sense of humor that is often at odds with her dour expression.\",\"life_span\":\"12 - 14\",\"indoor\":0,\"lap\":1,\"alt_names\":\"Canadian Hairless, Canadian Sphynx\",\"adaptability\":5,\"affection_level\":5,\"child_friendly\":4,\"dog_friendly\":5,\"energy_level\":3,\"grooming\":2,\"health_issues\":4,\"intelligence\":5,\"shedding_level\":1,\"social_needs\":5,\"stranger_friendly\":5,\"vocalisation\":5,\"experimental\":0,\"hairless\":1,\"natural\":0,\"rare\":1,\"rex\":0,\"suppressed_tail\":0,\"short_legs\":0,\"wikipedia_url\":\"https://en.wikipedia.org/wiki/Sphynx_(cat)\",\"hypoallergenic\":1,\"reference_image_id\":\"BDb8ZXb1v\"},{\"weight\":{\"imperial\":\"6 - 12\",\"metric\":\"3 - 5\"},\"id\":\"tonk\",\"name\":\"Tonkinese\",\"cfa_url\":\"http://cfa.org/Breeds/BreedsSthruT/Tonkinese.aspx\",\"vetstreet_url\":\"http://www.vetstreet.com/cats/tonkinese\",\"vcahospitals_url\":\"https://vcahospitals.com/know-your-pet/cat-breeds/tonkinese\",\"temperament\":\"Curious, Intelligent, Social, Lively, Outgoing, Playful, Affectionate\",\"origin\":\"Canada\",\"country_codes\":\"CA\",\"country_code\":\"CA\",\"description\":\"Intelligent and generous with their affection, a Tonkinese will supervise all activities with curiosity. Loving, social, active, playful, yet content to be a lap cat\",\"life_span\":\"14 - 16\",\"indoor\":0,\"lap\":1,\"alt_names\":\"Tonk\",\"adaptability\":5,\"affection_level\":5,\"child_friendly\":4,\"dog_friendly\":5,\"energy_level\":5,\"grooming\":1,\"health_issues\":1,\"intelligence\":5,\"shedding_level\":3,\"social_needs\":5,\"stranger_friendly\":5,\"vocalisation\":5,\"experimental\":0,\"hairless\":0,\"natural\":0,\"rare\":0,\"rex\":0,\"suppressed_tail\":0,\"short_legs\":0,\"wikipedia_url\":\"https://en.wikipedia.org/wiki/Tonkinese_(cat)\",\"hypoallergenic\":0,\"reference_image_id\":\"KBroiVNCM\"},{\"weight\":{\"imperial\":\"7 - 15\",\"metric\":\"3 - 7\"},\"id\":\"toyg\",\"name\":\"Toyger\",\"vetstreet_url\":\"http://www.vetstreet.com/cats/toyger\",\"temperament\":\"Playful, Social, Intelligent\",\"origin\":\"United States\",\"country_codes\":\"US\",\"country_code\":\"US\",\"description\":\"The Toyger has a sweet, calm personality and is generally friendly. He\\'s outgoing enough to walk on a leash, energetic enough to play fetch and other interactive games, and confident enough to get along with other cats and friendly dogs.\",\"life_span\":\"12 - 15\",\"indoor\":0,\"lap\":1,\"alt_names\":\"\",\"adaptability\":5,\"affection_level\":5,\"child_friendly\":4,\"dog_friendly\":5,\"energy_level\":5,\"grooming\":1,\"health_issues\":2,\"intelligence\":5,\"shedding_level\":3,\"social_needs\":3,\"stranger_friendly\":5,\"vocalisation\":5,\"experimental\":0,\"hairless\":0,\"natural\":0,\"rare\":0,\"rex\":0,\"suppressed_tail\":0,\"short_legs\":0,\"wikipedia_url\":\"https://en.wikipedia.org/wiki/Toyger\",\"hypoallergenic\":0,\"reference_image_id\":\"O3F3_S1XN\"},{\"weight\":{\"imperial\":\"5 - 10\",\"metric\":\"2 - 5\"},\"id\":\"tang\",\"name\":\"Turkish Angora\",\"cfa_url\":\"http://cfa.org/Breeds/BreedsSthruT/TurkishAngora.aspx\",\"vetstreet_url\":\"http://www.vetstreet.com/cats/turkish-angora\",\"vcahospitals_url\":\"https://vcahospitals.com/know-your-pet/cat-breeds/turkish-angora\",\"temperament\":\"Affectionate, Agile, Clever, Gentle, Intelligent, Playful, Social\",\"origin\":\"Turkey\",\"country_codes\":\"TR\",\"country_code\":\"TR\",\"description\":\"This is a smart and intelligent cat which bonds well with humans. With its affectionate and playful personality the Angora is a top choice for families. The Angora gets along great with other pets in the home, but it will make clear who is in charge, and who the house belongs to\",\"life_span\":\"15 - 18\",\"indoor\":0,\"alt_names\":\"Ankara\",\"adaptability\":5,\"affection_level\":5,\"child_friendly\":4,\"dog_friendly\":5,\"energy_level\":5,\"grooming\":2,\"health_issues\":2,\"intelligence\":5,\"shedding_level\":2,\"social_needs\":5,\"stranger_friendly\":5,\"vocalisation\":3,\"experimental\":0,\"hairless\":0,\"natural\":1,\"rare\":0,\"rex\":0,\"suppressed_tail\":0,\"short_legs\":0,\"wikipedia_url\":\"https://en.wikipedia.org/wiki/Turkish_Angora\",\"hypoallergenic\":0,\"reference_image_id\":\"7CGV6WVXq\"},{\"weight\":{\"imperial\":\"7 - 20\",\"metric\":\"3 - 9\"},\"id\":\"tvan\",\"name\":\"Turkish Van\",\"cfa_url\":\"http://cfa.org/Breeds/BreedsSthruT/TurkishVan.aspx\",\"vetstreet_url\":\"http://www.vetstreet.com/cats/turkish-van\",\"vcahospitals_url\":\"https://vcahospitals.com/know-your-pet/cat-breeds/turkish-van\",\"temperament\":\"Agile, Intelligent, Loyal, Playful, Energetic\",\"origin\":\"Turkey\",\"country_codes\":\"TR\",\"country_code\":\"TR\",\"description\":\"While the Turkish Van loves to jump and climb, play with toys, retrieve and play chase, she is is big and ungainly; this is one cat who doesn’t always land on his feet. While not much of a lap cat, the Van will be happy to cuddle next to you and sleep in your bed. \",\"life_span\":\"12 - 17\",\"indoor\":0,\"alt_names\":\"Turkish Cat, Swimming cat\",\"adaptability\":5,\"affection_level\":5,\"child_friendly\":4,\"dog_friendly\":5,\"energy_level\":5,\"grooming\":2,\"health_issues\":1,\"intelligence\":5,\"shedding_level\":3,\"social_needs\":4,\"stranger_friendly\":4,\"vocalisation\":5,\"experimental\":0,\"hairless\":0,\"natural\":1,\"rare\":0,\"rex\":0,\"suppressed_tail\":0,\"short_legs\":0,\"wikipedia_url\":\"https://en.wikipedia.org/wiki/Turkish_Van\",\"hypoallergenic\":0,\"reference_image_id\":\"sxIXJax6h\"},{\"weight\":{\"imperial\":\"12 - 18\",\"metric\":\"5 - 8\"},\"id\":\"ycho\",\"name\":\"York Chocolate\",\"temperament\":\"Playful, Social, Intelligent, Curious, Friendly\",\"origin\":\"United States\",\"country_codes\":\"US\",\"country_code\":\"US\",\"description\":\"York Chocolate cats are known to be true lap cats with a sweet temperament. They love to be cuddled and petted. Their curious nature makes them follow you all the time and participate in almost everything you do, even if it\\'s related to water: unlike many other cats, York Chocolates love it.\",\"life_span\":\"13 - 15\",\"indoor\":0,\"lap\":1,\"alt_names\":\"York\",\"adaptability\":5,\"affection_level\":5,\"child_friendly\":4,\"dog_friendly\":5,\"energy_level\":5,\"grooming\":3,\"health_issues\":1,\"intelligence\":5,\"shedding_level\":3,\"social_needs\":4,\"stranger_friendly\":4,\"vocalisation\":5,\"experimental\":0,\"hairless\":0,\"natural\":0,\"rare\":0,\"rex\":0,\"suppressed_tail\":0,\"short_legs\":0,\"wikipedia_url\":\"https://en.wikipedia.org/wiki/York_Chocolate\",\"hypoallergenic\":0,\"reference_image_id\":\"0SxW2SQ_S\"}]'"
      ]
     },
     "execution_count": 7,
     "metadata": {},
     "output_type": "execute_result"
    }
   ],
   "source": [
    "response = requests.get(\"https://api.thecatapi.com/v1/breeds\")\n",
    "response.text"
   ]
  },
  {
   "cell_type": "markdown",
   "id": "42fd5faf-4732-428e-81d2-96739aac6063",
   "metadata": {},
   "source": [
    "Una cosa que es necesario saber sobre los **endpoints** es la diferencia entre `http://` y `https://`. HTTPS es la versión cifrada de HTTP, lo que hace que todo el tráfico entre el cliente y el servidor sea mucho más seguro. Al consumir API públicas, lo ideal es evitar enviar información privada o confidencial a los endpoints con `http://` y utilizar solo aquellas API que proporcionen una URL base `https://` segura.\n",
    "\n",
    "### Request y Response\n",
    "\n",
    "Todas las interacciones entre un cliente (en este caso, el notebook) y una API se dividen en un `request` y una `response`:\n",
    "\n",
    "- Los `requests` contienen datos relevantes sobre la llamada de solicitud, como la URL base, el endpoint, el método utilizado, los encabezados, etc.\n",
    "- Los `responses` contienen datos relevantes devueltos por el servidor, incluidos los datos o el contenido, el código de estado y los encabezados.\n",
    "\n",
    "Usando The Cat API nuevamente, profundicemos un poco más en lo que hay exactamente dentro de los objetos `request` y `response`:"
   ]
  },
  {
   "cell_type": "code",
   "execution_count": 8,
   "id": "86b045b9-68fa-481f-b338-ea385cf61685",
   "metadata": {},
   "outputs": [
    {
     "data": {
      "text/plain": [
       "<Response [200]>"
      ]
     },
     "execution_count": 8,
     "metadata": {},
     "output_type": "execute_result"
    }
   ],
   "source": [
    "response = requests.get(\"https://api.thecatapi.com/v1/breeds\")\n",
    "response"
   ]
  },
  {
   "cell_type": "code",
   "execution_count": 9,
   "id": "13ac9b9e-84ca-49ae-87cf-312a9b9a7d30",
   "metadata": {},
   "outputs": [
    {
     "data": {
      "text/plain": [
       "200"
      ]
     },
     "execution_count": 9,
     "metadata": {},
     "output_type": "execute_result"
    }
   ],
   "source": [
    "response.status_code"
   ]
  },
  {
   "cell_type": "code",
   "execution_count": 10,
   "id": "c6ab36db-a325-425f-8dc0-19be59992ac6",
   "metadata": {},
   "outputs": [
    {
     "data": {
      "text/plain": [
       "'[{\"weight\":{\"imperial\":\"7  -  10\",\"metric\":\"3 - 5\"},\"id\":\"abys\",\"name\":\"Abyssinian\",\"cfa_url\":\"http://cfa.org/Breeds/BreedsAB/Abyssinian.aspx\",\"vetstreet_url\":\"http://www.vetstreet.com/cats/abyssinian\",\"vcahospitals_url\":\"https://vcahospitals.com/know-your-pet/cat-breeds/abyssinian\",\"temperament\":\"Active, Energetic, Independent, Intelligent, Gentle\",\"origin\":\"Egypt\",\"country_codes\":\"EG\",\"country_code\":\"EG\",\"description\":\"The Abyssinian is easy to care for, and a joy to have in your home. They’re affectionate cats and love both people and other animals.\",\"life_span\":\"14 - 15\",\"indoor\":0,\"lap\":1,\"alt_names\":\"\",\"adaptability\":5,\"affection_level\":5,\"child_friendly\":3,\"dog_friendly\":4,\"energy_level\":5,\"grooming\":1,\"health_issues\":2,\"intelligence\":5,\"shedding_level\":2,\"social_needs\":5,\"stranger_friendly\":5,\"vocalisation\":1,\"experimental\":0,\"hairless\":0,\"natural\":1,\"rare\":0,\"rex\":0,\"suppressed_tail\":0,\"short_legs\":0,\"wikipedia_url\":\"https://en.wikipedia.org/wiki/Abyssinian_(cat)\",\"hypoallergenic\":0,\"reference_image_id\":\"0XYvRd7oD\"},{\"weight\":{\"imperial\":\"7 - 10\",\"metric\":\"3 - 5\"},\"id\":\"aege\",\"name\":\"Aegean\",\"vetstreet_url\":\"http://www.vetstreet.com/cats/aegean-cat\",\"temperament\":\"Affectionate, Social, Intelligent, Playful, Active\",\"origin\":\"Greece\",\"country_codes\":\"GR\",\"country_code\":\"GR\",\"description\":\"Native to the Greek islands known as the Cyclades in the Aegean Sea, these are natural cats, meaning they developed without humans getting involved in their breeding. As a breed, Aegean Cats are rare, although they are numerous on their home islands. They are generally friendly toward people and can be excellent cats for families with children.\",\"life_span\":\"9 - 12\",\"indoor\":0,\"alt_names\":\"\",\"adaptability\":5,\"affection_level\":4,\"child_friendly\":4,\"dog_friendly\":4,\"energy_level\":3,\"grooming\":3,\"health_issues\":1,\"intelligence\":3,\"shedding_level\":3,\"social_needs\":4,\"stranger_friendly\":4,\"vocalisation\":3,\"experimental\":0,\"hairless\":0,\"natural\":0,\"rare\":0,\"rex\":0,\"suppressed_tail\":0,\"short_legs\":0,\"wikipedia_url\":\"https://en.wikipedia.org/wiki/Aegean_cat\",\"hypoallergenic\":0,\"reference_image_id\":\"ozEvzdVM-\"},{\"weight\":{\"imperial\":\"7 - 16\",\"metric\":\"3 - 7\"},\"id\":\"abob\",\"name\":\"American Bobtail\",\"cfa_url\":\"http://cfa.org/Breeds/BreedsAB/AmericanBobtail.aspx\",\"vetstreet_url\":\"http://www.vetstreet.com/cats/american-bobtail\",\"vcahospitals_url\":\"https://vcahospitals.com/know-your-pet/cat-breeds/american-bobtail\",\"temperament\":\"Intelligent, Interactive, Lively, Playful, Sensitive\",\"origin\":\"United States\",\"country_codes\":\"US\",\"country_code\":\"US\",\"description\":\"American Bobtails are loving and incredibly intelligent cats possessing a distinctive wild appearance. They are extremely interactive cats that bond with their human family with great devotion.\",\"life_span\":\"11 - 15\",\"indoor\":0,\"lap\":1,\"alt_names\":\"\",\"adaptability\":5,\"affection_level\":5,\"child_friendly\":4,\"dog_friendly\":5,\"energy_level\":3,\"grooming\":1,\"health_issues\":1,\"intelligence\":5,\"shedding_level\":3,\"social_needs\":3,\"stranger_friendly\":3,\"vocalisation\":3,\"experimental\":0,\"hairless\":0,\"natural\":0,\"rare\":0,\"rex\":0,\"suppressed_tail\":1,\"short_legs\":0,\"wikipedia_url\":\"https://en.wikipedia.org/wiki/American_Bobtail\",\"hypoallergenic\":0,\"reference_image_id\":\"hBXicehMA\"},{\"weight\":{\"imperial\":\"5 - 10\",\"metric\":\"2 - 5\"},\"id\":\"acur\",\"name\":\"American Curl\",\"cfa_url\":\"http://cfa.org/Breeds/BreedsAB/AmericanCurl.aspx\",\"vetstreet_url\":\"http://www.vetstreet.com/cats/american-curl\",\"vcahospitals_url\":\"https://vcahospitals.com/know-your-pet/cat-breeds/american-curl\",\"temperament\":\"Affectionate, Curious, Intelligent, Interactive, Lively, Playful, Social\",\"origin\":\"United States\",\"country_codes\":\"US\",\"country_code\":\"US\",\"description\":\"Distinguished by truly unique ears that curl back in a graceful arc, offering an alert, perky, happily surprised expression, they cause people to break out into a big smile when viewing their first Curl. Curls are very people-oriented, faithful, affectionate soulmates, adjusting remarkably fast to other pets, children, and new situations.\",\"life_span\":\"12 - 16\",\"indoor\":0,\"lap\":1,\"alt_names\":\"\",\"adaptability\":5,\"affection_level\":5,\"child_friendly\":4,\"dog_friendly\":5,\"energy_level\":3,\"grooming\":2,\"health_issues\":1,\"intelligence\":3,\"shedding_level\":3,\"social_needs\":3,\"stranger_friendly\":3,\"vocalisation\":3,\"experimental\":0,\"hairless\":0,\"natural\":0,\"rare\":0,\"rex\":0,\"suppressed_tail\":0,\"short_legs\":0,\"wikipedia_url\":\"https://en.wikipedia.org/wiki/American_Curl\",\"hypoallergenic\":0,\"reference_image_id\":\"xnsqonbjW\"},{\"weight\":{\"imperial\":\"8 - 15\",\"metric\":\"4 - 7\"},\"id\":\"asho\",\"name\":\"American Shorthair\",\"cfa_url\":\"http://cfa.org/Breeds/BreedsAB/AmericanShorthair.aspx\",\"vetstreet_url\":\"http://www.vetstreet.com/cats/american-shorthair\",\"vcahospitals_url\":\"https://vcahospitals.com/know-your-pet/cat-breeds/american-shorthair\",\"temperament\":\"Active, Curious, Easy Going, Playful, Calm\",\"origin\":\"United States\",\"country_codes\":\"US\",\"country_code\":\"US\",\"description\":\"The American Shorthair is known for its longevity, robust health, good looks, sweet personality, and amiability with children, dogs, and other pets.\",\"life_span\":\"15 - 17\",\"indoor\":0,\"lap\":1,\"alt_names\":\"Domestic Shorthair\",\"adaptability\":5,\"affection_level\":5,\"child_friendly\":4,\"dog_friendly\":5,\"energy_level\":3,\"grooming\":1,\"health_issues\":3,\"intelligence\":3,\"shedding_level\":3,\"social_needs\":4,\"stranger_friendly\":3,\"vocalisation\":3,\"experimental\":0,\"hairless\":0,\"natural\":1,\"rare\":0,\"rex\":0,\"suppressed_tail\":0,\"short_legs\":0,\"wikipedia_url\":\"https://en.wikipedia.org/wiki/American_Shorthair\",\"hypoallergenic\":0,\"reference_image_id\":\"JFPROfGtQ\"},{\"weight\":{\"imperial\":\"8 - 15\",\"metric\":\"4 - 7\"},\"id\":\"awir\",\"name\":\"American Wirehair\",\"cfa_url\":\"http://cfa.org/Breeds/BreedsAB/AmericanWirehair.aspx\",\"vetstreet_url\":\"http://www.vetstreet.com/cats/american-wirehair\",\"temperament\":\"Affectionate, Curious, Gentle, Intelligent, Interactive, Lively, Loyal, Playful, Sensible, Social\",\"origin\":\"United States\",\"country_codes\":\"US\",\"country_code\":\"US\",\"description\":\"The American Wirehair tends to be a calm and tolerant cat who takes life as it comes. His favorite hobby is bird-watching from a sunny windowsill, and his hunting ability will stand you in good stead if insects enter the house.\",\"life_span\":\"14 - 18\",\"indoor\":0,\"lap\":1,\"alt_names\":\"\",\"adaptability\":5,\"affection_level\":5,\"child_friendly\":4,\"dog_friendly\":5,\"energy_level\":3,\"grooming\":1,\"health_issues\":3,\"intelligence\":3,\"shedding_level\":1,\"social_needs\":3,\"stranger_friendly\":3,\"vocalisation\":3,\"experimental\":0,\"hairless\":0,\"natural\":0,\"rare\":0,\"rex\":0,\"suppressed_tail\":0,\"short_legs\":0,\"wikipedia_url\":\"https://en.wikipedia.org/wiki/American_Wirehair\",\"hypoallergenic\":0,\"reference_image_id\":\"8D--jCd21\"},{\"weight\":{\"imperial\":\"8 - 16\",\"metric\":\"4 - 7\"},\"id\":\"amau\",\"name\":\"Arabian Mau\",\"vcahospitals_url\":\"\",\"temperament\":\"Affectionate, Agile, Curious, Independent, Playful, Loyal\",\"origin\":\"United Arab Emirates\",\"country_codes\":\"AE\",\"country_code\":\"AE\",\"description\":\"Arabian Mau cats are social and energetic. Due to their energy levels, these cats do best in homes where their owners will be able to provide them with plenty of playtime, attention and interaction from their owners. These kitties are friendly, intelligent, and adaptable, and will even get along well with other pets and children.\",\"life_span\":\"12 - 14\",\"indoor\":0,\"alt_names\":\"Alley cat\",\"adaptability\":5,\"affection_level\":5,\"child_friendly\":4,\"dog_friendly\":5,\"energy_level\":4,\"grooming\":1,\"health_issues\":1,\"intelligence\":3,\"shedding_level\":1,\"social_needs\":3,\"stranger_friendly\":3,\"vocalisation\":1,\"experimental\":0,\"hairless\":0,\"natural\":1,\"rare\":0,\"rex\":0,\"suppressed_tail\":0,\"short_legs\":0,\"wikipedia_url\":\"https://en.wikipedia.org/wiki/Arabian_Mau\",\"hypoallergenic\":0,\"reference_image_id\":\"k71ULYfRr\"},{\"weight\":{\"imperial\":\"7 - 15\",\"metric\":\"3 - 7\"},\"id\":\"amis\",\"name\":\"Australian Mist\",\"temperament\":\"Lively, Social, Fun-loving, Relaxed, Affectionate\",\"origin\":\"Australia\",\"country_codes\":\"AU\",\"country_code\":\"AU\",\"description\":\"The Australian Mist thrives on human companionship. Tolerant of even the youngest of children, these friendly felines enjoy playing games and being part of the hustle and bustle of a busy household. They make entertaining companions for people of all ages, and are happy to remain indoors between dusk and dawn or to be wholly indoor pets.\",\"life_span\":\"12 - 16\",\"indoor\":0,\"lap\":1,\"alt_names\":\"Spotted Mist\",\"adaptability\":5,\"affection_level\":5,\"child_friendly\":4,\"dog_friendly\":5,\"energy_level\":4,\"grooming\":3,\"health_issues\":1,\"intelligence\":4,\"shedding_level\":3,\"social_needs\":4,\"stranger_friendly\":4,\"vocalisation\":3,\"experimental\":0,\"hairless\":0,\"natural\":0,\"rare\":0,\"rex\":0,\"suppressed_tail\":0,\"short_legs\":0,\"wikipedia_url\":\"https://en.wikipedia.org/wiki/Australian_Mist\",\"hypoallergenic\":0,\"reference_image_id\":\"_6x-3TiCA\"},{\"weight\":{\"imperial\":\"4 - 10\",\"metric\":\"2 - 5\"},\"id\":\"bali\",\"name\":\"Balinese\",\"cfa_url\":\"http://cfa.org/Breeds/BreedsAB/Balinese.aspx\",\"vetstreet_url\":\"http://www.vetstreet.com/cats/balinese\",\"vcahospitals_url\":\"https://vcahospitals.com/know-your-pet/cat-breeds/balinese\",\"temperament\":\"Affectionate, Intelligent, Playful\",\"origin\":\"United States\",\"country_codes\":\"US\",\"country_code\":\"US\",\"description\":\"Balinese are curious, outgoing, intelligent cats with excellent communication skills. They are known for their chatty personalities and are always eager to tell you their views on life, love, and what you’ve served them for dinner. \",\"life_span\":\"10 - 15\",\"indoor\":0,\"alt_names\":\"Long-haired Siamese\",\"adaptability\":5,\"affection_level\":5,\"child_friendly\":4,\"dog_friendly\":5,\"energy_level\":5,\"grooming\":3,\"health_issues\":3,\"intelligence\":5,\"shedding_level\":3,\"social_needs\":5,\"stranger_friendly\":5,\"vocalisation\":5,\"experimental\":0,\"hairless\":0,\"natural\":0,\"rare\":0,\"rex\":0,\"suppressed_tail\":0,\"short_legs\":0,\"wikipedia_url\":\"https://en.wikipedia.org/wiki/Balinese_(cat)\",\"hypoallergenic\":1,\"reference_image_id\":\"13MkvUreZ\"},{\"weight\":{\"imperial\":\"4 - 9\",\"metric\":\"2 - 4\"},\"id\":\"bamb\",\"name\":\"Bambino\",\"temperament\":\"Affectionate, Lively, Friendly, Intelligent\",\"origin\":\"United States\",\"country_codes\":\"US\",\"country_code\":\"US\",\"description\":\"The Bambino is a breed of cat that was created as a cross between the Sphynx and the Munchkin breeds. The Bambino cat has short legs, large upright ears, and is usually hairless. They love to be handled and cuddled up on the laps of their family members.\",\"life_span\":\"12 - 14\",\"indoor\":0,\"lap\":1,\"alt_names\":\"\",\"adaptability\":5,\"affection_level\":5,\"child_friendly\":4,\"dog_friendly\":5,\"energy_level\":5,\"grooming\":1,\"health_issues\":1,\"intelligence\":5,\"shedding_level\":1,\"social_needs\":3,\"stranger_friendly\":3,\"vocalisation\":3,\"experimental\":1,\"hairless\":1,\"natural\":0,\"rare\":0,\"rex\":0,\"suppressed_tail\":0,\"short_legs\":1,\"wikipedia_url\":\"https://en.wikipedia.org/wiki/Bambino_cat\",\"hypoallergenic\":0,\"reference_image_id\":\"5AdhMjeEu\"},{\"weight\":{\"imperial\":\"6 - 12\",\"metric\":\"3 - 7\"},\"id\":\"beng\",\"name\":\"Bengal\",\"cfa_url\":\"http://cfa.org/Breeds/BreedsAB/Bengal.aspx\",\"vetstreet_url\":\"http://www.vetstreet.com/cats/bengal\",\"vcahospitals_url\":\"https://vcahospitals.com/know-your-pet/cat-breeds/bengal\",\"temperament\":\"Alert, Agile, Energetic, Demanding, Intelligent\",\"origin\":\"United States\",\"country_codes\":\"US\",\"country_code\":\"US\",\"description\":\"Bengals are a lot of fun to live with, but they\\'re definitely not the cat for everyone, or for first-time cat owners. Extremely intelligent, curious and active, they demand a lot of interaction and woe betide the owner who doesn\\'t provide it.\",\"life_span\":\"12 - 15\",\"indoor\":0,\"lap\":0,\"adaptability\":5,\"affection_level\":5,\"child_friendly\":4,\"cat_friendly\":4,\"dog_friendly\":5,\"energy_level\":5,\"grooming\":1,\"health_issues\":3,\"intelligence\":5,\"shedding_level\":3,\"social_needs\":5,\"stranger_friendly\":3,\"vocalisation\":5,\"bidability\":3,\"experimental\":0,\"hairless\":0,\"natural\":0,\"rare\":0,\"rex\":0,\"suppressed_tail\":0,\"short_legs\":0,\"wikipedia_url\":\"https://en.wikipedia.org/wiki/Bengal_(cat)\",\"hypoallergenic\":1,\"reference_image_id\":\"O3btzLlsO\"},{\"weight\":{\"imperial\":\"6 - 15\",\"metric\":\"3 - 7\"},\"id\":\"birm\",\"name\":\"Birman\",\"cfa_url\":\"http://cfa.org/Breeds/BreedsAB/Birman.aspx\",\"vetstreet_url\":\"http://www.vetstreet.com/cats/birman\",\"vcahospitals_url\":\"https://vcahospitals.com/know-your-pet/cat-breeds/birman\",\"temperament\":\"Affectionate, Active, Gentle, Social\",\"origin\":\"France\",\"country_codes\":\"FR\",\"country_code\":\"FR\",\"description\":\"The Birman is a docile, quiet cat who loves people and will follow them from room to room. Expect the Birman to want to be involved in what you’re doing. He communicates in a soft voice, mainly to remind you that perhaps it’s time for dinner or maybe for a nice cuddle on the sofa. He enjoys being held and will relax in your arms like a furry baby.\",\"life_span\":\"14 - 15\",\"indoor\":0,\"lap\":1,\"alt_names\":\"Sacred Birman, Sacred Cat Of Burma\",\"adaptability\":5,\"affection_level\":5,\"child_friendly\":4,\"dog_friendly\":5,\"energy_level\":3,\"grooming\":2,\"health_issues\":1,\"intelligence\":3,\"shedding_level\":3,\"social_needs\":4,\"stranger_friendly\":3,\"vocalisation\":1,\"experimental\":0,\"hairless\":0,\"natural\":0,\"rare\":0,\"rex\":0,\"suppressed_tail\":0,\"short_legs\":0,\"wikipedia_url\":\"https://en.wikipedia.org/wiki/Birman\",\"hypoallergenic\":0,\"reference_image_id\":\"HOrX5gwLS\"},{\"weight\":{\"imperial\":\"6 - 11\",\"metric\":\"3 - 5\"},\"id\":\"bomb\",\"name\":\"Bombay\",\"cfa_url\":\"http://cfa.org/Breeds/BreedsAB/Bombay.aspx\",\"vetstreet_url\":\"http://www.vetstreet.com/cats/bombay\",\"vcahospitals_url\":\"https://vcahospitals.com/know-your-pet/cat-breeds/bombay\",\"temperament\":\"Affectionate, Dependent, Gentle, Intelligent, Playful\",\"origin\":\"United States\",\"country_codes\":\"US\",\"country_code\":\"US\",\"description\":\"The the golden eyes and the shiny black coa of the Bopmbay is absolutely striking. Likely to bond most with one family member, the Bombay will follow you from room to room and will almost always have something to say about what you are doing, loving attention and to be carried around, often on his caregiver\\'s shoulder.\",\"life_span\":\"12 - 16\",\"indoor\":0,\"lap\":1,\"alt_names\":\"Small black Panther\",\"adaptability\":5,\"affection_level\":5,\"child_friendly\":4,\"dog_friendly\":5,\"energy_level\":3,\"grooming\":1,\"health_issues\":3,\"intelligence\":5,\"shedding_level\":3,\"social_needs\":4,\"stranger_friendly\":4,\"vocalisation\":5,\"experimental\":0,\"hairless\":0,\"natural\":0,\"rare\":0,\"rex\":0,\"suppressed_tail\":0,\"short_legs\":0,\"wikipedia_url\":\"https://en.wikipedia.org/wiki/Bombay_(cat)\",\"hypoallergenic\":0,\"reference_image_id\":\"5iYq9NmT1\"},{\"weight\":{\"imperial\":\"8 - 18\",\"metric\":\"4 - 8\"},\"id\":\"bslo\",\"name\":\"British Longhair\",\"temperament\":\"Affectionate, Easy Going, Independent, Intelligent, Loyal, Social\",\"origin\":\"United Kingdom\",\"country_codes\":\"GB\",\"country_code\":\"GB\",\"description\":\"The British Longhair is a very laid-back relaxed cat, often perceived to be very independent although they will enjoy the company of an equally relaxed and likeminded cat. They are an affectionate breed, but very much on their own terms and tend to prefer to choose to come and sit with their owners rather than being picked up.\",\"life_span\":\"12 - 14\",\"indoor\":0,\"alt_names\":\"\",\"adaptability\":5,\"affection_level\":5,\"child_friendly\":4,\"dog_friendly\":5,\"energy_level\":4,\"grooming\":5,\"health_issues\":1,\"intelligence\":5,\"shedding_level\":1,\"social_needs\":3,\"stranger_friendly\":4,\"vocalisation\":1,\"experimental\":0,\"hairless\":0,\"natural\":0,\"rare\":0,\"rex\":0,\"suppressed_tail\":0,\"short_legs\":0,\"wikipedia_url\":\"https://en.wikipedia.org/wiki/British_Longhair\",\"hypoallergenic\":0,\"reference_image_id\":\"7isAO4Cav\"},{\"weight\":{\"imperial\":\"12 - 20\",\"metric\":\"5 - 9\"},\"id\":\"bsho\",\"name\":\"British Shorthair\",\"cfa_url\":\"http://cfa.org/Breeds/BreedsAB/BritishShorthair.aspx\",\"vetstreet_url\":\"http://www.vetstreet.com/cats/british-shorthair\",\"vcahospitals_url\":\"https://vcahospitals.com/know-your-pet/cat-breeds/british-shorthair\",\"temperament\":\"Affectionate, Easy Going, Gentle, Loyal, Patient, calm\",\"origin\":\"United Kingdom\",\"country_codes\":\"GB\",\"country_code\":\"GB\",\"description\":\"The British Shorthair is a very pleasant cat to have as a companion, ans is easy going and placid. The British is a fiercely loyal, loving cat and will attach herself to every one of her family members. While loving to play, she doesn\\'t need hourly attention. If she is in the mood to play, she will find someone and bring a toy to that person. The British also plays well by herself, and thus is a good companion for single people.\",\"life_span\":\"12 - 17\",\"indoor\":0,\"lap\":1,\"alt_names\":\"Highlander, Highland Straight, Britannica\",\"adaptability\":5,\"affection_level\":4,\"child_friendly\":4,\"dog_friendly\":5,\"energy_level\":2,\"grooming\":2,\"health_issues\":2,\"intelligence\":3,\"shedding_level\":4,\"social_needs\":3,\"stranger_friendly\":2,\"vocalisation\":1,\"experimental\":0,\"hairless\":0,\"natural\":1,\"rare\":0,\"rex\":0,\"suppressed_tail\":0,\"short_legs\":0,\"wikipedia_url\":\"https://en.wikipedia.org/wiki/British_Shorthair\",\"hypoallergenic\":0,\"reference_image_id\":\"s4wQfYoEk\"},{\"weight\":{\"imperial\":\"6 - 12\",\"metric\":\"3 - 5\"},\"id\":\"bure\",\"name\":\"Burmese\",\"cfa_url\":\"http://cfa.org/Breeds/BreedsAB/Burmese.aspx\",\"vetstreet_url\":\"http://www.vetstreet.com/cats/burmese\",\"vcahospitals_url\":\"https://vcahospitals.com/know-your-pet/cat-breeds/burmese\",\"temperament\":\"Curious, Intelligent, Gentle, Social, Interactive, Playful, Lively\",\"origin\":\"Burma\",\"country_codes\":\"MM\",\"country_code\":\"MM\",\"description\":\"Burmese love being with people, playing with them, and keeping them entertained. They crave close physical contact and abhor an empty lap. They will follow their humans from room to room, and sleep in bed with them, preferably under the covers, cuddled as close as possible. At play, they will turn around to see if their human is watching and being entertained by their crazy antics.\",\"life_span\":\"15 - 16\",\"indoor\":0,\"lap\":1,\"alt_names\":\"\",\"adaptability\":5,\"affection_level\":5,\"child_friendly\":4,\"dog_friendly\":5,\"energy_level\":4,\"grooming\":1,\"health_issues\":3,\"intelligence\":5,\"shedding_level\":3,\"social_needs\":5,\"stranger_friendly\":5,\"vocalisation\":5,\"experimental\":0,\"hairless\":0,\"natural\":0,\"rare\":0,\"rex\":0,\"suppressed_tail\":0,\"short_legs\":0,\"wikipedia_url\":\"https://en.wikipedia.org/wiki/Burmese_(cat)\",\"hypoallergenic\":1,\"reference_image_id\":\"4lXnnfxac\"},{\"weight\":{\"imperial\":\"6 - 13\",\"metric\":\"3 - 6\"},\"id\":\"buri\",\"name\":\"Burmilla\",\"cfa_url\":\"http://cfa.org/Breeds/BreedsAB/Burmilla.aspx\",\"vetstreet_url\":\"http://www.vetstreet.com/cats/burmilla\",\"temperament\":\"Easy Going, Friendly, Intelligent, Lively, Playful, Social\",\"origin\":\"United Kingdom\",\"country_codes\":\"GB\",\"country_code\":\"GB\",\"description\":\"The Burmilla is a fairly placid cat. She tends to be an easy cat to get along with, requiring minimal care. The Burmilla is affectionate and sweet and makes a good companion, the Burmilla is an ideal companion to while away a lonely evening. Loyal, devoted, and affectionate, this cat will stay by its owner, always keeping them company.\",\"life_span\":\"10 - 15\",\"indoor\":0,\"lap\":1,\"alt_names\":\"\",\"adaptability\":5,\"affection_level\":5,\"child_friendly\":4,\"dog_friendly\":4,\"energy_level\":3,\"grooming\":3,\"health_issues\":3,\"intelligence\":3,\"shedding_level\":3,\"social_needs\":4,\"stranger_friendly\":3,\"vocalisation\":5,\"experimental\":0,\"hairless\":0,\"natural\":0,\"rare\":0,\"rex\":0,\"suppressed_tail\":0,\"short_legs\":0,\"wikipedia_url\":\"https://en.wikipedia.org/wiki/Burmilla\",\"hypoallergenic\":0,\"reference_image_id\":\"jvg3XfEdC\"},{\"weight\":{\"imperial\":\"10 - 15\",\"metric\":\"5 - 7\"},\"id\":\"cspa\",\"name\":\"California Spangled\",\"temperament\":\"Affectionate, Curious, Intelligent, Loyal, Social\",\"origin\":\"United States\",\"country_codes\":\"US\",\"country_code\":\"US\",\"description\":\"Perhaps the only thing about the California spangled cat that isn’t wild-like is its personality. Known to be affectionate, gentle and sociable, this breed enjoys spending a great deal of time with its owners. They are very playful, often choosing to perch in high locations and show off their acrobatic skills.\",\"life_span\":\"10 - 14\",\"indoor\":0,\"alt_names\":\"Spangle\",\"adaptability\":5,\"affection_level\":5,\"child_friendly\":4,\"dog_friendly\":5,\"energy_level\":5,\"grooming\":1,\"health_issues\":1,\"intelligence\":5,\"shedding_level\":1,\"social_needs\":3,\"stranger_friendly\":4,\"vocalisation\":1,\"experimental\":0,\"hairless\":0,\"natural\":0,\"rare\":0,\"rex\":0,\"suppressed_tail\":0,\"short_legs\":0,\"wikipedia_url\":\"https://en.wikipedia.org/wiki/California_Spangled\",\"hypoallergenic\":0,\"reference_image_id\":\"B1ERTmgph\"},{\"weight\":{\"imperial\":\"7 - 12\",\"metric\":\"3 - 5\"},\"id\":\"ctif\",\"name\":\"Chantilly-Tiffany\",\"temperament\":\"Affectionate, Demanding, Interactive, Loyal\",\"origin\":\"United States\",\"country_codes\":\"US\",\"country_code\":\"US\",\"description\":\"The Chantilly is a devoted companion and prefers company to being left alone. While the Chantilly is not demanding, she will \\\\\"chirp\\\\\" and \\\\\"talk\\\\\" as if having a conversation. This breed is affectionate, with a sweet temperament. It can stay still for extended periods, happily lounging in the lap of its loved one. This quality makes the Tiffany an ideal traveling companion, and an ideal house companion for senior citizens and the physically handicapped.\",\"life_span\":\"14 - 16\",\"indoor\":0,\"lap\":1,\"alt_names\":\"Chantilly, Foreign Longhair\",\"adaptability\":5,\"affection_level\":5,\"child_friendly\":4,\"dog_friendly\":5,\"energy_level\":4,\"grooming\":5,\"health_issues\":1,\"intelligence\":5,\"shedding_level\":5,\"social_needs\":3,\"stranger_friendly\":4,\"vocalisation\":5,\"experimental\":0,\"hairless\":0,\"natural\":0,\"rare\":0,\"rex\":0,\"suppressed_tail\":0,\"short_legs\":0,\"wikipedia_url\":\"https://en.wikipedia.org/wiki/Chantilly-Tiffany\",\"hypoallergenic\":0,\"reference_image_id\":\"TR-5nAd_S\"},{\"weight\":{\"imperial\":\"6 - 15\",\"metric\":\"3 - 7\"},\"id\":\"char\",\"name\":\"Chartreux\",\"cfa_url\":\"http://cfa.org/Breeds/BreedsCJ/Chartreux.aspx\",\"vetstreet_url\":\"http://www.vetstreet.com/cats/chartreux\",\"vcahospitals_url\":\"https://vcahospitals.com/know-your-pet/cat-breeds/chartreux\",\"temperament\":\"Affectionate, Loyal, Intelligent, Social, Lively, Playful\",\"origin\":\"France\",\"country_codes\":\"FR\",\"country_code\":\"FR\",\"description\":\"The Chartreux is generally silent but communicative. Short play sessions, mixed with naps and meals are their perfect day. Whilst appreciating any attention you give them, they are not demanding, content instead to follow you around devotedly, sleep on your bed and snuggle with you if you’re not feeling well.\",\"life_span\":\"12 - 15\",\"indoor\":0,\"lap\":1,\"alt_names\":\"\",\"adaptability\":5,\"affection_level\":5,\"child_friendly\":4,\"dog_friendly\":5,\"energy_level\":2,\"grooming\":1,\"health_issues\":2,\"intelligence\":4,\"shedding_level\":3,\"social_needs\":5,\"stranger_friendly\":5,\"vocalisation\":1,\"experimental\":0,\"hairless\":0,\"natural\":0,\"rare\":0,\"rex\":1,\"suppressed_tail\":0,\"short_legs\":0,\"wikipedia_url\":\"https://en.wikipedia.org/wiki/Chartreux\",\"hypoallergenic\":1,\"reference_image_id\":\"j6oFGLpRG\"},{\"weight\":{\"imperial\":\"7 - 15\",\"metric\":\"3 - 7\"},\"id\":\"chau\",\"name\":\"Chausie\",\"temperament\":\"Affectionate, Intelligent, Playful, Social\",\"origin\":\"Egypt\",\"country_codes\":\"EG\",\"country_code\":\"EG\",\"description\":\"For those owners who desire a feline capable of evoking the great outdoors, the strikingly beautiful Chausie retains a bit of the wild in its appearance but has the house manners of our friendly, familiar moggies. Very playful, this cat needs a large amount of space to be able to fully embrace its hunting instincts.\",\"life_span\":\"12 - 14\",\"indoor\":0,\"alt_names\":\"Nile Cat\",\"adaptability\":5,\"affection_level\":5,\"child_friendly\":4,\"dog_friendly\":5,\"energy_level\":4,\"grooming\":3,\"health_issues\":1,\"intelligence\":5,\"shedding_level\":3,\"social_needs\":3,\"stranger_friendly\":4,\"vocalisation\":1,\"experimental\":1,\"hairless\":0,\"natural\":0,\"rare\":0,\"rex\":0,\"suppressed_tail\":0,\"short_legs\":0,\"wikipedia_url\":\"https://en.wikipedia.org/wiki/Chausie\",\"hypoallergenic\":0,\"reference_image_id\":\"vJ3lEYgXr\"},{\"weight\":{\"imperial\":\"8 - 15\",\"metric\":\"4 - 7\"},\"id\":\"chee\",\"name\":\"Cheetoh\",\"temperament\":\"Affectionate, Gentle, Intelligent, Social\",\"origin\":\"United States\",\"country_codes\":\"US\",\"country_code\":\"US\",\"description\":\"The Cheetoh has a super affectionate nature and real love for their human companions; they are intelligent with the ability to learn quickly. You can expect that a Cheetoh will be a fun-loving kitty who enjoys playing, running, and jumping through every room in your house.\",\"life_span\":\"12 - 14\",\"indoor\":0,\"alt_names\":\"\\xa0\",\"adaptability\":5,\"affection_level\":5,\"child_friendly\":4,\"dog_friendly\":5,\"energy_level\":4,\"grooming\":1,\"health_issues\":1,\"intelligence\":5,\"shedding_level\":1,\"social_needs\":3,\"stranger_friendly\":4,\"vocalisation\":5,\"experimental\":0,\"hairless\":0,\"natural\":0,\"rare\":0,\"rex\":0,\"suppressed_tail\":0,\"short_legs\":0,\"wikipedia_url\":\"https://en.wikipedia.org/wiki/Bengal_cat#Cheetoh\",\"hypoallergenic\":0,\"reference_image_id\":\"IFXsxmXLm\"},{\"weight\":{\"imperial\":\"4 - 10\",\"metric\":\"2 - 5\"},\"id\":\"csho\",\"name\":\"Colorpoint Shorthair\",\"cfa_url\":\"http://cfa.org/Breeds/BreedsCJ/ColorpointShorthair.aspx\",\"vcahospitals_url\":\"https://vcahospitals.com/know-your-pet/cat-breeds/colorpoint-shorthair\",\"temperament\":\"Affectionate, Intelligent, Playful, Social\",\"origin\":\"United States\",\"country_codes\":\"US\",\"country_code\":\"US\",\"description\":\"Colorpoint Shorthairs are an affectionate breed, devoted and loyal to their people. Sensitive to their owner’s moods, Colorpoints are more than happy to sit at your side or on your lap and purr words of encouragement on a bad day. They will constantly seek out your lap whenever it is open and in the moments when your lap is preoccupied they will stretch out in sunny spots on the ground.\",\"life_span\":\"12 - 16\",\"indoor\":0,\"lap\":1,\"alt_names\":\"\",\"adaptability\":3,\"affection_level\":4,\"child_friendly\":4,\"cat_friendly\":3,\"dog_friendly\":4,\"energy_level\":4,\"grooming\":2,\"health_issues\":2,\"intelligence\":5,\"shedding_level\":3,\"social_needs\":4,\"stranger_friendly\":2,\"vocalisation\":5,\"bidability\":4,\"experimental\":0,\"hairless\":0,\"natural\":0,\"rare\":0,\"rex\":0,\"suppressed_tail\":0,\"short_legs\":0,\"wikipedia_url\":\"https://en.wikipedia.org/wiki/Colorpoint_Shorthair\",\"hypoallergenic\":0,\"reference_image_id\":\"oSpqGyUDS\"},{\"weight\":{\"imperial\":\"5 - 9\",\"metric\":\"2 - 4\"},\"id\":\"crex\",\"name\":\"Cornish Rex\",\"cfa_url\":\"http://cfa.org/Breeds/BreedsCJ/CornishRex.aspx\",\"vetstreet_url\":\"http://www.vetstreet.com/cats/cornish-rex\",\"vcahospitals_url\":\"https://vcahospitals.com/know-your-pet/cat-breeds/cornish-rex\",\"temperament\":\"Affectionate, Intelligent, Active, Curious, Playful\",\"origin\":\"United Kingdom\",\"country_codes\":\"GB\",\"country_code\":\"GB\",\"description\":\"This is a confident cat who loves people and will follow them around, waiting for any opportunity to sit in a lap or give a kiss. He enjoys being handled, making it easy to take him to the veterinarian or train him for therapy work. The Cornish Rex stay in kitten mode most of their lives and well into their senior years. \",\"life_span\":\"11 - 14\",\"indoor\":0,\"lap\":1,\"alt_names\":\"\",\"adaptability\":5,\"affection_level\":5,\"child_friendly\":4,\"cat_friendly\":2,\"dog_friendly\":5,\"energy_level\":5,\"grooming\":1,\"health_issues\":2,\"intelligence\":5,\"shedding_level\":1,\"social_needs\":5,\"stranger_friendly\":3,\"vocalisation\":1,\"experimental\":0,\"hairless\":0,\"natural\":0,\"rare\":0,\"rex\":1,\"suppressed_tail\":0,\"short_legs\":0,\"wikipedia_url\":\"https://en.wikipedia.org/wiki/Cornish_Rex\",\"hypoallergenic\":1,\"reference_image_id\":\"unX21IBVB\"},{\"weight\":{\"imperial\":\"8 - 13\",\"metric\":\"4 - 6\"},\"id\":\"cymr\",\"name\":\"Cymric\",\"vetstreet_url\":\"http://www.vetstreet.com/cats/cymric\",\"temperament\":\"Gentle, Loyal, Intelligent, Playful\",\"origin\":\"Canada\",\"country_codes\":\"CA\",\"country_code\":\"CA\",\"description\":\"The Cymric is a placid, sweet cat. They do not get too upset about anything that happens in their world. They are loving companions and adore people. They are smart and dexterous, capable of using his paws to get into cabinets or to open doors.\",\"life_span\":\"8 - 14\",\"indoor\":0,\"lap\":1,\"alt_names\":\"Spangle\",\"adaptability\":5,\"affection_level\":5,\"child_friendly\":4,\"dog_friendly\":5,\"energy_level\":5,\"grooming\":3,\"health_issues\":3,\"intelligence\":5,\"shedding_level\":5,\"social_needs\":5,\"stranger_friendly\":3,\"vocalisation\":3,\"experimental\":0,\"hairless\":0,\"natural\":0,\"rare\":0,\"rex\":0,\"suppressed_tail\":1,\"short_legs\":0,\"wikipedia_url\":\"https://en.wikipedia.org/wiki/Cymric_(cat)\",\"hypoallergenic\":0,\"reference_image_id\":\"3dbtapCWM\"},{\"weight\":{\"imperial\":\"8 - 16\",\"metric\":\"4 - 7\"},\"id\":\"cypr\",\"name\":\"Cyprus\",\"temperament\":\"Affectionate, Social\",\"origin\":\"Cyprus\",\"country_codes\":\"CY\",\"country_code\":\"CY\",\"description\":\"Loving, loyal, social and inquisitive, the Cyprus cat forms strong ties with their families and love nothing more than to be involved in everything that goes on in their surroundings. They are not overly active by nature which makes them the perfect companion for people who would like to share their homes with a laid-back relaxed feline companion. \",\"life_span\":\"12 - 15\",\"indoor\":0,\"lap\":1,\"alt_names\":\"Cypriot cat\",\"adaptability\":5,\"affection_level\":5,\"child_friendly\":4,\"dog_friendly\":5,\"energy_level\":4,\"grooming\":3,\"health_issues\":1,\"intelligence\":3,\"shedding_level\":3,\"social_needs\":3,\"stranger_friendly\":4,\"vocalisation\":3,\"experimental\":0,\"hairless\":0,\"natural\":1,\"rare\":0,\"rex\":0,\"suppressed_tail\":0,\"short_legs\":0,\"wikipedia_url\":\"https://en.wikipedia.org/wiki/Cyprus_cat\",\"hypoallergenic\":0,\"reference_image_id\":\"tJbzb7FKo\"},{\"weight\":{\"imperial\":\"5 - 10\",\"metric\":\"2 - 5\"},\"id\":\"drex\",\"name\":\"Devon Rex\",\"cfa_url\":\"http://cfa.org/Breeds/BreedsCJ/DevonRex.aspx\",\"vetstreet_url\":\"http://www.vetstreet.com/cats/devon-rex\",\"vcahospitals_url\":\"https://vcahospitals.com/know-your-pet/cat-breeds/devon-rex\",\"temperament\":\"Highly interactive, Mischievous, Loyal, Social, Playful\",\"origin\":\"United Kingdom\",\"country_codes\":\"GB\",\"country_code\":\"GB\",\"description\":\"The favourite perch of the Devon Rex is right at head level, on the shoulder of her favorite person. She takes a lively interest in everything that is going on and refuses to be left out of any activity. Count on her to stay as close to you as possible, occasionally communicating his opinions in a quiet voice. She loves people and welcomes the attentions of friends and family alike.\",\"life_span\":\"10 - 15\",\"indoor\":0,\"lap\":1,\"alt_names\":\"Pixie cat, Alien cat, Poodle cat\",\"adaptability\":5,\"affection_level\":5,\"child_friendly\":4,\"dog_friendly\":5,\"energy_level\":5,\"grooming\":1,\"health_issues\":3,\"intelligence\":5,\"shedding_level\":1,\"social_needs\":5,\"stranger_friendly\":5,\"vocalisation\":1,\"experimental\":0,\"hairless\":0,\"natural\":0,\"rare\":0,\"rex\":1,\"suppressed_tail\":0,\"short_legs\":0,\"wikipedia_url\":\"https://en.wikipedia.org/wiki/Devon_Rex\",\"hypoallergenic\":1,\"reference_image_id\":\"4RzEwvyzz\"},{\"weight\":{\"imperial\":\"10 - 12\",\"metric\":\"5 - 6\"},\"id\":\"dons\",\"name\":\"Donskoy\",\"temperament\":\"Playful, affectionate, loyal, social\",\"origin\":\"Russia\",\"country_codes\":\"RU\",\"country_code\":\"RU\",\"description\":\"Donskoy are affectionate, intelligent, and easy-going. They demand lots of attention and interaction. The Donskoy also gets along well with other pets. It is now thought the same gene that causes degrees of hairlessness in the Donskoy also causes alterations in cat personality, making them calmer the less hair they have.\",\"life_span\":\"12 - 15\",\"indoor\":0,\"adaptability\":4,\"affection_level\":4,\"child_friendly\":3,\"cat_friendly\":3,\"dog_friendly\":3,\"energy_level\":4,\"grooming\":2,\"health_issues\":3,\"intelligence\":3,\"shedding_level\":1,\"social_needs\":5,\"stranger_friendly\":5,\"vocalisation\":2,\"experimental\":0,\"hairless\":1,\"natural\":0,\"rare\":1,\"rex\":0,\"suppressed_tail\":0,\"short_legs\":0,\"wikipedia_url\":\"https://en.wikipedia.org/wiki/Donskoy_(cat)\",\"hypoallergenic\":0,\"reference_image_id\":\"3KG57GfMW\"},{\"weight\":{\"imperial\":\"9 - 12\",\"metric\":\"4 - 6\"},\"id\":\"lihu\",\"name\":\"Dragon Li\",\"vetstreet_url\":\"http://www.vetstreet.com/cats/li-hua\",\"temperament\":\"Intelligent, Friendly, Gentle, Loving, Loyal\",\"origin\":\"China\",\"country_codes\":\"CN\",\"country_code\":\"CN\",\"description\":\"The Dragon Li is loyal, but not particularly affectionate. They are known to be very intelligent, and their natural breed status means that they\\'re very active. She is is gentle with people, and has a reputation as a talented hunter of rats and other vermin.\",\"life_span\":\"12 - 15\",\"indoor\":1,\"alt_names\":\"Chinese Lia Hua, Lí hua māo (貍花貓), Li Hua\",\"adaptability\":3,\"affection_level\":3,\"child_friendly\":3,\"cat_friendly\":3,\"dog_friendly\":3,\"energy_level\":3,\"grooming\":1,\"health_issues\":1,\"intelligence\":3,\"shedding_level\":3,\"social_needs\":4,\"stranger_friendly\":3,\"vocalisation\":3,\"experimental\":0,\"hairless\":0,\"natural\":1,\"rare\":0,\"rex\":0,\"suppressed_tail\":0,\"short_legs\":0,\"wikipedia_url\":\"https://en.wikipedia.org/wiki/Dragon_Li\",\"hypoallergenic\":0,\"reference_image_id\":\"BQMSld0A0\"},{\"weight\":{\"imperial\":\"6 - 14\",\"metric\":\"3 - 6\"},\"id\":\"emau\",\"name\":\"Egyptian Mau\",\"cfa_url\":\"http://cfa.org/Breeds/BreedsCJ/EgyptianMau.aspx\",\"vetstreet_url\":\"http://www.vetstreet.com/cats/egyptian-mau\",\"vcahospitals_url\":\"https://vcahospitals.com/know-your-pet/cat-breeds/egyptian-mau\",\"temperament\":\"Agile, Dependent, Gentle, Intelligent, Lively, Loyal, Playful\",\"origin\":\"Egypt\",\"country_codes\":\"EG\",\"country_code\":\"EG\",\"description\":\"The Egyptian Mau is gentle and reserved. She loves her people and desires attention and affection from them but is wary of others. Early, continuing socialization is essential with this sensitive and sometimes shy cat, especially if you plan to show or travel with her. Otherwise, she can be easily startled by unexpected noises or events.\",\"life_span\":\"18 - 20\",\"indoor\":0,\"lap\":1,\"alt_names\":\"Pharaoh Cat\",\"adaptability\":2,\"affection_level\":5,\"child_friendly\":3,\"dog_friendly\":3,\"energy_level\":5,\"grooming\":1,\"health_issues\":3,\"intelligence\":4,\"shedding_level\":3,\"social_needs\":4,\"stranger_friendly\":2,\"vocalisation\":3,\"experimental\":0,\"hairless\":0,\"natural\":1,\"rare\":0,\"rex\":0,\"suppressed_tail\":0,\"short_legs\":0,\"wikipedia_url\":\"https://en.wikipedia.org/wiki/Egyptian_Mau\",\"hypoallergenic\":0,\"reference_image_id\":\"TuSyTkt2n\"},{\"weight\":{\"imperial\":\"7 - 14\",\"metric\":\"3 - 6\"},\"id\":\"ebur\",\"name\":\"European Burmese\",\"cfa_url\":\"http://cfa.org/Breeds/BreedsCJ/EuropeanBurmese.aspx\",\"temperament\":\"Sweet, Affectionate, Loyal\",\"origin\":\"Burma\",\"country_codes\":\"MM\",\"country_code\":\"MM\",\"description\":\"The European Burmese is a very affectionate, intelligent, and loyal cat. They thrive on companionship and will want to be with you, participating in everything you do. While they might pick a favorite family member, chances are that they will interact with everyone in the home, as well as any visitors that come to call. They are inquisitive and playful, even as adults. \",\"life_span\":\"10 - 15\",\"indoor\":0,\"lap\":1,\"alt_names\":\"\",\"adaptability\":5,\"affection_level\":5,\"child_friendly\":4,\"cat_friendly\":4,\"dog_friendly\":4,\"energy_level\":4,\"grooming\":1,\"health_issues\":4,\"intelligence\":5,\"shedding_level\":3,\"social_needs\":5,\"stranger_friendly\":5,\"vocalisation\":4,\"experimental\":0,\"hairless\":0,\"natural\":0,\"rare\":0,\"rex\":0,\"suppressed_tail\":0,\"short_legs\":0,\"hypoallergenic\":0},{\"weight\":{\"imperial\":\"7 - 14\",\"metric\":\"3 - 6\"},\"id\":\"esho\",\"name\":\"Exotic Shorthair\",\"cfa_url\":\"http://cfa.org/Breeds/BreedsCJ/Exotic.aspx\",\"vetstreet_url\":\"http://www.vetstreet.com/cats/exotic-shorthair\",\"vcahospitals_url\":\"https://vcahospitals.com/know-your-pet/cat-breeds/exotic-shorthair\",\"temperament\":\"Affectionate, Sweet, Loyal, Quiet, Peaceful\",\"origin\":\"United States\",\"country_codes\":\"US\",\"country_code\":\"US\",\"description\":\"The Exotic Shorthair is a gentle friendly cat that has the same personality as the Persian. They love having fun, don’t mind the company of other cats and dogs, also love to curl up for a sleep in a safe place. Exotics love their own people, but around strangers they are cautious at first. Given time, they usually warm up to visitors.\",\"life_span\":\"12 - 15\",\"indoor\":0,\"lap\":1,\"alt_names\":\"Exotic\",\"adaptability\":5,\"affection_level\":5,\"child_friendly\":3,\"dog_friendly\":3,\"energy_level\":3,\"grooming\":2,\"health_issues\":3,\"intelligence\":3,\"shedding_level\":2,\"social_needs\":4,\"stranger_friendly\":2,\"vocalisation\":1,\"experimental\":0,\"hairless\":0,\"natural\":0,\"rare\":0,\"rex\":0,\"suppressed_tail\":0,\"short_legs\":0,\"wikipedia_url\":\"https://en.wikipedia.org/wiki/Exotic_Shorthair\",\"hypoallergenic\":0,\"reference_image_id\":\"YnPrYEmfe\"},{\"weight\":{\"imperial\":\"6 - 10\",\"metric\":\"3 - 5\"},\"id\":\"hbro\",\"name\":\"Havana Brown\",\"cfa_url\":\"http://cfa.org/Breeds/BreedsCJ/HavanaBrown.aspx\",\"vetstreet_url\":\"http://www.vetstreet.com/cats/havana-brown\",\"vcahospitals_url\":\"https://vcahospitals.com/know-your-pet/cat-breeds/havana-brown\",\"temperament\":\"Affectionate, Curious, Demanding, Friendly, Intelligent, Playful\",\"origin\":\"United Kingdom\",\"country_codes\":\"GB\",\"country_code\":\"GB\",\"description\":\"The Havana Brown is human oriented, playful, and curious. She has a strong desire to spend time with her people and involve herself in everything they do. Being naturally inquisitive, the Havana Brown reaches out with a paw to touch and feel when investigating curiosities in its environment. They are truly sensitive by nature and frequently gently touch their human companions as if they are extending a paw of friendship.\",\"life_span\":\"10 - 15\",\"indoor\":0,\"lap\":1,\"alt_names\":\"Havana, HB\",\"adaptability\":5,\"affection_level\":5,\"child_friendly\":4,\"dog_friendly\":5,\"energy_level\":3,\"grooming\":1,\"health_issues\":1,\"intelligence\":5,\"shedding_level\":3,\"social_needs\":5,\"stranger_friendly\":3,\"vocalisation\":1,\"experimental\":0,\"hairless\":0,\"natural\":0,\"rare\":0,\"rex\":0,\"suppressed_tail\":0,\"short_legs\":0,\"wikipedia_url\":\"https://en.wikipedia.org/wiki/Havana_Brown\",\"hypoallergenic\":0,\"reference_image_id\":\"njK25knLH\"},{\"weight\":{\"imperial\":\"7 - 14\",\"metric\":\"3 - 6\"},\"id\":\"hima\",\"name\":\"Himalayan\",\"vetstreet_url\":\"http://www.vetstreet.com/cats/himalayan\",\"vcahospitals_url\":\"https://vcahospitals.com/know-your-pet/cat-breeds/himalayan\",\"temperament\":\"Dependent, Gentle, Intelligent, Quiet, Social\",\"origin\":\"United States\",\"country_codes\":\"US\",\"country_code\":\"US\",\"description\":\"Calm and devoted, Himalayans make excellent companions, though they prefer a quieter home. They are playful in a sedate kind of way and enjoy having an assortment of toys. The Himalayan will stretch out next to you, sleep in your bed and even sit on your lap when she is in the mood.\",\"life_span\":\"9 - 15\",\"indoor\":0,\"lap\":1,\"alt_names\":\"Himalayan Persian, Colourpoint Persian, Longhaired Colourpoint, Himmy\",\"adaptability\":5,\"affection_level\":5,\"child_friendly\":2,\"dog_friendly\":2,\"energy_level\":1,\"grooming\":5,\"health_issues\":3,\"intelligence\":3,\"shedding_level\":4,\"social_needs\":4,\"stranger_friendly\":2,\"vocalisation\":1,\"experimental\":0,\"hairless\":0,\"natural\":0,\"rare\":0,\"rex\":0,\"suppressed_tail\":0,\"short_legs\":0,\"wikipedia_url\":\"https://en.wikipedia.org/wiki/Himalayan_(cat)\",\"hypoallergenic\":0,\"reference_image_id\":\"CDhOtM-Ig\"},{\"weight\":{\"imperial\":\"5 - 10\",\"metric\":\"2 - 5\"},\"id\":\"jbob\",\"name\":\"Japanese Bobtail\",\"cfa_url\":\"http://cfa.org/Breeds/BreedsCJ/JapaneseBobtail.aspx\",\"vetstreet_url\":\"http://www.vetstreet.com/cats/japanese-bobtail\",\"vcahospitals_url\":\"https://vcahospitals.com/know-your-pet/cat-breeds/japanese-bobtail\",\"temperament\":\"Active, Agile, Clever, Easy Going, Intelligent, Lively, Loyal, Playful, Social\",\"origin\":\"Japan\",\"country_codes\":\"JP\",\"country_code\":\"JP\",\"description\":\"The Japanese Bobtail is an active, sweet, loving and highly intelligent breed. They love to be with people and play seemingly endlessly. They learn their name and respond to it. They bring toys to people and play fetch with a favorite toy for hours. Bobtails are social and are at their best when in the company of people. They take over the house and are not intimidated. If a dog is in the house, Bobtails assume Bobtails are in charge.\",\"life_span\":\"14 - 16\",\"indoor\":0,\"lap\":1,\"alt_names\":\"Japanese Truncated Cat\",\"adaptability\":5,\"affection_level\":5,\"child_friendly\":4,\"dog_friendly\":5,\"energy_level\":5,\"grooming\":1,\"health_issues\":1,\"intelligence\":5,\"shedding_level\":3,\"social_needs\":5,\"stranger_friendly\":5,\"vocalisation\":5,\"experimental\":0,\"hairless\":0,\"natural\":1,\"rare\":0,\"rex\":0,\"suppressed_tail\":1,\"short_legs\":0,\"wikipedia_url\":\"https://en.wikipedia.org/wiki/Japanese_Bobtail\",\"hypoallergenic\":0,\"reference_image_id\":\"-tm9-znzl\"},{\"weight\":{\"imperial\":\"5 - 10\",\"metric\":\"2 - 5\"},\"id\":\"java\",\"name\":\"Javanese\",\"vetstreet_url\":\"http://www.vetstreet.com/cats/javanese\",\"vcahospitals_url\":\"https://vcahospitals.com/know-your-pet/cat-breeds/javanese\",\"temperament\":\"Active, Devoted, Intelligent, Playful\",\"origin\":\"United States\",\"country_codes\":\"US\",\"country_code\":\"US\",\"description\":\"Javanese are endlessly interested, intelligent and active. They tend to enjoy jumping to great heights, playing with fishing pole-type or other interactive toys and just generally investigating their surroundings. He will attempt to copy things you do, such as opening doors or drawers.\",\"life_span\":\"10 - 12\",\"indoor\":0,\"alt_names\":\"\\xa0\",\"adaptability\":4,\"affection_level\":5,\"child_friendly\":4,\"dog_friendly\":4,\"energy_level\":5,\"grooming\":1,\"health_issues\":3,\"intelligence\":5,\"shedding_level\":2,\"social_needs\":5,\"stranger_friendly\":3,\"vocalisation\":5,\"experimental\":0,\"hairless\":0,\"natural\":0,\"rare\":0,\"rex\":0,\"suppressed_tail\":0,\"short_legs\":0,\"wikipedia_url\":\"https://en.wikipedia.org/wiki/Javanese_cat\",\"hypoallergenic\":1,\"reference_image_id\":\"xoI_EpOKe\"},{\"weight\":{\"imperial\":\"8 - 12\",\"metric\":\"4 - 6\"},\"id\":\"khao\",\"name\":\"Khao Manee\",\"cfa_url\":\"http://cfa.org/Breeds/BreedsKthruR/KhaoManee.aspx\",\"temperament\":\"Calm, Relaxed, Talkative, Playful, Warm\",\"origin\":\"Thailand\",\"country_codes\":\"TH\",\"country_code\":\"TH\",\"description\":\"The Khao Manee is highly intelligent, with an extrovert and inquisitive nature, however they are also very calm and relaxed, making them an idea lap cat.\",\"life_span\":\"10 - 12\",\"indoor\":0,\"lap\":1,\"alt_names\":\"Diamond Eye cat\",\"adaptability\":4,\"affection_level\":4,\"child_friendly\":3,\"cat_friendly\":3,\"dog_friendly\":3,\"energy_level\":3,\"grooming\":3,\"health_issues\":1,\"intelligence\":4,\"shedding_level\":3,\"social_needs\":3,\"stranger_friendly\":3,\"vocalisation\":5,\"experimental\":0,\"hairless\":0,\"natural\":0,\"rare\":0,\"rex\":0,\"suppressed_tail\":0,\"short_legs\":0,\"wikipedia_url\":\"https://en.wikipedia.org/wiki/Khao_Manee\",\"hypoallergenic\":0,\"reference_image_id\":\"165ok6ESN\"},{\"weight\":{\"imperial\":\"7 - 11\",\"metric\":\"3 - 5\"},\"id\":\"kora\",\"name\":\"Korat\",\"cfa_url\":\"http://cfa.org/Breeds/BreedsKthruR/Korat.aspx\",\"vetstreet_url\":\"http://www.vetstreet.com/cats/korat\",\"vcahospitals_url\":\"https://vcahospitals.com/know-your-pet/cat-breeds/korat\",\"temperament\":\"Active, Loyal, highly intelligent, Expressive, Trainable\",\"origin\":\"Thailand\",\"country_codes\":\"TH\",\"country_code\":\"TH\",\"description\":\"The Korat is a natural breed, and one of the oldest stable cat breeds. They are highly intelligent and confident cats that can be fearless, although they are startled by loud sounds and sudden movements. Korats form strong bonds with their people and like to cuddle and stay nearby.\",\"life_span\":\"10 - 15\",\"indoor\":0,\"adaptability\":5,\"affection_level\":5,\"child_friendly\":4,\"dog_friendly\":5,\"energy_level\":3,\"grooming\":1,\"health_issues\":1,\"intelligence\":5,\"shedding_level\":3,\"social_needs\":5,\"stranger_friendly\":2,\"vocalisation\":3,\"experimental\":0,\"hairless\":0,\"natural\":0,\"rare\":1,\"rex\":0,\"suppressed_tail\":0,\"short_legs\":0,\"wikipedia_url\":\"https://en.wikipedia.org/wiki/Korat\",\"hypoallergenic\":0,\"reference_image_id\":\"DbwiefiaY\"},{\"weight\":{\"imperial\":\"8 - 15\",\"metric\":\"4 - 7\"},\"id\":\"kuri\",\"name\":\"Kurilian\",\"vetstreet_url\":\"http://www.vetstreet.com/cats/kurilian-bobtail\",\"temperament\":\"Independent, highly intelligent, clever, inquisitive, sociable, playful, trainable\",\"origin\":\"Russia\",\"country_codes\":\"RU\",\"country_code\":\"RU\",\"description\":\"The character of the Kurilian Bobtail is independent, highly intelligent, clever, inquisitive, sociable, playful, trainable, absent of aggression and very gentle. They are devoted to their humans and when allowed are either on the lap of or sleeping in bed with their owners.\",\"life_span\":\"15 - 20\",\"indoor\":0,\"adaptability\":5,\"affection_level\":5,\"child_friendly\":5,\"dog_friendly\":5,\"energy_level\":5,\"grooming\":1,\"health_issues\":1,\"intelligence\":5,\"shedding_level\":2,\"social_needs\":5,\"stranger_friendly\":5,\"vocalisation\":3,\"experimental\":0,\"hairless\":0,\"natural\":1,\"rare\":0,\"rex\":0,\"suppressed_tail\":1,\"short_legs\":0,\"wikipedia_url\":\"https://en.wikipedia.org/wiki/Kurilian_Bobtail\",\"hypoallergenic\":0,\"reference_image_id\":\"NZpO4pU56M\"},{\"weight\":{\"imperial\":\"6 - 10\",\"metric\":\"3 - 5\"},\"id\":\"lape\",\"name\":\"LaPerm\",\"cfa_url\":\"http://cfa.org/Breeds/BreedsKthruR/LaPerm.aspx\",\"vetstreet_url\":\"http://www.vetstreet.com/cats/laperm\",\"vcahospitals_url\":\"https://vcahospitals.com/know-your-pet/cat-breeds/laperm\",\"temperament\":\"Affectionate, Friendly, Gentle, Intelligent, Playful, Quiet\",\"origin\":\"Thailand\",\"country_codes\":\"TH\",\"country_code\":\"TH\",\"description\":\"LaPerms are gentle and affectionate but also very active. Unlike many active breeds, the LaPerm is also quite content to be a lap cat. The LaPerm will often follow your lead; that is, if they are busy playing and you decide to sit and relax, simply pick up your LaPerm and sit down with it, and it will stay in your lap, devouring the attention you give it.\",\"life_span\":\"10 - 15\",\"indoor\":0,\"lap\":1,\"alt_names\":\"Si-Sawat\",\"adaptability\":5,\"affection_level\":5,\"child_friendly\":4,\"dog_friendly\":5,\"energy_level\":4,\"grooming\":1,\"health_issues\":1,\"intelligence\":5,\"shedding_level\":3,\"social_needs\":4,\"stranger_friendly\":4,\"vocalisation\":3,\"experimental\":0,\"hairless\":0,\"natural\":0,\"rare\":0,\"rex\":1,\"suppressed_tail\":0,\"short_legs\":0,\"wikipedia_url\":\"https://en.wikipedia.org/wiki/LaPerm\",\"hypoallergenic\":1,\"reference_image_id\":\"aKbsEYjSl\"},{\"weight\":{\"imperial\":\"12 - 18\",\"metric\":\"5 - 8\"},\"id\":\"mcoo\",\"name\":\"Maine Coon\",\"cfa_url\":\"http://cfa.org/Breeds/BreedsKthruR/MaineCoon.aspx\",\"vetstreet_url\":\"http://www.vetstreet.com/cats/maine-coon\",\"vcahospitals_url\":\"https://vcahospitals.com/know-your-pet/cat-breeds/maine-coon\",\"temperament\":\"Adaptable, Intelligent, Loving, Gentle, Independent\",\"origin\":\"United States\",\"country_codes\":\"US\",\"country_code\":\"US\",\"description\":\"They are known for their size and luxurious long coat Maine Coons are considered a gentle giant. The good-natured and affable Maine Coon adapts well to many lifestyles and personalities. She likes being with people and has the habit of following them around, but isn’t needy. Most Maine Coons love water and they can be quite good swimmers.\",\"life_span\":\"12 - 15\",\"indoor\":0,\"lap\":1,\"alt_names\":\"Coon Cat, Maine Cat, Maine Shag, Snowshoe Cat, American Longhair, The Gentle Giants\",\"adaptability\":5,\"affection_level\":5,\"child_friendly\":4,\"dog_friendly\":5,\"energy_level\":3,\"grooming\":3,\"health_issues\":3,\"intelligence\":5,\"shedding_level\":3,\"social_needs\":3,\"stranger_friendly\":5,\"vocalisation\":1,\"experimental\":0,\"hairless\":0,\"natural\":1,\"rare\":0,\"rex\":0,\"suppressed_tail\":0,\"short_legs\":0,\"wikipedia_url\":\"https://en.wikipedia.org/wiki/Maine_Coon\",\"hypoallergenic\":0,\"reference_image_id\":\"OOD3VXAQn\"},{\"weight\":{\"imperial\":\"6 - 13\",\"metric\":\"3 - 6\"},\"id\":\"mala\",\"name\":\"Malayan\",\"temperament\":\"Affectionate, Interactive, Playful, Social\",\"origin\":\"United Kingdom\",\"country_codes\":\"GB\",\"country_code\":\"GB\",\"description\":\"Malayans love to explore and even enjoy traveling by way of a cat carrier. They are quite a talkative and rather loud cat with an apparent strong will. These cats will make sure that you give it the attention it seeks and always seem to want to be held and hugged. They will constantly interact with people, even strangers. They love to play and cuddle.\",\"life_span\":\"12 - 18\",\"indoor\":0,\"alt_names\":\"Asian\",\"adaptability\":5,\"affection_level\":5,\"child_friendly\":4,\"dog_friendly\":5,\"energy_level\":5,\"grooming\":1,\"health_issues\":1,\"intelligence\":3,\"shedding_level\":1,\"social_needs\":3,\"stranger_friendly\":3,\"vocalisation\":5,\"experimental\":0,\"hairless\":0,\"natural\":0,\"rare\":0,\"rex\":0,\"suppressed_tail\":0,\"short_legs\":0,\"wikipedia_url\":\"https://en.wikipedia.org/wiki/Asian_cat\",\"hypoallergenic\":0},{\"weight\":{\"imperial\":\"7 - 13\",\"metric\":\"3 - 6\"},\"id\":\"manx\",\"name\":\"Manx\",\"cfa_url\":\"http://cfa.org/Breeds/BreedsKthruR/Manx.aspx\",\"vetstreet_url\":\"http://www.vetstreet.com/cats/manx\",\"vcahospitals_url\":\"https://vcahospitals.com/know-your-pet/cat-breeds/manx\",\"temperament\":\"Easy Going, Intelligent, Loyal, Playful, Social\",\"origin\":\"Isle of Man\",\"country_codes\":\"IM\",\"country_code\":\"IM\",\"description\":\"The Manx is a placid, sweet cat that is gentle and playful. She never seems to get too upset about anything. She is a loving companion and adores being with people.\",\"life_span\":\"12 - 14\",\"indoor\":0,\"lap\":1,\"alt_names\":\"Manks, Stubbin, Rumpy\",\"adaptability\":5,\"affection_level\":5,\"child_friendly\":4,\"dog_friendly\":5,\"energy_level\":5,\"grooming\":1,\"health_issues\":3,\"intelligence\":5,\"shedding_level\":5,\"social_needs\":5,\"stranger_friendly\":3,\"vocalisation\":3,\"experimental\":0,\"hairless\":0,\"natural\":1,\"rare\":0,\"rex\":0,\"suppressed_tail\":1,\"short_legs\":0,\"wikipedia_url\":\"https://en.wikipedia.org/wiki/Manx_(cat)\",\"hypoallergenic\":0,\"reference_image_id\":\"fhYh2PDcC\"},{\"weight\":{\"imperial\":\"5 - 9\",\"metric\":\"2 - 4\"},\"id\":\"munc\",\"name\":\"Munchkin\",\"vetstreet_url\":\"http://www.vetstreet.com/cats/munchkin\",\"temperament\":\"Agile, Easy Going, Intelligent, Playful\",\"origin\":\"United States\",\"country_codes\":\"US\",\"country_code\":\"US\",\"description\":\"The Munchkin is an outgoing cat who enjoys being handled. She has lots of energy and is faster and more agile than she looks. The shortness of their legs does not seem to interfere with their running and leaping abilities.\",\"life_span\":\"10 - 15\",\"indoor\":0,\"lap\":1,\"alt_names\":\"\",\"adaptability\":5,\"affection_level\":5,\"child_friendly\":4,\"dog_friendly\":5,\"energy_level\":4,\"grooming\":2,\"health_issues\":3,\"intelligence\":5,\"shedding_level\":3,\"social_needs\":5,\"stranger_friendly\":5,\"vocalisation\":3,\"experimental\":0,\"hairless\":0,\"natural\":0,\"rare\":0,\"rex\":0,\"suppressed_tail\":0,\"short_legs\":1,\"wikipedia_url\":\"https://en.wikipedia.org/wiki/Munchkin_(cat)\",\"hypoallergenic\":0,\"reference_image_id\":\"j5cVSqLer\"},{\"weight\":{\"imperial\":\"7 - 11\",\"metric\":\"3 - 5\"},\"id\":\"nebe\",\"name\":\"Nebelung\",\"temperament\":\"Gentle, Quiet, Shy, Playful\",\"origin\":\"United States\",\"country_codes\":\"US\",\"country_code\":\"US\",\"description\":\"The Nebelung may have a reserved nature, but she loves to play (being especially fond of retrieving) and enjoys jumping or climbing to high places where she can study people and situations at her leisure before making up her mind about whether she wants to get involved.\",\"life_span\":\"11 - 16\",\"indoor\":0,\"lap\":1,\"alt_names\":\"Longhaired Russian Blue\",\"adaptability\":5,\"affection_level\":5,\"child_friendly\":4,\"dog_friendly\":4,\"energy_level\":3,\"grooming\":3,\"health_issues\":2,\"intelligence\":5,\"shedding_level\":3,\"social_needs\":3,\"stranger_friendly\":3,\"vocalisation\":1,\"experimental\":0,\"hairless\":0,\"natural\":0,\"rare\":1,\"rex\":0,\"suppressed_tail\":0,\"short_legs\":0,\"wikipedia_url\":\"https://en.wikipedia.org/wiki/Nebelung\",\"hypoallergenic\":0,\"reference_image_id\":\"OGTWqNNOt\"},{\"weight\":{\"imperial\":\"8 - 16\",\"metric\":\"4 - 7\"},\"id\":\"norw\",\"name\":\"Norwegian Forest Cat\",\"cfa_url\":\"http://cfa.org/Breeds/BreedsKthruR/NorwegianForestCat.aspx\",\"vetstreet_url\":\"http://www.vetstreet.com/cats/norwegian-forest-cat\",\"vcahospitals_url\":\"https://vcahospitals.com/know-your-pet/cat-breeds/norwegian-forest-cat\",\"temperament\":\"Sweet, Active, Intelligent, Social, Playful, Lively, Curious\",\"origin\":\"Norway\",\"country_codes\":\"NO\",\"country_code\":\"NO\",\"description\":\"The Norwegian Forest Cat is a sweet, loving cat. She appreciates praise and loves to interact with her parent. She makes a loving companion and bonds with her parents once she accepts them for her own. She is still a hunter at heart. She loves to chase toys as if they are real. She is territorial and patrols several times each day to make certain that all is fine.\",\"life_span\":\"12 - 16\",\"indoor\":0,\"alt_names\":\"Skogkatt / Skaukatt, Norsk Skogkatt / Norsk Skaukatt, Weegie\",\"adaptability\":5,\"affection_level\":5,\"child_friendly\":4,\"dog_friendly\":5,\"energy_level\":3,\"grooming\":2,\"health_issues\":3,\"intelligence\":4,\"shedding_level\":3,\"social_needs\":5,\"stranger_friendly\":5,\"vocalisation\":1,\"experimental\":0,\"hairless\":0,\"natural\":1,\"rare\":0,\"rex\":0,\"suppressed_tail\":0,\"short_legs\":0,\"wikipedia_url\":\"https://en.wikipedia.org/wiki/Norwegian_Forest_Cat\",\"hypoallergenic\":0,\"reference_image_id\":\"06dgGmEOV\"},{\"weight\":{\"imperial\":\"7 - 15\",\"metric\":\"3 - 7\"},\"id\":\"ocic\",\"name\":\"Ocicat\",\"cfa_url\":\"http://cfa.org/Breeds/BreedsKthruR/Ocicat.aspx\",\"vetstreet_url\":\"http://www.vetstreet.com/cats/ocicat\",\"vcahospitals_url\":\"https://vcahospitals.com/know-your-pet/cat-breeds/ocicat\",\"temperament\":\"Active, Agile, Curious, Demanding, Friendly, Gentle, Lively, Playful, Social\",\"origin\":\"United States\",\"country_codes\":\"US\",\"country_code\":\"US\",\"description\":\"Loyal and devoted to their owners, the Ocicat is intelligent, confident, outgoing, and seems to have many dog traits. They can be trained to fetch toys, walk on a lead, taught to \\'speak\\', come when called, and follow other commands. \",\"life_span\":\"12 - 14\",\"indoor\":0,\"alt_names\":\"\",\"adaptability\":5,\"affection_level\":5,\"child_friendly\":4,\"dog_friendly\":5,\"energy_level\":5,\"grooming\":1,\"health_issues\":3,\"intelligence\":5,\"shedding_level\":3,\"social_needs\":5,\"stranger_friendly\":5,\"vocalisation\":3,\"experimental\":0,\"hairless\":0,\"natural\":0,\"rare\":0,\"rex\":0,\"suppressed_tail\":0,\"short_legs\":0,\"wikipedia_url\":\"https://en.wikipedia.org/wiki/Ocicat\",\"hypoallergenic\":1,\"reference_image_id\":\"JAx-08Y0n\"},{\"weight\":{\"imperial\":\"5 - 10\",\"metric\":\"2 - 5\"},\"id\":\"orie\",\"name\":\"Oriental\",\"cfa_url\":\"http://cfa.org/Breeds/BreedsKthruR/Oriental.aspx\",\"vetstreet_url\":\"http://www.vetstreet.com/cats/oriental\",\"vcahospitals_url\":\"https://vcahospitals.com/know-your-pet/cat-breeds/oriental\",\"temperament\":\"Energetic, Affectionate, Intelligent, Social, Playful, Curious\",\"origin\":\"United States\",\"country_codes\":\"US\",\"country_code\":\"US\",\"description\":\"Orientals are passionate about the people in their lives. They become extremely attached to their humans, so be prepared for a lifetime commitment. When you are not available to entertain her, an Oriental will divert herself by jumping on top of the refrigerator, opening drawers, seeking out new hideaways.\",\"life_span\":\"12 - 14\",\"indoor\":0,\"lap\":1,\"alt_names\":\"Foreign Type\",\"adaptability\":5,\"affection_level\":5,\"child_friendly\":4,\"dog_friendly\":5,\"energy_level\":5,\"grooming\":1,\"health_issues\":3,\"intelligence\":5,\"shedding_level\":3,\"social_needs\":5,\"stranger_friendly\":3,\"vocalisation\":5,\"experimental\":0,\"hairless\":0,\"natural\":0,\"rare\":0,\"rex\":0,\"suppressed_tail\":0,\"short_legs\":0,\"wikipedia_url\":\"https://en.wikipedia.org/wiki/Oriental_Shorthair\",\"hypoallergenic\":1,\"reference_image_id\":\"LutjkZJpH\"},{\"weight\":{\"imperial\":\"9 - 14\",\"metric\":\"4 - 6\"},\"id\":\"pers\",\"name\":\"Persian\",\"cfa_url\":\"http://cfa.org/Breeds/BreedsKthruR/Persian.aspx\",\"vetstreet_url\":\"http://www.vetstreet.com/cats/persian\",\"vcahospitals_url\":\"https://vcahospitals.com/know-your-pet/cat-breeds/persian\",\"temperament\":\"Affectionate, loyal, Sedate, Quiet\",\"origin\":\"Iran (Persia)\",\"country_codes\":\"IR\",\"country_code\":\"IR\",\"description\":\"Persians are sweet, gentle cats that can be playful or quiet and laid-back. Great with families and children, they absolutely love to lounge around the house. While they don’t mind a full house or active kids, they’ll usually hide when they need some alone time.\",\"life_span\":\"14 - 15\",\"indoor\":0,\"lap\":1,\"alt_names\":\"Longhair, Persian Longhair, Shiraz, Shirazi\",\"adaptability\":5,\"affection_level\":5,\"child_friendly\":2,\"dog_friendly\":2,\"energy_level\":1,\"grooming\":5,\"health_issues\":3,\"intelligence\":3,\"shedding_level\":4,\"social_needs\":4,\"stranger_friendly\":2,\"vocalisation\":1,\"experimental\":0,\"hairless\":0,\"natural\":1,\"rare\":0,\"rex\":0,\"suppressed_tail\":0,\"short_legs\":0,\"wikipedia_url\":\"https://en.wikipedia.org/wiki/Persian_(cat)\",\"hypoallergenic\":0,\"reference_image_id\":\"-Zfz5z2jK\"},{\"weight\":{\"imperial\":\"8 - 17\",\"metric\":\"4 - 8\"},\"id\":\"pixi\",\"name\":\"Pixie-bob\",\"vetstreet_url\":\"http://www.vetstreet.com/cats/pixiebob\",\"temperament\":\"Affectionate, Social, Intelligent, Loyal\",\"origin\":\"United States\",\"country_codes\":\"US\",\"country_code\":\"US\",\"description\":\"Companionable and affectionate, the Pixie-bob wants to be an integral part of the family. The Pixie-Bob’s ability to bond with their humans along with their patient personas make them excellent companions for children.\",\"life_span\":\"13 - 16\",\"indoor\":0,\"lap\":1,\"alt_names\":\"\",\"adaptability\":5,\"affection_level\":5,\"child_friendly\":4,\"dog_friendly\":5,\"energy_level\":4,\"grooming\":1,\"health_issues\":2,\"intelligence\":5,\"shedding_level\":3,\"social_needs\":4,\"stranger_friendly\":4,\"vocalisation\":1,\"experimental\":0,\"hairless\":0,\"natural\":0,\"rare\":0,\"rex\":0,\"suppressed_tail\":1,\"short_legs\":0,\"wikipedia_url\":\"https://en.wikipedia.org/wiki/Pixiebob\",\"hypoallergenic\":0,\"reference_image_id\":\"z7fJRNeN6\"},{\"weight\":{\"imperial\":\"8 - 20\",\"metric\":\"4 - 9\"},\"id\":\"raga\",\"name\":\"Ragamuffin\",\"cfa_url\":\"http://cfa.org/Breeds/BreedsKthruR/Ragamuffin.aspx\",\"vetstreet_url\":\"http://www.vetstreet.com/cats/ragamuffin\",\"vcahospitals_url\":\"https://vcahospitals.com/know-your-pet/cat-breeds/ragamuffin\",\"temperament\":\"Affectionate, Friendly, Gentle, Calm\",\"origin\":\"United States\",\"country_codes\":\"US\",\"country_code\":\"US\",\"description\":\"The Ragamuffin is calm, even tempered and gets along well with all family members. Changes in routine generally do not upset her. She is an ideal companion for those in apartments, and with children due to her patient nature.\",\"life_span\":\"12 - 16\",\"indoor\":0,\"lap\":1,\"alt_names\":\"\",\"adaptability\":5,\"affection_level\":5,\"child_friendly\":4,\"dog_friendly\":5,\"energy_level\":3,\"grooming\":3,\"health_issues\":3,\"intelligence\":5,\"shedding_level\":3,\"social_needs\":3,\"stranger_friendly\":5,\"vocalisation\":1,\"experimental\":0,\"hairless\":0,\"natural\":0,\"rare\":0,\"rex\":0,\"suppressed_tail\":0,\"short_legs\":0,\"wikipedia_url\":\"https://en.wikipedia.org/wiki/Ragamuffin_cat\",\"hypoallergenic\":0,\"reference_image_id\":\"SMuZx-bFM\"},{\"weight\":{\"imperial\":\"12 - 20\",\"metric\":\"5 - 9\"},\"id\":\"ragd\",\"name\":\"Ragdoll\",\"cfa_url\":\"http://cfa.org/Breeds/BreedsKthruR/Ragdoll.aspx\",\"vetstreet_url\":\"http://www.vetstreet.com/cats/ragdoll\",\"vcahospitals_url\":\"https://vcahospitals.com/know-your-pet/cat-breeds/ragdoll\",\"temperament\":\"Affectionate, Friendly, Gentle, Quiet, Easygoing\",\"origin\":\"United States\",\"country_codes\":\"US\",\"country_code\":\"US\",\"description\":\"Ragdolls love their people, greeting them at the door, following them around the house, and leaping into a lap or snuggling in bed whenever given the chance. They are the epitome of a lap cat, enjoy being carried and collapsing into the arms of anyone who holds them.\",\"life_span\":\"12 - 17\",\"indoor\":0,\"lap\":1,\"alt_names\":\"Rag doll\",\"adaptability\":5,\"affection_level\":5,\"child_friendly\":4,\"dog_friendly\":5,\"energy_level\":3,\"grooming\":2,\"health_issues\":3,\"intelligence\":3,\"shedding_level\":3,\"social_needs\":5,\"stranger_friendly\":3,\"vocalisation\":1,\"experimental\":0,\"hairless\":0,\"natural\":0,\"rare\":0,\"rex\":0,\"suppressed_tail\":0,\"short_legs\":0,\"wikipedia_url\":\"https://en.wikipedia.org/wiki/Ragdoll\",\"hypoallergenic\":0,\"reference_image_id\":\"oGefY4YoG\"},{\"weight\":{\"imperial\":\"5 - 11\",\"metric\":\"2 - 5\"},\"id\":\"rblu\",\"name\":\"Russian Blue\",\"cfa_url\":\"http://cfa.org/Breeds/BreedsKthruR/RussianBlue.aspx\",\"vetstreet_url\":\"http://www.vetstreet.com/cats/russian-blue-nebelung\",\"vcahospitals_url\":\"https://vcahospitals.com/know-your-pet/cat-breeds/russian-blue\",\"temperament\":\"Active, Dependent, Easy Going, Gentle, Intelligent, Loyal, Playful, Quiet\",\"origin\":\"Russia\",\"country_codes\":\"RU\",\"country_code\":\"RU\",\"description\":\"Russian Blues are very loving and reserved. They do not like noisy households but they do like to play and can be quite active when outdoors. They bond very closely with their owner and are known to be compatible with other pets.\",\"life_span\":\"10 - 16\",\"indoor\":0,\"lap\":1,\"alt_names\":\"Archangel Blue, Archangel Cat\",\"adaptability\":3,\"affection_level\":3,\"child_friendly\":3,\"dog_friendly\":3,\"energy_level\":3,\"grooming\":3,\"health_issues\":1,\"intelligence\":3,\"shedding_level\":3,\"social_needs\":3,\"stranger_friendly\":1,\"vocalisation\":1,\"experimental\":0,\"hairless\":0,\"natural\":1,\"rare\":0,\"rex\":0,\"suppressed_tail\":0,\"short_legs\":0,\"wikipedia_url\":\"https://en.wikipedia.org/wiki/Russian_Blue\",\"hypoallergenic\":1,\"reference_image_id\":\"Rhj-JsTLP\"},{\"weight\":{\"imperial\":\"8 - 25\",\"metric\":\"4 - 11\"},\"id\":\"sava\",\"name\":\"Savannah\",\"vetstreet_url\":\"http://www.vetstreet.com/cats/savannah\",\"temperament\":\"Curious, Social, Intelligent, Loyal, Outgoing, Adventurous, Affectionate\",\"origin\":\"United States\",\"country_codes\":\"US\",\"country_code\":\"US\",\"description\":\"Savannah is the feline version of a dog. Actively seeking social interaction, they are given to pouting if left out. Remaining kitten-like through life. Profoundly loyal to immediate family members whilst questioning the presence of strangers. Making excellent companions that are loyal, intelligent and eager to be involved.\",\"life_span\":\"17 - 20\",\"indoor\":0,\"alt_names\":\"\",\"adaptability\":5,\"affection_level\":5,\"child_friendly\":4,\"dog_friendly\":5,\"energy_level\":5,\"grooming\":1,\"health_issues\":1,\"intelligence\":5,\"shedding_level\":3,\"social_needs\":5,\"stranger_friendly\":5,\"vocalisation\":1,\"experimental\":1,\"hairless\":0,\"natural\":0,\"rare\":0,\"rex\":0,\"suppressed_tail\":0,\"short_legs\":0,\"wikipedia_url\":\"https://en.wikipedia.org/wiki/Savannah_cat\",\"hypoallergenic\":0,\"reference_image_id\":\"a8nIYvs6S\"},{\"weight\":{\"imperial\":\"5 - 11\",\"metric\":\"2 - 5\"},\"id\":\"sfol\",\"name\":\"Scottish Fold\",\"cfa_url\":\"http://cfa.org/Breeds/BreedsSthruT/ScottishFold.aspx\",\"vetstreet_url\":\"http://www.vetstreet.com/cats/scottish-fold-highland-fold\",\"vcahospitals_url\":\"https://vcahospitals.com/know-your-pet/cat-breeds/scottish-fold\",\"temperament\":\"Affectionate, Intelligent, Loyal, Playful, Social, Sweet, Loving\",\"origin\":\"United Kingdom\",\"country_codes\":\"GB\",\"country_code\":\"GB\",\"description\":\"The Scottish Fold is a sweet, charming breed. She is an easy cat to live with and to care for. She is affectionate and is comfortable with all members of her family. Her tail should be handled gently. Folds are known for sleeping on their backs, and for sitting with their legs stretched out and their paws on their belly. This is called the \\\\\"Buddha Position\\\\\".\",\"life_span\":\"11 - 14\",\"indoor\":0,\"alt_names\":\"Scot Fold\",\"adaptability\":5,\"affection_level\":5,\"child_friendly\":4,\"dog_friendly\":5,\"energy_level\":3,\"grooming\":1,\"health_issues\":4,\"intelligence\":3,\"shedding_level\":3,\"social_needs\":3,\"stranger_friendly\":3,\"vocalisation\":1,\"experimental\":0,\"hairless\":0,\"natural\":0,\"rare\":0,\"rex\":0,\"suppressed_tail\":0,\"short_legs\":0,\"wikipedia_url\":\"https://en.wikipedia.org/wiki/Scottish_Fold\",\"hypoallergenic\":0,\"reference_image_id\":\"o9t0LDcsa\"},{\"weight\":{\"imperial\":\"6 - 16\",\"metric\":\"3 - 7\"},\"id\":\"srex\",\"name\":\"Selkirk Rex\",\"cfa_url\":\"http://cfa.org/Breeds/BreedsSthruT/SelkirkRex.aspx\",\"vetstreet_url\":\"http://www.vetstreet.com/cats/selkirk-rex\",\"vcahospitals_url\":\"https://vcahospitals.com/know-your-pet/cat-breeds/selkirk-rex\",\"temperament\":\"Active, Affectionate, Dependent, Gentle, Patient, Playful, Quiet, Social\",\"origin\":\"United States\",\"country_codes\":\"US\",\"country_code\":\"US\",\"description\":\"The Selkirk Rex is an incredibly patient, loving, and tolerant breed. The Selkirk also has a silly side and is sometimes described as clownish. She loves being a lap cat and will be happy to chat with you in a quiet voice if you talk to her. \",\"life_span\":\"14 - 15\",\"indoor\":0,\"lap\":1,\"alt_names\":\"Shepherd Cat\",\"adaptability\":5,\"affection_level\":5,\"child_friendly\":4,\"dog_friendly\":5,\"energy_level\":3,\"grooming\":2,\"health_issues\":4,\"intelligence\":3,\"shedding_level\":1,\"social_needs\":3,\"stranger_friendly\":3,\"vocalisation\":3,\"experimental\":0,\"hairless\":0,\"natural\":0,\"rare\":0,\"rex\":1,\"suppressed_tail\":0,\"short_legs\":0,\"wikipedia_url\":\"https://en.wikipedia.org/wiki/Selkirk_Rex\",\"hypoallergenic\":1,\"reference_image_id\":\"II9dOZmrw\"},{\"weight\":{\"imperial\":\"8 - 15\",\"metric\":\"4 - 7\"},\"id\":\"siam\",\"name\":\"Siamese\",\"cfa_url\":\"http://cfa.org/Breeds/BreedsSthruT/Siamese.aspx\",\"vetstreet_url\":\"http://www.vetstreet.com/cats/siamese\",\"vcahospitals_url\":\"https://vcahospitals.com/know-your-pet/cat-breeds/siamese\",\"temperament\":\"Active, Agile, Clever, Sociable, Loving, Energetic\",\"origin\":\"Thailand\",\"country_codes\":\"TH\",\"country_code\":\"TH\",\"description\":\"While Siamese cats are extremely fond of their people, they will follow you around and supervise your every move, being talkative and opinionated. They are a demanding and social cat, that do not like being left alone for long periods.\",\"life_span\":\"12 - 15\",\"indoor\":0,\"lap\":1,\"alt_names\":\"Siam, Thai Cat\",\"adaptability\":5,\"affection_level\":5,\"child_friendly\":4,\"dog_friendly\":5,\"energy_level\":5,\"grooming\":1,\"health_issues\":1,\"intelligence\":5,\"shedding_level\":2,\"social_needs\":5,\"stranger_friendly\":5,\"vocalisation\":5,\"experimental\":0,\"hairless\":0,\"natural\":0,\"rare\":0,\"rex\":0,\"suppressed_tail\":0,\"short_legs\":0,\"wikipedia_url\":\"https://en.wikipedia.org/wiki/Siamese_(cat)\",\"hypoallergenic\":1,\"reference_image_id\":\"ai6Jps4sx\"},{\"weight\":{\"imperial\":\"8 - 16\",\"metric\":\"4 - 7\"},\"id\":\"sibe\",\"name\":\"Siberian\",\"cfa_url\":\"http://cfa.org/Breeds/BreedsSthruT/Siberian.aspx\",\"vetstreet_url\":\"http://www.vetstreet.com/cats/siberian\",\"vcahospitals_url\":\"https://vcahospitals.com/know-your-pet/cat-breeds/siberian\",\"temperament\":\"Curious, Intelligent, Loyal, Sweet, Agile, Playful, Affectionate\",\"origin\":\"Russia\",\"country_codes\":\"RU\",\"country_code\":\"RU\",\"description\":\"The Siberians dog like temperament and affection makes the ideal lap cat and will live quite happily indoors. Very agile and powerful, the Siberian cat can easily leap and reach high places, including the tops of refrigerators and even doors. \",\"life_span\":\"12 - 15\",\"indoor\":0,\"lap\":1,\"alt_names\":\"Moscow Semi-longhair, HairSiberian Forest Cat\",\"adaptability\":5,\"affection_level\":5,\"child_friendly\":4,\"dog_friendly\":5,\"energy_level\":5,\"grooming\":2,\"health_issues\":2,\"intelligence\":5,\"shedding_level\":3,\"social_needs\":4,\"stranger_friendly\":3,\"vocalisation\":1,\"experimental\":0,\"hairless\":0,\"natural\":1,\"rare\":0,\"rex\":0,\"suppressed_tail\":0,\"short_legs\":0,\"wikipedia_url\":\"https://en.wikipedia.org/wiki/Siberian_(cat)\",\"hypoallergenic\":1,\"reference_image_id\":\"3bkZAjRh1\"},{\"weight\":{\"imperial\":\"5 - 8\",\"metric\":\"2 - 4\"},\"id\":\"sing\",\"name\":\"Singapura\",\"cfa_url\":\"http://cfa.org/Breeds/BreedsSthruT/Singapura.aspx\",\"vetstreet_url\":\"http://www.vetstreet.com/cats/singapura\",\"vcahospitals_url\":\"https://vcahospitals.com/know-your-pet/cat-breeds/singapura\",\"temperament\":\"Affectionate, Curious, Easy Going, Intelligent, Interactive, Lively, Loyal\",\"origin\":\"Singapore\",\"country_codes\":\"SP\",\"country_code\":\"SP\",\"description\":\"The Singapura is usually cautious when it comes to meeting new people, but loves attention from his family so much that she sometimes has the reputation of being a pest. This is a highly active, curious and affectionate cat. She may be small, but she knows she’s in charge\",\"life_span\":\"12 - 15\",\"indoor\":0,\"lap\":1,\"alt_names\":\"Drain Cat, Kucinta, Pura\",\"adaptability\":5,\"affection_level\":5,\"child_friendly\":4,\"dog_friendly\":5,\"energy_level\":5,\"grooming\":1,\"health_issues\":1,\"intelligence\":5,\"shedding_level\":3,\"social_needs\":5,\"stranger_friendly\":5,\"vocalisation\":1,\"experimental\":0,\"hairless\":0,\"natural\":0,\"rare\":0,\"rex\":0,\"suppressed_tail\":0,\"short_legs\":0,\"wikipedia_url\":\"https://en.wikipedia.org/wiki/Singapura_(cat)\",\"hypoallergenic\":0,\"reference_image_id\":\"Qtncp2nRe\"},{\"weight\":{\"imperial\":\"7 - 12\",\"metric\":\"3 - 5\"},\"id\":\"snow\",\"name\":\"Snowshoe\",\"temperament\":\"Affectionate, Social, Intelligent, Sweet-tempered\",\"origin\":\"United States\",\"country_codes\":\"US\",\"country_code\":\"US\",\"description\":\"The Snowshoe is a vibrant, energetic, affectionate and intelligent cat. They love being around people which makes them ideal for families, and becomes unhappy when left alone for long periods of time. Usually attaching themselves to one person, they do whatever they can to get your attention.\",\"life_span\":\"14 - 19\",\"indoor\":0,\"lap\":1,\"alt_names\":\"\",\"adaptability\":5,\"affection_level\":5,\"child_friendly\":4,\"dog_friendly\":5,\"energy_level\":4,\"grooming\":3,\"health_issues\":1,\"intelligence\":5,\"shedding_level\":3,\"social_needs\":4,\"stranger_friendly\":4,\"vocalisation\":5,\"experimental\":0,\"hairless\":0,\"natural\":0,\"rare\":0,\"rex\":0,\"suppressed_tail\":0,\"short_legs\":0,\"wikipedia_url\":\"https://en.wikipedia.org/wiki/Snowshoe_(cat)\",\"hypoallergenic\":0,\"reference_image_id\":\"MK-sYESvO\"},{\"weight\":{\"imperial\":\"6 - 12\",\"metric\":\"3 - 5\"},\"id\":\"soma\",\"name\":\"Somali\",\"cfa_url\":\"http://cfa.org/Breeds/BreedsSthruT/Somali.aspx\",\"vetstreet_url\":\"http://www.vetstreet.com/cats/somali\",\"vcahospitals_url\":\"https://vcahospitals.com/know-your-pet/cat-breeds/somali\",\"temperament\":\"Mischievous, Tenacious, Intelligent, Affectionate, Gentle, Interactive, Loyal\",\"origin\":\"Somalia\",\"country_codes\":\"SO\",\"country_code\":\"SO\",\"description\":\"The Somali lives life to the fullest. He climbs higher, jumps farther, plays harder. Nothing escapes the notice of this highly intelligent and inquisitive cat. Somalis love the company of humans and other animals.\",\"life_span\":\"12 - 16\",\"indoor\":0,\"alt_names\":\"Fox Cat, Long-Haired Abyssinian\",\"adaptability\":5,\"affection_level\":5,\"child_friendly\":3,\"dog_friendly\":4,\"energy_level\":5,\"grooming\":3,\"health_issues\":2,\"intelligence\":5,\"shedding_level\":4,\"social_needs\":5,\"stranger_friendly\":5,\"vocalisation\":1,\"experimental\":0,\"hairless\":0,\"natural\":0,\"rare\":0,\"rex\":0,\"suppressed_tail\":0,\"short_legs\":0,\"wikipedia_url\":\"https://en.wikipedia.org/wiki/Somali_(cat)\",\"hypoallergenic\":0,\"reference_image_id\":\"EPF2ejNS0\"},{\"weight\":{\"imperial\":\"6 - 12\",\"metric\":\"3 - 5\"},\"id\":\"sphy\",\"name\":\"Sphynx\",\"cfa_url\":\"http://cfa.org/Breeds/BreedsSthruT/Sphynx.aspx\",\"vetstreet_url\":\"http://www.vetstreet.com/cats/sphynx\",\"vcahospitals_url\":\"https://vcahospitals.com/know-your-pet/cat-breeds/sphynx\",\"temperament\":\"Loyal, Inquisitive, Friendly, Quiet, Gentle\",\"origin\":\"Canada\",\"country_codes\":\"CA\",\"country_code\":\"CA\",\"description\":\"The Sphynx is an intelligent, inquisitive, extremely friendly people-oriented breed. Sphynx commonly greet their owners  at the front door, with obvious excitement and happiness. She has an unexpected sense of humor that is often at odds with her dour expression.\",\"life_span\":\"12 - 14\",\"indoor\":0,\"lap\":1,\"alt_names\":\"Canadian Hairless, Canadian Sphynx\",\"adaptability\":5,\"affection_level\":5,\"child_friendly\":4,\"dog_friendly\":5,\"energy_level\":3,\"grooming\":2,\"health_issues\":4,\"intelligence\":5,\"shedding_level\":1,\"social_needs\":5,\"stranger_friendly\":5,\"vocalisation\":5,\"experimental\":0,\"hairless\":1,\"natural\":0,\"rare\":1,\"rex\":0,\"suppressed_tail\":0,\"short_legs\":0,\"wikipedia_url\":\"https://en.wikipedia.org/wiki/Sphynx_(cat)\",\"hypoallergenic\":1,\"reference_image_id\":\"BDb8ZXb1v\"},{\"weight\":{\"imperial\":\"6 - 12\",\"metric\":\"3 - 5\"},\"id\":\"tonk\",\"name\":\"Tonkinese\",\"cfa_url\":\"http://cfa.org/Breeds/BreedsSthruT/Tonkinese.aspx\",\"vetstreet_url\":\"http://www.vetstreet.com/cats/tonkinese\",\"vcahospitals_url\":\"https://vcahospitals.com/know-your-pet/cat-breeds/tonkinese\",\"temperament\":\"Curious, Intelligent, Social, Lively, Outgoing, Playful, Affectionate\",\"origin\":\"Canada\",\"country_codes\":\"CA\",\"country_code\":\"CA\",\"description\":\"Intelligent and generous with their affection, a Tonkinese will supervise all activities with curiosity. Loving, social, active, playful, yet content to be a lap cat\",\"life_span\":\"14 - 16\",\"indoor\":0,\"lap\":1,\"alt_names\":\"Tonk\",\"adaptability\":5,\"affection_level\":5,\"child_friendly\":4,\"dog_friendly\":5,\"energy_level\":5,\"grooming\":1,\"health_issues\":1,\"intelligence\":5,\"shedding_level\":3,\"social_needs\":5,\"stranger_friendly\":5,\"vocalisation\":5,\"experimental\":0,\"hairless\":0,\"natural\":0,\"rare\":0,\"rex\":0,\"suppressed_tail\":0,\"short_legs\":0,\"wikipedia_url\":\"https://en.wikipedia.org/wiki/Tonkinese_(cat)\",\"hypoallergenic\":0,\"reference_image_id\":\"KBroiVNCM\"},{\"weight\":{\"imperial\":\"7 - 15\",\"metric\":\"3 - 7\"},\"id\":\"toyg\",\"name\":\"Toyger\",\"vetstreet_url\":\"http://www.vetstreet.com/cats/toyger\",\"temperament\":\"Playful, Social, Intelligent\",\"origin\":\"United States\",\"country_codes\":\"US\",\"country_code\":\"US\",\"description\":\"The Toyger has a sweet, calm personality and is generally friendly. He\\'s outgoing enough to walk on a leash, energetic enough to play fetch and other interactive games, and confident enough to get along with other cats and friendly dogs.\",\"life_span\":\"12 - 15\",\"indoor\":0,\"lap\":1,\"alt_names\":\"\",\"adaptability\":5,\"affection_level\":5,\"child_friendly\":4,\"dog_friendly\":5,\"energy_level\":5,\"grooming\":1,\"health_issues\":2,\"intelligence\":5,\"shedding_level\":3,\"social_needs\":3,\"stranger_friendly\":5,\"vocalisation\":5,\"experimental\":0,\"hairless\":0,\"natural\":0,\"rare\":0,\"rex\":0,\"suppressed_tail\":0,\"short_legs\":0,\"wikipedia_url\":\"https://en.wikipedia.org/wiki/Toyger\",\"hypoallergenic\":0,\"reference_image_id\":\"O3F3_S1XN\"},{\"weight\":{\"imperial\":\"5 - 10\",\"metric\":\"2 - 5\"},\"id\":\"tang\",\"name\":\"Turkish Angora\",\"cfa_url\":\"http://cfa.org/Breeds/BreedsSthruT/TurkishAngora.aspx\",\"vetstreet_url\":\"http://www.vetstreet.com/cats/turkish-angora\",\"vcahospitals_url\":\"https://vcahospitals.com/know-your-pet/cat-breeds/turkish-angora\",\"temperament\":\"Affectionate, Agile, Clever, Gentle, Intelligent, Playful, Social\",\"origin\":\"Turkey\",\"country_codes\":\"TR\",\"country_code\":\"TR\",\"description\":\"This is a smart and intelligent cat which bonds well with humans. With its affectionate and playful personality the Angora is a top choice for families. The Angora gets along great with other pets in the home, but it will make clear who is in charge, and who the house belongs to\",\"life_span\":\"15 - 18\",\"indoor\":0,\"alt_names\":\"Ankara\",\"adaptability\":5,\"affection_level\":5,\"child_friendly\":4,\"dog_friendly\":5,\"energy_level\":5,\"grooming\":2,\"health_issues\":2,\"intelligence\":5,\"shedding_level\":2,\"social_needs\":5,\"stranger_friendly\":5,\"vocalisation\":3,\"experimental\":0,\"hairless\":0,\"natural\":1,\"rare\":0,\"rex\":0,\"suppressed_tail\":0,\"short_legs\":0,\"wikipedia_url\":\"https://en.wikipedia.org/wiki/Turkish_Angora\",\"hypoallergenic\":0,\"reference_image_id\":\"7CGV6WVXq\"},{\"weight\":{\"imperial\":\"7 - 20\",\"metric\":\"3 - 9\"},\"id\":\"tvan\",\"name\":\"Turkish Van\",\"cfa_url\":\"http://cfa.org/Breeds/BreedsSthruT/TurkishVan.aspx\",\"vetstreet_url\":\"http://www.vetstreet.com/cats/turkish-van\",\"vcahospitals_url\":\"https://vcahospitals.com/know-your-pet/cat-breeds/turkish-van\",\"temperament\":\"Agile, Intelligent, Loyal, Playful, Energetic\",\"origin\":\"Turkey\",\"country_codes\":\"TR\",\"country_code\":\"TR\",\"description\":\"While the Turkish Van loves to jump and climb, play with toys, retrieve and play chase, she is is big and ungainly; this is one cat who doesn’t always land on his feet. While not much of a lap cat, the Van will be happy to cuddle next to you and sleep in your bed. \",\"life_span\":\"12 - 17\",\"indoor\":0,\"alt_names\":\"Turkish Cat, Swimming cat\",\"adaptability\":5,\"affection_level\":5,\"child_friendly\":4,\"dog_friendly\":5,\"energy_level\":5,\"grooming\":2,\"health_issues\":1,\"intelligence\":5,\"shedding_level\":3,\"social_needs\":4,\"stranger_friendly\":4,\"vocalisation\":5,\"experimental\":0,\"hairless\":0,\"natural\":1,\"rare\":0,\"rex\":0,\"suppressed_tail\":0,\"short_legs\":0,\"wikipedia_url\":\"https://en.wikipedia.org/wiki/Turkish_Van\",\"hypoallergenic\":0,\"reference_image_id\":\"sxIXJax6h\"},{\"weight\":{\"imperial\":\"12 - 18\",\"metric\":\"5 - 8\"},\"id\":\"ycho\",\"name\":\"York Chocolate\",\"temperament\":\"Playful, Social, Intelligent, Curious, Friendly\",\"origin\":\"United States\",\"country_codes\":\"US\",\"country_code\":\"US\",\"description\":\"York Chocolate cats are known to be true lap cats with a sweet temperament. They love to be cuddled and petted. Their curious nature makes them follow you all the time and participate in almost everything you do, even if it\\'s related to water: unlike many other cats, York Chocolates love it.\",\"life_span\":\"13 - 15\",\"indoor\":0,\"lap\":1,\"alt_names\":\"York\",\"adaptability\":5,\"affection_level\":5,\"child_friendly\":4,\"dog_friendly\":5,\"energy_level\":5,\"grooming\":3,\"health_issues\":1,\"intelligence\":5,\"shedding_level\":3,\"social_needs\":4,\"stranger_friendly\":4,\"vocalisation\":5,\"experimental\":0,\"hairless\":0,\"natural\":0,\"rare\":0,\"rex\":0,\"suppressed_tail\":0,\"short_legs\":0,\"wikipedia_url\":\"https://en.wikipedia.org/wiki/York_Chocolate\",\"hypoallergenic\":0,\"reference_image_id\":\"0SxW2SQ_S\"}]'"
      ]
     },
     "execution_count": 10,
     "metadata": {},
     "output_type": "execute_result"
    }
   ],
   "source": [
    "response.text"
   ]
  },
  {
   "cell_type": "code",
   "execution_count": 11,
   "id": "a34cf168-a2e3-4dc5-8027-69dca52d9279",
   "metadata": {},
   "outputs": [
    {
     "data": {
      "text/plain": [
       "{'x-dns-prefetch-control': 'off', 'x-frame-options': 'SAMEORIGIN', 'strict-transport-security': 'max-age=15552000; includeSubDomains', 'x-download-options': 'noopen', 'x-content-type-options': 'nosniff', 'x-xss-protection': '1; mode=block', 'vary': 'Origin', 'pagination-count': '67', 'pagination-page': '0', 'pagination-limit': '1000', 'access-control-expose-headers': 'Pagination-Count, Pagination-Page, Pagination-Limit', 'content-type': 'application/json; charset=utf-8', 'x-response-time': '3ms', 'X-Cloud-Trace-Context': 'a504eb741eb4b889e152f1a384fa1de8', 'Date': 'Sat, 01 Jun 2024 14:39:43 GMT', 'Server': 'Google Frontend', 'Content-Length': '76734'}"
      ]
     },
     "execution_count": 11,
     "metadata": {},
     "output_type": "execute_result"
    }
   ],
   "source": [
    "response.headers"
   ]
  },
  {
   "cell_type": "code",
   "execution_count": 12,
   "id": "c2075154-7c1b-443c-ba84-ddd8181398ee",
   "metadata": {},
   "outputs": [
    {
     "data": {
      "text/plain": [
       "<PreparedRequest [GET]>"
      ]
     },
     "execution_count": 12,
     "metadata": {},
     "output_type": "execute_result"
    }
   ],
   "source": [
    "response.request"
   ]
  },
  {
   "cell_type": "code",
   "execution_count": 13,
   "id": "fdaf644a-8cc7-4b9b-9c7c-682c878fcbb8",
   "metadata": {},
   "outputs": [],
   "source": [
    "# Veamos el request\n",
    "request_1 = response.request"
   ]
  },
  {
   "cell_type": "code",
   "execution_count": 14,
   "id": "36976916-acd7-419f-86af-971e8499b6e4",
   "metadata": {},
   "outputs": [
    {
     "data": {
      "text/plain": [
       "'https://api.thecatapi.com/v1/breeds'"
      ]
     },
     "execution_count": 14,
     "metadata": {},
     "output_type": "execute_result"
    }
   ],
   "source": [
    "request_1.url"
   ]
  },
  {
   "cell_type": "code",
   "execution_count": 15,
   "id": "9d23edc3-6033-451a-a513-295159ab5dbf",
   "metadata": {},
   "outputs": [
    {
     "data": {
      "text/plain": [
       "'/v1/breeds'"
      ]
     },
     "execution_count": 15,
     "metadata": {},
     "output_type": "execute_result"
    }
   ],
   "source": [
    "request_1.path_url"
   ]
  },
  {
   "cell_type": "code",
   "execution_count": 16,
   "id": "73aaf8c6-abb3-488a-9bb8-d39bf4bae568",
   "metadata": {},
   "outputs": [
    {
     "data": {
      "text/plain": [
       "'GET'"
      ]
     },
     "execution_count": 16,
     "metadata": {},
     "output_type": "execute_result"
    }
   ],
   "source": [
    "request_1.method"
   ]
  },
  {
   "cell_type": "code",
   "execution_count": 17,
   "id": "2ea4bbfd-5a2a-444d-8e37-4e0299fb7914",
   "metadata": {},
   "outputs": [
    {
     "data": {
      "text/plain": [
       "{'User-Agent': 'python-requests/2.28.2', 'Accept-Encoding': 'gzip, deflate', 'Accept': '*/*', 'Connection': 'keep-alive'}"
      ]
     },
     "execution_count": 17,
     "metadata": {},
     "output_type": "execute_result"
    }
   ],
   "source": [
    "request_1.headers"
   ]
  },
  {
   "cell_type": "markdown",
   "id": "d7ce1b1e-36a1-4a03-8232-7d1ce220c92f",
   "metadata": {},
   "source": [
    "Aquí se ha accedido a algunos de los atributos más importantes que están disponibles para los objetos de `request` y `response`.\n",
    "\n",
    "Si se desea profundizar en los diferentes atributos, visite la [documentación de Mozilla](https://developer.mozilla.org/en-US/docs/Web/HTTP/Messages)\n",
    "\n",
    "### Código de estados\n",
    "\n",
    "Como vimos en clase, los APIs nos devuelven un código de estado. Este código es lo primero que se debe buscar. No indica si el `request` fue exitoso, si falta datos, credenciales, etc. \n",
    "\n",
    "Se puede verificar el estado de una `response` usando los atributos `.status_code` y `.reason`:"
   ]
  },
  {
   "cell_type": "code",
   "execution_count": 18,
   "id": "75d593e5-9eca-4b36-ac2b-915915c85c36",
   "metadata": {},
   "outputs": [
    {
     "data": {
      "text/plain": [
       "<Response [200]>"
      ]
     },
     "execution_count": 18,
     "metadata": {},
     "output_type": "execute_result"
    }
   ],
   "source": [
    "response = requests.get(\"https://api.thecatapi.com/v1/breeds\")\n",
    "response"
   ]
  },
  {
   "cell_type": "code",
   "execution_count": 19,
   "id": "c9d2f8b4-f9fc-48d1-a148-c4048eef645e",
   "metadata": {},
   "outputs": [
    {
     "data": {
      "text/plain": [
       "200"
      ]
     },
     "execution_count": 19,
     "metadata": {},
     "output_type": "execute_result"
    }
   ],
   "source": [
    "response.status_code"
   ]
  },
  {
   "cell_type": "code",
   "execution_count": 20,
   "id": "c5c41084-3343-4dbf-92b2-7585282fceeb",
   "metadata": {},
   "outputs": [
    {
     "data": {
      "text/plain": [
       "'OK'"
      ]
     },
     "execution_count": 20,
     "metadata": {},
     "output_type": "execute_result"
    }
   ],
   "source": [
    "response.reason"
   ]
  },
  {
   "cell_type": "markdown",
   "id": "77c7a50f-8c05-4226-8f76-83f71b51ad8c",
   "metadata": {},
   "source": [
    "La solicitud devuelve 200, por lo que puede considerarse una solicitud exitosa. Pero veamos una solicitud fallida:"
   ]
  },
  {
   "cell_type": "code",
   "execution_count": 21,
   "id": "70e5b999-7cd0-4e07-9ed3-37921c546cd0",
   "metadata": {},
   "outputs": [
    {
     "data": {
      "text/plain": [
       "<Response [404]>"
      ]
     },
     "execution_count": 21,
     "metadata": {},
     "output_type": "execute_result"
    }
   ],
   "source": [
    "response = requests.get(\"https://api.thecatapi.com/v1/raza\")\n",
    "response"
   ]
  },
  {
   "cell_type": "code",
   "execution_count": 22,
   "id": "06a8096e-c11a-4741-8b2b-d051f1e8b2d7",
   "metadata": {},
   "outputs": [
    {
     "data": {
      "text/plain": [
       "404"
      ]
     },
     "execution_count": 22,
     "metadata": {},
     "output_type": "execute_result"
    }
   ],
   "source": [
    "response.status_code"
   ]
  },
  {
   "cell_type": "code",
   "execution_count": 23,
   "id": "9e062bbe-028c-42c8-a6ed-2ea5c93f2fed",
   "metadata": {},
   "outputs": [
    {
     "data": {
      "text/plain": [
       "'Not Found'"
      ]
     },
     "execution_count": 23,
     "metadata": {},
     "output_type": "execute_result"
    }
   ],
   "source": [
    "response.reason"
   ]
  },
  {
   "cell_type": "markdown",
   "id": "acf8e4d9-d24c-4327-adc7-1ca73c16d917",
   "metadata": {},
   "source": [
    "El endpoint `/raza` no existe, por lo que la API devuelve un código de estado `404 Not Found`.\n",
    "\n",
    "Se puede utilizar estos códigos de estado para ver rápidamente si se necesita cambiar la solicitud o revisar la documentación nuevamente para detectar errores tipográficos o faltantes.\n",
    "\n",
    "### Encabezado HTTP\n",
    "\n",
    "Los encabezados HTTP pueden definir algunos parámetros que rigen las `request` y `response`:\n",
    "\n",
    "- `Accept`: Qué tipo de contenido puede aceptar el cliente:\n",
    "- `Content-Type`: Con qué tipo de contenido responderá el servidor\n",
    "- `User-Agent`: Qué software utiliza el cliente para comunicarse con el servidor\n",
    "- `Server`: Qué software utiliza el servidor para comunicarse con el cliente\n",
    "- `Authentication`: Quién llama a la API y qué credenciales tiene\n",
    "\n",
    "Hay muchos otros encabezados que pueden encontrarse al inspeccionar un `request` o `response`. \n",
    "\n",
    "Para inspeccionar los encabezados de una `response`, se puede usar `response.headers`:"
   ]
  },
  {
   "cell_type": "code",
   "execution_count": 26,
   "id": "ed757cf4-a5c2-49f5-9c16-96eb0c6b348f",
   "metadata": {},
   "outputs": [
    {
     "data": {
      "text/plain": [
       "{'x-dns-prefetch-control': 'off', 'x-frame-options': 'SAMEORIGIN', 'strict-transport-security': 'max-age=15552000; includeSubDomains', 'x-download-options': 'noopen', 'x-content-type-options': 'nosniff', 'x-xss-protection': '1; mode=block', 'vary': 'Origin', 'content-type': 'application/json; charset=utf-8', 'x-response-time': '1ms', 'X-Cloud-Trace-Context': '434f7f0a2810430a8d007a0077d3bf75', 'Date': 'Sat, 01 Jun 2024 14:47:37 GMT', 'Server': 'Google Frontend', 'Content-Length': '1041'}"
      ]
     },
     "execution_count": 26,
     "metadata": {},
     "output_type": "execute_result"
    }
   ],
   "source": [
    "response = requests.get(\"https://api.thecatapi.com/v1/breeds/abys\")\n",
    "response.headers"
   ]
  },
  {
   "cell_type": "markdown",
   "id": "d4f2684c-402d-4636-b43b-6dd2257732c8",
   "metadata": {},
   "source": [
    "Para hacer lo mismo con los encabezados de `request`, se puede usar a `response.request.headers` ya que `request` es un atributo del objeto `response`:"
   ]
  },
  {
   "cell_type": "code",
   "execution_count": 27,
   "id": "f7ff8ae6-5de8-4f0c-8fa0-e0642281c3f2",
   "metadata": {},
   "outputs": [
    {
     "data": {
      "text/plain": [
       "{'User-Agent': 'python-requests/2.28.2', 'Accept-Encoding': 'gzip, deflate', 'Accept': '*/*', 'Connection': 'keep-alive'}"
      ]
     },
     "execution_count": 27,
     "metadata": {},
     "output_type": "execute_result"
    }
   ],
   "source": [
    "response.request.headers"
   ]
  },
  {
   "cell_type": "markdown",
   "id": "99e0c698-f173-4145-8ea8-694941f19314",
   "metadata": {},
   "source": [
    "En este caso, como no especificamos ningún encabezado, Python envío el de por defecto.\n",
    "\n",
    "### Encabezados propios\n",
    "\n",
    "Otro estándar con el que uno se puede encontrar al consumir una API es el uso de encabezados personalizados. Generalmente comienzan con X-, pero eso no es un requisito. Los desarrolladores de API suelen utilizar encabezados personalizados para enviar o solicitar información personalizada adicional a los clientes.\n",
    "\n",
    "Se puede usar un diccionario para definir encabezados y enviarlos junto con su solicitud usando el parámetro `headers` de `.get()`.\n",
    "\n",
    "Por ejemplo, supongamos que se desea enviar algún ID de solicitud al servidor API y sabe que puede hacerlo usando `X-Request-Id`:"
   ]
  },
  {
   "cell_type": "code",
   "execution_count": 32,
   "id": "af56b694-1f83-47f1-a308-52e2b1e4f64a",
   "metadata": {},
   "outputs": [
    {
     "data": {
      "text/plain": [
       "{'User-Agent': 'python-requests/2.28.2', 'Accept-Encoding': 'gzip, deflate', 'Accept': '*/*', 'Connection': 'keep-alive', 'X-Request-Id': '<my-request-id>'}"
      ]
     },
     "execution_count": 32,
     "metadata": {},
     "output_type": "execute_result"
    }
   ],
   "source": [
    "custom_headers = {\"X-Request-Id\": \"<my-request-id>\"}\n",
    "response = requests.get(\"https://example.org\", headers=custom_headers)\n",
    "response.request.headers"
   ]
  },
  {
   "cell_type": "markdown",
   "id": "028b085c-dd71-4af7-9e98-4a22fd457f00",
   "metadata": {},
   "source": [
    "Una respuesta puede tener muchos tipos útiles de encabezados, pero uno de los más importantes es `Content-Type`, que define el tipo de contenido devuelto en la respuesta.\n",
    "\n",
    "### Content-Type\n",
    "\n",
    "Hoy en día, la mayoría de las API utilizan JSON como tipo de contenido predeterminado, pero es posible que necesites utilizar una API que devuelva XML u otros tipos de medios, como imágenes o vídeos. En ese caso, el tipo de contenido será diferente.\n",
    "\n",
    "Si vemos uno de los ejemplos anteriores usando The Cat API y se inspecciona el encabezado `Content-Type`, vemos que se definió como `application/json`:"
   ]
  },
  {
   "cell_type": "code",
   "execution_count": 33,
   "id": "e490ff79-54fa-4a63-860b-82012b3c29e5",
   "metadata": {},
   "outputs": [
    {
     "data": {
      "text/plain": [
       "'application/json; charset=utf-8'"
      ]
     },
     "execution_count": 33,
     "metadata": {},
     "output_type": "execute_result"
    }
   ],
   "source": [
    "response = requests.get(\"https://api.thecatapi.com/v1/breeds/abys\")\n",
    "response.headers.get(\"Content-Type\")"
   ]
  },
  {
   "cell_type": "markdown",
   "id": "96e0fd62-b450-495a-ba9e-d59598892bbe",
   "metadata": {},
   "source": [
    "El encabezado devuelve el tipo específico de contenido, que en este caso es `application/json`. También devuelve el encoding.\n",
    "\n",
    "Veamos otra API, para encontrar otro tipo de respuestas:\n",
    "\n",
    "> Image-Charts API: Esta es una API útil que se puede usar para crear gráficos en diferentes tamaños.\n",
    "\n",
    "En este caso, usando [Image-Charts API](https://www.image-charts.com), el tipo de contenido ya no es `application/json`, sino que está definido como `image/png`:"
   ]
  },
  {
   "cell_type": "code",
   "execution_count": 34,
   "id": "4a1a1c22-036d-4b1c-844a-ca6b64cc19a5",
   "metadata": {},
   "outputs": [
    {
     "data": {
      "text/plain": [
       "<Response [200]>"
      ]
     },
     "execution_count": 34,
     "metadata": {},
     "output_type": "execute_result"
    }
   ],
   "source": [
    "url = \"https://image-charts.com/chart?chs=700x125&cht=ls&chd=t:23,15,28\"\n",
    "response = requests.get(url)\n",
    "response"
   ]
  },
  {
   "cell_type": "code",
   "execution_count": 45,
   "id": "b6f5a833-950c-4680-a14d-e7521e5e2e25",
   "metadata": {},
   "outputs": [
    {
     "data": {
      "text/plain": [
       "'image/png'"
      ]
     },
     "execution_count": 45,
     "metadata": {},
     "output_type": "execute_result"
    }
   ],
   "source": [
    "response.headers.get(\"Content-Type\")"
   ]
  },
  {
   "cell_type": "markdown",
   "id": "328a49a6-343f-40cb-892b-f72a21bbab59",
   "metadata": {},
   "source": [
    "En este caso, el encabezado `Content-Type` indica que el contenido devuelto es una imagen PNG. \n",
    "\n",
    "El encabezado `Content-Type` es muy importante para saber cómo manejar una respuesta y qué hacer con su contenido. Hay cientos de otros tipos de [contenido aceptables](https://www.iana.org/assignments/media-types/media-types.xhtml), incluidos audio, vídeo y más.\n",
    "\n",
    "\n",
    "### Contenido de respuesta\n",
    "\n",
    "Como vimos, el tipo de contenido que encuentre en la respuesta de la API variará según el encabezado `Content-Type`. Para leer correctamente el contenido de la respuesta de acuerdo con los diferentes encabezados de tipo de contenido, la librería `requests` viene con un par de atributos de respuesta diferentes que puede usar para manipular los datos de `response`:\n",
    "\n",
    "- `.text`: Devuelve el contenido de la respuesta en formato Unicode.\n",
    "- `.content`: Devuelve el contenido de la respuesta en bytes.\n",
    "\n",
    "Ya usamos el atributo `.text`, pero para algunos tipos específicos de datos, como imágenes y otros datos no textuales, usar `.content` suele ser un mejor enfoque, incluso si devuelve un resultado muy similar a `.text`:"
   ]
  },
  {
   "cell_type": "code",
   "execution_count": 46,
   "id": "b3492f11-7e08-4e28-b571-5615d1ddb1ab",
   "metadata": {},
   "outputs": [
    {
     "data": {
      "text/plain": [
       "'application/json; charset=utf-8'"
      ]
     },
     "execution_count": 46,
     "metadata": {},
     "output_type": "execute_result"
    }
   ],
   "source": [
    "response = requests.get(\"https://api.thecatapi.com/v1/breeds/abys\")\n",
    "response.headers.get(\"Content-Type\")"
   ]
  },
  {
   "cell_type": "code",
   "execution_count": 49,
   "id": "7c3c7c61-58f2-4e22-9898-750e80d1f571",
   "metadata": {},
   "outputs": [
    {
     "data": {
      "text/plain": [
       "b'{\"weight\":{\"imperial\":\"7  -  10\",\"metric\":\"3 - 5\"},\"id\":\"abys\",\"name\":\"Abyssinian\",\"cfa_url\":\"http://cfa.org/Breeds/BreedsAB/Abyssinian.aspx\",\"vetstreet_url\":\"http://www.vetstreet.com/cats/abyssinian\",\"vcahospitals_url\":\"https://vcahospitals.com/know-your-pet/cat-breeds/abyssinian\",\"temperament\":\"Active, Energetic, Independent, Intelligent, Gentle\",\"origin\":\"Egypt\",\"country_codes\":\"EG\",\"country_code\":\"EG\",\"description\":\"The Abyssinian is easy to care for, and a joy to have in your home. They\\xe2\\x80\\x99re affectionate cats and love both people and other animals.\",\"life_span\":\"14 - 15\",\"indoor\":0,\"lap\":1,\"alt_names\":\"\",\"adaptability\":5,\"affection_level\":5,\"child_friendly\":3,\"dog_friendly\":4,\"energy_level\":5,\"grooming\":1,\"health_issues\":2,\"intelligence\":5,\"shedding_level\":2,\"social_needs\":5,\"stranger_friendly\":5,\"vocalisation\":1,\"experimental\":0,\"hairless\":0,\"natural\":1,\"rare\":0,\"rex\":0,\"suppressed_tail\":0,\"short_legs\":0,\"wikipedia_url\":\"https://en.wikipedia.org/wiki/Abyssinian_(cat)\",\"hypoallergenic\":0,\"reference_image_id\":\"0XYvRd7oD\"}'"
      ]
     },
     "execution_count": 49,
     "metadata": {},
     "output_type": "execute_result"
    }
   ],
   "source": [
    "response.content"
   ]
  },
  {
   "cell_type": "markdown",
   "id": "9d7b86ef-04ff-45ae-93e5-98dc8e5764cd",
   "metadata": {},
   "source": [
    "Como se puede ver, no hay una gran diferencia entre `.content` y `.text`, aunque la `b` indica que el valor devuelto consta de bytes sin formato en lugar de una cadena.\n",
    "\n",
    "Al observar el encabezado `Content-Type` de la respuesta, se puede ver que el contenido es `application/json`, un objeto JSON. Para ese tipo de contenido, la librería `requests` incluye un método `.json()` específico que puede usarse para convertir inmediatamente la respuesta de bytes de API en una estructura de datos de Python:"
   ]
  },
  {
   "cell_type": "code",
   "execution_count": 50,
   "id": "207dd65a-b354-4c17-8ca0-d6be57379d43",
   "metadata": {},
   "outputs": [
    {
     "data": {
      "text/plain": [
       "'application/json; charset=utf-8'"
      ]
     },
     "execution_count": 50,
     "metadata": {},
     "output_type": "execute_result"
    }
   ],
   "source": [
    "response = requests.get(\"https://api.thecatapi.com/v1/breeds/abys\")\n",
    "response.headers.get(\"Content-Type\")"
   ]
  },
  {
   "cell_type": "code",
   "execution_count": 51,
   "id": "47ea6a6b-0ef8-435b-a3be-8ebe9535c931",
   "metadata": {},
   "outputs": [
    {
     "data": {
      "text/plain": [
       "{'weight': {'imperial': '7  -  10', 'metric': '3 - 5'},\n",
       " 'id': 'abys',\n",
       " 'name': 'Abyssinian',\n",
       " 'cfa_url': 'http://cfa.org/Breeds/BreedsAB/Abyssinian.aspx',\n",
       " 'vetstreet_url': 'http://www.vetstreet.com/cats/abyssinian',\n",
       " 'vcahospitals_url': 'https://vcahospitals.com/know-your-pet/cat-breeds/abyssinian',\n",
       " 'temperament': 'Active, Energetic, Independent, Intelligent, Gentle',\n",
       " 'origin': 'Egypt',\n",
       " 'country_codes': 'EG',\n",
       " 'country_code': 'EG',\n",
       " 'description': 'The Abyssinian is easy to care for, and a joy to have in your home. They’re affectionate cats and love both people and other animals.',\n",
       " 'life_span': '14 - 15',\n",
       " 'indoor': 0,\n",
       " 'lap': 1,\n",
       " 'alt_names': '',\n",
       " 'adaptability': 5,\n",
       " 'affection_level': 5,\n",
       " 'child_friendly': 3,\n",
       " 'dog_friendly': 4,\n",
       " 'energy_level': 5,\n",
       " 'grooming': 1,\n",
       " 'health_issues': 2,\n",
       " 'intelligence': 5,\n",
       " 'shedding_level': 2,\n",
       " 'social_needs': 5,\n",
       " 'stranger_friendly': 5,\n",
       " 'vocalisation': 1,\n",
       " 'experimental': 0,\n",
       " 'hairless': 0,\n",
       " 'natural': 1,\n",
       " 'rare': 0,\n",
       " 'rex': 0,\n",
       " 'suppressed_tail': 0,\n",
       " 'short_legs': 0,\n",
       " 'wikipedia_url': 'https://en.wikipedia.org/wiki/Abyssinian_(cat)',\n",
       " 'hypoallergenic': 0,\n",
       " 'reference_image_id': '0XYvRd7oD'}"
      ]
     },
     "execution_count": 51,
     "metadata": {},
     "output_type": "execute_result"
    }
   ],
   "source": [
    "response.json()"
   ]
  },
  {
   "cell_type": "code",
   "execution_count": 52,
   "id": "45ab2e95-dfb2-42c2-a9d3-e0fff32ebf7b",
   "metadata": {},
   "outputs": [
    {
     "data": {
      "text/plain": [
       "'Abyssinian'"
      ]
     },
     "execution_count": 52,
     "metadata": {},
     "output_type": "execute_result"
    }
   ],
   "source": [
    "response.json()[\"name\"]"
   ]
  },
  {
   "cell_type": "markdown",
   "id": "3722905a-2f73-4123-a146-312ed4b5e8d3",
   "metadata": {},
   "source": [
    "Como se puede ver, después de ejecutar `response.json()`, se obtiene un diccionario que puede usarse como se usaría cualquier otro diccionario en Python.\n",
    "\n",
    "Ahora, volviendo a la API Image-Charts, intentemos recuperar el gráfico de líneas:"
   ]
  },
  {
   "cell_type": "code",
   "execution_count": 53,
   "id": "bda46dfd-e0a0-4988-9932-d281c6ff1b1c",
   "metadata": {},
   "outputs": [
    {
     "data": {
      "text/plain": [
       "<Response [200]>"
      ]
     },
     "execution_count": 53,
     "metadata": {},
     "output_type": "execute_result"
    }
   ],
   "source": [
    "url = \"https://image-charts.com/chart?chs=700x125&cht=ls&chd=t:23,15,28\"\n",
    "response = requests.get(url)\n",
    "response"
   ]
  },
  {
   "cell_type": "code",
   "execution_count": 54,
   "id": "116e27b7-2934-4fe8-8ffe-4f0d74dd018a",
   "metadata": {},
   "outputs": [
    {
     "data": {
      "text/plain": [
       "'image/png'"
      ]
     },
     "execution_count": 54,
     "metadata": {},
     "output_type": "execute_result"
    }
   ],
   "source": [
    "response.headers.get(\"Content-Type\")"
   ]
  },
  {
   "cell_type": "code",
   "execution_count": 55,
   "id": "07004370-5b54-40d5-bdee-b25b2ba900e0",
   "metadata": {},
   "outputs": [
    {
     "data": {
      "text/plain": [
       "b'\\x89PNG\\r\\n\\x1a\\n\\x00\\x00\\x00\\rIHDR\\x00\\x00\\x02\\xbc\\x00\\x00\\x00}\\x08\\x02\\x00\\x00\\x00\\xcf\\xf3\\',\\x00\\x00\\x0c\\xbeIDATx\\xda\\xec\\xda\\xbb\\x8a\"A\\x14\\x06\\xe0f\\x03\\x8d5\\x13s\\xdf\\xa6\\xfa\\x11D\\x05\\x15A\\x91\\xaeNT\\x94\\r\\xc4v\\x03\\xdb\\x07\\xf0\\x82\\x18\\xa9\\xef\\xa1xi;6\\xd7\\x16\\x051P\\xbc%\\xd2[\\xecAid\\x9d\\x19\\x06\\x87\\t\\xe6\\xff\"\\x7fN\\xd5\\t\\x8c\\x0e\\xa7K\\xb2\\x01\\x00\\x00\\x00>@\\xc2_\\x00\\x00\\x00\\x00\\x18\\x1a\\x00\\x00\\x00\\xbe\\xd6\\xf9|f\\x8cM&\\x13\\xfb\\x8b\\x1d\\x8fG\\xc6\\x98a\\x18\\xf6{\\xc6\\xe3\\xb18y\\xb9\\\\\\xecW\\xfb%\\x01\\x00\\x00\\xc0g\\xb9\\\\\\xaeB\\xa1\\x10\\x08\\x04\\xa4\\x1f\\x00\\x9b\\x06\\x00\\x00\\x80\\x17l\\x1a\\x9a\\xcd&s\\xd0u\\x9d\\x0e\\xac\\xd7\\xebH$\\xc2\\x18S\\x14\\xe5Y\\xccd2\\xf6\\xff,\\x97KQ\\xcdf\\xb3\\xd7\\xeb\\x956\\rB\\xb5Z\\xa5\\xeaj\\xb5\\xa2V\\x9cs\\x11\\xf7\\xfb}2\\x99l\\xb5Z\\xb4i\\xb8\\xaf%\\xfa\\xfd>\\xc5\\xe9t\\xea\\xec\\x1c\\x0e\\x87s\\xb9\\x9c\\xe8L\\xad(\\x8a\\xdf\\x87\\xc3\\x819\\xc8\\xb2,\\xaa\\xf8<\\x01\\x00\\x00\\xf0\\xca\\xa1!\\x1e\\x8f\\x0f\\x87C\\x11;\\x9dN\\xb9\\\\\\xaeT*T\\xa5\\xa8(\\xca\\xe9t\\x12\\xb1\\xdb\\xedj\\x9av\\x8f\\xedv\\xbbX,\\xd2\\x0cq\\xb8\\x11\\x17iJ\\xa0\\xc3\\x9csg\\xd4u\\xfd\\xa1*\\xceG\\xa3Q\\x11-\\xcb\\xa2\\xa1a4\\x1a\\xedv\\xbbz\\xbd\\x1e\\x8b\\xc5\\x06\\x83\\x81i\\x9a\"\\xda\\xff8\\xef\\xaa\\xaaJSB\\xaf\\xd7+\\x95J\\x0f1\\x91H\\x88\\xbb\\xc1`p6\\x9bah\\x00\\x00\\x00x\\xd9\\xd0\\xa0(\\xca\\xdb\\x91\\xa6\\x04\\xc30\\x9cQH\\xa7\\xd3\\x96eQ$\\xa2z\\x7f\\xc4\\xb0\\xd9l\\xe6\\xf3\\xf9=6\\x1a\\r\\xce\\xf9\\xb3\\xf8\\xf0\\xa6a\\xbb\\xdd\\x8a\\xe6\\xb2,?<\\x8f\\xa0\\xc5\\x83\\xe8\\xbcX,hJ0M\\xb3V\\xab\\xa9\\xaa\\xfa,\\xe2M\\x03\\x00\\x00\\xc07\\x0b\\x85B\\xf9|\\xde\\xef\\xf7\\xbb\\xdd\\xee?7\\xa9TJ\\xba\\xf1x<>\\x9fO\\xfa\\x14\\xaf\\xd7\\xabi\\xda\\xef\\xbf\\xec\\xda?h\\x1aQ\\x1c\\x07\\xf0\\xf7\\xae^Ki\\xe9AM\\xc1@\\x17\\x0b]\\n]\\xba\\xe8\\xe0R\\xe8\\x14\\xba\\x16:\\xb6S\\xa9\\x83\\xd4\\xa1x\\x14J(\\x94\\x0e.\\xdd:g9\\xa8C\\x06\\x97`\\xb6\\x04B\\xa6\\x08N\\xa2\\xa0C\\xc4\\\\r\\xe6\\x8cJL\\xee\\xce?\\xf7\\xf2\\x0bGTr$\\x84\\x80B\\xe4\\xfb\\xe1\\x94\\xf7\\xe3\\xde\\xbd\\xe1\\xa6/\\xf7\\xfb-/g2\\x19\\xe6C\\'\\x87B!v3\\xa2k!4\\x00\\x00\\x00LK \\x10\\x88F\\xa3\\xd5j\\xb5\\xd1hL\\x96\\x86a\\x8c\\xca~\\xbf_\\xab\\xd5J\\xa5\\x92$I\\xaf.\\x84\\xc3a\\xef\\x04\\xda\\x9cN\\xa7S\\xa9\\xd4\\xf5\\'\\xfb\\x15\\n\\x05\\x9ar\\xa8\\xd7\\xebt\\xb2\\xe38\\x9a\\xa6\\xe5\\xf3y*\\xcb\\xe5\\xb2\\xb7\\xa1R\\xa9\\xd0\\xc9\\xaa\\xaa\\xca\\xb2\\x1c\\x89D\\xa84M3\\x16\\x8bywE\\xbb\\xeb\\xee5\\xdd]\\xa3\\xf7\\x7f\\xc3\\xad\\xea\\xce\\xdfU\\xfb\\xb7\\x86\\xf6\\x04\\x00\\x00\\xc0\\xb4\\xda\\x13\\xde\\x1e\\x9ad\\x1cM>\\x12UU\\xaf*\\xfd\\xe8.\\x8dD\\xd0\\xe2R?b\\xf2\\xd9K\\xed\\t\\xcb\\xb2r\\xb9\\x9cW\\xd2L\\x837\\xcc\\xa8\\xeb\\xbam\\xdbTR\\xc7\\xc1{\\x96\\x82\\x08\\x8d5\\x082\\x18\\xba\\x87\\xed\\xef\\x9f\\xbfh?\\xfe8+\\xeb\\xe6\\xaf\\x95\\xa5\\x17\\xaf\\xb7?\\xfd\\xfc\\xf7\\xf1\\xeb\\xb7\\xa5\\x0f\\xed\\xb5\\xed\\xf7o\\xdf\\xedln\\xd1FN?$A\\x00\\x00\\x80\\x99)\\x16\\x8b\\xd9lVQ\\x94x<\\xcefN\\xd8=\\xd1h\\x0b\\xb3\\xe3\\xee\\x1f\\xd1%\\xf6\\x9b\\xae\\xd9\\xe1\\xcaci\\xf1)]|A9_<\\x7f\\xc6\\x1e\\xc8\\xcc\\x07\\xa1\\x01\\x00\\x00`\\xa6\\x92\\xc9$u\\x1f\\x12\\x89\\x04\\x9b>q\\xeaP,\\xa0p0N\\t\\x9d\\xae\\xb4\\xa0\\xf0\\xc5\\xe0DJ\\x082\\xf9\\x1e\\xf3Ah\\x00\\x00\\x00\\x98[\\xa2sB\\xb1`\\x9c\\x12\\xf4&\\x1b\\x0c\\xbd\\x8f\\x07\\xe3\\x94\\x10|\\xc28g\\xb7\\x12\\xc0+\\x06\\x00\\x00\\xb8{\\x86\\xaeh\\x1d\\x8f[\\x0c\\xb48h\\xf1\\x87\\xf7G-\\x06\\xfe\\xe6\\xe5\\xf9\\xbf\\xf2\\x88\\xdd\\x0c\\xbe4\\x00\\x00\\x00\\xcc\\x03a\\xf5\\xc4\\xe1-\\x07\\x11\\x10\\x1a\\x00\\x00\\x00\\xee\\x80\\xd9\\x0f\" 4\\x00\\x00\\x00`\\x10\\x813\\x1f\\x84\\x06\\x00\\x00\\x8095\\x18\\xd2\\xe4\\x810Z\\xee\\x19{g\\xd3\\xdbJu\\x06\\xe0s&\\x1f\\xb6\\xc73\\xf6\\xd8Il\\xb7H]\\xf7\\x1f\\xf4_U\\xad*u\\xd7M\\xd7\\xddTB\\xb4j7H\\x88\\r\\x0b@,\\x90X\\xc0\\x8a\\x05\\x0b$$$`\\x87\\x00\\xf1a\\xe7\\xda\\x1e\\x7f\\x8e\\x9d\\xd8>\\x87\\xf3A\\xc67\\xc4\\xe6\\x86{o.q\\xfc<\\x1a\\xbd:3\\xc9\\xea8\\x8e\\x1f\\xbd~\\xdf\\xf7\\xb4\\xfbn\\xd1W\\x9d\\x81\\xac\\x84A\\xabf2\\x07\\xb2Y\\x0bZu\\xd9\\xaa\\xc9rQl\\x02i\\x00\\x00\\x00x\\xb8\\xdf2\\xe4r\\xd0\\xb6\\xa2\\xa0\\x07\\xd3\\xe0\\xacj\\xe5 \\xb7\\x84fM\\x1c\\x1f\\x8a\\x1b \\r\\x00\\x00\\x00\\x0f\\xbf\\x10A\\xfd\\xd0\\xd3&vGb:\\x93g\\x89<\\xad\\xae\\x0b\\x11~\\x7f\"\\x0e\\x0f\\xc4\\xce\\xc2\\x18i\\x00\\x00\\x80_\\xc9\\xca\\xce]^~\\xf1\\xcd\\xe2\\x83O.^\\x7f\\x7f\\xf6\\xaf7\\xb2\\xbf\\xfe\\'\\xfb\\xdb\\x7f\\xcd\\xc2\\xdc^\\xbe\\xf7\\xf1\\xf2\\xd3/\\xcd/h\\xa5\\x1f\\x18\\xcci\\x00\\x00\\x00\\xf8E\\xdc\\xd1\\x0c>yp\\x95K\\xe8\\xcb\\xb0\\xe0\\n\\x15\\xeb\\xc1\\x1f\\x1a\\x07f\"\\xc2K\\xa72.\\x89\\xdbA\\xa6\\x01\\x00\\x00\\xe0!\\xa0\\xa6\\xf3\\xd5\\xd7\\x9d\\xc5G\\x9f_\\xbe\\xf5\\xe1\\xfc\\x95w\\xb2\\x7f\\xbc:\\xfd\\xf3\\xcb\\xb3\\x7f\\xbe6\\xff\\xff\\xbb\\xe6\\x89yn~\\xaa/\\x16\\xfaV\\x90i\\x00\\x00\\x00x`\\xed\\x8e\\xdd\\xa1/D0k\\xb1X\\xe6\\xed\\x8e\\x87\\x7f\\xfa\\xa3\\xcd%4\\xeb\"\\x90\\xec\\x15\\x99\\x06\\x00\\x00\\xd8\\x17\\xfc\\x01\\xd0\\xa6\\xda\\xc0\\xd4\\x1c\\xf8B\\x84\\xe9_^\\xc9\\x0b\\x11Lu\\x82\\xa9Q0\\xbf\\xc0>m\\x83\\xa3\\xb1\\x01\\x00`\\x7f\\xe7.KS\\x88P<f\\xafh\\xb9\\x04\\x00\\x00\\xe6.o\\x98\\xbb\\xcc^\\xf1\\xf5\\x04\\x00\\x00\\xeci\\xbb\\xe3\\xfc\\xdfof\\x7f\\xff\\xdf\\xa6vG\\xc5V=w\\xe4\\xf2\\xb3\\xafd\\x12\\xc98\\x94q\\t\\x85\\x02\\x00\\x80\\xfb\\xc5\\xe5Ru\\xdc\\xdce\\x93Hh\\xbb\\xc5\\xa3\\xa1L\\xcaA\\xab\\x1e\\xb4j\\xb2\\xe9b\\xab.\\xc3\\x02[\\xf5\\x02\\x90\\xf3\\x97\\xdf\\xd6\\xe9D\\x8f3=\\xbb\\xb4\\xeaP\\x8b\\xae\\xc5J(\\x13\\x17#\\x94\\x02\\x00\\x00\\xee\\x16=\\x9d\\xdb\\x16\\x067t\\xd9-R=\\xca\\x82f\\xe2\\xe5\\xc0\\x88\\x82\\x1f\\xc0,\\x0e\\xf9\\x96\\xe17\\xafiX\\xae\\xec\\xab5\\x9cn\\xbe\\xb2\\xb9\\x0c\\x8b\\xb2Z\\xde|UB!iG\\x01\\x00\\x80\\xa7nw\\xf4s\\x97\\xe7\\xf2\\xec\\xeat\\xc7\\xd3\\n\\xed\\x8e\\xbbW\\x08\\x89R\\x00\\x00\\xc0\\xb3\\xb2R:\\x1d\\x1bE\\xc8-A}\\xdb\\x95\\x07\\x81\\xd5\\x02\\xe3\\x07\\xb9%\\x9cT\\x05\\x1f\\x17;-\\r(\\x05\\x00\\x00<\\xe5\\xdc\\xe5\\xdc\\x12:\\xa9\\x8cC\\xa3\\x05\\xde\\x12hw\\xa4\\xe5\\xf2\\x8e\\x94\\xa2\\x8cu\\x02\\x00\\xec~\\xbbc]\\x1c1\\x83\\x18ixv\\x16+=\\x9c\\xfc\\xdc$\\x06S=rq\\xb9\\xba\\xe6\\x10\\x89\\xd1\\x08\\x1f\\xed-\\xe5\\xb2\\x00\\x00/\\x14\\xa5uo\\xa8\\xda\\xa9j\\xf7]GC_\\xb7Sq\\x18\\x98\\xe4\\x81l&\\xb6P\\xb1U\\x0f\\x9a5Y\\x8f\\xd9*\\xa4\\xe1\\xb7`\\xb1\\xf4\\x02\\xb1)\\xe6J\\x11\\xcaj\\x94\\xc7\\xb5U\\x94\\x8b\\xbc\\xc0\\x00\\x00O\\xcf\\xc2\\xb5;ZEp\\xed\\x0c&>\\x1a\\xcaj9od\\xb0\\xb1U\\xe3\\x9f-\\xd2\\xb0f\\x97\\x94bx\\xfdZ,s\\x81\\xc8#J\\x01\\x00\\xb0\\x11=\\x9e\\xd9.\\x86\\xce\\xc0\\x89\\xc2U\\xbbc#\\x91F\\x11\\x8c\\x1f\\xfc\\xceYB\\xb3\\xcePE\\xa4\\xe1>By&\\x00\\xc0]\\xa1\\x94\\xee\\x8fUw\\xb4\\xaeE\\xf8\\xbe\\'\\x96+yJ\\xbb#p\\xf6\\xc4sW\\x8a8\\xe4\\x8d\\x04\\x00;\\xd7\\xcb\\x90[\\x82j\\xf7e\\xa9`\\xfc \\xb7\\x04\\x1b\\xabe\\xb6\\n\\x90\\x06\\x94\\x02\\x00\\xe8e\\xa8\\xae\\xf3\\x07f\\xd1\\xaa\\x8bcz\\x19\\x00i\\xb8\\x0fJ1\\xced\\xf1x\\xabR\\xd4+(\\x05\\x00<\\xc7\\x89Iy\\xfe\\xc0V$|\\xd7\\x13\\x81|<\\x7f`\\x17\\'\\x15\\xbeo\\x05\\xa4aw\\x94\"3\\xb7\\x99\\x91}\\x1b\\xfb#\\x94\\x02\\x00\\x9e\\x02=\\xbb\\xd0\\x8f\\x86\\xba;\\xdc61\\xc9\\xba\\xc2K\\xa7\\x9c>\\x08H\\xc3CK\\x1ez\\x81\\xc8\\xe3\\xad\\x95\"\\x16A\\xc0\\x06\\x02\\xec\\xeb\\xb9\\x0c3y\\x96\\x183`b\\x12 \\rp\\x1b\\xa5\\x18\\xcb\\xe2\\x11J\\x01\\xf0\\x00\\xd3\\x93\\x83\\xc9\\xb6s\\x19rK\\xe0\\\\\\x06@\\x1a\\x00\\xa5\\x00\\xd8\\xbbw\\xb17\\x83u;Cw(\\xabQ\\x9e?\\xe0\\\\\\x06@\\x1a\\xe0\\xeeQJ\\x8fg[\\x07hNf2*m\\x9dv\\x15\\x97P\\n\\x80;yWvG\\xca\\x0eJ\\x1a\\xd8\\xa1\\xcb\\x1d7tY\\x087.\\xc9OT\\xb4\\x97<\\xa9R\\xcc\\x04H\\x03\\xdc\\'\\x94\\xd6\\xe3\\xecF\\xaf\\x87\\xb7\\x8a\\\\)B?\\xd8J&\\x91\\xbd\\xadE2v\\xebJ(\\x0e\\x99\\x01\\x07\\xf0\\x04\\xf4tn\\xcd\\xa0\\x9d\\xea\\xf3\\xd4YB_\\xf5\\xc62\\x89\\x02\\x7f(\\x83\\x89\\xcd\\x9a4\\x8b\\x88BE@\\x1a`\\xa7\\xd1Z\\x8f27\\x8a;\\xf3\\x1aa\\r#\\x9d\\x18\\x99\\xd0\\x83\\x89\\xf9\\x91,\\x1c\\xb9C\\xc2\\xbcU\\x98\\x18\\xd9\\x98\\x94E\\x1c\\x06I$\\nGl!\\xecc\\n!W\\x04\\x13;\\xa9X)\\x9f<\\xb0\\xb1ib\\x12\\x9c%\\x087 \\r\\xb0\\x7f,\\x96\\xdbG]]0\\x93\\x1b\\xf6\\xad\\xd7\\xd1D\\x19^\\x9f\\xa8xZ\\xa1P\\x11\\x90\\x06\\x80\\xdb\\x9do\\x9e=i\\x80fX\\xd8\\xac\\x14\\xb5X\\x1cPN\\x01\\xf7\\xeeP\\x86\\x8d\\xbd\\x8eLT\\x04\\xa4\\x01i\\x80\\x178\\xed*\\x9b\\xffr\\xd3\\x87\\x08\\x0b\\xd7\\x0e:\\xaf\\xc5\\xd4\\x90\\x03)\\x04\\x00\\xa4\\x01`k\\x1f\\xa90O\\xbcd\\xa4\\x13\\xbdZy\\x81\\xd8\\x10\\xc3\"G\\xec\\xc0\\xb3\\xa4\\x106\\x1d\\xcaP\\x13\\xc7\\xd4\\xe8\\x00 \\r\\xb0\\xb3\\x15\\xe9\\xbeB\\xd3\\xf5z\\x988\\xb1q0\\x15\\x93L\\xa5\\x13\\xa1\\xb5Ll\\x97\\x87o\\xfd\\xb0\\x8b\\xc4\\xc5\\xaayB+\\xe9^\\x9bh^\\x9f\\xa8:.v\\x87\\xb2Rv\\xfd\\x0b\\xbeJ\\xd1F\\xa4\\x13\\x00i\\x80}\\xe2r\\xe1{=\\x9cO\\xd8\\x85\\xbf\\xb5\\x92\\xe1\\xa7S\\x94\\x8b2*=.\\x16\".\\x05Id\\xa2Y\\xcbR\\x81-\\xdcyVJ\\xf7F\\xea|\\xa0\\xda}\\xdd\\x198E\\xe8\\x8b\\xc5*oq\\x0c\\x1a\\x89U\\x84FM\\x1c\\xd1\\xc8\\x00\\x804\\x00lC\\x0b#\\x10\\xbeq47\\t\\xaf\\x17b<\\xb3I\\x8b\\xe5\\xca\\xcf\\xa2\\xb8\\x12\\x0bg\\x12\\x95<o\\xc1\\x80\\x8a\\xfb\\xf7\\x82\\xa6c\\xf5h`\\xe5\\xe0|\\xa0\\xcfS\\x1b\\xd3\\xb1\\xacF\\xd6\\x0c|\\xbbc\\xc3DR\\x08\\x00H\\x03\\xc0\\x0b,\\xd2\\x14\\xd9\\x85\\xea\\x8f\\x85R7\\xab(\\xd6W\\x1c2\\xc8\\xef\\x8e\\xc7-\\xdf8\\xd4\\xf1 x\\xbcD\\xd1\\xacid\\x00@\\x1a\\x00\\xee\\xe5\\x80\\x8a\\xec\\xe2\\xda\\xed8\\xcbO%\\xdd\\xd0\\x00\\x92\\xc4\\xb2D\\xeb\\xc7m\\xed\\xcd\\xe6\\x0f|q\\xa2\\x17\\x85\\xef{\\xe6\\xa1q\\x82\\xc7\\x1b\\x1de#\\xa1\\x9b\\x06\\x00i\\x00\\xd8\\xd9D\\xc5d\\xe6\\xab(|\\xb5f^T\\xe1\\xcb6\\xe5A`\\xe7fF\\xa1\\xac\\xb8+*\\xb9\"M\\xbf\\xb0G\\x81\\x88\\xc2\\xd1\\x9e\\xfaAg`\\xe3\\xf9@uLL\\xf5|\\x114\\x12\\xe3\\x04\\xeb\\xd8\\xac\\xc9r\\x91?1\\x00\\xa4\\x01`_\\xd0\\xf3K\\xdf\\xe8\\xa1G\\xee\\x9a\\xcc\\x9cO\\xf8\\xc5\\xccx\\x86P\\xda\\xdb\\x83\\x89\\xf9BD?-\\xbc[\\xec\\xf0<M\\xa5uotU\\x82\\x90\\xeasW\\x880\\x9a\\x06\\xf5\\x8al\\xb8*\\xc5\\xb3\\xc4-\\x12\\x99D\\xfc\\xb5\\x00 \\r\\x00\\xf0\\xa4\\xaf?lI\\xe64\\xd7\\x08\\x13\\xc5\\xc4>\\xb1\\xb7\\xc66\\xa6s\\x19Y{\\xf0\\xb9\\na5\\xe2gI\\x8b\\xf0^4\\x05(\\xa5\\xd3\\x89\\xea\\x0e\\xed\\xac\\xa4\\xf3\\xab*\\xc5\\xdeH\\xc6\\xa1\\x93\\x03g\\x06\\x8dZ\\xd0\\xa8\\xca\\x93\\n}\\xb0\\x00H\\x03\\x00\\xdc\\x01J[\\x9f\\xf8I#2a\\x167\\x92\\x16\\xf2\\xf0@TB\\x97\\x99p\\x1a\\x11\\x87N2\\xecB\\x94\\x8b\\xae\\xe9\\xb4\\xf8\\x1c?\\xa7\\xf5\\xec\\xd2\\x97\\x1d\\xac\\xeb\\x0fL\\xfc\\xb1}\\xbb\\xd7i\\x18\\x86\\x020\\xea\\x04%((\\x95J\\x11\\xef\\xff\\x88eH\\xf3\\xd3@\\x8do\\x96,\\x0c\\x8c\\xd0\\x9e\\xa3\\xea\\xcaS*e\\xfa\\xe4\\xd8\\xe7\\xa1\\xfcc\\xbd\\x1dA\\xd8\\xbf2\\xbc\\x1f\\xddr\\x04\\xd1\\x00\\xfc!y\\xba\\xc6\\x97\\x8ea\\xfaa\\xd3\\xe22\\xe7\\xcb\\x14\\xdb\\x15m\\x93b\\xc7\\xa24D\\xfcR\\xccn_\\xb7Mj\\x9e\\xaa\\xee\\xb9\\xcc\\xd46q\\xd8p\\xfd\\xbc\\x9d\\x87x\\xc8G\\x99c\\x99\\xf1\\xe4\\xad\\x12\\xd2\\xd7\\xad\\xda\\xae-\\x94D\\xd8\\x17\\xa7\\x83\\xeb\\xa9 \\x1a\\x80{\\x90\\xa7%\\rQ\\x0fy\\x98\\xcbLc\\xccX\\x8fs\\x84\\xc5\\xb2\\xc6\\xa1\\xceq)3]\\xd7<\\xaf\\xa5\\x00\\xeaS\\x9f\\x0e/\\xf5k\\x1f\\x07,\\x8e\\xdb}\\x90\\xb7H\\x84\\xaa\\xef\\xbcOxP\\x19\\x00\\xe0\\x17D\\x03\\x00 \\x1a\\x00\\x00\\xd1\\x00\\x00\\x88\\x06\\x00@4\\x00\\x00\\xa2\\x01\\x00\\x10\\r\\x00\\x00\\xa2\\x01\\x00\\x10\\r\\x00\\x80h\\x00\\x00D\\x03\\x00 \\x1a\\x00\\x00\\xd1\\x00\\x00\\x88\\x06\\x00\\x00\\xd1\\x00\\x00\\x88\\x06\\x00@4\\x00\\x00\\xa2\\x01\\x00\\x10\\r\\x00\\x80h\\x00\\x00D\\x03\\x00\\x80h\\x00\\x00D\\x03\\x00 \\x1a\\x00\\x00\\xd1\\x00\\x00\\x88\\x06\\x00@4\\x00\\x00\\xa2\\x01\\x00@4\\x00\\x00\\xa2\\x01\\x00\\x10\\r\\x00\\x80h\\x00\\x00D\\x03\\x00 \\x1a\\x00\\x00\\xd1\\x00\\x00 \\x1a\\x00\\x00\\xd1\\x00\\x00\\x88\\x06\\x00@4\\x00\\x00\\xa2\\x01\\x00\\x10\\r\\x00\\x80h\\x00\\x00\\x10\\r\\x00\\x80h\\x00\\x00D\\x03\\x00 \\x1a\\x00\\x00\\xd1\\x00\\x00\\x88\\x06\\x00@4\\x00\\x00\\x88\\x06\\x00@4\\x00\\x00\\xa2\\x01\\x00\\x10\\r\\x00\\x80h\\x00\\x00D\\x03\\x00 \\x1a\\x00\\x00D\\x03\\x00 \\x1a\\x00\\x00\\xd1\\x00\\x00\\x88\\x06\\x00@4\\x00\\x00\\xff\\xde7\\x99mp]9[\\xf9\\xbc\\x00\\x00\\x00\\x00IEND\\xaeB`\\x82'"
      ]
     },
     "execution_count": 55,
     "metadata": {},
     "output_type": "execute_result"
    }
   ],
   "source": [
    "response.content"
   ]
  },
  {
   "cell_type": "markdown",
   "id": "5e9112b7-6f4e-4f91-b915-c4fcdc970bcc",
   "metadata": {},
   "source": [
    "En este caso, debido a que se está solicitando una imagen, `.content` no es muy útil. Sin embargo, sabemos que se trata de una imagen PNG, por lo que podemos intentar almacenarla en un archivo:"
   ]
  },
  {
   "cell_type": "code",
   "execution_count": 61,
   "id": "f6b8633e-c0f3-4f2e-9671-6de9be9cd611",
   "metadata": {},
   "outputs": [],
   "source": [
    "with open(\"./chart.png\", mode=\"wb\") as file:\n",
    "    file.write(response.content)"
   ]
  },
  {
   "cell_type": "markdown",
   "id": "a4a9ddc7-eebe-406d-b55e-60192b96d8e8",
   "metadata": {},
   "source": [
    "La imagen que obtuvimos es esta:\n",
    "\n",
    "![imagen de la API](./chart.png)\n",
    "\n",
    "### Métodos HTTP\n",
    "\n",
    "Vimos que al llamar a una API, existen algunos métodos diferentes, también llamados verbos, que se puede utilizar para especificar qué acción se desea ejecutar. \n",
    "\n",
    "Cuando solo se consumen datos usando API, normalmente se usan solicitudes `GET`.\n",
    "\n",
    "Con `requests` se pueden realizar los otros tipos de acciones sin problemas:"
   ]
  },
  {
   "cell_type": "code",
   "execution_count": 64,
   "id": "4c2702ef-e11a-4aa4-9b53-d429d2e3d7f8",
   "metadata": {},
   "outputs": [
    {
     "data": {
      "text/plain": [
       "<Response [405]>"
      ]
     },
     "execution_count": 64,
     "metadata": {},
     "output_type": "execute_result"
    }
   ],
   "source": [
    "requests.post(\"https://api.thecatapi.com/v1/breeds/abys\")"
   ]
  },
  {
   "cell_type": "code",
   "execution_count": 67,
   "id": "e9372392-79e2-469a-847f-3edbda291278",
   "metadata": {},
   "outputs": [
    {
     "data": {
      "text/plain": [
       "<Response [200]>"
      ]
     },
     "execution_count": 67,
     "metadata": {},
     "output_type": "execute_result"
    }
   ],
   "source": [
    "requests.get(\"https://api.thecatapi.com/v1/breeds/abys\")"
   ]
  },
  {
   "cell_type": "code",
   "execution_count": 70,
   "id": "52774d64-8723-46a2-b149-cfe3a5ff8b3a",
   "metadata": {},
   "outputs": [
    {
     "data": {
      "text/plain": [
       "<Response [405]>"
      ]
     },
     "execution_count": 70,
     "metadata": {},
     "output_type": "execute_result"
    }
   ],
   "source": [
    "requests.put(\"https://api.thecatapi.com/v1/breeds/abys\")"
   ]
  },
  {
   "cell_type": "code",
   "execution_count": 72,
   "id": "bc070c8d-ffdb-46bd-ae39-b71b68dd8420",
   "metadata": {},
   "outputs": [
    {
     "data": {
      "text/plain": [
       "'Method Not Allowed'"
      ]
     },
     "execution_count": 72,
     "metadata": {},
     "output_type": "execute_result"
    }
   ],
   "source": [
    "requests.delete(\"https://api.thecatapi.com/v1/breeds/abys\")"
   ]
  },
  {
   "cell_type": "markdown",
   "id": "bec3936c-9fd0-48a5-b994-2a4219075964",
   "metadata": {},
   "source": [
    "En este ejemplo, la mayoría de ellos devuelven un código de estado `405 Method Not Allowed`. Esto se debe a que no todos los endpoints permitirán métodos `POST`, `PUT` o `DELETE`. Especialmente cuando se leen datos utilizando API públicas, la mayoría de las API solo permiten solicitudes `GET` ya que no puede crear ni cambiar los datos existentes.\n",
    "\n",
    "### Parámetros de consulta\n",
    "\n",
    "A veces, cuando uno llama a una API, obtienes una gran cantidad de datos que no se necesitan. Por ejemplo, al llamar al endpoint `/breeds` de the Cat API, se obtienen mucha información sobre una raza determinada. Pero en algunos casos, es posible que se desee extraer sólo cierta información sobre una raza determinada. Ahí es donde entran los parámetros de consulta.\n",
    "\n",
    "En el mundo de las API, los parámetros de consulta son filtros que puede enviar con el `request` para limitar aún más las respuestas. Por ejemplo, volviendo a la API de Random User Generator:"
   ]
  },
  {
   "cell_type": "code",
   "execution_count": 75,
   "id": "d3a73995-ca1f-4233-9236-77138a65aa1c",
   "metadata": {},
   "outputs": [
    {
     "data": {
      "text/plain": [
       "{'results': [{'gender': 'male',\n",
       "   'name': {'title': 'Mr', 'first': 'Oliver', 'last': 'Petersen'},\n",
       "   'location': {'street': {'number': 9080, 'name': 'Tjørnebjerg'},\n",
       "    'city': 'Vipperød',\n",
       "    'state': 'Midtjylland',\n",
       "    'country': 'Denmark',\n",
       "    'postcode': 65924,\n",
       "    'coordinates': {'latitude': '-38.8705', 'longitude': '-98.1784'},\n",
       "    'timezone': {'offset': '-1:00',\n",
       "     'description': 'Azores, Cape Verde Islands'}},\n",
       "   'email': 'oliver.petersen@example.com',\n",
       "   'login': {'uuid': 'bc6edf79-9686-41c1-94fe-9fefb1020aed',\n",
       "    'username': 'yellowtiger661',\n",
       "    'password': 'dalshe',\n",
       "    'salt': 'LyFxgWgw',\n",
       "    'md5': 'da1e69b4d015ccb94c428266f96e7832',\n",
       "    'sha1': 'bc47b24cee4b0a73fa1345fdc1a8a7c83228c4b6',\n",
       "    'sha256': 'e57beee87f59fb89bb3b08348965ff3775f7b6e63bf12a5b2d7545d5b9ce80a8'},\n",
       "   'dob': {'date': '2001-03-23T04:52:35.162Z', 'age': 23},\n",
       "   'registered': {'date': '2020-07-06T17:13:46.619Z', 'age': 3},\n",
       "   'phone': '71010688',\n",
       "   'cell': '75912461',\n",
       "   'id': {'name': 'CPR', 'value': '2203101-6839'},\n",
       "   'picture': {'large': 'https://randomuser.me/api/portraits/men/97.jpg',\n",
       "    'medium': 'https://randomuser.me/api/portraits/med/men/97.jpg',\n",
       "    'thumbnail': 'https://randomuser.me/api/portraits/thumb/men/97.jpg'},\n",
       "   'nat': 'DK'}],\n",
       " 'info': {'seed': '17296d12bf872982',\n",
       "  'results': 1,\n",
       "  'page': 1,\n",
       "  'version': '1.4'}}"
      ]
     },
     "execution_count": 75,
     "metadata": {},
     "output_type": "execute_result"
    }
   ],
   "source": [
    "requests.get(\"https://randomuser.me/api/\").json()"
   ]
  },
  {
   "cell_type": "markdown",
   "id": "1dfef12c-7e25-4d4e-87ac-72be0ba5e3cf",
   "metadata": {},
   "source": [
    "Sin embargo, supongamos que se desea generar específicamente solo usuarios femeninos al azar. Según la documentación, puedes usar el parámetro de consulta `gender=` para eso:"
   ]
  },
  {
   "cell_type": "code",
   "execution_count": 76,
   "id": "cbfb8788-ff68-47cc-a5fc-85305ed85aea",
   "metadata": {},
   "outputs": [
    {
     "data": {
      "text/plain": [
       "{'results': [{'gender': 'female',\n",
       "   'name': {'title': 'Mrs', 'first': 'Faith', 'last': 'Edwards'},\n",
       "   'location': {'street': {'number': 5935, 'name': 'Springfield Road'},\n",
       "    'city': 'Mountmellick',\n",
       "    'state': 'Dublin City',\n",
       "    'country': 'Ireland',\n",
       "    'postcode': 88976,\n",
       "    'coordinates': {'latitude': '1.3203', 'longitude': '-42.0235'},\n",
       "    'timezone': {'offset': '+4:30', 'description': 'Kabul'}},\n",
       "   'email': 'faith.edwards@example.com',\n",
       "   'login': {'uuid': '36a9ca3e-f375-4543-a3cf-b16e14818511',\n",
       "    'username': 'silverzebra765',\n",
       "    'password': 'cola',\n",
       "    'salt': '7oCuupox',\n",
       "    'md5': 'e8fa6a3c84e1f6ca65cef30b50f28056',\n",
       "    'sha1': '6a3816f3c739bc978a6ec3edb61a278d1e864feb',\n",
       "    'sha256': 'e8f0135c5a93ef45044301018c89ba593fe0287b9671b0d7959754a0340d4398'},\n",
       "   'dob': {'date': '1949-10-15T18:46:53.794Z', 'age': 74},\n",
       "   'registered': {'date': '2010-07-29T01:38:08.749Z', 'age': 13},\n",
       "   'phone': '011-250-5301',\n",
       "   'cell': '081-102-4568',\n",
       "   'id': {'name': 'PPS', 'value': '6241555T'},\n",
       "   'picture': {'large': 'https://randomuser.me/api/portraits/women/90.jpg',\n",
       "    'medium': 'https://randomuser.me/api/portraits/med/women/90.jpg',\n",
       "    'thumbnail': 'https://randomuser.me/api/portraits/thumb/women/90.jpg'},\n",
       "   'nat': 'IE'}],\n",
       " 'info': {'seed': '0e02d80290692413',\n",
       "  'results': 1,\n",
       "  'page': 1,\n",
       "  'version': '1.4'}}"
      ]
     },
     "execution_count": 76,
     "metadata": {},
     "output_type": "execute_result"
    }
   ],
   "source": [
    "requests.get(\"https://randomuser.me/api/?gender=female\").json()"
   ]
  },
  {
   "cell_type": "markdown",
   "id": "56bb1e34-139e-4220-9a95-c652c5c792f4",
   "metadata": {},
   "source": [
    "Ahora si queremos crear usuarios de género femenino y de Alemania. agregamos el parámetro de consulta `nat=` para eso:"
   ]
  },
  {
   "cell_type": "code",
   "execution_count": 77,
   "id": "c3073f57-30e7-47c3-aa5d-7d5c6f4a39d8",
   "metadata": {},
   "outputs": [
    {
     "data": {
      "text/plain": [
       "{'results': [{'gender': 'female',\n",
       "   'name': {'title': 'Ms', 'first': 'Kata', 'last': 'Emmerich'},\n",
       "   'location': {'street': {'number': 9906, 'name': 'Heideweg'},\n",
       "    'city': 'Barby',\n",
       "    'state': 'Thüringen',\n",
       "    'country': 'Germany',\n",
       "    'postcode': 52949,\n",
       "    'coordinates': {'latitude': '72.1197', 'longitude': '12.3810'},\n",
       "    'timezone': {'offset': '+7:00', 'description': 'Bangkok, Hanoi, Jakarta'}},\n",
       "   'email': 'kata.emmerich@example.com',\n",
       "   'login': {'uuid': '2ddf61f7-31c4-481c-8709-eec68d58ae0c',\n",
       "    'username': 'angrylion894',\n",
       "    'password': 'islander',\n",
       "    'salt': 'ngXrIfUH',\n",
       "    'md5': 'e4bfda994aef9df55f72f4d16af2b08c',\n",
       "    'sha1': '296388d5d7b77b076a7eb1144258372f8c02b967',\n",
       "    'sha256': '551576ba0edc812ab4350193ac59a3aa92e16013727bf223390064c3fd63dd4e'},\n",
       "   'dob': {'date': '1995-11-14T18:41:57.801Z', 'age': 28},\n",
       "   'registered': {'date': '2017-10-20T02:15:16.818Z', 'age': 6},\n",
       "   'phone': '0583-5690892',\n",
       "   'cell': '0175-7626805',\n",
       "   'id': {'name': 'SVNR', 'value': '40 141195 E 521'},\n",
       "   'picture': {'large': 'https://randomuser.me/api/portraits/women/41.jpg',\n",
       "    'medium': 'https://randomuser.me/api/portraits/med/women/41.jpg',\n",
       "    'thumbnail': 'https://randomuser.me/api/portraits/thumb/women/41.jpg'},\n",
       "   'nat': 'DE'}],\n",
       " 'info': {'seed': 'c268b77a593fc285',\n",
       "  'results': 1,\n",
       "  'page': 1,\n",
       "  'version': '1.4'}}"
      ]
     },
     "execution_count": 77,
     "metadata": {},
     "output_type": "execute_result"
    }
   ],
   "source": [
    "requests.get(\"https://randomuser.me/api/?gender=female&nat=de\").json()"
   ]
  },
  {
   "cell_type": "markdown",
   "id": "6053b219-6f6f-4545-92b3-44a46e89a3f1",
   "metadata": {},
   "source": [
    "Al utilizar parámetros de consulta, se puede comenzar a obtener datos más específicos de una API.\n",
    "\n",
    "Para evitar tener que reconstruir la URL una y otra vez, se puede usar el atributo `params` para enviar un diccionario de todos los parámetros de consulta para agregar a una URL:"
   ]
  },
  {
   "cell_type": "code",
   "execution_count": 78,
   "id": "234fb405-9121-4d29-af30-4bdd48a65f93",
   "metadata": {},
   "outputs": [
    {
     "data": {
      "text/plain": [
       "{'results': [{'gender': 'female',\n",
       "   'name': {'title': 'Ms', 'first': 'Melitta', 'last': 'Faßbender'},\n",
       "   'location': {'street': {'number': 8823, 'name': 'Fliederweg'},\n",
       "    'city': 'Pressath',\n",
       "    'state': 'Mecklenburg-Vorpommern',\n",
       "    'country': 'Germany',\n",
       "    'postcode': 67254,\n",
       "    'coordinates': {'latitude': '1.7276', 'longitude': '78.8618'},\n",
       "    'timezone': {'offset': '-10:00', 'description': 'Hawaii'}},\n",
       "   'email': 'melitta.fassbender@example.com',\n",
       "   'login': {'uuid': '3e1e5b7a-0659-4dbd-8efa-c14cd1546614',\n",
       "    'username': 'yellowmouse820',\n",
       "    'password': 'towers',\n",
       "    'salt': 'dyvK2U2c',\n",
       "    'md5': '226dc1e82405525d8d324381a558f63d',\n",
       "    'sha1': 'd1a0e3eb0bf10c7e848181dbb37131247cacbd14',\n",
       "    'sha256': '4c4f69123420163a7231a3a7d75ef23979bb588d68da73a07d42745a3e34bf8e'},\n",
       "   'dob': {'date': '1949-07-28T08:21:32.332Z', 'age': 74},\n",
       "   'registered': {'date': '2007-08-29T04:27:34.749Z', 'age': 16},\n",
       "   'phone': '0803-2440224',\n",
       "   'cell': '0177-8510976',\n",
       "   'id': {'name': 'SVNR', 'value': '11 280749 F 941'},\n",
       "   'picture': {'large': 'https://randomuser.me/api/portraits/women/74.jpg',\n",
       "    'medium': 'https://randomuser.me/api/portraits/med/women/74.jpg',\n",
       "    'thumbnail': 'https://randomuser.me/api/portraits/thumb/women/74.jpg'},\n",
       "   'nat': 'DE'}],\n",
       " 'info': {'seed': 'cf68ba48fc66e4e5',\n",
       "  'results': 1,\n",
       "  'page': 1,\n",
       "  'version': '1.4'}}"
      ]
     },
     "execution_count": 78,
     "metadata": {},
     "output_type": "execute_result"
    }
   ],
   "source": [
    "query_params = {\"gender\": \"female\", \n",
    "                \"nat\": \"de\"}\n",
    "requests.get(\"https://randomuser.me/api/\", params=query_params).json()"
   ]
  },
  {
   "cell_type": "markdown",
   "id": "1507eb88-58b2-4fcb-a03d-8a1b01613366",
   "metadata": {},
   "source": [
    "La mayoría de las API tendrán algún tipo de parámetros de consulta que puede utilizarse para filtrar datos. \n",
    "\n",
    "### Autenticación\n",
    "\n",
    "Aunque muchas API públicas son gratuitas y completamente públicas, hay aún más API disponibles detrás de alguna forma de autenticación.\n",
    "\n",
    "Los enfoques de autenticación van desde los más simples y directos, como los que utilizan claves API o autenticación básica, hasta técnicas mucho más complejas y seguras, como [OAuth](https://es.wikipedia.org/wiki/OAuth).\n",
    "\n",
    "Normalmente, llamar a una API sin credenciales o con las incorrectas devolverá un código de estado `401 Unauthorized` o `403 Forbidden`.\n",
    "\n",
    "#### Claves API\n",
    "\n",
    "El nivel de autenticación más común es la clave API. Estas claves se utilizan para identificar como usuario o cliente de API y para rastrear el uso de la API. Las claves API normalmente se envían como un encabezado de solicitud o como un parámetro de consulta.\n",
    "\n",
    "Para este ejemplo, se probará [NASA’s Mars Rover Photo API](https://data.nasa.gov/Space-Science/Mars-Rover-Photos-API/929k-jizu/about_data) y se obtendrá fotografías tomadas el 1 de julio de 2020. Para fines de prueba, se puede utilizar la clave API `DEMO_KEY` que la NASA proporciona de forma predeterminada. "
   ]
  },
  {
   "cell_type": "code",
   "execution_count": 79,
   "id": "134cb0cf-1f94-4b74-a7a4-715ab4dde5ed",
   "metadata": {},
   "outputs": [
    {
     "data": {
      "text/plain": [
       "<Response [403]>"
      ]
     },
     "execution_count": 79,
     "metadata": {},
     "output_type": "execute_result"
    }
   ],
   "source": [
    "endpoint = \"https://api.nasa.gov/mars-photos/api/v1/rovers/curiosity/photos\"\n",
    "query_params = {\"earth_date\": \"2020-10-25\"}\n",
    "response = requests.get(endpoint, params=query_params)\n",
    "response"
   ]
  },
  {
   "cell_type": "code",
   "execution_count": 80,
   "id": "ef831084-8b8a-40fe-9d5e-d1fca2dd7f5f",
   "metadata": {},
   "outputs": [
    {
     "data": {
      "text/plain": [
       "{'error': {'code': 'API_KEY_MISSING',\n",
       "  'message': 'No api_key was supplied. Get one at https://api.nasa.gov:443'}}"
      ]
     },
     "execution_count": 80,
     "metadata": {},
     "output_type": "execute_result"
    }
   ],
   "source": [
    "response.json()"
   ]
  },
  {
   "cell_type": "code",
   "execution_count": 81,
   "id": "e47f7ab3-07b0-4593-bc41-4b3150204950",
   "metadata": {},
   "outputs": [
    {
     "data": {
      "text/plain": [
       "<Response [200]>"
      ]
     },
     "execution_count": 81,
     "metadata": {},
     "output_type": "execute_result"
    }
   ],
   "source": [
    "endpoint = \"https://api.nasa.gov/mars-photos/api/v1/rovers/curiosity/photos\"\n",
    "api_key = \"DEMO_KEY\"\n",
    "query_params = {\"api_key\": api_key, \"earth_date\": \"2020-10-25\"}\n",
    "response = requests.get(endpoint, params=query_params)\n",
    "response"
   ]
  },
  {
   "cell_type": "code",
   "execution_count": null,
   "id": "64112876-1f3e-4aad-9b13-71ba7378c95e",
   "metadata": {},
   "outputs": [],
   "source": [
    "response.json()"
   ]
  },
  {
   "cell_type": "markdown",
   "id": "b4035705-d1e8-47de-9540-9baf895e36ff",
   "metadata": {},
   "source": [
    "Entre mucha información, esta respuesta nos devuelve esta imagen:\n",
    "\n",
    "![NASA photo](https://mars.nasa.gov/msl-raw-images/proj/msl/redops/ods/surface/sol/02922/opgs/edr/fcam/FLB_656897870EDR_F0822188FHAZ00337M_.JPG)"
   ]
  },
  {
   "cell_type": "markdown",
   "id": "1abe3df0-04c4-4c6a-896c-453970f1edf5",
   "metadata": {},
   "source": [
    "#### OAuth\n",
    "\n",
    "Otro estándar muy común en la autenticación API es OAuth. Veamos solo muy poco de este tema para familiarizarnos.\n",
    "\n",
    "OAuth está presente cuando en diferentes plataformas nos dan la posibilidad de `Iniciar sesión` con o `Continuar con` y podemos usar algún autentificador, ese es el punto de partida de un flujo de OAuth. ¿Qué pasa cuando tocamos ese botón (supongamos que podemos iniciar sesión con Google?\n",
    "\n",
    "1. La aplicación le pedirá a la API de Google que inicie un flujo de autenticación. Para hacer esto, la aplicación enviará su ID de aplicación (client_id) y una URL (redirect_uri) para redirigir al usuario después de un éxito o un error.\n",
    "2. Uno será redirigido al sitio web de Google y se te pedirá que inicies sesión con tus credenciales. La aplicación no verá ni tendrá acceso a estas credenciales. Este es el beneficio más importante de OAuth.\n",
    "3. Google te mostrará todos los datos que la aplicación solicita de tu perfil y te pedirá que aceptes o rechaces compartir esos datos.\n",
    "4. Si acepta darle acceso a la aplicación a sus datos, será redirigido nuevamente a la aplicación, una vez que haya iniciado sesión.\n",
    "\n",
    "Al pasar por el paso 4, Google le proporcionará a la aplicación una credencial especial (`access_token`) que puede usar repetidamente para recuperar su información. Este token de inicio de sesión de Google específico es válido durante sesenta días, pero otras aplicaciones pueden tener períodos de vencimiento diferentes. \n",
    "\n",
    "Ahora, desde un punto de vista más técnico, esto es lo que se necesita saber al consumir API mediante OAuth:\n",
    "\n",
    "1. Se debe crear una aplicación que tenga un ID (`app_id` o `client_id`) y un secreto (`app_secret` o `client_secret`).\n",
    "2. Se debe tener una URL de redireccionamiento (`redirect_uri`), que la API utilizará para enviarle información.\n",
    "3. Obtendrá un código como resultado de la autenticación, que deberá intercambiar por un token de acceso.\n",
    "\n",
    "Existen algunas variaciones de lo anterior, pero en términos generales, la mayoría de los flujos de OAuth tendrán pasos similares a estos.\n",
    "\n",
    "### Paginación\n",
    "\n",
    "Enviar una gran cantidad de datos entre clientes y servidores tiene un precio: el ancho de banda. Para asegurarse de que los servidores puedan hacer frente a muchas solicitudes, las API suelen utilizar paginación.\n",
    "\n",
    "En términos muy simples, la paginación es el acto de dividir grandes cantidades de datos en múltiples partes más pequeñas. Esto normalmente se maneja con la ayuda de parámetros de consulta, principalmente los dos siguientes:\n",
    "\n",
    "- Un atributo de página que define qué página estás solicitando actualmente\n",
    "- Un atributo de tamaño que define el tamaño de cada página.\n",
    "\n",
    "Los nombres de los parámetros de consulta específicos pueden variar mucho según los desarrolladores de API, pero el concepto es el mismo. \n",
    "\n",
    "Al volver a utilizar The Cat API, en la búsqueda de imágenes contamos con el parámetro `limit` que define la cantidad de imagenes de gatos por `request` y el parámetro `page` permite paginar a través de múltiples resultados:"
   ]
  },
  {
   "cell_type": "code",
   "execution_count": null,
   "id": "e9b37d35-f1e0-4eda-a9fc-7aee929396ae",
   "metadata": {},
   "outputs": [],
   "source": [
    "url = \"https://api.thecatapi.com/v1/images/search\"\n",
    "\n",
    "for page in range(0, 10):\n",
    "    \n",
    "    querystring = {\"limit\": \"2\", \n",
    "                   \"page\": page}\n",
    "\n",
    "    response = requests.get(url, params=querystring)\n",
    "    print(response.json())"
   ]
  },
  {
   "cell_type": "code",
   "execution_count": null,
   "id": "b108f271",
   "metadata": {},
   "outputs": [],
   "source": [
    "response.json()"
   ]
  },
  {
   "cell_type": "markdown",
   "id": "557e2d11-eb98-4be8-b6dc-ffe334bcc98a",
   "metadata": {},
   "source": [
    "### Limitación de tasa\n",
    "\n",
    "Dado que las API son públicas y cualquiera puede usarlas, las personas con malas intenciones a menudo intentan abusar de ellas. Para evitar este tipo de ataques, las API utilizan una técnica llamada limitación de tasa, que restringe la cantidad de solicitudes que los usuarios pueden realizar en un período de tiempo determinado.\n",
    "\n",
    "Algunas API pueden bloquear la IP o la clave API si excede el límite de tasa definido con demasiada frecuencia.\n",
    "\n",
    "### Llamando la API de la implementación de amq2-service-ml\n",
    "\n",
    "Por último, llamemos a la API del modelo que se implementó en [amq2-service-ml](https://github.com/facundolucianna/amq2-service-ml). En este caso vamos a usar el modelo implementado y hacer un `request` para obtener una salida del mismo:"
   ]
  },
  {
   "cell_type": "code",
   "execution_count": null,
   "id": "c5eba45c-ab04-49fb-a309-c71ab21cd8ad",
   "metadata": {},
   "outputs": [],
   "source": [
    "endpoint = \"http://localhost:8800/\"\n",
    "response = requests.get(endpoint)\n",
    "response"
   ]
  },
  {
   "cell_type": "code",
   "execution_count": 51,
   "id": "9a350ac3-3ec5-455f-837f-627acb07368e",
   "metadata": {},
   "outputs": [
    {
     "data": {
      "text/plain": [
       "{'message': 'Welcome to the Heart Disease Detector API'}"
      ]
     },
     "execution_count": 51,
     "metadata": {},
     "output_type": "execute_result"
    }
   ],
   "source": [
    "response.json()"
   ]
  },
  {
   "cell_type": "markdown",
   "id": "79e7c6ee-945c-450a-8973-8e84830fd4c2",
   "metadata": {},
   "source": [
    "El modelo se encuentra en el endpoint `predict`. Dado que queremos que el modelo nos de su predicción, vamos a usar `POST` en vez de `GET`.\n",
    "\n",
    "Necesitamos enviarles los features del modelo mediante un payload o contenido en el cuerpo de la solicitud HTTP. \n",
    "\n",
    "Cuando se envía una solicitud POST, normalmente incluye datos en el cuerpo de la solicitud, que pueden estar en varios formatos, como JSON, XML, datos de formulario, etc., según los requisitos de la aplicación. Este API, pide los datos en formato JSON, por lo que debemos convertir el cuerpo a enviar en una cadena de caracteres JSON: "
   ]
  },
  {
   "cell_type": "code",
   "execution_count": 52,
   "id": "cf504a0d-fd15-4794-8159-2c475b2da162",
   "metadata": {},
   "outputs": [
    {
     "data": {
      "text/plain": [
       "<Response [200]>"
      ]
     },
     "execution_count": 52,
     "metadata": {},
     "output_type": "execute_result"
    }
   ],
   "source": [
    "endpoint = \"http://localhost:8800/predict\"\n",
    "\n",
    "data = {\n",
    "    \"features\": {\n",
    "        \"age\": 67,\n",
    "        \"ca\": 3,\n",
    "        \"chol\": 286,\n",
    "        \"cp\": 4,\n",
    "        \"exang\": 1,\n",
    "        \"fbs\": 0,\n",
    "        \"oldpeak\": 1.5,\n",
    "        \"restecg\": 2,\n",
    "        \"sex\": 1,\n",
    "        \"slope\": 2,\n",
    "        \"thal\": 3,\n",
    "        \"thalach\": 108,\n",
    "        \"trestbps\": 160\n",
    "    }\n",
    "}\n",
    "\n",
    "response = requests.post(endpoint, json=data)\n",
    "response"
   ]
  },
  {
   "cell_type": "code",
   "execution_count": 53,
   "id": "6e535be7-81c1-4f33-bbbb-92b6b0f370cb",
   "metadata": {},
   "outputs": [
    {
     "data": {
      "text/plain": [
       "{'int_output': True, 'str_output': 'Heart disease detected'}"
      ]
     },
     "execution_count": 53,
     "metadata": {},
     "output_type": "execute_result"
    }
   ],
   "source": [
    "response.json()"
   ]
  }
 ],
 "metadata": {
  "kernelspec": {
   "display_name": "Python 3 (ipykernel)",
   "language": "python",
   "name": "python3"
  },
  "language_info": {
   "codemirror_mode": {
    "name": "ipython",
    "version": 3
   },
   "file_extension": ".py",
   "mimetype": "text/x-python",
   "name": "python",
   "nbconvert_exporter": "python",
   "pygments_lexer": "ipython3",
   "version": "3.10.12"
  }
 },
 "nbformat": 4,
 "nbformat_minor": 5
}
